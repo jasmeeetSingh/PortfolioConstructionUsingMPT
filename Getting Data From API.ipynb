{
 "cells": [
  {
   "cell_type": "code",
   "execution_count": 5,
   "id": "bc8dbafe-5ebb-48e0-aebb-7372f5cba90d",
   "metadata": {},
   "outputs": [],
   "source": [
    "import pandas as pd\n",
    "import numpy as np\n",
    "import seaborn as sns\n",
    "import plotly.express as px\n",
    "\n",
    "import re\n",
    "\n",
    "from tqdm.notebook import tqdm\n",
    "import time"
   ]
  },
  {
   "cell_type": "code",
   "execution_count": 6,
   "id": "7dc84035-9725-4c61-a382-6a0bcef4b76d",
   "metadata": {},
   "outputs": [],
   "source": [
    "import finnhub\n",
    "finnhub_client = finnhub.Client(api_key=\"cb5urriad3i0dk7bb5bg\")"
   ]
  },
  {
   "cell_type": "markdown",
   "id": "269ca132-162b-4bca-8fa5-2c5f25301eae",
   "metadata": {},
   "source": [
    "## Aim of this notebook\n",
    "#### 1. Get all SP500 companies\n",
    "#### 2. Get SEC filings for all those companies\n",
    "#### 3. Store the data in a dataframe"
   ]
  },
  {
   "cell_type": "code",
   "execution_count": 7,
   "id": "ff323361-6e67-4b53-b011-6e15a1f83a84",
   "metadata": {},
   "outputs": [],
   "source": [
    "# Getting CIK of the tickers"
   ]
  },
  {
   "cell_type": "code",
   "execution_count": 8,
   "id": "e1a86b7c-d9d8-44bb-8978-b4acd9b58da5",
   "metadata": {},
   "outputs": [
    {
     "name": "stdout",
     "output_type": "stream",
     "text": [
      "True\n",
      "320193 764478 104169\n"
     ]
    }
   ],
   "source": [
    "file = open('Ticker Mapping.txt', 'r')\n",
    "# Updated BLL to BALL in the ticker mapping file - source = https://www.sec.gov/include/ticker.txt\n",
    "\n",
    "list_companies = file.readlines()\n",
    "companies_inSP500 = 505\n",
    "\n",
    "company_CIK_Mapping = {}\n",
    "companies_all = []\n",
    "for i in range(len(list_companies)):\n",
    "    company_name, company_cik = list_companies[i].split('\\t')\n",
    "    company_cik = company_cik[:-1]\n",
    "\n",
    "    if( company_name.find('-') != -1):\n",
    "        company_name = re.sub('-', '.', company_name)\n",
    "    company_CIK_Mapping[company_name.upper()] = company_cik\n",
    "    companies_all.append(company_name)\n",
    "    \n",
    "print(len(companies_all) == len(set(companies_all)))  ## To check if more than one symbol is present\n",
    "print(company_CIK_Mapping['AAPL'], company_CIK_Mapping['BBY'], company_CIK_Mapping['WMT'])"
   ]
  },
  {
   "cell_type": "code",
   "execution_count": 9,
   "id": "9c601dcc-e1db-4813-963f-75f151610e6b",
   "metadata": {},
   "outputs": [],
   "source": [
    "# Getting list of stocks in SP500"
   ]
  },
  {
   "cell_type": "code",
   "execution_count": 10,
   "id": "6d9aeeca-f356-4799-85ba-d8c121f0f019",
   "metadata": {},
   "outputs": [
    {
     "name": "stdout",
     "output_type": "stream",
     "text": [
      "AAPL MDT EMBC\n"
     ]
    }
   ],
   "source": [
    "file = open('Companies in SP500.txt', 'r')\n",
    "list_SP500 = file.readlines()\n",
    "\n",
    "companies_toStudy_SP500 = []\n",
    "for i in range(1, companies_inSP500 + 1):\n",
    "    company_row = list_SP500[i].split('\\t') \n",
    "    company_ticker = company_row[2]\n",
    "    \n",
    "    companies_toStudy_SP500.append(company_ticker)\n",
    "    \n",
    "print(companies_toStudy_SP500[0], companies_toStudy_SP500[50], companies_toStudy_SP500[-1])"
   ]
  },
  {
   "cell_type": "code",
   "execution_count": 11,
   "id": "91119d46-604a-4b79-908c-5ec916f526dd",
   "metadata": {},
   "outputs": [
    {
     "name": "stdout",
     "output_type": "stream",
     "text": [
      "505\n"
     ]
    }
   ],
   "source": [
    "list_of_CIKS = []\n",
    "\n",
    "for i in companies_toStudy_SP500:\n",
    "    list_of_CIKS.append(company_CIK_Mapping[i])\n",
    "    \n",
    "print(len(list_of_CIKS))"
   ]
  },
  {
   "cell_type": "code",
   "execution_count": 130,
   "id": "735bcdb5-6ff7-4a7f-ab34-30a5c2bf7fb7",
   "metadata": {},
   "outputs": [],
   "source": [
    "def get_response_fromAPI(CIK, duration):\n",
    "    try: \n",
    "        return finnhub_client.financials_reported(cik = CIK, freq = duration)\n",
    "    except:\n",
    "        print(\"CIK: \", CIK)\n",
    "        return CIK\n",
    "    \n",
    "def add_row_to_list(response, CIK):\n",
    "    try: \n",
    "        row = []\n",
    "        row.append(response['symbol'])\n",
    "        row.append(response['year'])\n",
    "        row.append(response['quarter'])\n",
    "        row.append(response['form'])\n",
    "        for k in response['report'].keys():\n",
    "            for l in response['report'][k]:\n",
    "                row.append(l['concept'])\n",
    "                row.append(l['unit'])\n",
    "                row.append(l['value'])\n",
    "        return row\n",
    "    except:\n",
    "        print(\"CIK: \", CIK)\n",
    "        return CIK"
   ]
  },
  {
   "cell_type": "code",
   "execution_count": 139,
   "id": "9fdbdadb-9b21-4343-a2cc-aee13aec0717",
   "metadata": {
    "scrolled": true,
    "tags": []
   },
   "outputs": [
    {
     "data": {
      "application/vnd.jupyter.widget-view+json": {
       "model_id": "04004c93c3684877aa49870f675d7489",
       "version_major": 2,
       "version_minor": 0
      },
      "text/plain": [
       "  0%|          | 0/100 [00:00<?, ?it/s]"
      ]
     },
     "metadata": {},
     "output_type": "display_data"
    },
    {
     "name": "stdout",
     "output_type": "stream",
     "text": [
      "CIK:  21344\n",
      "1 ['21344']\n"
     ]
    }
   ],
   "source": [
    "count = 0\n",
    "stocks_dataList = []\n",
    "failed = []\n",
    "for i in tqdm(list_of_CIKS[:100]):\n",
    "    response = get_response_fromAPI(i, 'quarterly')\n",
    "    if (isinstance(response, str)):\n",
    "        failed.append(i)\n",
    "        continue\n",
    "    for j in response['data']:\n",
    "        row = add_row_to_list(j, i)\n",
    "        if (isinstance(row, str)):\n",
    "            if (i not in failed): \n",
    "                failed.append(i)\n",
    "            continue\n",
    "        stocks_dataList.append(row)\n",
    "    time.sleep(2)\n",
    "    \n",
    "    response = get_response_fromAPI(i, 'annually')\n",
    "    if (isinstance(response, str)):\n",
    "        if (i not in failed): \n",
    "            failed.append(i)\n",
    "        continue\n",
    "    for j in response['data']:\n",
    "        row = add_row_to_list(j, i)\n",
    "        if (isinstance(row, str)):\n",
    "            if (i not in failed): \n",
    "                failed.append(i)\n",
    "            continue\n",
    "        stocks_dataList.append(row)\n",
    "    time.sleep(2)\n",
    "print(len(failed), failed)"
   ]
  },
  {
   "cell_type": "code",
   "execution_count": null,
   "id": "26aba929-7af4-42b3-8ab6-4f29ff6ee8e2",
   "metadata": {},
   "outputs": [
    {
     "name": "stdout",
     "output_type": "stream",
     "text": [
      "290\n",
      "['stock', 'year', 'quarter', 'form', 'concept0', 'unit0', 'value0', 'concept1', 'unit1', 'value1', 'concept2'] 874\n"
     ]
    }
   ],
   "source": [
    "max_params = 0\n",
    "for i in stocks_dataList:\n",
    "    max_params = len(i) if len(i) > max_params else max_params\n",
    "\n",
    "column_list = ['stock', 'year', 'quarter', 'form']\n",
    "max_params -= 4\n",
    "max_params //= 3\n",
    "print(max_params)\n",
    "for i in range(max_params):\n",
    "    column_list.append('concept' + str(i))\n",
    "    column_list.append('unit' + str(i))\n",
    "    column_list.append('value' + str(i))\n",
    "print(column_list[:11], len(column_list))\n",
    "\n",
    "# Adding it to the DF columns\n",
    "dataFrame = pd.DataFrame(stocks_dataList, columns = column_list)"
   ]
  },
  {
   "cell_type": "code",
   "execution_count": 141,
   "id": "576c2be5-2a3b-49e1-b9a0-734c9943b49f",
   "metadata": {},
   "outputs": [
    {
     "name": "stdout",
     "output_type": "stream",
     "text": [
      "<class 'pandas.core.frame.DataFrame'>\n",
      "RangeIndex: 4413 entries, 0 to 4412\n",
      "Columns: 874 entries, 0 to 873\n",
      "dtypes: float64(139), int64(2), object(733)\n",
      "memory usage: 29.4+ MB\n"
     ]
    }
   ],
   "source": [
    "dataFrame.info()"
   ]
  },
  {
   "cell_type": "code",
   "execution_count": 142,
   "id": "f1f1f951-4b7a-4607-aa08-d32e9c6033ce",
   "metadata": {},
   "outputs": [
    {
     "data": {
      "text/html": [
       "<div>\n",
       "<style scoped>\n",
       "    .dataframe tbody tr th:only-of-type {\n",
       "        vertical-align: middle;\n",
       "    }\n",
       "\n",
       "    .dataframe tbody tr th {\n",
       "        vertical-align: top;\n",
       "    }\n",
       "\n",
       "    .dataframe thead th {\n",
       "        text-align: right;\n",
       "    }\n",
       "</style>\n",
       "<table border=\"1\" class=\"dataframe\">\n",
       "  <thead>\n",
       "    <tr style=\"text-align: right;\">\n",
       "      <th></th>\n",
       "      <th>0</th>\n",
       "      <th>1</th>\n",
       "      <th>2</th>\n",
       "      <th>3</th>\n",
       "      <th>4</th>\n",
       "      <th>5</th>\n",
       "      <th>6</th>\n",
       "      <th>7</th>\n",
       "      <th>8</th>\n",
       "      <th>9</th>\n",
       "      <th>...</th>\n",
       "      <th>864</th>\n",
       "      <th>865</th>\n",
       "      <th>866</th>\n",
       "      <th>867</th>\n",
       "      <th>868</th>\n",
       "      <th>869</th>\n",
       "      <th>870</th>\n",
       "      <th>871</th>\n",
       "      <th>872</th>\n",
       "      <th>873</th>\n",
       "    </tr>\n",
       "  </thead>\n",
       "  <tbody>\n",
       "    <tr>\n",
       "      <th>0</th>\n",
       "      <td>AAPL</td>\n",
       "      <td>2022</td>\n",
       "      <td>2</td>\n",
       "      <td>10-Q</td>\n",
       "      <td>ContractWithCustomerLiabilityCurrent</td>\n",
       "      <td>usd</td>\n",
       "      <td>7920000000</td>\n",
       "      <td>CommonStocksIncludingAdditionalPaidInCapital</td>\n",
       "      <td>usd</td>\n",
       "      <td>61181000000</td>\n",
       "      <td>...</td>\n",
       "      <td>NaN</td>\n",
       "      <td>None</td>\n",
       "      <td>None</td>\n",
       "      <td>NaN</td>\n",
       "      <td>None</td>\n",
       "      <td>None</td>\n",
       "      <td>NaN</td>\n",
       "      <td>None</td>\n",
       "      <td>None</td>\n",
       "      <td>NaN</td>\n",
       "    </tr>\n",
       "    <tr>\n",
       "      <th>1</th>\n",
       "      <td>AAPL</td>\n",
       "      <td>2022</td>\n",
       "      <td>1</td>\n",
       "      <td>10-Q</td>\n",
       "      <td>AccumulatedOtherComprehensiveIncomeLossNetOfTax</td>\n",
       "      <td>usd</td>\n",
       "      <td>-927000000</td>\n",
       "      <td>LiabilitiesAndStockholdersEquity</td>\n",
       "      <td>usd</td>\n",
       "      <td>381191000000</td>\n",
       "      <td>...</td>\n",
       "      <td>NaN</td>\n",
       "      <td>None</td>\n",
       "      <td>None</td>\n",
       "      <td>NaN</td>\n",
       "      <td>None</td>\n",
       "      <td>None</td>\n",
       "      <td>NaN</td>\n",
       "      <td>None</td>\n",
       "      <td>None</td>\n",
       "      <td>NaN</td>\n",
       "    </tr>\n",
       "    <tr>\n",
       "      <th>2</th>\n",
       "      <td>AAPL</td>\n",
       "      <td>2021</td>\n",
       "      <td>3</td>\n",
       "      <td>10-Q</td>\n",
       "      <td>CommercialPaper</td>\n",
       "      <td>usd</td>\n",
       "      <td>8000000000</td>\n",
       "      <td>InventoryNet</td>\n",
       "      <td>usd</td>\n",
       "      <td>5178000000</td>\n",
       "      <td>...</td>\n",
       "      <td>NaN</td>\n",
       "      <td>None</td>\n",
       "      <td>None</td>\n",
       "      <td>NaN</td>\n",
       "      <td>None</td>\n",
       "      <td>None</td>\n",
       "      <td>NaN</td>\n",
       "      <td>None</td>\n",
       "      <td>None</td>\n",
       "      <td>NaN</td>\n",
       "    </tr>\n",
       "    <tr>\n",
       "      <th>3</th>\n",
       "      <td>AAPL</td>\n",
       "      <td>2021</td>\n",
       "      <td>2</td>\n",
       "      <td>10-Q</td>\n",
       "      <td>CashAndCashEquivalentsAtCarryingValue</td>\n",
       "      <td>usd</td>\n",
       "      <td>38466000000</td>\n",
       "      <td>MarketableSecuritiesCurrent</td>\n",
       "      <td>usd</td>\n",
       "      <td>31368000000</td>\n",
       "      <td>...</td>\n",
       "      <td>NaN</td>\n",
       "      <td>None</td>\n",
       "      <td>None</td>\n",
       "      <td>NaN</td>\n",
       "      <td>None</td>\n",
       "      <td>None</td>\n",
       "      <td>NaN</td>\n",
       "      <td>None</td>\n",
       "      <td>None</td>\n",
       "      <td>NaN</td>\n",
       "    </tr>\n",
       "    <tr>\n",
       "      <th>4</th>\n",
       "      <td>AAPL</td>\n",
       "      <td>2021</td>\n",
       "      <td>1</td>\n",
       "      <td>10-Q</td>\n",
       "      <td>CashAndCashEquivalentsAtCarryingValue</td>\n",
       "      <td>usd</td>\n",
       "      <td>36010000000</td>\n",
       "      <td>MarketableSecuritiesCurrent</td>\n",
       "      <td>usd</td>\n",
       "      <td>40816000000</td>\n",
       "      <td>...</td>\n",
       "      <td>NaN</td>\n",
       "      <td>None</td>\n",
       "      <td>None</td>\n",
       "      <td>NaN</td>\n",
       "      <td>None</td>\n",
       "      <td>None</td>\n",
       "      <td>NaN</td>\n",
       "      <td>None</td>\n",
       "      <td>None</td>\n",
       "      <td>NaN</td>\n",
       "    </tr>\n",
       "  </tbody>\n",
       "</table>\n",
       "<p>5 rows × 874 columns</p>\n",
       "</div>"
      ],
      "text/plain": [
       "    0     1    2     3                                                4    \\\n",
       "0  AAPL  2022    2  10-Q             ContractWithCustomerLiabilityCurrent   \n",
       "1  AAPL  2022    1  10-Q  AccumulatedOtherComprehensiveIncomeLossNetOfTax   \n",
       "2  AAPL  2021    3  10-Q                                  CommercialPaper   \n",
       "3  AAPL  2021    2  10-Q            CashAndCashEquivalentsAtCarryingValue   \n",
       "4  AAPL  2021    1  10-Q            CashAndCashEquivalentsAtCarryingValue   \n",
       "\n",
       "   5            6                                             7    8    \\\n",
       "0  usd   7920000000  CommonStocksIncludingAdditionalPaidInCapital  usd   \n",
       "1  usd   -927000000              LiabilitiesAndStockholdersEquity  usd   \n",
       "2  usd   8000000000                                  InventoryNet  usd   \n",
       "3  usd  38466000000                   MarketableSecuritiesCurrent  usd   \n",
       "4  usd  36010000000                   MarketableSecuritiesCurrent  usd   \n",
       "\n",
       "            9    ... 864   865   866 867   868   869 870   871   872 873  \n",
       "0   61181000000  ... NaN  None  None NaN  None  None NaN  None  None NaN  \n",
       "1  381191000000  ... NaN  None  None NaN  None  None NaN  None  None NaN  \n",
       "2    5178000000  ... NaN  None  None NaN  None  None NaN  None  None NaN  \n",
       "3   31368000000  ... NaN  None  None NaN  None  None NaN  None  None NaN  \n",
       "4   40816000000  ... NaN  None  None NaN  None  None NaN  None  None NaN  \n",
       "\n",
       "[5 rows x 874 columns]"
      ]
     },
     "metadata": {},
     "output_type": "display_data"
    }
   ],
   "source": [
    "display(dataFrame.head())\n",
    "dataFrame.to_csv('DataFromAPI_100Stocks.csv', index = False)"
   ]
  },
  {
   "cell_type": "code",
   "execution_count": 143,
   "id": "45b924da-4d2d-4de2-a924-3329ac908406",
   "metadata": {},
   "outputs": [
    {
     "data": {
      "application/vnd.plotly.v1+json": {
       "config": {
        "plotlyServerURL": "https://plot.ly"
       },
       "data": [
        {
         "alignmentgroup": "True",
         "hovertemplate": "variable=0<br>index=%{x}<br>value=%{y}<extra></extra>",
         "legendgroup": "0",
         "marker": {
          "color": "#636efa",
          "pattern": {
           "shape": ""
          }
         },
         "name": "0",
         "offsetgroup": "0",
         "orientation": "v",
         "showlegend": true,
         "textposition": "auto",
         "type": "bar",
         "x": [
          "CRM",
          "AMAT",
          "AAPL",
          "LOW",
          "DE",
          "V",
          "INTU",
          "NVDA",
          "WMT",
          "SYK",
          "GOOGL",
          "ADI",
          "UPS",
          "NEE",
          "LLY",
          "NFLX",
          "BLK",
          "CSCO",
          "CVS",
          "GILD",
          "UNH",
          "GE",
          "MMM",
          "PG",
          "SBUX",
          "ISRG",
          "MA",
          "QCOM",
          "CVX",
          "MS",
          "XOM",
          "AXP",
          "HON",
          "PM",
          "ABT",
          "JNJ",
          "UNP",
          "JPM",
          "ADBE",
          "BMY",
          "ACN",
          "NKE",
          "DUK",
          "AMD",
          "CMCSA",
          "HD",
          "SCHW",
          "BKNG",
          "TXN",
          "MSFT",
          "KO",
          "VZ",
          "AMGN",
          "BAC",
          "T",
          "MDLZ",
          "MMC",
          "AMZN",
          "TMO",
          "CB",
          "MCD",
          "COST",
          "GS",
          "INTC",
          "LMT",
          "PEP",
          "SPGI",
          "COP",
          "ANTM",
          "MO",
          "MRK",
          "C",
          "AMT",
          "CCI",
          "RTX",
          "WFC",
          "ADP",
          "MU",
          "CAT",
          "IBM",
          "EOG",
          "PLD",
          "DHR",
          "TMUS",
          "ORCL",
          "TSLA",
          "PFE",
          "BRK-B",
          "SO",
          "NOW",
          "FB",
          "ABBV",
          "ZTS",
          "MDT",
          "PYPL",
          "LIN",
          "AVGO",
          "CI",
          "DIS",
          "GOOG",
          "BRKA",
          "META"
         ],
         "xaxis": "x",
         "y": [
          50,
          49,
          49,
          49,
          49,
          49,
          49,
          49,
          49,
          48,
          48,
          48,
          48,
          48,
          48,
          48,
          48,
          48,
          48,
          48,
          48,
          48,
          48,
          48,
          48,
          48,
          48,
          48,
          48,
          47,
          47,
          47,
          47,
          47,
          47,
          47,
          47,
          47,
          47,
          47,
          47,
          47,
          47,
          47,
          47,
          47,
          47,
          47,
          47,
          47,
          47,
          47,
          46,
          46,
          46,
          46,
          46,
          46,
          46,
          46,
          46,
          46,
          46,
          46,
          46,
          46,
          46,
          46,
          46,
          46,
          46,
          46,
          46,
          45,
          45,
          45,
          45,
          45,
          45,
          45,
          45,
          45,
          45,
          44,
          44,
          42,
          42,
          41,
          40,
          38,
          37,
          36,
          35,
          29,
          27,
          16,
          15,
          12,
          11,
          2,
          2,
          1
         ],
         "yaxis": "y"
        }
       ],
       "layout": {
        "autosize": true,
        "barmode": "relative",
        "legend": {
         "title": {
          "text": "variable"
         },
         "tracegroupgap": 0
        },
        "margin": {
         "t": 60
        },
        "template": {
         "data": {
          "bar": [
           {
            "error_x": {
             "color": "#2a3f5f"
            },
            "error_y": {
             "color": "#2a3f5f"
            },
            "marker": {
             "line": {
              "color": "#E5ECF6",
              "width": 0.5
             },
             "pattern": {
              "fillmode": "overlay",
              "size": 10,
              "solidity": 0.2
             }
            },
            "type": "bar"
           }
          ],
          "barpolar": [
           {
            "marker": {
             "line": {
              "color": "#E5ECF6",
              "width": 0.5
             },
             "pattern": {
              "fillmode": "overlay",
              "size": 10,
              "solidity": 0.2
             }
            },
            "type": "barpolar"
           }
          ],
          "carpet": [
           {
            "aaxis": {
             "endlinecolor": "#2a3f5f",
             "gridcolor": "white",
             "linecolor": "white",
             "minorgridcolor": "white",
             "startlinecolor": "#2a3f5f"
            },
            "baxis": {
             "endlinecolor": "#2a3f5f",
             "gridcolor": "white",
             "linecolor": "white",
             "minorgridcolor": "white",
             "startlinecolor": "#2a3f5f"
            },
            "type": "carpet"
           }
          ],
          "choropleth": [
           {
            "colorbar": {
             "outlinewidth": 0,
             "ticks": ""
            },
            "type": "choropleth"
           }
          ],
          "contour": [
           {
            "colorbar": {
             "outlinewidth": 0,
             "ticks": ""
            },
            "colorscale": [
             [
              0,
              "#0d0887"
             ],
             [
              0.1111111111111111,
              "#46039f"
             ],
             [
              0.2222222222222222,
              "#7201a8"
             ],
             [
              0.3333333333333333,
              "#9c179e"
             ],
             [
              0.4444444444444444,
              "#bd3786"
             ],
             [
              0.5555555555555556,
              "#d8576b"
             ],
             [
              0.6666666666666666,
              "#ed7953"
             ],
             [
              0.7777777777777778,
              "#fb9f3a"
             ],
             [
              0.8888888888888888,
              "#fdca26"
             ],
             [
              1,
              "#f0f921"
             ]
            ],
            "type": "contour"
           }
          ],
          "contourcarpet": [
           {
            "colorbar": {
             "outlinewidth": 0,
             "ticks": ""
            },
            "type": "contourcarpet"
           }
          ],
          "heatmap": [
           {
            "colorbar": {
             "outlinewidth": 0,
             "ticks": ""
            },
            "colorscale": [
             [
              0,
              "#0d0887"
             ],
             [
              0.1111111111111111,
              "#46039f"
             ],
             [
              0.2222222222222222,
              "#7201a8"
             ],
             [
              0.3333333333333333,
              "#9c179e"
             ],
             [
              0.4444444444444444,
              "#bd3786"
             ],
             [
              0.5555555555555556,
              "#d8576b"
             ],
             [
              0.6666666666666666,
              "#ed7953"
             ],
             [
              0.7777777777777778,
              "#fb9f3a"
             ],
             [
              0.8888888888888888,
              "#fdca26"
             ],
             [
              1,
              "#f0f921"
             ]
            ],
            "type": "heatmap"
           }
          ],
          "heatmapgl": [
           {
            "colorbar": {
             "outlinewidth": 0,
             "ticks": ""
            },
            "colorscale": [
             [
              0,
              "#0d0887"
             ],
             [
              0.1111111111111111,
              "#46039f"
             ],
             [
              0.2222222222222222,
              "#7201a8"
             ],
             [
              0.3333333333333333,
              "#9c179e"
             ],
             [
              0.4444444444444444,
              "#bd3786"
             ],
             [
              0.5555555555555556,
              "#d8576b"
             ],
             [
              0.6666666666666666,
              "#ed7953"
             ],
             [
              0.7777777777777778,
              "#fb9f3a"
             ],
             [
              0.8888888888888888,
              "#fdca26"
             ],
             [
              1,
              "#f0f921"
             ]
            ],
            "type": "heatmapgl"
           }
          ],
          "histogram": [
           {
            "marker": {
             "pattern": {
              "fillmode": "overlay",
              "size": 10,
              "solidity": 0.2
             }
            },
            "type": "histogram"
           }
          ],
          "histogram2d": [
           {
            "colorbar": {
             "outlinewidth": 0,
             "ticks": ""
            },
            "colorscale": [
             [
              0,
              "#0d0887"
             ],
             [
              0.1111111111111111,
              "#46039f"
             ],
             [
              0.2222222222222222,
              "#7201a8"
             ],
             [
              0.3333333333333333,
              "#9c179e"
             ],
             [
              0.4444444444444444,
              "#bd3786"
             ],
             [
              0.5555555555555556,
              "#d8576b"
             ],
             [
              0.6666666666666666,
              "#ed7953"
             ],
             [
              0.7777777777777778,
              "#fb9f3a"
             ],
             [
              0.8888888888888888,
              "#fdca26"
             ],
             [
              1,
              "#f0f921"
             ]
            ],
            "type": "histogram2d"
           }
          ],
          "histogram2dcontour": [
           {
            "colorbar": {
             "outlinewidth": 0,
             "ticks": ""
            },
            "colorscale": [
             [
              0,
              "#0d0887"
             ],
             [
              0.1111111111111111,
              "#46039f"
             ],
             [
              0.2222222222222222,
              "#7201a8"
             ],
             [
              0.3333333333333333,
              "#9c179e"
             ],
             [
              0.4444444444444444,
              "#bd3786"
             ],
             [
              0.5555555555555556,
              "#d8576b"
             ],
             [
              0.6666666666666666,
              "#ed7953"
             ],
             [
              0.7777777777777778,
              "#fb9f3a"
             ],
             [
              0.8888888888888888,
              "#fdca26"
             ],
             [
              1,
              "#f0f921"
             ]
            ],
            "type": "histogram2dcontour"
           }
          ],
          "mesh3d": [
           {
            "colorbar": {
             "outlinewidth": 0,
             "ticks": ""
            },
            "type": "mesh3d"
           }
          ],
          "parcoords": [
           {
            "line": {
             "colorbar": {
              "outlinewidth": 0,
              "ticks": ""
             }
            },
            "type": "parcoords"
           }
          ],
          "pie": [
           {
            "automargin": true,
            "type": "pie"
           }
          ],
          "scatter": [
           {
            "marker": {
             "colorbar": {
              "outlinewidth": 0,
              "ticks": ""
             }
            },
            "type": "scatter"
           }
          ],
          "scatter3d": [
           {
            "line": {
             "colorbar": {
              "outlinewidth": 0,
              "ticks": ""
             }
            },
            "marker": {
             "colorbar": {
              "outlinewidth": 0,
              "ticks": ""
             }
            },
            "type": "scatter3d"
           }
          ],
          "scattercarpet": [
           {
            "marker": {
             "colorbar": {
              "outlinewidth": 0,
              "ticks": ""
             }
            },
            "type": "scattercarpet"
           }
          ],
          "scattergeo": [
           {
            "marker": {
             "colorbar": {
              "outlinewidth": 0,
              "ticks": ""
             }
            },
            "type": "scattergeo"
           }
          ],
          "scattergl": [
           {
            "marker": {
             "colorbar": {
              "outlinewidth": 0,
              "ticks": ""
             }
            },
            "type": "scattergl"
           }
          ],
          "scattermapbox": [
           {
            "marker": {
             "colorbar": {
              "outlinewidth": 0,
              "ticks": ""
             }
            },
            "type": "scattermapbox"
           }
          ],
          "scatterpolar": [
           {
            "marker": {
             "colorbar": {
              "outlinewidth": 0,
              "ticks": ""
             }
            },
            "type": "scatterpolar"
           }
          ],
          "scatterpolargl": [
           {
            "marker": {
             "colorbar": {
              "outlinewidth": 0,
              "ticks": ""
             }
            },
            "type": "scatterpolargl"
           }
          ],
          "scatterternary": [
           {
            "marker": {
             "colorbar": {
              "outlinewidth": 0,
              "ticks": ""
             }
            },
            "type": "scatterternary"
           }
          ],
          "surface": [
           {
            "colorbar": {
             "outlinewidth": 0,
             "ticks": ""
            },
            "colorscale": [
             [
              0,
              "#0d0887"
             ],
             [
              0.1111111111111111,
              "#46039f"
             ],
             [
              0.2222222222222222,
              "#7201a8"
             ],
             [
              0.3333333333333333,
              "#9c179e"
             ],
             [
              0.4444444444444444,
              "#bd3786"
             ],
             [
              0.5555555555555556,
              "#d8576b"
             ],
             [
              0.6666666666666666,
              "#ed7953"
             ],
             [
              0.7777777777777778,
              "#fb9f3a"
             ],
             [
              0.8888888888888888,
              "#fdca26"
             ],
             [
              1,
              "#f0f921"
             ]
            ],
            "type": "surface"
           }
          ],
          "table": [
           {
            "cells": {
             "fill": {
              "color": "#EBF0F8"
             },
             "line": {
              "color": "white"
             }
            },
            "header": {
             "fill": {
              "color": "#C8D4E3"
             },
             "line": {
              "color": "white"
             }
            },
            "type": "table"
           }
          ]
         },
         "layout": {
          "annotationdefaults": {
           "arrowcolor": "#2a3f5f",
           "arrowhead": 0,
           "arrowwidth": 1
          },
          "autotypenumbers": "strict",
          "coloraxis": {
           "colorbar": {
            "outlinewidth": 0,
            "ticks": ""
           }
          },
          "colorscale": {
           "diverging": [
            [
             0,
             "#8e0152"
            ],
            [
             0.1,
             "#c51b7d"
            ],
            [
             0.2,
             "#de77ae"
            ],
            [
             0.3,
             "#f1b6da"
            ],
            [
             0.4,
             "#fde0ef"
            ],
            [
             0.5,
             "#f7f7f7"
            ],
            [
             0.6,
             "#e6f5d0"
            ],
            [
             0.7,
             "#b8e186"
            ],
            [
             0.8,
             "#7fbc41"
            ],
            [
             0.9,
             "#4d9221"
            ],
            [
             1,
             "#276419"
            ]
           ],
           "sequential": [
            [
             0,
             "#0d0887"
            ],
            [
             0.1111111111111111,
             "#46039f"
            ],
            [
             0.2222222222222222,
             "#7201a8"
            ],
            [
             0.3333333333333333,
             "#9c179e"
            ],
            [
             0.4444444444444444,
             "#bd3786"
            ],
            [
             0.5555555555555556,
             "#d8576b"
            ],
            [
             0.6666666666666666,
             "#ed7953"
            ],
            [
             0.7777777777777778,
             "#fb9f3a"
            ],
            [
             0.8888888888888888,
             "#fdca26"
            ],
            [
             1,
             "#f0f921"
            ]
           ],
           "sequentialminus": [
            [
             0,
             "#0d0887"
            ],
            [
             0.1111111111111111,
             "#46039f"
            ],
            [
             0.2222222222222222,
             "#7201a8"
            ],
            [
             0.3333333333333333,
             "#9c179e"
            ],
            [
             0.4444444444444444,
             "#bd3786"
            ],
            [
             0.5555555555555556,
             "#d8576b"
            ],
            [
             0.6666666666666666,
             "#ed7953"
            ],
            [
             0.7777777777777778,
             "#fb9f3a"
            ],
            [
             0.8888888888888888,
             "#fdca26"
            ],
            [
             1,
             "#f0f921"
            ]
           ]
          },
          "colorway": [
           "#636efa",
           "#EF553B",
           "#00cc96",
           "#ab63fa",
           "#FFA15A",
           "#19d3f3",
           "#FF6692",
           "#B6E880",
           "#FF97FF",
           "#FECB52"
          ],
          "font": {
           "color": "#2a3f5f"
          },
          "geo": {
           "bgcolor": "white",
           "lakecolor": "white",
           "landcolor": "#E5ECF6",
           "showlakes": true,
           "showland": true,
           "subunitcolor": "white"
          },
          "hoverlabel": {
           "align": "left"
          },
          "hovermode": "closest",
          "mapbox": {
           "style": "light"
          },
          "paper_bgcolor": "white",
          "plot_bgcolor": "#E5ECF6",
          "polar": {
           "angularaxis": {
            "gridcolor": "white",
            "linecolor": "white",
            "ticks": ""
           },
           "bgcolor": "#E5ECF6",
           "radialaxis": {
            "gridcolor": "white",
            "linecolor": "white",
            "ticks": ""
           }
          },
          "scene": {
           "xaxis": {
            "backgroundcolor": "#E5ECF6",
            "gridcolor": "white",
            "gridwidth": 2,
            "linecolor": "white",
            "showbackground": true,
            "ticks": "",
            "zerolinecolor": "white"
           },
           "yaxis": {
            "backgroundcolor": "#E5ECF6",
            "gridcolor": "white",
            "gridwidth": 2,
            "linecolor": "white",
            "showbackground": true,
            "ticks": "",
            "zerolinecolor": "white"
           },
           "zaxis": {
            "backgroundcolor": "#E5ECF6",
            "gridcolor": "white",
            "gridwidth": 2,
            "linecolor": "white",
            "showbackground": true,
            "ticks": "",
            "zerolinecolor": "white"
           }
          },
          "shapedefaults": {
           "line": {
            "color": "#2a3f5f"
           }
          },
          "ternary": {
           "aaxis": {
            "gridcolor": "white",
            "linecolor": "white",
            "ticks": ""
           },
           "baxis": {
            "gridcolor": "white",
            "linecolor": "white",
            "ticks": ""
           },
           "bgcolor": "#E5ECF6",
           "caxis": {
            "gridcolor": "white",
            "linecolor": "white",
            "ticks": ""
           }
          },
          "title": {
           "x": 0.05
          },
          "xaxis": {
           "automargin": true,
           "gridcolor": "white",
           "linecolor": "white",
           "ticks": "",
           "title": {
            "standoff": 15
           },
           "zerolinecolor": "white",
           "zerolinewidth": 2
          },
          "yaxis": {
           "automargin": true,
           "gridcolor": "white",
           "linecolor": "white",
           "ticks": "",
           "title": {
            "standoff": 15
           },
           "zerolinecolor": "white",
           "zerolinewidth": 2
          }
         }
        },
        "xaxis": {
         "anchor": "y",
         "autorange": true,
         "domain": [
          0,
          1
         ],
         "range": [
          -0.5,
          101.5
         ],
         "title": {
          "text": "index"
         },
         "type": "category"
        },
        "yaxis": {
         "anchor": "x",
         "autorange": true,
         "domain": [
          0,
          1
         ],
         "range": [
          0,
          52.631578947368425
         ],
         "title": {
          "text": "value"
         },
         "type": "linear"
        }
       }
      },
      "image/png": "[encoded data removed]",
      "text/html": [
       "<div>                            <div id=\"20da5247-8c72-49e2-a276-26fb9c2361c6\" class=\"plotly-graph-div\" style=\"height:525px; width:100%;\"></div>            <script type=\"text/javascript\">                require([\"plotly\"], function(Plotly) {                    window.PLOTLYENV=window.PLOTLYENV || {};                                    if (document.getElementById(\"20da5247-8c72-49e2-a276-26fb9c2361c6\")) {                    Plotly.newPlot(                        \"20da5247-8c72-49e2-a276-26fb9c2361c6\",                        [{\"alignmentgroup\":\"True\",\"hovertemplate\":\"variable=0<br>index=%{x}<br>value=%{y}<extra></extra>\",\"legendgroup\":\"0\",\"marker\":{\"color\":\"#636efa\",\"pattern\":{\"shape\":\"\"}},\"name\":\"0\",\"offsetgroup\":\"0\",\"orientation\":\"v\",\"showlegend\":true,\"textposition\":\"auto\",\"type\":\"bar\",\"x\":[\"CRM\",\"AMAT\",\"AAPL\",\"LOW\",\"DE\",\"V\",\"INTU\",\"NVDA\",\"WMT\",\"SYK\",\"GOOGL\",\"ADI\",\"UPS\",\"NEE\",\"LLY\",\"NFLX\",\"BLK\",\"CSCO\",\"CVS\",\"GILD\",\"UNH\",\"GE\",\"MMM\",\"PG\",\"SBUX\",\"ISRG\",\"MA\",\"QCOM\",\"CVX\",\"MS\",\"XOM\",\"AXP\",\"HON\",\"PM\",\"ABT\",\"JNJ\",\"UNP\",\"JPM\",\"ADBE\",\"BMY\",\"ACN\",\"NKE\",\"DUK\",\"AMD\",\"CMCSA\",\"HD\",\"SCHW\",\"BKNG\",\"TXN\",\"MSFT\",\"KO\",\"VZ\",\"AMGN\",\"BAC\",\"T\",\"MDLZ\",\"MMC\",\"AMZN\",\"TMO\",\"CB\",\"MCD\",\"COST\",\"GS\",\"INTC\",\"LMT\",\"PEP\",\"SPGI\",\"COP\",\"ANTM\",\"MO\",\"MRK\",\"C\",\"AMT\",\"CCI\",\"RTX\",\"WFC\",\"ADP\",\"MU\",\"CAT\",\"IBM\",\"EOG\",\"PLD\",\"DHR\",\"TMUS\",\"ORCL\",\"TSLA\",\"PFE\",\"BRK-B\",\"SO\",\"NOW\",\"FB\",\"ABBV\",\"ZTS\",\"MDT\",\"PYPL\",\"LIN\",\"AVGO\",\"CI\",\"DIS\",\"GOOG\",\"BRKA\",\"META\"],\"xaxis\":\"x\",\"y\":[50,49,49,49,49,49,49,49,49,48,48,48,48,48,48,48,48,48,48,48,48,48,48,48,48,48,48,48,48,47,47,47,47,47,47,47,47,47,47,47,47,47,47,47,47,47,47,47,47,47,47,47,46,46,46,46,46,46,46,46,46,46,46,46,46,46,46,46,46,46,46,46,46,45,45,45,45,45,45,45,45,45,45,44,44,42,42,41,40,38,37,36,35,29,27,16,15,12,11,2,2,1],\"yaxis\":\"y\"}],                        {\"barmode\":\"relative\",\"legend\":{\"title\":{\"text\":\"variable\"},\"tracegroupgap\":0},\"margin\":{\"t\":60},\"template\":{\"data\":{\"bar\":[{\"error_x\":{\"color\":\"#2a3f5f\"},\"error_y\":{\"color\":\"#2a3f5f\"},\"marker\":{\"line\":{\"color\":\"#E5ECF6\",\"width\":0.5},\"pattern\":{\"fillmode\":\"overlay\",\"size\":10,\"solidity\":0.2}},\"type\":\"bar\"}],\"barpolar\":[{\"marker\":{\"line\":{\"color\":\"#E5ECF6\",\"width\":0.5},\"pattern\":{\"fillmode\":\"overlay\",\"size\":10,\"solidity\":0.2}},\"type\":\"barpolar\"}],\"carpet\":[{\"aaxis\":{\"endlinecolor\":\"#2a3f5f\",\"gridcolor\":\"white\",\"linecolor\":\"white\",\"minorgridcolor\":\"white\",\"startlinecolor\":\"#2a3f5f\"},\"baxis\":{\"endlinecolor\":\"#2a3f5f\",\"gridcolor\":\"white\",\"linecolor\":\"white\",\"minorgridcolor\":\"white\",\"startlinecolor\":\"#2a3f5f\"},\"type\":\"carpet\"}],\"choropleth\":[{\"colorbar\":{\"outlinewidth\":0,\"ticks\":\"\"},\"type\":\"choropleth\"}],\"contour\":[{\"colorbar\":{\"outlinewidth\":0,\"ticks\":\"\"},\"colorscale\":[[0.0,\"#0d0887\"],[0.1111111111111111,\"#46039f\"],[0.2222222222222222,\"#7201a8\"],[0.3333333333333333,\"#9c179e\"],[0.4444444444444444,\"#bd3786\"],[0.5555555555555556,\"#d8576b\"],[0.6666666666666666,\"#ed7953\"],[0.7777777777777778,\"#fb9f3a\"],[0.8888888888888888,\"#fdca26\"],[1.0,\"#f0f921\"]],\"type\":\"contour\"}],\"contourcarpet\":[{\"colorbar\":{\"outlinewidth\":0,\"ticks\":\"\"},\"type\":\"contourcarpet\"}],\"heatmap\":[{\"colorbar\":{\"outlinewidth\":0,\"ticks\":\"\"},\"colorscale\":[[0.0,\"#0d0887\"],[0.1111111111111111,\"#46039f\"],[0.2222222222222222,\"#7201a8\"],[0.3333333333333333,\"#9c179e\"],[0.4444444444444444,\"#bd3786\"],[0.5555555555555556,\"#d8576b\"],[0.6666666666666666,\"#ed7953\"],[0.7777777777777778,\"#fb9f3a\"],[0.8888888888888888,\"#fdca26\"],[1.0,\"#f0f921\"]],\"type\":\"heatmap\"}],\"heatmapgl\":[{\"colorbar\":{\"outlinewidth\":0,\"ticks\":\"\"},\"colorscale\":[[0.0,\"#0d0887\"],[0.1111111111111111,\"#46039f\"],[0.2222222222222222,\"#7201a8\"],[0.3333333333333333,\"#9c179e\"],[0.4444444444444444,\"#bd3786\"],[0.5555555555555556,\"#d8576b\"],[0.6666666666666666,\"#ed7953\"],[0.7777777777777778,\"#fb9f3a\"],[0.8888888888888888,\"#fdca26\"],[1.0,\"#f0f921\"]],\"type\":\"heatmapgl\"}],\"histogram\":[{\"marker\":{\"pattern\":{\"fillmode\":\"overlay\",\"size\":10,\"solidity\":0.2}},\"type\":\"histogram\"}],\"histogram2d\":[{\"colorbar\":{\"outlinewidth\":0,\"ticks\":\"\"},\"colorscale\":[[0.0,\"#0d0887\"],[0.1111111111111111,\"#46039f\"],[0.2222222222222222,\"#7201a8\"],[0.3333333333333333,\"#9c179e\"],[0.4444444444444444,\"#bd3786\"],[0.5555555555555556,\"#d8576b\"],[0.6666666666666666,\"#ed7953\"],[0.7777777777777778,\"#fb9f3a\"],[0.8888888888888888,\"#fdca26\"],[1.0,\"#f0f921\"]],\"type\":\"histogram2d\"}],\"histogram2dcontour\":[{\"colorbar\":{\"outlinewidth\":0,\"ticks\":\"\"},\"colorscale\":[[0.0,\"#0d0887\"],[0.1111111111111111,\"#46039f\"],[0.2222222222222222,\"#7201a8\"],[0.3333333333333333,\"#9c179e\"],[0.4444444444444444,\"#bd3786\"],[0.5555555555555556,\"#d8576b\"],[0.6666666666666666,\"#ed7953\"],[0.7777777777777778,\"#fb9f3a\"],[0.8888888888888888,\"#fdca26\"],[1.0,\"#f0f921\"]],\"type\":\"histogram2dcontour\"}],\"mesh3d\":[{\"colorbar\":{\"outlinewidth\":0,\"ticks\":\"\"},\"type\":\"mesh3d\"}],\"parcoords\":[{\"line\":{\"colorbar\":{\"outlinewidth\":0,\"ticks\":\"\"}},\"type\":\"parcoords\"}],\"pie\":[{\"automargin\":true,\"type\":\"pie\"}],\"scatter\":[{\"marker\":{\"colorbar\":{\"outlinewidth\":0,\"ticks\":\"\"}},\"type\":\"scatter\"}],\"scatter3d\":[{\"line\":{\"colorbar\":{\"outlinewidth\":0,\"ticks\":\"\"}},\"marker\":{\"colorbar\":{\"outlinewidth\":0,\"ticks\":\"\"}},\"type\":\"scatter3d\"}],\"scattercarpet\":[{\"marker\":{\"colorbar\":{\"outlinewidth\":0,\"ticks\":\"\"}},\"type\":\"scattercarpet\"}],\"scattergeo\":[{\"marker\":{\"colorbar\":{\"outlinewidth\":0,\"ticks\":\"\"}},\"type\":\"scattergeo\"}],\"scattergl\":[{\"marker\":{\"colorbar\":{\"outlinewidth\":0,\"ticks\":\"\"}},\"type\":\"scattergl\"}],\"scattermapbox\":[{\"marker\":{\"colorbar\":{\"outlinewidth\":0,\"ticks\":\"\"}},\"type\":\"scattermapbox\"}],\"scatterpolar\":[{\"marker\":{\"colorbar\":{\"outlinewidth\":0,\"ticks\":\"\"}},\"type\":\"scatterpolar\"}],\"scatterpolargl\":[{\"marker\":{\"colorbar\":{\"outlinewidth\":0,\"ticks\":\"\"}},\"type\":\"scatterpolargl\"}],\"scatterternary\":[{\"marker\":{\"colorbar\":{\"outlinewidth\":0,\"ticks\":\"\"}},\"type\":\"scatterternary\"}],\"surface\":[{\"colorbar\":{\"outlinewidth\":0,\"ticks\":\"\"},\"colorscale\":[[0.0,\"#0d0887\"],[0.1111111111111111,\"#46039f\"],[0.2222222222222222,\"#7201a8\"],[0.3333333333333333,\"#9c179e\"],[0.4444444444444444,\"#bd3786\"],[0.5555555555555556,\"#d8576b\"],[0.6666666666666666,\"#ed7953\"],[0.7777777777777778,\"#fb9f3a\"],[0.8888888888888888,\"#fdca26\"],[1.0,\"#f0f921\"]],\"type\":\"surface\"}],\"table\":[{\"cells\":{\"fill\":{\"color\":\"#EBF0F8\"},\"line\":{\"color\":\"white\"}},\"header\":{\"fill\":{\"color\":\"#C8D4E3\"},\"line\":{\"color\":\"white\"}},\"type\":\"table\"}]},\"layout\":{\"annotationdefaults\":{\"arrowcolor\":\"#2a3f5f\",\"arrowhead\":0,\"arrowwidth\":1},\"autotypenumbers\":\"strict\",\"coloraxis\":{\"colorbar\":{\"outlinewidth\":0,\"ticks\":\"\"}},\"colorscale\":{\"diverging\":[[0,\"#8e0152\"],[0.1,\"#c51b7d\"],[0.2,\"#de77ae\"],[0.3,\"#f1b6da\"],[0.4,\"#fde0ef\"],[0.5,\"#f7f7f7\"],[0.6,\"#e6f5d0\"],[0.7,\"#b8e186\"],[0.8,\"#7fbc41\"],[0.9,\"#4d9221\"],[1,\"#276419\"]],\"sequential\":[[0.0,\"#0d0887\"],[0.1111111111111111,\"#46039f\"],[0.2222222222222222,\"#7201a8\"],[0.3333333333333333,\"#9c179e\"],[0.4444444444444444,\"#bd3786\"],[0.5555555555555556,\"#d8576b\"],[0.6666666666666666,\"#ed7953\"],[0.7777777777777778,\"#fb9f3a\"],[0.8888888888888888,\"#fdca26\"],[1.0,\"#f0f921\"]],\"sequentialminus\":[[0.0,\"#0d0887\"],[0.1111111111111111,\"#46039f\"],[0.2222222222222222,\"#7201a8\"],[0.3333333333333333,\"#9c179e\"],[0.4444444444444444,\"#bd3786\"],[0.5555555555555556,\"#d8576b\"],[0.6666666666666666,\"#ed7953\"],[0.7777777777777778,\"#fb9f3a\"],[0.8888888888888888,\"#fdca26\"],[1.0,\"#f0f921\"]]},\"colorway\":[\"#636efa\",\"#EF553B\",\"#00cc96\",\"#ab63fa\",\"#FFA15A\",\"#19d3f3\",\"#FF6692\",\"#B6E880\",\"#FF97FF\",\"#FECB52\"],\"font\":{\"color\":\"#2a3f5f\"},\"geo\":{\"bgcolor\":\"white\",\"lakecolor\":\"white\",\"landcolor\":\"#E5ECF6\",\"showlakes\":true,\"showland\":true,\"subunitcolor\":\"white\"},\"hoverlabel\":{\"align\":\"left\"},\"hovermode\":\"closest\",\"mapbox\":{\"style\":\"light\"},\"paper_bgcolor\":\"white\",\"plot_bgcolor\":\"#E5ECF6\",\"polar\":{\"angularaxis\":{\"gridcolor\":\"white\",\"linecolor\":\"white\",\"ticks\":\"\"},\"bgcolor\":\"#E5ECF6\",\"radialaxis\":{\"gridcolor\":\"white\",\"linecolor\":\"white\",\"ticks\":\"\"}},\"scene\":{\"xaxis\":{\"backgroundcolor\":\"#E5ECF6\",\"gridcolor\":\"white\",\"gridwidth\":2,\"linecolor\":\"white\",\"showbackground\":true,\"ticks\":\"\",\"zerolinecolor\":\"white\"},\"yaxis\":{\"backgroundcolor\":\"#E5ECF6\",\"gridcolor\":\"white\",\"gridwidth\":2,\"linecolor\":\"white\",\"showbackground\":true,\"ticks\":\"\",\"zerolinecolor\":\"white\"},\"zaxis\":{\"backgroundcolor\":\"#E5ECF6\",\"gridcolor\":\"white\",\"gridwidth\":2,\"linecolor\":\"white\",\"showbackground\":true,\"ticks\":\"\",\"zerolinecolor\":\"white\"}},\"shapedefaults\":{\"line\":{\"color\":\"#2a3f5f\"}},\"ternary\":{\"aaxis\":{\"gridcolor\":\"white\",\"linecolor\":\"white\",\"ticks\":\"\"},\"baxis\":{\"gridcolor\":\"white\",\"linecolor\":\"white\",\"ticks\":\"\"},\"bgcolor\":\"#E5ECF6\",\"caxis\":{\"gridcolor\":\"white\",\"linecolor\":\"white\",\"ticks\":\"\"}},\"title\":{\"x\":0.05},\"xaxis\":{\"automargin\":true,\"gridcolor\":\"white\",\"linecolor\":\"white\",\"ticks\":\"\",\"title\":{\"standoff\":15},\"zerolinecolor\":\"white\",\"zerolinewidth\":2},\"yaxis\":{\"automargin\":true,\"gridcolor\":\"white\",\"linecolor\":\"white\",\"ticks\":\"\",\"title\":{\"standoff\":15},\"zerolinecolor\":\"white\",\"zerolinewidth\":2}}},\"xaxis\":{\"anchor\":\"y\",\"domain\":[0.0,1.0],\"title\":{\"text\":\"index\"}},\"yaxis\":{\"anchor\":\"x\",\"domain\":[0.0,1.0],\"title\":{\"text\":\"value\"}}},                        {\"responsive\": true}                    ).then(function(){\n",
       "                            \n",
       "var gd = document.getElementById('20da5247-8c72-49e2-a276-26fb9c2361c6');\n",
       "var x = new MutationObserver(function (mutations, observer) {{\n",
       "        var display = window.getComputedStyle(gd).display;\n",
       "        if (!display || display === 'none') {{\n",
       "            console.log([gd, 'removed!']);\n",
       "            Plotly.purge(gd);\n",
       "            observer.disconnect();\n",
       "        }}\n",
       "}});\n",
       "\n",
       "// Listen for the removal of the full notebook cells\n",
       "var notebookContainer = gd.closest('#notebook-container');\n",
       "if (notebookContainer) {{\n",
       "    x.observe(notebookContainer, {childList: true});\n",
       "}}\n",
       "\n",
       "// Listen for the clearing of the current output cell\n",
       "var outputEl = gd.closest('.output');\n",
       "if (outputEl) {{\n",
       "    x.observe(outputEl, {childList: true});\n",
       "}}\n",
       "\n",
       "                        })                };                });            </script>        </div>"
      ]
     },
     "metadata": {},
     "output_type": "display_data"
    }
   ],
   "source": [
    "display(px.bar(dataFrame[0].value_counts()))"
   ]
  },
  {
   "cell_type": "code",
   "execution_count": 144,
   "id": "8460034b-165d-4bb7-bb17-591ac65d4d0f",
   "metadata": {
    "scrolled": true,
    "tags": []
   },
   "outputs": [],
   "source": [
    "# print( finnhub_client.financials_reported(symbol = 'BRKA', freq = 'quarterly'))"
   ]
  },
  {
   "cell_type": "code",
   "execution_count": 145,
   "id": "7cf0a3d7-09ef-4f08-9532-bbf1b2652438",
   "metadata": {},
   "outputs": [],
   "source": [
    "df = dataFrame.copy()"
   ]
  },
  {
   "cell_type": "code",
   "execution_count": 146,
   "id": "d6460492-aefb-4269-bc08-91d5871e4eb9",
   "metadata": {},
   "outputs": [
    {
     "data": {
      "application/vnd.plotly.v1+json": {
       "config": {
        "plotlyServerURL": "https://plot.ly"
       },
       "data": [
        {
         "alignmentgroup": "True",
         "hovertemplate": "variable=0<br>index=%{x}<br>value=%{y}<extra></extra>",
         "legendgroup": "0",
         "marker": {
          "color": "#636efa",
          "pattern": {
           "shape": ""
          }
         },
         "name": "0",
         "offsetgroup": "0",
         "orientation": "v",
         "showlegend": true,
         "textposition": "auto",
         "type": "bar",
         "x": [
          "CRM",
          "AMAT",
          "AAPL",
          "LOW",
          "DE",
          "V",
          "INTU",
          "NVDA",
          "WMT",
          "SYK",
          "GOOGL",
          "ADI",
          "UPS",
          "NEE",
          "LLY",
          "NFLX",
          "BLK",
          "CSCO",
          "CVS",
          "GILD",
          "UNH",
          "GE",
          "MMM",
          "PG",
          "SBUX",
          "ISRG",
          "MA",
          "QCOM",
          "CVX",
          "MS",
          "XOM",
          "AXP",
          "HON",
          "PM",
          "ABT",
          "JNJ",
          "UNP",
          "JPM",
          "ADBE",
          "BMY",
          "ACN",
          "NKE",
          "DUK",
          "AMD",
          "CMCSA",
          "HD",
          "SCHW",
          "BKNG",
          "TXN",
          "MSFT",
          "KO",
          "VZ",
          "AMGN",
          "BAC",
          "T",
          "MDLZ",
          "MMC",
          "AMZN",
          "TMO",
          "CB",
          "MCD",
          "COST",
          "GS",
          "INTC",
          "LMT",
          "PEP",
          "SPGI",
          "COP",
          "ANTM",
          "MO",
          "MRK",
          "C",
          "AMT",
          "CCI",
          "RTX",
          "WFC",
          "ADP",
          "MU",
          "CAT",
          "IBM",
          "EOG",
          "PLD",
          "DHR",
          "TMUS",
          "ORCL",
          "TSLA",
          "PFE",
          "BRK-B"
         ],
         "xaxis": "x",
         "y": [
          50,
          49,
          49,
          49,
          49,
          49,
          49,
          49,
          49,
          48,
          48,
          48,
          48,
          48,
          48,
          48,
          48,
          48,
          48,
          48,
          48,
          48,
          48,
          48,
          48,
          48,
          48,
          48,
          48,
          47,
          47,
          47,
          47,
          47,
          47,
          47,
          47,
          47,
          47,
          47,
          47,
          47,
          47,
          47,
          47,
          47,
          47,
          47,
          47,
          47,
          47,
          47,
          46,
          46,
          46,
          46,
          46,
          46,
          46,
          46,
          46,
          46,
          46,
          46,
          46,
          46,
          46,
          46,
          46,
          46,
          46,
          46,
          46,
          45,
          45,
          45,
          45,
          45,
          45,
          45,
          45,
          45,
          45,
          44,
          44,
          42,
          42,
          41
         ],
         "yaxis": "y"
        }
       ],
       "layout": {
        "autosize": true,
        "barmode": "relative",
        "legend": {
         "title": {
          "text": "variable"
         },
         "tracegroupgap": 0
        },
        "margin": {
         "t": 60
        },
        "template": {
         "data": {
          "bar": [
           {
            "error_x": {
             "color": "#2a3f5f"
            },
            "error_y": {
             "color": "#2a3f5f"
            },
            "marker": {
             "line": {
              "color": "#E5ECF6",
              "width": 0.5
             },
             "pattern": {
              "fillmode": "overlay",
              "size": 10,
              "solidity": 0.2
             }
            },
            "type": "bar"
           }
          ],
          "barpolar": [
           {
            "marker": {
             "line": {
              "color": "#E5ECF6",
              "width": 0.5
             },
             "pattern": {
              "fillmode": "overlay",
              "size": 10,
              "solidity": 0.2
             }
            },
            "type": "barpolar"
           }
          ],
          "carpet": [
           {
            "aaxis": {
             "endlinecolor": "#2a3f5f",
             "gridcolor": "white",
             "linecolor": "white",
             "minorgridcolor": "white",
             "startlinecolor": "#2a3f5f"
            },
            "baxis": {
             "endlinecolor": "#2a3f5f",
             "gridcolor": "white",
             "linecolor": "white",
             "minorgridcolor": "white",
             "startlinecolor": "#2a3f5f"
            },
            "type": "carpet"
           }
          ],
          "choropleth": [
           {
            "colorbar": {
             "outlinewidth": 0,
             "ticks": ""
            },
            "type": "choropleth"
           }
          ],
          "contour": [
           {
            "colorbar": {
             "outlinewidth": 0,
             "ticks": ""
            },
            "colorscale": [
             [
              0,
              "#0d0887"
             ],
             [
              0.1111111111111111,
              "#46039f"
             ],
             [
              0.2222222222222222,
              "#7201a8"
             ],
             [
              0.3333333333333333,
              "#9c179e"
             ],
             [
              0.4444444444444444,
              "#bd3786"
             ],
             [
              0.5555555555555556,
              "#d8576b"
             ],
             [
              0.6666666666666666,
              "#ed7953"
             ],
             [
              0.7777777777777778,
              "#fb9f3a"
             ],
             [
              0.8888888888888888,
              "#fdca26"
             ],
             [
              1,
              "#f0f921"
             ]
            ],
            "type": "contour"
           }
          ],
          "contourcarpet": [
           {
            "colorbar": {
             "outlinewidth": 0,
             "ticks": ""
            },
            "type": "contourcarpet"
           }
          ],
          "heatmap": [
           {
            "colorbar": {
             "outlinewidth": 0,
             "ticks": ""
            },
            "colorscale": [
             [
              0,
              "#0d0887"
             ],
             [
              0.1111111111111111,
              "#46039f"
             ],
             [
              0.2222222222222222,
              "#7201a8"
             ],
             [
              0.3333333333333333,
              "#9c179e"
             ],
             [
              0.4444444444444444,
              "#bd3786"
             ],
             [
              0.5555555555555556,
              "#d8576b"
             ],
             [
              0.6666666666666666,
              "#ed7953"
             ],
             [
              0.7777777777777778,
              "#fb9f3a"
             ],
             [
              0.8888888888888888,
              "#fdca26"
             ],
             [
              1,
              "#f0f921"
             ]
            ],
            "type": "heatmap"
           }
          ],
          "heatmapgl": [
           {
            "colorbar": {
             "outlinewidth": 0,
             "ticks": ""
            },
            "colorscale": [
             [
              0,
              "#0d0887"
             ],
             [
              0.1111111111111111,
              "#46039f"
             ],
             [
              0.2222222222222222,
              "#7201a8"
             ],
             [
              0.3333333333333333,
              "#9c179e"
             ],
             [
              0.4444444444444444,
              "#bd3786"
             ],
             [
              0.5555555555555556,
              "#d8576b"
             ],
             [
              0.6666666666666666,
              "#ed7953"
             ],
             [
              0.7777777777777778,
              "#fb9f3a"
             ],
             [
              0.8888888888888888,
              "#fdca26"
             ],
             [
              1,
              "#f0f921"
             ]
            ],
            "type": "heatmapgl"
           }
          ],
          "histogram": [
           {
            "marker": {
             "pattern": {
              "fillmode": "overlay",
              "size": 10,
              "solidity": 0.2
             }
            },
            "type": "histogram"
           }
          ],
          "histogram2d": [
           {
            "colorbar": {
             "outlinewidth": 0,
             "ticks": ""
            },
            "colorscale": [
             [
              0,
              "#0d0887"
             ],
             [
              0.1111111111111111,
              "#46039f"
             ],
             [
              0.2222222222222222,
              "#7201a8"
             ],
             [
              0.3333333333333333,
              "#9c179e"
             ],
             [
              0.4444444444444444,
              "#bd3786"
             ],
             [
              0.5555555555555556,
              "#d8576b"
             ],
             [
              0.6666666666666666,
              "#ed7953"
             ],
             [
              0.7777777777777778,
              "#fb9f3a"
             ],
             [
              0.8888888888888888,
              "#fdca26"
             ],
             [
              1,
              "#f0f921"
             ]
            ],
            "type": "histogram2d"
           }
          ],
          "histogram2dcontour": [
           {
            "colorbar": {
             "outlinewidth": 0,
             "ticks": ""
            },
            "colorscale": [
             [
              0,
              "#0d0887"
             ],
             [
              0.1111111111111111,
              "#46039f"
             ],
             [
              0.2222222222222222,
              "#7201a8"
             ],
             [
              0.3333333333333333,
              "#9c179e"
             ],
             [
              0.4444444444444444,
              "#bd3786"
             ],
             [
              0.5555555555555556,
              "#d8576b"
             ],
             [
              0.6666666666666666,
              "#ed7953"
             ],
             [
              0.7777777777777778,
              "#fb9f3a"
             ],
             [
              0.8888888888888888,
              "#fdca26"
             ],
             [
              1,
              "#f0f921"
             ]
            ],
            "type": "histogram2dcontour"
           }
          ],
          "mesh3d": [
           {
            "colorbar": {
             "outlinewidth": 0,
             "ticks": ""
            },
            "type": "mesh3d"
           }
          ],
          "parcoords": [
           {
            "line": {
             "colorbar": {
              "outlinewidth": 0,
              "ticks": ""
             }
            },
            "type": "parcoords"
           }
          ],
          "pie": [
           {
            "automargin": true,
            "type": "pie"
           }
          ],
          "scatter": [
           {
            "marker": {
             "colorbar": {
              "outlinewidth": 0,
              "ticks": ""
             }
            },
            "type": "scatter"
           }
          ],
          "scatter3d": [
           {
            "line": {
             "colorbar": {
              "outlinewidth": 0,
              "ticks": ""
             }
            },
            "marker": {
             "colorbar": {
              "outlinewidth": 0,
              "ticks": ""
             }
            },
            "type": "scatter3d"
           }
          ],
          "scattercarpet": [
           {
            "marker": {
             "colorbar": {
              "outlinewidth": 0,
              "ticks": ""
             }
            },
            "type": "scattercarpet"
           }
          ],
          "scattergeo": [
           {
            "marker": {
             "colorbar": {
              "outlinewidth": 0,
              "ticks": ""
             }
            },
            "type": "scattergeo"
           }
          ],
          "scattergl": [
           {
            "marker": {
             "colorbar": {
              "outlinewidth": 0,
              "ticks": ""
             }
            },
            "type": "scattergl"
           }
          ],
          "scattermapbox": [
           {
            "marker": {
             "colorbar": {
              "outlinewidth": 0,
              "ticks": ""
             }
            },
            "type": "scattermapbox"
           }
          ],
          "scatterpolar": [
           {
            "marker": {
             "colorbar": {
              "outlinewidth": 0,
              "ticks": ""
             }
            },
            "type": "scatterpolar"
           }
          ],
          "scatterpolargl": [
           {
            "marker": {
             "colorbar": {
              "outlinewidth": 0,
              "ticks": ""
             }
            },
            "type": "scatterpolargl"
           }
          ],
          "scatterternary": [
           {
            "marker": {
             "colorbar": {
              "outlinewidth": 0,
              "ticks": ""
             }
            },
            "type": "scatterternary"
           }
          ],
          "surface": [
           {
            "colorbar": {
             "outlinewidth": 0,
             "ticks": ""
            },
            "colorscale": [
             [
              0,
              "#0d0887"
             ],
             [
              0.1111111111111111,
              "#46039f"
             ],
             [
              0.2222222222222222,
              "#7201a8"
             ],
             [
              0.3333333333333333,
              "#9c179e"
             ],
             [
              0.4444444444444444,
              "#bd3786"
             ],
             [
              0.5555555555555556,
              "#d8576b"
             ],
             [
              0.6666666666666666,
              "#ed7953"
             ],
             [
              0.7777777777777778,
              "#fb9f3a"
             ],
             [
              0.8888888888888888,
              "#fdca26"
             ],
             [
              1,
              "#f0f921"
             ]
            ],
            "type": "surface"
           }
          ],
          "table": [
           {
            "cells": {
             "fill": {
              "color": "#EBF0F8"
             },
             "line": {
              "color": "white"
             }
            },
            "header": {
             "fill": {
              "color": "#C8D4E3"
             },
             "line": {
              "color": "white"
             }
            },
            "type": "table"
           }
          ]
         },
         "layout": {
          "annotationdefaults": {
           "arrowcolor": "#2a3f5f",
           "arrowhead": 0,
           "arrowwidth": 1
          },
          "autotypenumbers": "strict",
          "coloraxis": {
           "colorbar": {
            "outlinewidth": 0,
            "ticks": ""
           }
          },
          "colorscale": {
           "diverging": [
            [
             0,
             "#8e0152"
            ],
            [
             0.1,
             "#c51b7d"
            ],
            [
             0.2,
             "#de77ae"
            ],
            [
             0.3,
             "#f1b6da"
            ],
            [
             0.4,
             "#fde0ef"
            ],
            [
             0.5,
             "#f7f7f7"
            ],
            [
             0.6,
             "#e6f5d0"
            ],
            [
             0.7,
             "#b8e186"
            ],
            [
             0.8,
             "#7fbc41"
            ],
            [
             0.9,
             "#4d9221"
            ],
            [
             1,
             "#276419"
            ]
           ],
           "sequential": [
            [
             0,
             "#0d0887"
            ],
            [
             0.1111111111111111,
             "#46039f"
            ],
            [
             0.2222222222222222,
             "#7201a8"
            ],
            [
             0.3333333333333333,
             "#9c179e"
            ],
            [
             0.4444444444444444,
             "#bd3786"
            ],
            [
             0.5555555555555556,
             "#d8576b"
            ],
            [
             0.6666666666666666,
             "#ed7953"
            ],
            [
             0.7777777777777778,
             "#fb9f3a"
            ],
            [
             0.8888888888888888,
             "#fdca26"
            ],
            [
             1,
             "#f0f921"
            ]
           ],
           "sequentialminus": [
            [
             0,
             "#0d0887"
            ],
            [
             0.1111111111111111,
             "#46039f"
            ],
            [
             0.2222222222222222,
             "#7201a8"
            ],
            [
             0.3333333333333333,
             "#9c179e"
            ],
            [
             0.4444444444444444,
             "#bd3786"
            ],
            [
             0.5555555555555556,
             "#d8576b"
            ],
            [
             0.6666666666666666,
             "#ed7953"
            ],
            [
             0.7777777777777778,
             "#fb9f3a"
            ],
            [
             0.8888888888888888,
             "#fdca26"
            ],
            [
             1,
             "#f0f921"
            ]
           ]
          },
          "colorway": [
           "#636efa",
           "#EF553B",
           "#00cc96",
           "#ab63fa",
           "#FFA15A",
           "#19d3f3",
           "#FF6692",
           "#B6E880",
           "#FF97FF",
           "#FECB52"
          ],
          "font": {
           "color": "#2a3f5f"
          },
          "geo": {
           "bgcolor": "white",
           "lakecolor": "white",
           "landcolor": "#E5ECF6",
           "showlakes": true,
           "showland": true,
           "subunitcolor": "white"
          },
          "hoverlabel": {
           "align": "left"
          },
          "hovermode": "closest",
          "mapbox": {
           "style": "light"
          },
          "paper_bgcolor": "white",
          "plot_bgcolor": "#E5ECF6",
          "polar": {
           "angularaxis": {
            "gridcolor": "white",
            "linecolor": "white",
            "ticks": ""
           },
           "bgcolor": "#E5ECF6",
           "radialaxis": {
            "gridcolor": "white",
            "linecolor": "white",
            "ticks": ""
           }
          },
          "scene": {
           "xaxis": {
            "backgroundcolor": "#E5ECF6",
            "gridcolor": "white",
            "gridwidth": 2,
            "linecolor": "white",
            "showbackground": true,
            "ticks": "",
            "zerolinecolor": "white"
           },
           "yaxis": {
            "backgroundcolor": "#E5ECF6",
            "gridcolor": "white",
            "gridwidth": 2,
            "linecolor": "white",
            "showbackground": true,
            "ticks": "",
            "zerolinecolor": "white"
           },
           "zaxis": {
            "backgroundcolor": "#E5ECF6",
            "gridcolor": "white",
            "gridwidth": 2,
            "linecolor": "white",
            "showbackground": true,
            "ticks": "",
            "zerolinecolor": "white"
           }
          },
          "shapedefaults": {
           "line": {
            "color": "#2a3f5f"
           }
          },
          "ternary": {
           "aaxis": {
            "gridcolor": "white",
            "linecolor": "white",
            "ticks": ""
           },
           "baxis": {
            "gridcolor": "white",
            "linecolor": "white",
            "ticks": ""
           },
           "bgcolor": "#E5ECF6",
           "caxis": {
            "gridcolor": "white",
            "linecolor": "white",
            "ticks": ""
           }
          },
          "title": {
           "x": 0.05
          },
          "xaxis": {
           "automargin": true,
           "gridcolor": "white",
           "linecolor": "white",
           "ticks": "",
           "title": {
            "standoff": 15
           },
           "zerolinecolor": "white",
           "zerolinewidth": 2
          },
          "yaxis": {
           "automargin": true,
           "gridcolor": "white",
           "linecolor": "white",
           "ticks": "",
           "title": {
            "standoff": 15
           },
           "zerolinecolor": "white",
           "zerolinewidth": 2
          }
         }
        },
        "xaxis": {
         "anchor": "y",
         "autorange": true,
         "domain": [
          0,
          1
         ],
         "range": [
          -0.5,
          87.5
         ],
         "title": {
          "text": "index"
         },
         "type": "category"
        },
        "yaxis": {
         "anchor": "x",
         "autorange": true,
         "domain": [
          0,
          1
         ],
         "range": [
          0,
          52.631578947368425
         ],
         "title": {
          "text": "value"
         },
         "type": "linear"
        }
       }
      },
      "image/png": "[encoded data removed]",
      "text/html": [
       "<div>                            <div id=\"70531d4c-c241-49ff-967c-b3c66f281cc3\" class=\"plotly-graph-div\" style=\"height:525px; width:100%;\"></div>            <script type=\"text/javascript\">                require([\"plotly\"], function(Plotly) {                    window.PLOTLYENV=window.PLOTLYENV || {};                                    if (document.getElementById(\"70531d4c-c241-49ff-967c-b3c66f281cc3\")) {                    Plotly.newPlot(                        \"70531d4c-c241-49ff-967c-b3c66f281cc3\",                        [{\"alignmentgroup\":\"True\",\"hovertemplate\":\"variable=0<br>index=%{x}<br>value=%{y}<extra></extra>\",\"legendgroup\":\"0\",\"marker\":{\"color\":\"#636efa\",\"pattern\":{\"shape\":\"\"}},\"name\":\"0\",\"offsetgroup\":\"0\",\"orientation\":\"v\",\"showlegend\":true,\"textposition\":\"auto\",\"type\":\"bar\",\"x\":[\"CRM\",\"AMAT\",\"AAPL\",\"LOW\",\"DE\",\"V\",\"INTU\",\"NVDA\",\"WMT\",\"SYK\",\"GOOGL\",\"ADI\",\"UPS\",\"NEE\",\"LLY\",\"NFLX\",\"BLK\",\"CSCO\",\"CVS\",\"GILD\",\"UNH\",\"GE\",\"MMM\",\"PG\",\"SBUX\",\"ISRG\",\"MA\",\"QCOM\",\"CVX\",\"MS\",\"XOM\",\"AXP\",\"HON\",\"PM\",\"ABT\",\"JNJ\",\"UNP\",\"JPM\",\"ADBE\",\"BMY\",\"ACN\",\"NKE\",\"DUK\",\"AMD\",\"CMCSA\",\"HD\",\"SCHW\",\"BKNG\",\"TXN\",\"MSFT\",\"KO\",\"VZ\",\"AMGN\",\"BAC\",\"T\",\"MDLZ\",\"MMC\",\"AMZN\",\"TMO\",\"CB\",\"MCD\",\"COST\",\"GS\",\"INTC\",\"LMT\",\"PEP\",\"SPGI\",\"COP\",\"ANTM\",\"MO\",\"MRK\",\"C\",\"AMT\",\"CCI\",\"RTX\",\"WFC\",\"ADP\",\"MU\",\"CAT\",\"IBM\",\"EOG\",\"PLD\",\"DHR\",\"TMUS\",\"ORCL\",\"TSLA\",\"PFE\",\"BRK-B\"],\"xaxis\":\"x\",\"y\":[50,49,49,49,49,49,49,49,49,48,48,48,48,48,48,48,48,48,48,48,48,48,48,48,48,48,48,48,48,47,47,47,47,47,47,47,47,47,47,47,47,47,47,47,47,47,47,47,47,47,47,47,46,46,46,46,46,46,46,46,46,46,46,46,46,46,46,46,46,46,46,46,46,45,45,45,45,45,45,45,45,45,45,44,44,42,42,41],\"yaxis\":\"y\"}],                        {\"barmode\":\"relative\",\"legend\":{\"title\":{\"text\":\"variable\"},\"tracegroupgap\":0},\"margin\":{\"t\":60},\"template\":{\"data\":{\"bar\":[{\"error_x\":{\"color\":\"#2a3f5f\"},\"error_y\":{\"color\":\"#2a3f5f\"},\"marker\":{\"line\":{\"color\":\"#E5ECF6\",\"width\":0.5},\"pattern\":{\"fillmode\":\"overlay\",\"size\":10,\"solidity\":0.2}},\"type\":\"bar\"}],\"barpolar\":[{\"marker\":{\"line\":{\"color\":\"#E5ECF6\",\"width\":0.5},\"pattern\":{\"fillmode\":\"overlay\",\"size\":10,\"solidity\":0.2}},\"type\":\"barpolar\"}],\"carpet\":[{\"aaxis\":{\"endlinecolor\":\"#2a3f5f\",\"gridcolor\":\"white\",\"linecolor\":\"white\",\"minorgridcolor\":\"white\",\"startlinecolor\":\"#2a3f5f\"},\"baxis\":{\"endlinecolor\":\"#2a3f5f\",\"gridcolor\":\"white\",\"linecolor\":\"white\",\"minorgridcolor\":\"white\",\"startlinecolor\":\"#2a3f5f\"},\"type\":\"carpet\"}],\"choropleth\":[{\"colorbar\":{\"outlinewidth\":0,\"ticks\":\"\"},\"type\":\"choropleth\"}],\"contour\":[{\"colorbar\":{\"outlinewidth\":0,\"ticks\":\"\"},\"colorscale\":[[0.0,\"#0d0887\"],[0.1111111111111111,\"#46039f\"],[0.2222222222222222,\"#7201a8\"],[0.3333333333333333,\"#9c179e\"],[0.4444444444444444,\"#bd3786\"],[0.5555555555555556,\"#d8576b\"],[0.6666666666666666,\"#ed7953\"],[0.7777777777777778,\"#fb9f3a\"],[0.8888888888888888,\"#fdca26\"],[1.0,\"#f0f921\"]],\"type\":\"contour\"}],\"contourcarpet\":[{\"colorbar\":{\"outlinewidth\":0,\"ticks\":\"\"},\"type\":\"contourcarpet\"}],\"heatmap\":[{\"colorbar\":{\"outlinewidth\":0,\"ticks\":\"\"},\"colorscale\":[[0.0,\"#0d0887\"],[0.1111111111111111,\"#46039f\"],[0.2222222222222222,\"#7201a8\"],[0.3333333333333333,\"#9c179e\"],[0.4444444444444444,\"#bd3786\"],[0.5555555555555556,\"#d8576b\"],[0.6666666666666666,\"#ed7953\"],[0.7777777777777778,\"#fb9f3a\"],[0.8888888888888888,\"#fdca26\"],[1.0,\"#f0f921\"]],\"type\":\"heatmap\"}],\"heatmapgl\":[{\"colorbar\":{\"outlinewidth\":0,\"ticks\":\"\"},\"colorscale\":[[0.0,\"#0d0887\"],[0.1111111111111111,\"#46039f\"],[0.2222222222222222,\"#7201a8\"],[0.3333333333333333,\"#9c179e\"],[0.4444444444444444,\"#bd3786\"],[0.5555555555555556,\"#d8576b\"],[0.6666666666666666,\"#ed7953\"],[0.7777777777777778,\"#fb9f3a\"],[0.8888888888888888,\"#fdca26\"],[1.0,\"#f0f921\"]],\"type\":\"heatmapgl\"}],\"histogram\":[{\"marker\":{\"pattern\":{\"fillmode\":\"overlay\",\"size\":10,\"solidity\":0.2}},\"type\":\"histogram\"}],\"histogram2d\":[{\"colorbar\":{\"outlinewidth\":0,\"ticks\":\"\"},\"colorscale\":[[0.0,\"#0d0887\"],[0.1111111111111111,\"#46039f\"],[0.2222222222222222,\"#7201a8\"],[0.3333333333333333,\"#9c179e\"],[0.4444444444444444,\"#bd3786\"],[0.5555555555555556,\"#d8576b\"],[0.6666666666666666,\"#ed7953\"],[0.7777777777777778,\"#fb9f3a\"],[0.8888888888888888,\"#fdca26\"],[1.0,\"#f0f921\"]],\"type\":\"histogram2d\"}],\"histogram2dcontour\":[{\"colorbar\":{\"outlinewidth\":0,\"ticks\":\"\"},\"colorscale\":[[0.0,\"#0d0887\"],[0.1111111111111111,\"#46039f\"],[0.2222222222222222,\"#7201a8\"],[0.3333333333333333,\"#9c179e\"],[0.4444444444444444,\"#bd3786\"],[0.5555555555555556,\"#d8576b\"],[0.6666666666666666,\"#ed7953\"],[0.7777777777777778,\"#fb9f3a\"],[0.8888888888888888,\"#fdca26\"],[1.0,\"#f0f921\"]],\"type\":\"histogram2dcontour\"}],\"mesh3d\":[{\"colorbar\":{\"outlinewidth\":0,\"ticks\":\"\"},\"type\":\"mesh3d\"}],\"parcoords\":[{\"line\":{\"colorbar\":{\"outlinewidth\":0,\"ticks\":\"\"}},\"type\":\"parcoords\"}],\"pie\":[{\"automargin\":true,\"type\":\"pie\"}],\"scatter\":[{\"marker\":{\"colorbar\":{\"outlinewidth\":0,\"ticks\":\"\"}},\"type\":\"scatter\"}],\"scatter3d\":[{\"line\":{\"colorbar\":{\"outlinewidth\":0,\"ticks\":\"\"}},\"marker\":{\"colorbar\":{\"outlinewidth\":0,\"ticks\":\"\"}},\"type\":\"scatter3d\"}],\"scattercarpet\":[{\"marker\":{\"colorbar\":{\"outlinewidth\":0,\"ticks\":\"\"}},\"type\":\"scattercarpet\"}],\"scattergeo\":[{\"marker\":{\"colorbar\":{\"outlinewidth\":0,\"ticks\":\"\"}},\"type\":\"scattergeo\"}],\"scattergl\":[{\"marker\":{\"colorbar\":{\"outlinewidth\":0,\"ticks\":\"\"}},\"type\":\"scattergl\"}],\"scattermapbox\":[{\"marker\":{\"colorbar\":{\"outlinewidth\":0,\"ticks\":\"\"}},\"type\":\"scattermapbox\"}],\"scatterpolar\":[{\"marker\":{\"colorbar\":{\"outlinewidth\":0,\"ticks\":\"\"}},\"type\":\"scatterpolar\"}],\"scatterpolargl\":[{\"marker\":{\"colorbar\":{\"outlinewidth\":0,\"ticks\":\"\"}},\"type\":\"scatterpolargl\"}],\"scatterternary\":[{\"marker\":{\"colorbar\":{\"outlinewidth\":0,\"ticks\":\"\"}},\"type\":\"scatterternary\"}],\"surface\":[{\"colorbar\":{\"outlinewidth\":0,\"ticks\":\"\"},\"colorscale\":[[0.0,\"#0d0887\"],[0.1111111111111111,\"#46039f\"],[0.2222222222222222,\"#7201a8\"],[0.3333333333333333,\"#9c179e\"],[0.4444444444444444,\"#bd3786\"],[0.5555555555555556,\"#d8576b\"],[0.6666666666666666,\"#ed7953\"],[0.7777777777777778,\"#fb9f3a\"],[0.8888888888888888,\"#fdca26\"],[1.0,\"#f0f921\"]],\"type\":\"surface\"}],\"table\":[{\"cells\":{\"fill\":{\"color\":\"#EBF0F8\"},\"line\":{\"color\":\"white\"}},\"header\":{\"fill\":{\"color\":\"#C8D4E3\"},\"line\":{\"color\":\"white\"}},\"type\":\"table\"}]},\"layout\":{\"annotationdefaults\":{\"arrowcolor\":\"#2a3f5f\",\"arrowhead\":0,\"arrowwidth\":1},\"autotypenumbers\":\"strict\",\"coloraxis\":{\"colorbar\":{\"outlinewidth\":0,\"ticks\":\"\"}},\"colorscale\":{\"diverging\":[[0,\"#8e0152\"],[0.1,\"#c51b7d\"],[0.2,\"#de77ae\"],[0.3,\"#f1b6da\"],[0.4,\"#fde0ef\"],[0.5,\"#f7f7f7\"],[0.6,\"#e6f5d0\"],[0.7,\"#b8e186\"],[0.8,\"#7fbc41\"],[0.9,\"#4d9221\"],[1,\"#276419\"]],\"sequential\":[[0.0,\"#0d0887\"],[0.1111111111111111,\"#46039f\"],[0.2222222222222222,\"#7201a8\"],[0.3333333333333333,\"#9c179e\"],[0.4444444444444444,\"#bd3786\"],[0.5555555555555556,\"#d8576b\"],[0.6666666666666666,\"#ed7953\"],[0.7777777777777778,\"#fb9f3a\"],[0.8888888888888888,\"#fdca26\"],[1.0,\"#f0f921\"]],\"sequentialminus\":[[0.0,\"#0d0887\"],[0.1111111111111111,\"#46039f\"],[0.2222222222222222,\"#7201a8\"],[0.3333333333333333,\"#9c179e\"],[0.4444444444444444,\"#bd3786\"],[0.5555555555555556,\"#d8576b\"],[0.6666666666666666,\"#ed7953\"],[0.7777777777777778,\"#fb9f3a\"],[0.8888888888888888,\"#fdca26\"],[1.0,\"#f0f921\"]]},\"colorway\":[\"#636efa\",\"#EF553B\",\"#00cc96\",\"#ab63fa\",\"#FFA15A\",\"#19d3f3\",\"#FF6692\",\"#B6E880\",\"#FF97FF\",\"#FECB52\"],\"font\":{\"color\":\"#2a3f5f\"},\"geo\":{\"bgcolor\":\"white\",\"lakecolor\":\"white\",\"landcolor\":\"#E5ECF6\",\"showlakes\":true,\"showland\":true,\"subunitcolor\":\"white\"},\"hoverlabel\":{\"align\":\"left\"},\"hovermode\":\"closest\",\"mapbox\":{\"style\":\"light\"},\"paper_bgcolor\":\"white\",\"plot_bgcolor\":\"#E5ECF6\",\"polar\":{\"angularaxis\":{\"gridcolor\":\"white\",\"linecolor\":\"white\",\"ticks\":\"\"},\"bgcolor\":\"#E5ECF6\",\"radialaxis\":{\"gridcolor\":\"white\",\"linecolor\":\"white\",\"ticks\":\"\"}},\"scene\":{\"xaxis\":{\"backgroundcolor\":\"#E5ECF6\",\"gridcolor\":\"white\",\"gridwidth\":2,\"linecolor\":\"white\",\"showbackground\":true,\"ticks\":\"\",\"zerolinecolor\":\"white\"},\"yaxis\":{\"backgroundcolor\":\"#E5ECF6\",\"gridcolor\":\"white\",\"gridwidth\":2,\"linecolor\":\"white\",\"showbackground\":true,\"ticks\":\"\",\"zerolinecolor\":\"white\"},\"zaxis\":{\"backgroundcolor\":\"#E5ECF6\",\"gridcolor\":\"white\",\"gridwidth\":2,\"linecolor\":\"white\",\"showbackground\":true,\"ticks\":\"\",\"zerolinecolor\":\"white\"}},\"shapedefaults\":{\"line\":{\"color\":\"#2a3f5f\"}},\"ternary\":{\"aaxis\":{\"gridcolor\":\"white\",\"linecolor\":\"white\",\"ticks\":\"\"},\"baxis\":{\"gridcolor\":\"white\",\"linecolor\":\"white\",\"ticks\":\"\"},\"bgcolor\":\"#E5ECF6\",\"caxis\":{\"gridcolor\":\"white\",\"linecolor\":\"white\",\"ticks\":\"\"}},\"title\":{\"x\":0.05},\"xaxis\":{\"automargin\":true,\"gridcolor\":\"white\",\"linecolor\":\"white\",\"ticks\":\"\",\"title\":{\"standoff\":15},\"zerolinecolor\":\"white\",\"zerolinewidth\":2},\"yaxis\":{\"automargin\":true,\"gridcolor\":\"white\",\"linecolor\":\"white\",\"ticks\":\"\",\"title\":{\"standoff\":15},\"zerolinecolor\":\"white\",\"zerolinewidth\":2}}},\"xaxis\":{\"anchor\":\"y\",\"domain\":[0.0,1.0],\"title\":{\"text\":\"index\"}},\"yaxis\":{\"anchor\":\"x\",\"domain\":[0.0,1.0],\"title\":{\"text\":\"value\"}}},                        {\"responsive\": true}                    ).then(function(){\n",
       "                            \n",
       "var gd = document.getElementById('70531d4c-c241-49ff-967c-b3c66f281cc3');\n",
       "var x = new MutationObserver(function (mutations, observer) {{\n",
       "        var display = window.getComputedStyle(gd).display;\n",
       "        if (!display || display === 'none') {{\n",
       "            console.log([gd, 'removed!']);\n",
       "            Plotly.purge(gd);\n",
       "            observer.disconnect();\n",
       "        }}\n",
       "}});\n",
       "\n",
       "// Listen for the removal of the full notebook cells\n",
       "var notebookContainer = gd.closest('#notebook-container');\n",
       "if (notebookContainer) {{\n",
       "    x.observe(notebookContainer, {childList: true});\n",
       "}}\n",
       "\n",
       "// Listen for the clearing of the current output cell\n",
       "var outputEl = gd.closest('.output');\n",
       "if (outputEl) {{\n",
       "    x.observe(outputEl, {childList: true});\n",
       "}}\n",
       "\n",
       "                        })                };                });            </script>        </div>"
      ]
     },
     "metadata": {},
     "output_type": "display_data"
    }
   ],
   "source": [
    "display(px.bar(df[0].value_counts().loc[lambda x : x > 40]))"
   ]
  },
  {
   "cell_type": "code",
   "execution_count": 147,
   "id": "3c7c4663-2967-4313-8556-2504c76c8d09",
   "metadata": {},
   "outputs": [
    {
     "name": "stdout",
     "output_type": "stream",
     "text": [
      "88 ['CRM', 'AMAT', 'AAPL', 'LOW', 'DE', 'V', 'INTU', 'NVDA', 'WMT', 'SYK', 'GOOGL', 'ADI', 'UPS', 'NEE', 'LLY', 'NFLX', 'BLK', 'CSCO', 'CVS', 'GILD', 'UNH', 'GE', 'MMM', 'PG', 'SBUX', 'ISRG', 'MA', 'QCOM', 'CVX', 'MS', 'XOM', 'AXP', 'HON', 'PM', 'ABT', 'JNJ', 'UNP', 'JPM', 'ADBE', 'BMY', 'ACN', 'NKE', 'DUK', 'AMD', 'CMCSA', 'HD', 'SCHW', 'BKNG', 'TXN', 'MSFT', 'KO', 'VZ', 'AMGN', 'BAC', 'T', 'MDLZ', 'MMC', 'AMZN', 'TMO', 'CB', 'MCD', 'COST', 'GS', 'INTC', 'LMT', 'PEP', 'SPGI', 'COP', 'ANTM', 'MO', 'MRK', 'C', 'AMT', 'CCI', 'RTX', 'WFC', 'ADP', 'MU', 'CAT', 'IBM', 'EOG', 'PLD', 'DHR', 'TMUS', 'ORCL', 'TSLA', 'PFE', 'BRK-B']\n"
     ]
    }
   ],
   "source": [
    "stocksList_data = df[0].value_counts().loc[lambda x : x > 40].index.to_list()\n",
    "print(len(stocksList_data), stocksList_data)"
   ]
  },
  {
   "cell_type": "code",
   "execution_count": 148,
   "id": "abe929be-8f45-436e-bcdc-7a9ea81868f1",
   "metadata": {},
   "outputs": [],
   "source": [
    "finalDF = dataFrame.loc[dataFrame[0].isin(stocksList_data)]"
   ]
  },
  {
   "cell_type": "code",
   "execution_count": 149,
   "id": "2de73a07-d159-459e-b7ae-49d7c2852aee",
   "metadata": {},
   "outputs": [
    {
     "data": {
      "text/plain": [
       "CRM      50\n",
       "V        49\n",
       "AMAT     49\n",
       "INTU     49\n",
       "NVDA     49\n",
       "         ..\n",
       "TMUS     44\n",
       "ORCL     44\n",
       "TSLA     42\n",
       "PFE      42\n",
       "BRK-B    41\n",
       "Name: 0, Length: 88, dtype: int64"
      ]
     },
     "execution_count": 149,
     "metadata": {},
     "output_type": "execute_result"
    }
   ],
   "source": [
    "finalDF[0].value_counts()"
   ]
  },
  {
   "cell_type": "code",
   "execution_count": 150,
   "id": "8d97e8fb-4edc-4556-b173-7366c48f6382",
   "metadata": {},
   "outputs": [
    {
     "data": {
      "text/html": [
       "<div>\n",
       "<style scoped>\n",
       "    .dataframe tbody tr th:only-of-type {\n",
       "        vertical-align: middle;\n",
       "    }\n",
       "\n",
       "    .dataframe tbody tr th {\n",
       "        vertical-align: top;\n",
       "    }\n",
       "\n",
       "    .dataframe thead th {\n",
       "        text-align: right;\n",
       "    }\n",
       "</style>\n",
       "<table border=\"1\" class=\"dataframe\">\n",
       "  <thead>\n",
       "    <tr style=\"text-align: right;\">\n",
       "      <th></th>\n",
       "      <th>0</th>\n",
       "      <th>1</th>\n",
       "      <th>2</th>\n",
       "      <th>3</th>\n",
       "      <th>4</th>\n",
       "      <th>5</th>\n",
       "      <th>6</th>\n",
       "      <th>7</th>\n",
       "      <th>8</th>\n",
       "      <th>9</th>\n",
       "      <th>...</th>\n",
       "      <th>864</th>\n",
       "      <th>865</th>\n",
       "      <th>866</th>\n",
       "      <th>867</th>\n",
       "      <th>868</th>\n",
       "      <th>869</th>\n",
       "      <th>870</th>\n",
       "      <th>871</th>\n",
       "      <th>872</th>\n",
       "      <th>873</th>\n",
       "    </tr>\n",
       "  </thead>\n",
       "  <tbody>\n",
       "    <tr>\n",
       "      <th>0</th>\n",
       "      <td>AAPL</td>\n",
       "      <td>2022</td>\n",
       "      <td>2</td>\n",
       "      <td>10-Q</td>\n",
       "      <td>ContractWithCustomerLiabilityCurrent</td>\n",
       "      <td>usd</td>\n",
       "      <td>7920000000</td>\n",
       "      <td>CommonStocksIncludingAdditionalPaidInCapital</td>\n",
       "      <td>usd</td>\n",
       "      <td>61181000000</td>\n",
       "      <td>...</td>\n",
       "      <td>NaN</td>\n",
       "      <td>None</td>\n",
       "      <td>None</td>\n",
       "      <td>NaN</td>\n",
       "      <td>None</td>\n",
       "      <td>None</td>\n",
       "      <td>NaN</td>\n",
       "      <td>None</td>\n",
       "      <td>None</td>\n",
       "      <td>NaN</td>\n",
       "    </tr>\n",
       "    <tr>\n",
       "      <th>1</th>\n",
       "      <td>AAPL</td>\n",
       "      <td>2022</td>\n",
       "      <td>1</td>\n",
       "      <td>10-Q</td>\n",
       "      <td>AccumulatedOtherComprehensiveIncomeLossNetOfTax</td>\n",
       "      <td>usd</td>\n",
       "      <td>-927000000</td>\n",
       "      <td>LiabilitiesAndStockholdersEquity</td>\n",
       "      <td>usd</td>\n",
       "      <td>381191000000</td>\n",
       "      <td>...</td>\n",
       "      <td>NaN</td>\n",
       "      <td>None</td>\n",
       "      <td>None</td>\n",
       "      <td>NaN</td>\n",
       "      <td>None</td>\n",
       "      <td>None</td>\n",
       "      <td>NaN</td>\n",
       "      <td>None</td>\n",
       "      <td>None</td>\n",
       "      <td>NaN</td>\n",
       "    </tr>\n",
       "    <tr>\n",
       "      <th>2</th>\n",
       "      <td>AAPL</td>\n",
       "      <td>2021</td>\n",
       "      <td>3</td>\n",
       "      <td>10-Q</td>\n",
       "      <td>CommercialPaper</td>\n",
       "      <td>usd</td>\n",
       "      <td>8000000000</td>\n",
       "      <td>InventoryNet</td>\n",
       "      <td>usd</td>\n",
       "      <td>5178000000</td>\n",
       "      <td>...</td>\n",
       "      <td>NaN</td>\n",
       "      <td>None</td>\n",
       "      <td>None</td>\n",
       "      <td>NaN</td>\n",
       "      <td>None</td>\n",
       "      <td>None</td>\n",
       "      <td>NaN</td>\n",
       "      <td>None</td>\n",
       "      <td>None</td>\n",
       "      <td>NaN</td>\n",
       "    </tr>\n",
       "    <tr>\n",
       "      <th>3</th>\n",
       "      <td>AAPL</td>\n",
       "      <td>2021</td>\n",
       "      <td>2</td>\n",
       "      <td>10-Q</td>\n",
       "      <td>CashAndCashEquivalentsAtCarryingValue</td>\n",
       "      <td>usd</td>\n",
       "      <td>38466000000</td>\n",
       "      <td>MarketableSecuritiesCurrent</td>\n",
       "      <td>usd</td>\n",
       "      <td>31368000000</td>\n",
       "      <td>...</td>\n",
       "      <td>NaN</td>\n",
       "      <td>None</td>\n",
       "      <td>None</td>\n",
       "      <td>NaN</td>\n",
       "      <td>None</td>\n",
       "      <td>None</td>\n",
       "      <td>NaN</td>\n",
       "      <td>None</td>\n",
       "      <td>None</td>\n",
       "      <td>NaN</td>\n",
       "    </tr>\n",
       "    <tr>\n",
       "      <th>4</th>\n",
       "      <td>AAPL</td>\n",
       "      <td>2021</td>\n",
       "      <td>1</td>\n",
       "      <td>10-Q</td>\n",
       "      <td>CashAndCashEquivalentsAtCarryingValue</td>\n",
       "      <td>usd</td>\n",
       "      <td>36010000000</td>\n",
       "      <td>MarketableSecuritiesCurrent</td>\n",
       "      <td>usd</td>\n",
       "      <td>40816000000</td>\n",
       "      <td>...</td>\n",
       "      <td>NaN</td>\n",
       "      <td>None</td>\n",
       "      <td>None</td>\n",
       "      <td>NaN</td>\n",
       "      <td>None</td>\n",
       "      <td>None</td>\n",
       "      <td>NaN</td>\n",
       "      <td>None</td>\n",
       "      <td>None</td>\n",
       "      <td>NaN</td>\n",
       "    </tr>\n",
       "  </tbody>\n",
       "</table>\n",
       "<p>5 rows × 874 columns</p>\n",
       "</div>"
      ],
      "text/plain": [
       "    0     1    2     3                                                4    \\\n",
       "0  AAPL  2022    2  10-Q             ContractWithCustomerLiabilityCurrent   \n",
       "1  AAPL  2022    1  10-Q  AccumulatedOtherComprehensiveIncomeLossNetOfTax   \n",
       "2  AAPL  2021    3  10-Q                                  CommercialPaper   \n",
       "3  AAPL  2021    2  10-Q            CashAndCashEquivalentsAtCarryingValue   \n",
       "4  AAPL  2021    1  10-Q            CashAndCashEquivalentsAtCarryingValue   \n",
       "\n",
       "   5            6                                             7    8    \\\n",
       "0  usd   7920000000  CommonStocksIncludingAdditionalPaidInCapital  usd   \n",
       "1  usd   -927000000              LiabilitiesAndStockholdersEquity  usd   \n",
       "2  usd   8000000000                                  InventoryNet  usd   \n",
       "3  usd  38466000000                   MarketableSecuritiesCurrent  usd   \n",
       "4  usd  36010000000                   MarketableSecuritiesCurrent  usd   \n",
       "\n",
       "            9    ... 864   865   866 867   868   869 870   871   872 873  \n",
       "0   61181000000  ... NaN  None  None NaN  None  None NaN  None  None NaN  \n",
       "1  381191000000  ... NaN  None  None NaN  None  None NaN  None  None NaN  \n",
       "2    5178000000  ... NaN  None  None NaN  None  None NaN  None  None NaN  \n",
       "3   31368000000  ... NaN  None  None NaN  None  None NaN  None  None NaN  \n",
       "4   40816000000  ... NaN  None  None NaN  None  None NaN  None  None NaN  \n",
       "\n",
       "[5 rows x 874 columns]"
      ]
     },
     "execution_count": 150,
     "metadata": {},
     "output_type": "execute_result"
    }
   ],
   "source": [
    "finalDF.head()"
   ]
  },
  {
   "cell_type": "code",
   "execution_count": 87,
   "id": "733a273a-cacb-4da0-a6a9-006051c1e1a8",
   "metadata": {},
   "outputs": [
    {
     "name": "stdout",
     "output_type": "stream",
     "text": [
      "{'cik': '320193', 'data': [{'accessNumber': '0000320193-22-000059', 'symbol': 'AAPL', 'cik': '320193', 'year': 2022, 'quarter': 2, 'form': '10-Q', 'startDate': '2021-09-26 00:00:00', 'endDate': '2022-03-26 00:00:00', 'filedDate': '2022-04-29 00:00:00', 'acceptedDate': '2022-04-28 18:03:58', 'report': {'bs': [{'label': 'Deferred revenue', 'concept': 'ContractWithCustomerLiabilityCurrent', 'unit': 'usd', 'value': 7920000000}, {'label': 'Common stock and additional paid-in capital, $0.00001 par value: 50,400,000 shares authorized; 16,207,568 and 16,426,786 shares issued and outstanding, respectively', 'concept': 'CommonStocksIncludingAdditionalPaidInCapital', 'unit': 'usd', 'value': 61181000000}, {'label': 'Total current liabilities', 'concept': 'LiabilitiesCurrent', 'unit': 'usd', 'value': 127508000000}, {'label': 'Other non-current liabilities', 'concept': 'OtherLiabilitiesNoncurrent', 'unit': 'usd', 'value': 52432000000}, {'label': 'Other non-current liabilities', 'concept': 'OtherLiabilitiesNoncurrent', 'unit': 'usd', 'value': 52432000000}, {'label': 'Total non-current assets', 'concept': 'AssetsNoncurrent', 'unit': 'usd', 'value': 232482000000}, {'label': 'Total current assets', 'concept': 'AssetsCurrent', 'unit': 'usd', 'value': 118180000000}, {'label': 'Retained earnings', 'concept': 'RetainedEarningsAccumulatedDeficit', 'unit': 'usd', 'value': 12712000000}, {'label': 'Other current liabilities', 'concept': 'OtherLiabilitiesCurrent', 'unit': 'usd', 'value': 50248000000}, {'label': 'Other non-current assets', 'concept': 'OtherAssetsNoncurrent', 'unit': 'usd', 'value': 51959000000}, {'label': 'Marketable securities', 'concept': 'MarketableSecuritiesNoncurrent', 'unit': 'usd', 'value': 141219000000}, {'label': 'Marketable securities', 'concept': 'MarketableSecuritiesNoncurrent', 'unit': 'usd', 'value': 141219000000}, {'label': 'Term debt', 'concept': 'LongTermDebtNoncurrent', 'unit': 'usd', 'value': 103323000000}, {'label': 'Commitments and contingencies', 'concept': 'CommitmentsAndContingencies', 'unit': 'usd', 'value': 'N/A'}, {'label': 'Commercial paper', 'concept': 'CommercialPaper', 'unit': 'usd', 'value': 6999000000}, {'label': 'Accounts payable', 'concept': 'AccountsPayableCurrent', 'unit': 'usd', 'value': 52682000000}, {'label': 'Vendor non-trade receivables', 'concept': 'NontradeReceivablesCurrent', 'unit': 'usd', 'value': 24585000000}, {'label': 'Total liabilities and shareholdersu2019 equity', 'concept': 'LiabilitiesAndStockholdersEquity', 'unit': 'usd', 'value': 350662000000}, {'label': 'Total liabilities', 'concept': 'Liabilities', 'unit': 'usd', 'value': 283263000000}, {'label': 'Other current assets', 'concept': 'OtherAssetsCurrent', 'unit': 'usd', 'value': 15809000000}, {'label': 'Total assets', 'concept': 'Assets', 'unit': 'usd', 'value': 350662000000}, {'label': 'Property, plant and equipment, net', 'concept': 'PropertyPlantAndEquipmentNet', 'unit': 'usd', 'value': 39304000000}, {'label': 'Property, plant and equipment, net', 'concept': 'PropertyPlantAndEquipmentNet', 'unit': 'usd', 'value': 39304000000}, {'label': 'Term debt', 'concept': 'LongTermDebtCurrent', 'unit': 'usd', 'value': 9659000000}, {'label': 'Marketable securities', 'concept': 'MarketableSecuritiesCurrent', 'unit': 'usd', 'value': 23413000000}, {'label': 'Marketable securities', 'concept': 'MarketableSecuritiesCurrent', 'unit': 'usd', 'value': 23413000000}, {'label': 'Inventories', 'concept': 'InventoryNet', 'unit': 'usd', 'value': 5460000000}, {'label': 'Cash and cash equivalents', 'concept': 'CashAndCashEquivalentsAtCarryingValue', 'unit': 'usd', 'value': 28098000000}, {'label': 'Cash and cash equivalents', 'concept': 'CashAndCashEquivalentsAtCarryingValue', 'unit': 'usd', 'value': 28098000000}, {'label': 'Total shareholdersu2019 equity', 'concept': 'StockholdersEquity', 'unit': 'usd', 'value': 67399000000}, {'label': 'Total shareholdersu2019 equity', 'concept': 'StockholdersEquity', 'unit': 'usd', 'value': 67399000000}, {'label': 'Total shareholdersu2019 equity', 'concept': 'StockholdersEquity', 'unit': 'usd', 'value': 67399000000}, {'label': 'Accumulated other comprehensive income/(loss)', 'concept': 'AccumulatedOtherComprehensiveIncomeLossNetOfTax', 'unit': 'usd', 'value': -6494000000}, {'label': 'Total non-current liabilities', 'concept': 'LiabilitiesNoncurrent', 'unit': 'usd', 'value': 155755000000}, {'label': 'Accounts receivable, net', 'concept': 'AccountsReceivableNetCurrent', 'unit': 'usd', 'value': 20815000000}], 'cf': [{'label': 'Cash generated by operating activities', 'concept': 'NetCashProvidedByUsedInOperatingActivities', 'unit': 'usd', 'value': 75132000000}, {'label': 'Other current and non-current assets', 'concept': 'IncreaseDecreaseInOtherOperatingAssets', 'unit': 'usd', 'value': 3542000000}, {'label': 'Cash paid for interest', 'concept': 'InterestPaidNet', 'unit': 'usd', 'value': 1406000000}, {'label': 'Inventories', 'concept': 'IncreaseDecreaseInInventories', 'unit': 'usd', 'value': -1065000000}, {'label': 'Cash used in financing activities', 'concept': 'NetCashProvidedByUsedInFinancingActivities', 'unit': 'usd', 'value': -56510000000}, {'label': 'Accounts receivable, net', 'concept': 'IncreaseDecreaseInAccountsReceivable', 'unit': 'usd', 'value': -5542000000}, {'label': 'Purchases of marketable securities', 'concept': 'PaymentsToAcquireAvailableForSaleSecuritiesDebt', 'unit': 'usd', 'value': 61987000000}, {'label': 'Proceeds from sales of marketable securities', 'concept': 'ProceedsFromSaleOfAvailableForSaleSecuritiesDebt', 'unit': 'usd', 'value': 24668000000}, {'label': 'Net income', 'concept': 'NetIncomeLoss', 'unit': 'usd', 'value': 59640000000}, {'label': 'Net income', 'concept': 'NetIncomeLoss', 'unit': 'usd', 'value': 59640000000}, {'label': 'Net income', 'concept': 'NetIncomeLoss', 'unit': 'usd', 'value': 59640000000}, {'label': 'Net income', 'concept': 'NetIncomeLoss', 'unit': 'usd', 'value': 59640000000}, {'label': 'Payments for taxes related to net share settlement of equity awards', 'concept': 'PaymentsRelatedToTaxWithholdingForShareBasedCompensation', 'unit': 'usd', 'value': 3218000000}, {'label': 'Repurchases of common stock', 'concept': 'PaymentsForRepurchaseOfCommonStock', 'unit': 'usd', 'value': 43109000000}, {'label': 'Payments for dividends and dividend equivalents', 'concept': 'PaymentsOfDividends', 'unit': 'usd', 'value': 7327000000}, {'label': 'Cash paid for income taxes, net', 'concept': 'IncomeTaxesPaidNet', 'unit': 'usd', 'value': 9301000000}, {'label': 'Proceeds from maturities of marketable securities', 'concept': 'ProceedsFromMaturitiesPrepaymentsAndCallsOfAvailableForSaleSecurities', 'unit': 'usd', 'value': 18000000000}, {'label': 'Other current and non-current liabilities', 'concept': 'IncreaseDecreaseInOtherOperatingLiabilities', 'unit': 'usd', 'value': 1888000000}, {'label': 'Other', 'concept': 'OtherNoncashIncomeExpense', 'unit': 'usd', 'value': 20000000}, {'label': 'Increase/(Decrease) in cash, cash equivalents and restricted cash', 'concept': 'CashCashEquivalentsRestrictedCashAndRestrictedCashEquivalentsPeriodIncreaseDecreaseIncludingExchangeRateEffect', 'unit': 'usd', 'value': -6749000000}, {'label': 'Payments made in connection with business acquisitions, net', 'concept': 'PaymentsToAcquireBusinessesNetOfCashAcquired', 'unit': 'usd', 'value': 167000000}, {'label': 'Depreciation and amortization', 'concept': 'DepreciationDepletionAndAmortization', 'unit': 'usd', 'value': 5434000000}, {'label': 'Share-based compensation expense', 'concept': 'ShareBasedCompensation', 'unit': 'usd', 'value': 4517000000}, {'label': 'Deferred income tax expense/(benefit)', 'concept': 'DeferredIncomeTaxExpenseBenefit', 'unit': 'usd', 'value': 1088000000}, {'label': 'Vendor non-trade receivables', 'concept': 'IncreaseDecreaseInOtherReceivables', 'unit': 'usd', 'value': -643000000}, {'label': 'Proceeds from issuance of term debt, net', 'concept': 'ProceedsFromIssuanceOfLongTermDebt', 'unit': 'usd', 'value': 'N/A'}, {'label': 'Repayments of term debt', 'concept': 'RepaymentsOfLongTermDebt', 'unit': 'usd', 'value': 3750000000}, {'label': 'Accounts payable', 'concept': 'IncreaseDecreaseInAccountsPayable', 'unit': 'usd', 'value': -1750000000}, {'label': 'Cash used in investing activities', 'concept': 'NetCashProvidedByUsedInInvestingActivities', 'unit': 'usd', 'value': -25371000000}, {'label': 'Proceeds from commercial paper, net', 'concept': 'ProceedsFromRepaymentsOfCommercialPaper', 'unit': 'usd', 'value': 999000000}, {'label': 'Proceeds from commercial paper, net', 'concept': 'ProceedsFromRepaymentsOfCommercialPaper', 'unit': 'usd', 'value': 999000000}, {'label': 'Deferred revenue', 'concept': 'IncreaseDecreaseInContractWithCustomerLiability', 'unit': 'usd', 'value': 627000000}, {'label': 'Other', 'concept': 'ProceedsFromPaymentsForOtherFinancingActivities', 'unit': 'usd', 'value': -105000000}, {'label': 'Payments for acquisition of property, plant and equipment', 'concept': 'PaymentsToAcquirePropertyPlantAndEquipment', 'unit': 'usd', 'value': 5317000000}, {'label': 'Other', 'concept': 'PaymentsForProceedsFromOtherInvestingActivities', 'unit': 'usd', 'value': 568000000}], 'ic': [{'label': 'Net sales', 'concept': 'RevenueFromContractWithCustomerExcludingAssessedTax', 'unit': 'usd', 'value': 221223000000}, {'label': 'Net sales', 'concept': 'RevenueFromContractWithCustomerExcludingAssessedTax', 'unit': 'usd', 'value': 221223000000}, {'label': 'Diluted (in dollars per share)', 'concept': 'EarningsPerShareDiluted', 'unit': 'usd/shares', 'value': 3.62}, {'label': 'Diluted (in dollars per share)', 'concept': 'EarningsPerShareDiluted', 'unit': 'usd/shares', 'value': 3.62}, {'label': 'Cost of sales', 'concept': 'CostOfGoodsAndServicesSold', 'unit': 'usd', 'value': 124421000000}, {'label': 'Basic (in shares)', 'concept': 'WeightedAverageNumberOfSharesOutstandingBasic', 'unit': 'shares', 'value': 16335263000}, {'label': 'Basic (in shares)', 'concept': 'WeightedAverageNumberOfSharesOutstandingBasic', 'unit': 'shares', 'value': 16335263000}, {'label': 'Other income/(expense), net', 'concept': 'NonoperatingIncomeExpense', 'unit': 'usd', 'value': -87000000}, {'label': 'Other income/(expense), net', 'concept': 'NonoperatingIncomeExpense', 'unit': 'usd', 'value': -87000000}, {'label': 'Operating income', 'concept': 'OperatingIncomeLoss', 'unit': 'usd', 'value': 71467000000}, {'label': 'Operating income', 'concept': 'OperatingIncomeLoss', 'unit': 'usd', 'value': 71467000000}, {'label': 'Gross margin', 'concept': 'GrossProfit', 'unit': 'usd', 'value': 96802000000}, {'label': 'Total operating expenses', 'concept': 'OperatingExpenses', 'unit': 'usd', 'value': 25335000000}, {'label': 'Diluted (in shares)', 'concept': 'WeightedAverageNumberOfDilutedSharesOutstanding', 'unit': 'shares', 'value': 16461304000}, {'label': 'Diluted (in shares)', 'concept': 'WeightedAverageNumberOfDilutedSharesOutstanding', 'unit': 'shares', 'value': 16461304000}, {'label': 'Research and development', 'concept': 'ResearchAndDevelopmentExpense', 'unit': 'usd', 'value': 12693000000}, {'label': 'Provision for income taxes', 'concept': 'IncomeTaxExpenseBenefit', 'unit': 'usd', 'value': 11740000000}, {'label': 'Selling, general and administrative', 'concept': 'SellingGeneralAndAdministrativeExpense', 'unit': 'usd', 'value': 12642000000}, {'label': 'Income before provision for income taxes', 'concept': 'IncomeLossFromContinuingOperationsBeforeIncomeTaxesExtraordinaryItemsNoncontrollingInterest', 'unit': 'usd', 'value': 71380000000}, {'label': 'Basic (in dollars per share)', 'concept': 'EarningsPerShareBasic', 'unit': 'usd/shares', 'value': 3.65}, {'label': 'Basic (in dollars per share)', 'concept': 'EarningsPerShareBasic', 'unit': 'usd/shares', 'value': 3.65}, {'label': 'Net income', 'concept': 'NetIncomeLoss', 'unit': 'usd', 'value': 59640000000}, {'label': 'Net income', 'concept': 'NetIncomeLoss', 'unit': 'usd', 'value': 59640000000}, {'label': 'Net income', 'concept': 'NetIncomeLoss', 'unit': 'usd', 'value': 59640000000}, {'label': 'Net income', 'concept': 'NetIncomeLoss', 'unit': 'usd', 'value': 59640000000}, {'label': 'Net income', 'concept': 'NetIncomeLoss', 'unit': 'usd', 'value': 59640000000}, {'label': 'Net income', 'concept': 'NetIncomeLoss', 'unit': 'usd', 'value': 59640000000}, {'label': 'Net income', 'concept': 'NetIncomeLoss', 'unit': 'usd', 'value': 59640000000}, {'label': 'Net income', 'concept': 'NetIncomeLoss', 'unit': 'usd', 'value': 59640000000}, {'label': 'Change in foreign currency translation, net of tax', 'concept': 'OtherComprehensiveIncomeLossForeignCurrencyTransactionAndTranslationAdjustmentNetOfTax', 'unit': 'usd', 'value': -381000000}, {'label': 'Total change in unrealized gains/losses on marketable debt securities', 'concept': 'OtherComprehensiveIncomeLossAvailableForSaleSecuritiesAdjustmentNetOfTax', 'unit': 'usd', 'value': -6764000000}, {'label': 'Adjustment for net (gains)/losses realized and included in net income', 'concept': 'aapl:OtherComprehensiveIncomeLossDerivativeInstrumentGainLossReclassificationAfterTax', 'unit': 'usd', 'value': 208000000}, {'label': 'Change in fair value of derivative instruments', 'concept': 'aapl:OtherComprehensiveIncomeLossDerivativeInstrumentGainLossbeforeReclassificationafterTax', 'unit': 'usd', 'value': 696000000}, {'label': 'Total comprehensive income', 'concept': 'ComprehensiveIncomeNetOfTax', 'unit': 'usd', 'value': 52983000000}, {'label': 'Total change in unrealized gains/losses on derivative instruments', 'concept': 'aapl:OtherComprehensiveIncomeLossDerivativeInstrumentGainLossafterReclassificationandTax', 'unit': 'usd', 'value': 488000000}, {'label': 'Total other comprehensive income/(loss)', 'concept': 'OtherComprehensiveIncomeLossNetOfTaxPortionAttributableToParent', 'unit': 'usd', 'value': -6657000000}, {'label': 'Adjustment for net (gains)/losses realized and included in net income', 'concept': 'OtherComprehensiveIncomeLossReclassificationAdjustmentFromAOCIForSaleOfSecuritiesNetOfTax', 'unit': 'usd', 'value': -45000000}, {'label': 'Change in fair value of marketable debt securities', 'concept': 'OtherComprehensiveIncomeUnrealizedHoldingGainLossOnSecuritiesArisingDuringPeriodNetOfTax', 'unit': 'usd', 'value': -6809000000}]}}, {'accessNumber': '0000320193-22-000007', 'symbol': 'AAPL', 'cik': '320193', 'year': 2022, 'quarter': 1, 'form': '10-Q', 'startDate': '2021-09-26 00:00:00', 'endDate': '2021-12-25 00:00:00', 'filedDate': '2022-01-28 00:00:00', 'acceptedDate': '2022-01-27 18:00:58', 'report': {'bs': [{'label': 'Accumulated other comprehensive income/(loss)', 'concept': 'AccumulatedOtherComprehensiveIncomeLossNetOfTax', 'unit': 'usd', 'value': -927000000}, {'label': 'Total liabilities and shareholdersu2019 equity', 'concept': 'LiabilitiesAndStockholdersEquity', 'unit': 'usd', 'value': 381191000000}, {'label': 'Total non-current liabilities', 'concept': 'LiabilitiesNoncurrent', 'unit': 'usd', 'value': 161685000000}, {'label': 'Other non-current assets', 'concept': 'OtherAssetsNoncurrent', 'unit': 'usd', 'value': 50109000000}, {'label': 'Accounts receivable, net', 'concept': 'AccountsReceivableNetCurrent', 'unit': 'usd', 'value': 30213000000}, {'label': 'Common stock and additional paid-in capital, $0.00001 par value: 50,400,000 shares authorized; 16,340,851 and 16,426,786 shares issued and outstanding, respectively', 'concept': 'CommonStocksIncludingAdditionalPaidInCapital', 'unit': 'usd', 'value': 58424000000}, {'label': 'Accounts payable', 'concept': 'AccountsPayableCurrent', 'unit': 'usd', 'value': 74362000000}, {'label': 'Commitments and contingencies', 'concept': 'CommitmentsAndContingencies', 'unit': 'usd', 'value': 'N/A'}, {'label': 'Term debt', 'concept': 'LongTermDebtCurrent', 'unit': 'usd', 'value': 11169000000}, {'label': 'Total liabilities', 'concept': 'Liabilities', 'unit': 'usd', 'value': 309259000000}, {'label': 'Total current liabilities', 'concept': 'LiabilitiesCurrent', 'unit': 'usd', 'value': 147574000000}, {'label': 'Total shareholdersu2019 equity', 'concept': 'StockholdersEquity', 'unit': 'usd', 'value': 71932000000}, {'label': 'Total shareholdersu2019 equity', 'concept': 'StockholdersEquity', 'unit': 'usd', 'value': 71932000000}, {'label': 'Other current liabilities', 'concept': 'OtherLiabilitiesCurrent', 'unit': 'usd', 'value': 49167000000}, {'label': 'Retained earnings', 'concept': 'RetainedEarningsAccumulatedDeficit', 'unit': 'usd', 'value': 14435000000}, {'label': 'Total current assets', 'concept': 'AssetsCurrent', 'unit': 'usd', 'value': 153154000000}, {'label': 'Marketable securities', 'concept': 'MarketableSecuritiesNoncurrent', 'unit': 'usd', 'value': 138683000000}, {'label': 'Marketable securities', 'concept': 'MarketableSecuritiesNoncurrent', 'unit': 'usd', 'value': 138683000000}, {'label': 'Other current assets', 'concept': 'OtherAssetsCurrent', 'unit': 'usd', 'value': 18112000000}, {'label': 'Marketable securities', 'concept': 'MarketableSecuritiesCurrent', 'unit': 'usd', 'value': 26794000000}, {'label': 'Marketable securities', 'concept': 'MarketableSecuritiesCurrent', 'unit': 'usd', 'value': 26794000000}, {'label': 'Deferred revenue', 'concept': 'ContractWithCustomerLiabilityCurrent', 'unit': 'usd', 'value': 7876000000}, {'label': 'Cash and cash equivalents', 'concept': 'CashAndCashEquivalentsAtCarryingValue', 'unit': 'usd', 'value': 37119000000}, {'label': 'Cash and cash equivalents', 'concept': 'CashAndCashEquivalentsAtCarryingValue', 'unit': 'usd', 'value': 37119000000}, {'label': 'Term debt', 'concept': 'LongTermDebtNoncurrent', 'unit': 'usd', 'value': 106629000000}, {'label': 'Property, plant and equipment, net', 'concept': 'PropertyPlantAndEquipmentNet', 'unit': 'usd', 'value': 39245000000}, {'label': 'Property, plant and equipment, net', 'concept': 'PropertyPlantAndEquipmentNet', 'unit': 'usd', 'value': 39245000000}, {'label': 'Total assets', 'concept': 'Assets', 'unit': 'usd', 'value': 381191000000}, {'label': 'Commercial paper', 'concept': 'CommercialPaper', 'unit': 'usd', 'value': 5000000000}, {'label': 'Other non-current liabilities', 'concept': 'OtherLiabilitiesNoncurrent', 'unit': 'usd', 'value': 55056000000}, {'label': 'Other non-current liabilities', 'concept': 'OtherLiabilitiesNoncurrent', 'unit': 'usd', 'value': 55056000000}, {'label': 'Vendor non-trade receivables', 'concept': 'NontradeReceivablesCurrent', 'unit': 'usd', 'value': 35040000000}, {'label': 'Total non-current assets', 'concept': 'AssetsNoncurrent', 'unit': 'usd', 'value': 228037000000}, {'label': 'Inventories', 'concept': 'InventoryNet', 'unit': 'usd', 'value': 5876000000}], 'cf': [{'label': 'Purchases of marketable securities', 'concept': 'PaymentsToAcquireAvailableForSaleSecuritiesDebt', 'unit': 'usd', 'value': 34913000000}, {'label': 'Proceeds from maturities of marketable securities', 'concept': 'ProceedsFromMaturitiesPrepaymentsAndCallsOfAvailableForSaleSecurities', 'unit': 'usd', 'value': 11309000000}, {'label': 'Net income', 'concept': 'NetIncomeLoss', 'unit': 'usd', 'value': 34630000000}, {'label': 'Net income', 'concept': 'NetIncomeLoss', 'unit': 'usd', 'value': 34630000000}, {'label': 'Net income', 'concept': 'NetIncomeLoss', 'unit': 'usd', 'value': 34630000000}, {'label': 'Net income', 'concept': 'NetIncomeLoss', 'unit': 'usd', 'value': 34630000000}, {'label': 'Share-based compensation expense', 'concept': 'ShareBasedCompensation', 'unit': 'usd', 'value': 2265000000}, {'label': 'Inventories', 'concept': 'IncreaseDecreaseInInventories', 'unit': 'usd', 'value': -681000000}, {'label': 'Proceeds from sales of marketable securities', 'concept': 'ProceedsFromSaleOfAvailableForSaleSecuritiesDebt', 'unit': 'usd', 'value': 10675000000}, {'label': 'Payments for acquisition of property, plant and equipment', 'concept': 'PaymentsToAcquirePropertyPlantAndEquipment', 'unit': 'usd', 'value': 2803000000}, {'label': 'Other', 'concept': 'ProceedsFromPaymentsForOtherFinancingActivities', 'unit': 'usd', 'value': -61000000}, {'label': 'Proceeds from/(Repayments of) commercial paper, net', 'concept': 'ProceedsFromRepaymentsOfCommercialPaper', 'unit': 'usd', 'value': -1000000000}, {'label': 'Proceeds from/(Repayments of) commercial paper, net', 'concept': 'ProceedsFromRepaymentsOfCommercialPaper', 'unit': 'usd', 'value': -1000000000}, {'label': 'Payments for taxes related to net share settlement of equity awards', 'concept': 'PaymentsRelatedToTaxWithholdingForShareBasedCompensation', 'unit': 'usd', 'value': 2888000000}, {'label': 'Vendor non-trade receivables', 'concept': 'IncreaseDecreaseInOtherReceivables', 'unit': 'usd', 'value': 9812000000}, {'label': 'Deferred income tax expense/(benefit)', 'concept': 'DeferredIncomeTaxExpenseBenefit', 'unit': 'usd', 'value': 682000000}, {'label': 'Other', 'concept': 'OtherNoncashIncomeExpense', 'unit': 'usd', 'value': -167000000}, {'label': 'Other current and non-current assets', 'concept': 'IncreaseDecreaseInOtherOperatingAssets', 'unit': 'usd', 'value': 4921000000}, {'label': 'Deferred revenue', 'concept': 'IncreaseDecreaseInContractWithCustomerLiability', 'unit': 'usd', 'value': 462000000}, {'label': 'Other', 'concept': 'PaymentsForProceedsFromOtherInvestingActivities', 'unit': 'usd', 'value': 374000000}, {'label': 'Depreciation and amortization', 'concept': 'DepreciationDepletionAndAmortization', 'unit': 'usd', 'value': 2697000000}, {'label': 'Repurchases of common stock', 'concept': 'PaymentsForRepurchaseOfCommonStock', 'unit': 'usd', 'value': 20478000000}, {'label': 'Increase/(Decrease) in cash, cash equivalents and restricted cash', 'concept': 'CashCashEquivalentsRestrictedCashAndRestrictedCashEquivalentsPeriodIncreaseDecreaseIncludingExchangeRateEffect', 'unit': 'usd', 'value': 2701000000}, {'label': 'Accounts receivable, net', 'concept': 'IncreaseDecreaseInAccountsReceivable', 'unit': 'usd', 'value': 3934000000}, {'label': 'Other current and non-current liabilities', 'concept': 'IncreaseDecreaseInOtherOperatingLiabilities', 'unit': 'usd', 'value': 4236000000}, {'label': 'Cash used in investing activities', 'concept': 'NetCashProvidedByUsedInInvestingActivities', 'unit': 'usd', 'value': -16106000000}, {'label': 'Cash paid for income taxes, net', 'concept': 'IncomeTaxesPaidNet', 'unit': 'usd', 'value': 5235000000}, {'label': 'Cash generated by operating activities', 'concept': 'NetCashProvidedByUsedInOperatingActivities', 'unit': 'usd', 'value': 46966000000}, {'label': 'Cash used in financing activities', 'concept': 'NetCashProvidedByUsedInFinancingActivities', 'unit': 'usd', 'value': -28159000000}, {'label': 'Cash paid for interest', 'concept': 'InterestPaidNet', 'unit': 'usd', 'value': 531000000}, {'label': 'Payments for dividends and dividend equivalents', 'concept': 'PaymentsOfDividends', 'unit': 'usd', 'value': 3732000000}, {'label': 'Accounts payable', 'concept': 'IncreaseDecreaseInAccountsPayable', 'unit': 'usd', 'value': 19813000000}, {'label': 'Repayments of term debt', 'concept': 'RepaymentsOfLongTermDebt', 'unit': 'usd', 'value': 'N/A'}], 'ic': [{'label': 'Research and development', 'concept': 'ResearchAndDevelopmentExpense', 'unit': 'usd', 'value': 6306000000}, {'label': 'Operating income', 'concept': 'OperatingIncomeLoss', 'unit': 'usd', 'value': 41488000000}, {'label': 'Operating income', 'concept': 'OperatingIncomeLoss', 'unit': 'usd', 'value': 41488000000}, {'label': 'Cost of sales', 'concept': 'CostOfGoodsAndServicesSold', 'unit': 'usd', 'value': 69702000000}, {'label': 'Basic (in shares)', 'concept': 'WeightedAverageNumberOfSharesOutstandingBasic', 'unit': 'shares', 'value': 16391724000}, {'label': 'Basic (in shares)', 'concept': 'WeightedAverageNumberOfSharesOutstandingBasic', 'unit': 'shares', 'value': 16391724000}, {'label': 'Net sales', 'concept': 'RevenueFromContractWithCustomerExcludingAssessedTax', 'unit': 'usd', 'value': 123945000000}, {'label': 'Net sales', 'concept': 'RevenueFromContractWithCustomerExcludingAssessedTax', 'unit': 'usd', 'value': 123945000000}, {'label': 'Income before provision for income taxes', 'concept': 'IncomeLossFromContinuingOperationsBeforeIncomeTaxesExtraordinaryItemsNoncontrollingInterest', 'unit': 'usd', 'value': 41241000000}, {'label': 'Basic (in dollars per share)', 'concept': 'EarningsPerShareBasic', 'unit': 'usd/shares', 'value': 2.11}, {'label': 'Basic (in dollars per share)', 'concept': 'EarningsPerShareBasic', 'unit': 'usd/shares', 'value': 2.11}, {'label': 'Diluted (in shares)', 'concept': 'WeightedAverageNumberOfDilutedSharesOutstanding', 'unit': 'shares', 'value': 16519291000}, {'label': 'Diluted (in shares)', 'concept': 'WeightedAverageNumberOfDilutedSharesOutstanding', 'unit': 'shares', 'value': 16519291000}, {'label': 'Other income/(expense), net', 'concept': 'NonoperatingIncomeExpense', 'unit': 'usd', 'value': -247000000}, {'label': 'Other income/(expense), net', 'concept': 'NonoperatingIncomeExpense', 'unit': 'usd', 'value': -247000000}, {'label': 'Diluted (in dollars per share)', 'concept': 'EarningsPerShareDiluted', 'unit': 'usd/shares', 'value': 2.1}, {'label': 'Diluted (in dollars per share)', 'concept': 'EarningsPerShareDiluted', 'unit': 'usd/shares', 'value': 2.1}, {'label': 'Gross margin', 'concept': 'GrossProfit', 'unit': 'usd', 'value': 54243000000}, {'label': 'Provision for income taxes', 'concept': 'IncomeTaxExpenseBenefit', 'unit': 'usd', 'value': 6611000000}, {'label': 'Selling, general and administrative', 'concept': 'SellingGeneralAndAdministrativeExpense', 'unit': 'usd', 'value': 6449000000}, {'label': 'Net income', 'concept': 'NetIncomeLoss', 'unit': 'usd', 'value': 34630000000}, {'label': 'Net income', 'concept': 'NetIncomeLoss', 'unit': 'usd', 'value': 34630000000}, {'label': 'Net income', 'concept': 'NetIncomeLoss', 'unit': 'usd', 'value': 34630000000}, {'label': 'Net income', 'concept': 'NetIncomeLoss', 'unit': 'usd', 'value': 34630000000}, {'label': 'Total operating expenses', 'concept': 'OperatingExpenses', 'unit': 'usd', 'value': 12755000000}, {'label': 'Adjustment for net (gains)/losses realized and included in net income', 'concept': 'aapl:OtherComprehensiveIncomeLossDerivativeInstrumentGainLossReclassificationAfterTax', 'unit': 'usd', 'value': -93000000}, {'label': 'Total change in unrealized gains/losses on derivative instruments', 'concept': 'aapl:OtherComprehensiveIncomeLossDerivativeInstrumentGainLossafterReclassificationandTax', 'unit': 'usd', 'value': 455000000}, {'label': 'Total comprehensive income', 'concept': 'ComprehensiveIncomeNetOfTax', 'unit': 'usd', 'value': 33540000000}, {'label': 'Change in fair value of derivative instruments', 'concept': 'aapl:OtherComprehensiveIncomeLossDerivativeInstrumentGainLossbeforeReclassificationafterTax', 'unit': 'usd', 'value': 362000000}, {'label': 'Total change in unrealized gains/losses on marketable debt securities', 'concept': 'OtherComprehensiveIncomeLossAvailableForSaleSecuritiesAdjustmentNetOfTax', 'unit': 'usd', 'value': -1185000000}, {'label': 'Total other comprehensive income/(loss)', 'concept': 'OtherComprehensiveIncomeLossNetOfTaxPortionAttributableToParent', 'unit': 'usd', 'value': -1090000000}, {'label': 'Adjustment for net (gains)/losses realized and included in net income', 'concept': 'OtherComprehensiveIncomeLossReclassificationAdjustmentFromAOCIForSaleOfSecuritiesNetOfTax', 'unit': 'usd', 'value': 9000000}, {'label': 'Change in foreign currency translation, net of tax', 'concept': 'OtherComprehensiveIncomeLossForeignCurrencyTransactionAndTranslationAdjustmentNetOfTax', 'unit': 'usd', 'value': -360000000}, {'label': 'Net income', 'concept': 'NetIncomeLoss', 'unit': 'usd', 'value': 34630000000}, {'label': 'Net income', 'concept': 'NetIncomeLoss', 'unit': 'usd', 'value': 34630000000}, {'label': 'Net income', 'concept': 'NetIncomeLoss', 'unit': 'usd', 'value': 34630000000}, {'label': 'Net income', 'concept': 'NetIncomeLoss', 'unit': 'usd', 'value': 34630000000}, {'label': 'Change in fair value of marketable debt securities', 'concept': 'OtherComprehensiveIncomeUnrealizedHoldingGainLossOnSecuritiesArisingDuringPeriodNetOfTax', 'unit': 'usd', 'value': -1176000000}]}}, {'accessNumber': '0000320193-21-000065', 'symbol': 'AAPL', 'cik': '320193', 'year': 2021, 'quarter': 3, 'form': '10-Q', 'startDate': '2020-09-27 00:00:00', 'endDate': '2021-06-26 00:00:00', 'filedDate': '2021-07-28 00:00:00', 'acceptedDate': '2021-07-27 18:03:42', 'report': {'bs': [{'label': 'Commercial paper', 'concept': 'CommercialPaper', 'unit': 'usd', 'value': 8000000000}, {'label': 'Inventories', 'concept': 'InventoryNet', 'unit': 'usd', 'value': 5178000000}, {'label': 'Property, plant and equipment, net', 'concept': 'PropertyPlantAndEquipmentNet', 'unit': 'usd', 'value': 38615000000}, {'label': 'Property, plant and equipment, net', 'concept': 'PropertyPlantAndEquipmentNet', 'unit': 'usd', 'value': 38615000000}, {'label': 'Cash and cash equivalents', 'concept': 'CashAndCashEquivalentsAtCarryingValue', 'unit': 'usd', 'value': 34050000000}, {'label': 'Cash and cash equivalents', 'concept': 'CashAndCashEquivalentsAtCarryingValue', 'unit': 'usd', 'value': 34050000000}, {'label': 'Cash and cash equivalents', 'concept': 'CashAndCashEquivalentsAtCarryingValue', 'unit': 'usd', 'value': 34050000000}, {'label': 'Commitments and contingencies', 'concept': 'CommitmentsAndContingencies', 'unit': 'usd', 'value': 'N/A'}, {'label': 'Retained earnings', 'concept': 'RetainedEarningsAccumulatedDeficit', 'unit': 'usd', 'value': 9233000000}, {'label': 'Common stock and additional paid-in capital, $0.00001 par value: 50,400,000 shares authorized; 16,556,942 and 16,976,763 shares issued and outstanding, respectively', 'concept': 'CommonStocksIncludingAdditionalPaidInCapital', 'unit': 'usd', 'value': 54989000000}, {'label': 'Term debt', 'concept': 'LongTermDebtCurrent', 'unit': 'usd', 'value': 8039000000}, {'label': 'Term debt', 'concept': 'LongTermDebtCurrent', 'unit': 'usd', 'value': 8039000000}, {'label': 'Accounts receivable, net', 'concept': 'AccountsReceivableNetCurrent', 'unit': 'usd', 'value': 17475000000}, {'label': 'Other current liabilities', 'concept': 'OtherLiabilitiesCurrent', 'unit': 'usd', 'value': 43625000000}, {'label': 'Accumulated other comprehensive income/(loss)', 'concept': 'AccumulatedOtherComprehensiveIncomeLossNetOfTax', 'unit': 'usd', 'value': 58000000}, {'label': 'Total liabilities', 'concept': 'Liabilities', 'unit': 'usd', 'value': 265560000000}, {'label': 'Marketable securities', 'concept': 'MarketableSecuritiesCurrent', 'unit': 'usd', 'value': 27646000000}, {'label': 'Marketable securities', 'concept': 'MarketableSecuritiesCurrent', 'unit': 'usd', 'value': 27646000000}, {'label': 'Total liabilities and shareholdersu2019 equity', 'concept': 'LiabilitiesAndStockholdersEquity', 'unit': 'usd', 'value': 329840000000}, {'label': 'Total current liabilities', 'concept': 'LiabilitiesCurrent', 'unit': 'usd', 'value': 107754000000}, {'label': 'Term debt', 'concept': 'LongTermDebtNoncurrent', 'unit': 'usd', 'value': 105752000000}, {'label': 'Term debt', 'concept': 'LongTermDebtNoncurrent', 'unit': 'usd', 'value': 105752000000}, {'label': 'Total non-current assets', 'concept': 'AssetsNoncurrent', 'unit': 'usd', 'value': 215417000000}, {'label': 'Marketable securities', 'concept': 'MarketableSecuritiesNoncurrent', 'unit': 'usd', 'value': 131948000000}, {'label': 'Marketable securities', 'concept': 'MarketableSecuritiesNoncurrent', 'unit': 'usd', 'value': 131948000000}, {'label': 'Accounts payable', 'concept': 'AccountsPayableCurrent', 'unit': 'usd', 'value': 40409000000}, {'label': 'Deferred revenue', 'concept': 'ContractWithCustomerLiabilityCurrent', 'unit': 'usd', 'value': 7681000000}, {'label': 'Total current assets', 'concept': 'AssetsCurrent', 'unit': 'usd', 'value': 114423000000}, {'label': 'Vendor non-trade receivables', 'concept': 'NontradeReceivablesCurrent', 'unit': 'usd', 'value': 16433000000}, {'label': 'Other non-current assets', 'concept': 'OtherAssetsNoncurrent', 'unit': 'usd', 'value': 44854000000}, {'label': 'Total assets', 'concept': 'Assets', 'unit': 'usd', 'value': 329840000000}, {'label': 'Total shareholdersu2019 equity', 'concept': 'StockholdersEquity', 'unit': 'usd', 'value': 64280000000}, {'label': 'Total shareholdersu2019 equity', 'concept': 'StockholdersEquity', 'unit': 'usd', 'value': 64280000000}, {'label': 'Total shareholdersu2019 equity', 'concept': 'StockholdersEquity', 'unit': 'usd', 'value': 64280000000}, {'label': 'Other current assets', 'concept': 'OtherAssetsCurrent', 'unit': 'usd', 'value': 13641000000}, {'label': 'Total non-current liabilities', 'concept': 'LiabilitiesNoncurrent', 'unit': 'usd', 'value': 157806000000}, {'label': 'Other non-current liabilities', 'concept': 'OtherLiabilitiesNoncurrent', 'unit': 'usd', 'value': 52054000000}, {'label': 'Other non-current liabilities', 'concept': 'OtherLiabilitiesNoncurrent', 'unit': 'usd', 'value': 52054000000}], 'cf': [{'label': 'Accounts payable', 'concept': 'IncreaseDecreaseInAccountsPayable', 'unit': 'usd', 'value': -1786000000}, {'label': 'Cash generated by operating activities', 'concept': 'NetCashProvidedByUsedInOperatingActivities', 'unit': 'usd', 'value': 83838000000}, {'label': 'Deferred revenue', 'concept': 'IncreaseDecreaseInContractWithCustomerLiability', 'unit': 'usd', 'value': 1738000000}, {'label': 'Share-based compensation expense', 'concept': 'ShareBasedCompensation', 'unit': 'usd', 'value': 5961000000}, {'label': 'Payments for acquisition of property, plant and equipment', 'concept': 'PaymentsToAcquirePropertyPlantAndEquipment', 'unit': 'usd', 'value': 7862000000}, {'label': 'Repurchases of common stock', 'concept': 'PaymentsForRepurchaseOfCommonStock', 'unit': 'usd', 'value': 66223000000}, {'label': 'Inventories', 'concept': 'IncreaseDecreaseInInventories', 'unit': 'usd', 'value': 1213000000}, {'label': 'Proceeds from repurchase agreements', 'concept': 'ProceedsFromOtherShortTermDebt', 'unit': 'usd', 'value': 'N/A'}, {'label': 'Payments for dividends and dividend equivalents', 'concept': 'PaymentsOfDividends', 'unit': 'usd', 'value': 10827000000}, {'label': 'Purchases of marketable securities', 'concept': 'PaymentsToAcquireAvailableForSaleSecuritiesDebt', 'unit': 'usd', 'value': 94052000000}, {'label': 'Other', 'concept': 'OtherNoncashIncomeExpense', 'unit': 'usd', 'value': 689000000}, {'label': 'Other', 'concept': 'ProceedsFromPaymentsForOtherFinancingActivities', 'unit': 'usd', 'value': -72000000}, {'label': 'Depreciation and amortization', 'concept': 'DepreciationDepletionAndAmortization', 'unit': 'usd', 'value': 8295000000}, {'label': 'Repayments of term debt', 'concept': 'RepaymentsOfLongTermDebt', 'unit': 'usd', 'value': 7500000000}, {'label': 'Cash used in financing activities', 'concept': 'NetCashProvidedByUsedInFinancingActivities', 'unit': 'usd', 'value': -72971000000}, {'label': 'Cash used in investing activities', 'concept': 'NetCashProvidedByUsedInInvestingActivities', 'unit': 'usd', 'value': -15380000000}, {'label': 'Proceeds from maturities of marketable securities', 'concept': 'ProceedsFromMaturitiesPrepaymentsAndCallsOfAvailableForSaleSecurities', 'unit': 'usd', 'value': 49880000000}, {'label': 'Proceeds from sales of marketable securities', 'concept': 'ProceedsFromSaleOfAvailableForSaleSecuritiesDebt', 'unit': 'usd', 'value': 36745000000}, {'label': 'Deferred income tax expense/(benefit)', 'concept': 'DeferredIncomeTaxExpenseBenefit', 'unit': 'usd', 'value': -737000000}, {'label': 'Decrease in cash, cash equivalents and restricted cash', 'concept': 'CashCashEquivalentsRestrictedCashAndRestrictedCashEquivalentsPeriodIncreaseDecreaseIncludingExchangeRateEffect', 'unit': 'usd', 'value': -4513000000}, {'label': 'Vendor non-trade receivables', 'concept': 'IncreaseDecreaseInOtherReceivables', 'unit': 'usd', 'value': -4892000000}, {'label': 'Proceeds from issuance of common stock', 'concept': 'ProceedsFromIssuanceOfCommonStock', 'unit': 'usd', 'value': 561000000}, {'label': 'Payments made in connection with business acquisitions, net', 'concept': 'PaymentsToAcquireBusinessesNetOfCashAcquired', 'unit': 'usd', 'value': 13000000}, {'label': 'Accounts receivable, net', 'concept': 'IncreaseDecreaseInAccountsReceivable', 'unit': 'usd', 'value': 1316000000}, {'label': 'Cash paid for income taxes, net', 'concept': 'IncomeTaxesPaidNet', 'unit': 'usd', 'value': 18536000000}, {'label': 'Other', 'concept': 'PaymentsForProceedsFromOtherInvestingActivities', 'unit': 'usd', 'value': 78000000}, {'label': 'Proceeds from issuance of term debt, net', 'concept': 'ProceedsFromIssuanceOfLongTermDebt', 'unit': 'usd', 'value': 13923000000}, {'label': 'Payments for taxes related to net share settlement of equity awards', 'concept': 'PaymentsRelatedToTaxWithholdingForShareBasedCompensation', 'unit': 'usd', 'value': 5855000000}, {'label': 'Net income', 'concept': 'NetIncomeLoss', 'unit': 'usd', 'value': 74129000000}, {'label': 'Net income', 'concept': 'NetIncomeLoss', 'unit': 'usd', 'value': 74129000000}, {'label': 'Net income', 'concept': 'NetIncomeLoss', 'unit': 'usd', 'value': 74129000000}, {'label': 'Net income', 'concept': 'NetIncomeLoss', 'unit': 'usd', 'value': 74129000000}, {'label': 'Proceeds from commercial paper, net', 'concept': 'ProceedsFromRepaymentsOfCommercialPaper', 'unit': 'usd', 'value': 3022000000}, {'label': 'Proceeds from commercial paper, net', 'concept': 'ProceedsFromRepaymentsOfCommercialPaper', 'unit': 'usd', 'value': 3022000000}, {'label': 'Other current and non-current assets', 'concept': 'IncreaseDecreaseInOtherOperatingAssets', 'unit': 'usd', 'value': 5899000000}, {'label': 'Cash paid for interest', 'concept': 'InterestPaidNet', 'unit': 'usd', 'value': 1870000000}, {'label': 'Other current and non-current liabilities', 'concept': 'IncreaseDecreaseInOtherOperatingLiabilities', 'unit': 'usd', 'value': 463000000}], 'ic': [{'label': 'Operating income', 'concept': 'OperatingIncomeLoss', 'unit': 'usd', 'value': 85163000000}, {'label': 'Operating income', 'concept': 'OperatingIncomeLoss', 'unit': 'usd', 'value': 85163000000}, {'label': 'Total operating expenses', 'concept': 'OperatingExpenses', 'unit': 'usd', 'value': 32499000000}, {'label': 'Basic (in dollars per share)', 'concept': 'EarningsPerShareBasic', 'unit': 'usd/shares', 'value': 4.42}, {'label': 'Basic (in dollars per share)', 'concept': 'EarningsPerShareBasic', 'unit': 'usd/shares', 'value': 4.42}, {'label': 'Net income', 'concept': 'NetIncomeLoss', 'unit': 'usd', 'value': 74129000000}, {'label': 'Net income', 'concept': 'NetIncomeLoss', 'unit': 'usd', 'value': 74129000000}, {'label': 'Net income', 'concept': 'NetIncomeLoss', 'unit': 'usd', 'value': 74129000000}, {'label': 'Net income', 'concept': 'NetIncomeLoss', 'unit': 'usd', 'value': 74129000000}, {'label': 'Gross margin', 'concept': 'GrossProfit', 'unit': 'usd', 'value': 117662000000}, {'label': 'Net sales', 'concept': 'RevenueFromContractWithCustomerExcludingAssessedTax', 'unit': 'usd', 'value': 282457000000}, {'label': 'Net sales', 'concept': 'RevenueFromContractWithCustomerExcludingAssessedTax', 'unit': 'usd', 'value': 282457000000}, {'label': 'Income before provision for income taxes', 'concept': 'IncomeLossFromContinuingOperationsBeforeIncomeTaxesExtraordinaryItemsNoncontrollingInterest', 'unit': 'usd', 'value': 85959000000}, {'label': 'Other income/(expense), net', 'concept': 'NonoperatingIncomeExpense', 'unit': 'usd', 'value': 796000000}, {'label': 'Other income/(expense), net', 'concept': 'NonoperatingIncomeExpense', 'unit': 'usd', 'value': 796000000}, {'label': 'Selling, general and administrative', 'concept': 'SellingGeneralAndAdministrativeExpense', 'unit': 'usd', 'value': 16357000000}, {'label': 'Diluted (in shares)', 'concept': 'WeightedAverageNumberOfDilutedSharesOutstanding', 'unit': 'shares', 'value': 16941527000}, {'label': 'Diluted (in shares)', 'concept': 'WeightedAverageNumberOfDilutedSharesOutstanding', 'unit': 'shares', 'value': 16941527000}, {'label': 'Cost of sales', 'concept': 'CostOfGoodsAndServicesSold', 'unit': 'usd', 'value': 164795000000}, {'label': 'Research and development', 'concept': 'ResearchAndDevelopmentExpense', 'unit': 'usd', 'value': 16142000000}, {'label': 'Basic (in shares)', 'concept': 'WeightedAverageNumberOfSharesOutstandingBasic', 'unit': 'shares', 'value': 16772656000}, {'label': 'Basic (in shares)', 'concept': 'WeightedAverageNumberOfSharesOutstandingBasic', 'unit': 'shares', 'value': 16772656000}, {'label': 'Provision for income taxes', 'concept': 'IncomeTaxExpenseBenefit', 'unit': 'usd', 'value': 11830000000}, {'label': 'Diluted (in dollars per share)', 'concept': 'EarningsPerShareDiluted', 'unit': 'usd/shares', 'value': 4.38}, {'label': 'Diluted (in dollars per share)', 'concept': 'EarningsPerShareDiluted', 'unit': 'usd/shares', 'value': 4.38}, {'label': 'Change in fair value of marketable debt securities', 'concept': 'OtherComprehensiveIncomeUnrealizedHoldingGainLossOnSecuritiesArisingDuringPeriodNetOfTax', 'unit': 'usd', 'value': -558000000}, {'label': 'Adjustment for net (gains)/losses realized and included in net income', 'concept': 'aapl:OtherComprehensiveIncomeLossDerivativeInstrumentGainLossReclassificationAfterTax', 'unit': 'usd', 'value': -593000000}, {'label': 'Total change in unrealized gains/losses on marketable debt securities', 'concept': 'OtherComprehensiveIncomeLossAvailableForSaleSecuritiesAdjustmentNetOfTax', 'unit': 'usd', 'value': -792000000}, {'label': 'Change in foreign currency translation, net of tax', 'concept': 'OtherComprehensiveIncomeLossForeignCurrencyTransactionAndTranslationAdjustmentNetOfTax', 'unit': 'usd', 'value': 659000000}, {'label': 'Total other comprehensive income/(loss)', 'concept': 'OtherComprehensiveIncomeLossNetOfTaxPortionAttributableToParent', 'unit': 'usd', 'value': 464000000}, {'label': 'Change in fair value of derivatives', 'concept': 'aapl:OtherComprehensiveIncomeLossDerivativeInstrumentGainLossbeforeReclassificationafterTax', 'unit': 'usd', 'value': 4000000}, {'label': 'Total comprehensive income', 'concept': 'ComprehensiveIncomeNetOfTax', 'unit': 'usd', 'value': 74593000000}, {'label': 'Net income', 'concept': 'NetIncomeLoss', 'unit': 'usd', 'value': 74129000000}, {'label': 'Net income', 'concept': 'NetIncomeLoss', 'unit': 'usd', 'value': 74129000000}, {'label': 'Net income', 'concept': 'NetIncomeLoss', 'unit': 'usd', 'value': 74129000000}, {'label': 'Net income', 'concept': 'NetIncomeLoss', 'unit': 'usd', 'value': 74129000000}, {'label': 'Adjustment for net (gains)/losses realized and included in net income', 'concept': 'OtherComprehensiveIncomeLossReclassificationAdjustmentFromAOCIForSaleOfSecuritiesNetOfTax', 'unit': 'usd', 'value': 234000000}, {'label': 'Total change in unrealized gains/losses on derivative instruments', 'concept': 'aapl:OtherComprehensiveIncomeLossDerivativeInstrumentGainLossafterReclassificationandTax', 'unit': 'usd', 'value': 597000000}]}}, {'accessNumber': '0000320193-21-000056', 'symbol': 'AAPL', 'cik': '320193', 'year': 2021, 'quarter': 2, 'form': '10-Q', 'startDate': '2020-09-27 00:00:00', 'endDate': '2021-03-27 00:00:00', 'filedDate': '2021-04-29 00:00:00', 'acceptedDate': '2021-04-28 18:02:54', 'report': {'bs': [{'label': 'Cash and cash equivalents', 'concept': 'CashAndCashEquivalentsAtCarryingValue', 'unit': 'usd', 'value': 38466000000}, {'label': 'Marketable securities', 'concept': 'MarketableSecuritiesCurrent', 'unit': 'usd', 'value': 31368000000}, {'label': 'Accounts receivable, net', 'concept': 'AccountsReceivableNetCurrent', 'unit': 'usd', 'value': 18503000000}, {'label': 'Inventories', 'concept': 'InventoryNet', 'unit': 'usd', 'value': 5219000000}, {'label': 'Vendor non-trade receivables', 'concept': 'NontradeReceivablesCurrent', 'unit': 'usd', 'value': 14533000000}, {'label': 'Other current assets', 'concept': 'OtherAssetsCurrent', 'unit': 'usd', 'value': 13376000000}, {'label': 'Current assets:', 'concept': 'AssetsCurrent', 'unit': 'usd', 'value': 121465000000}, {'label': 'Marketable securities', 'concept': 'MarketableSecuritiesNoncurrent', 'unit': 'usd', 'value': 134539000000}, {'label': 'Property, plant and equipment, net', 'concept': 'PropertyPlantAndEquipmentNet', 'unit': 'usd', 'value': 37815000000}, {'label': 'Other non-current assets', 'concept': 'OtherAssetsNoncurrent', 'unit': 'usd', 'value': 43339000000}, {'label': 'Total non-current assets', 'concept': 'AssetsNoncurrent', 'unit': 'usd', 'value': 215693000000}, {'label': 'ASSETS:', 'concept': 'Assets', 'unit': 'usd', 'value': 337158000000}, {'label': 'Accounts payable', 'concept': 'AccountsPayableCurrent', 'unit': 'usd', 'value': 40127000000}, {'label': 'Other current liabilities', 'concept': 'OtherLiabilitiesCurrent', 'unit': 'usd', 'value': 45660000000}, {'label': 'Deferred revenue', 'concept': 'ContractWithCustomerLiabilityCurrent', 'unit': 'usd', 'value': 7595000000}, {'label': 'Commercial paper', 'concept': 'CommercialPaper', 'unit': 'usd', 'value': 5000000000}, {'label': 'Term debt', 'concept': 'LongTermDebtCurrent', 'unit': 'usd', 'value': 8003000000}, {'label': 'Total current liabilities', 'concept': 'LiabilitiesCurrent', 'unit': 'usd', 'value': 106385000000}, {'label': 'Term debt', 'concept': 'LongTermDebtNoncurrent', 'unit': 'usd', 'value': 108642000000}, {'label': 'Other non-current liabilities', 'concept': 'OtherLiabilitiesNoncurrent', 'unit': 'usd', 'value': 52953000000}, {'label': 'Total non-current liabilities', 'concept': 'LiabilitiesNoncurrent', 'unit': 'usd', 'value': 161595000000}, {'label': 'LIABILITIES AND SHAREHOLDERSu2019 EQUITY:', 'concept': 'Liabilities', 'unit': 'usd', 'value': 267980000000}, {'label': 'Commitments and Contingencies', 'concept': 'CommitmentsAndContingencies', 'unit': 'usd', 'value': 'N/A'}, {'label': 'Common stock and additional paid-in capital, $0.00001 par value: 50,400,000 shares authorized; 16,686,305 and 16,976,763 shares issued and outstanding, respectively', 'concept': 'CommonStocksIncludingAdditionalPaidInCapital', 'unit': 'usd', 'value': 54203000000}, {'label': 'Retained earnings', 'concept': 'RetainedEarningsAccumulatedDeficit', 'unit': 'usd', 'value': 15261000000}, {'label': 'Accumulated other comprehensive income/(loss)', 'concept': 'AccumulatedOtherComprehensiveIncomeLossNetOfTax', 'unit': 'usd', 'value': -286000000}, {'label': 'Common stock split ratio', 'concept': 'StockholdersEquity', 'unit': 'usd', 'value': 69178000000}, {'label': 'LIABILITIES AND SHAREHOLDERSu2019 EQUITY:', 'concept': 'LiabilitiesAndStockholdersEquity', 'unit': 'usd', 'value': 337158000000}], 'cf': [{'label': 'Numerator:', 'concept': 'NetIncomeLoss', 'unit': 'usd', 'value': 52385000000}, {'label': 'Depreciation and amortization', 'concept': 'DepreciationDepletionAndAmortization', 'unit': 'usd', 'value': 5463000000}, {'label': 'RSUs granted (in shares)', 'concept': 'ShareBasedCompensation', 'unit': 'usd', 'value': 4001000000}, {'label': 'Deferred income tax benefit', 'concept': 'DeferredIncomeTaxExpenseBenefit', 'unit': 'usd', 'value': -207000000}, {'label': 'Other', 'concept': 'OtherNoncashIncomeExpense', 'unit': 'usd', 'value': 474000000}, {'label': 'Accounts receivable, net', 'concept': 'IncreaseDecreaseInAccountsReceivable', 'unit': 'usd', 'value': 2347000000}, {'label': 'Inventories', 'concept': 'IncreaseDecreaseInInventories', 'unit': 'usd', 'value': 1226000000}, {'label': 'Vendor non-trade receivables', 'concept': 'IncreaseDecreaseInOtherReceivables', 'unit': 'usd', 'value': -6792000000}, {'label': 'Other current and non-current assets', 'concept': 'IncreaseDecreaseInOtherOperatingAssets', 'unit': 'usd', 'value': 4333000000}, {'label': 'Accounts payable', 'concept': 'IncreaseDecreaseInAccountsPayable', 'unit': 'usd', 'value': -1997000000}, {'label': 'Deferred revenue', 'concept': 'IncreaseDecreaseInContractWithCustomerLiability', 'unit': 'usd', 'value': 1642000000}, {'label': 'Other current and non-current liabilities', 'concept': 'IncreaseDecreaseInOtherOperatingLiabilities', 'unit': 'usd', 'value': 3045000000}, {'label': 'Cash generated by operating activities', 'concept': 'NetCashProvidedByUsedInOperatingActivities', 'unit': 'usd', 'value': 62744000000}, {'label': 'Purchases of marketable securities', 'concept': 'PaymentsToAcquireAvailableForSaleSecuritiesDebt', 'unit': 'usd', 'value': 74424000000}, {'label': 'Proceeds from maturities of marketable securities', 'concept': 'ProceedsFromMaturitiesPrepaymentsAndCallsOfAvailableForSaleSecurities', 'unit': 'usd', 'value': 39605000000}, {'label': 'Proceeds from sales of marketable securities', 'concept': 'ProceedsFromSaleOfAvailableForSaleSecuritiesDebt', 'unit': 'usd', 'value': 21645000000}, {'label': 'Payments for acquisition of property, plant and equipment', 'concept': 'PaymentsToAcquirePropertyPlantAndEquipment', 'unit': 'usd', 'value': 5769000000}, {'label': 'Payments made in connection with business acquisitions, net', 'concept': 'PaymentsToAcquireBusinessesNetOfCashAcquired', 'unit': 'usd', 'value': 9000000}, {'label': 'Other', 'concept': 'PaymentsForProceedsFromOtherInvestingActivities', 'unit': 'usd', 'value': 'N/A'}, {'label': 'Investing activities:', 'concept': 'NetCashProvidedByUsedInInvestingActivities', 'unit': 'usd', 'value': -18952000000}, {'label': 'Proceeds from issuance of common stock', 'concept': 'ProceedsFromIssuanceOfCommonStock', 'unit': 'usd', 'value': 561000000}, {'label': 'Payments for taxes related to net share settlement of equity awards', 'concept': 'PaymentsRelatedToTaxWithholdingForShareBasedCompensation', 'unit': 'usd', 'value': 3160000000}, {'label': 'Payments for dividends and dividend equivalents', 'concept': 'PaymentsOfDividends', 'unit': 'usd', 'value': 7060000000}, {'label': 'Repurchases of common stock', 'concept': 'PaymentsForRepurchaseOfCommonStock', 'unit': 'usd', 'value': 43323000000}, {'label': 'Proceeds from issuance of term debt, net', 'concept': 'ProceedsFromIssuanceOfLongTermDebt', 'unit': 'usd', 'value': 13923000000}, {'label': 'Repayments of term debt', 'concept': 'RepaymentsOfLongTermDebt', 'unit': 'usd', 'value': 4500000000}, {'label': 'Proceeds from commercial paper, net', 'concept': 'ProceedsFromRepaymentsOfCommercialPaper', 'unit': 'usd', 'value': 22000000}, {'label': 'Proceeds from repurchase agreement', 'concept': 'ProceedsFromOtherShortTermDebt', 'unit': 'usd', 'value': 'N/A'}, {'label': 'Other', 'concept': 'ProceedsFromPaymentsForOtherFinancingActivities', 'unit': 'usd', 'value': -38000000}, {'label': 'Cash used in financing activities', 'concept': 'NetCashProvidedByUsedInFinancingActivities', 'unit': 'usd', 'value': -43575000000}, {'label': 'Increase/(Decrease) in cash, cash equivalents and restricted cash', 'concept': 'CashCashEquivalentsRestrictedCashAndRestrictedCashEquivalentsPeriodIncreaseDecreaseIncludingExchangeRateEffect', 'unit': 'usd', 'value': 217000000}, {'label': 'Cash paid for income taxes, net', 'concept': 'IncomeTaxesPaidNet', 'unit': 'usd', 'value': 10276000000}, {'label': 'Cash paid for interest', 'concept': 'InterestPaidNet', 'unit': 'usd', 'value': 1327000000}], 'ic': [{'label': 'Net sales', 'concept': 'RevenueFromContractWithCustomerExcludingAssessedTax', 'unit': 'usd', 'value': 201023000000}, {'label': 'Cost of sales', 'concept': 'CostOfGoodsAndServicesSold', 'unit': 'usd', 'value': 118616000000}, {'label': 'Gross margin', 'concept': 'GrossProfit', 'unit': 'usd', 'value': 82407000000}, {'label': 'Research and development', 'concept': 'ResearchAndDevelopmentExpense', 'unit': 'usd', 'value': 10425000000}, {'label': 'Selling, general and administrative', 'concept': 'SellingGeneralAndAdministrativeExpense', 'unit': 'usd', 'value': 10945000000}, {'label': 'Total operating expenses', 'concept': 'OperatingExpenses', 'unit': 'usd', 'value': 21370000000}, {'label': 'Operating income', 'concept': 'OperatingIncomeLoss', 'unit': 'usd', 'value': 61037000000}, {'label': 'OI&E', 'concept': 'NonoperatingIncomeExpense', 'unit': 'usd', 'value': 553000000}, {'label': 'Income before provision for income taxes', 'concept': 'IncomeLossFromContinuingOperationsBeforeIncomeTaxesExtraordinaryItemsNoncontrollingInterest', 'unit': 'usd', 'value': 61590000000}, {'label': 'Provision for income taxes', 'concept': 'IncomeTaxExpenseBenefit', 'unit': 'usd', 'value': 9205000000}, {'label': 'Numerator:', 'concept': 'NetIncomeLoss', 'unit': 'usd', 'value': 52385000000}, {'label': 'Basic (in dollars per share)', 'concept': 'EarningsPerShareBasic', 'unit': 'usd/shares', 'value': 3.11}, {'label': 'Diluted (in dollars per share)', 'concept': 'EarningsPerShareDiluted', 'unit': 'usd/shares', 'value': 3.08}, {'label': 'Basic (in shares)', 'concept': 'WeightedAverageNumberOfSharesOutstandingBasic', 'unit': 'shares', 'value': 16844298000}, {'label': 'Diluted (in shares)', 'concept': 'WeightedAverageNumberOfDilutedSharesOutstanding', 'unit': 'shares', 'value': 17021423000}, {'label': 'Change in foreign currency translation, net of tax', 'concept': 'OtherComprehensiveIncomeLossForeignCurrencyTransactionAndTranslationAdjustmentNetOfTax', 'unit': 'usd', 'value': 471000000}, {'label': 'Change in fair value of derivatives', 'concept': 'aapl:OtherComprehensiveIncomeLossDerivativeInstrumentGainLossbeforeReclassificationafterTax', 'unit': 'usd', 'value': 28000000}, {'label': 'Adjustment for net (gains)/losses realized and included in net income', 'concept': 'aapl:OtherComprehensiveIncomeLossDerivativeInstrumentGainLossReclassificationAfterTax', 'unit': 'usd', 'value': -576000000}, {'label': 'Total change in unrealized gains/losses on derivative instruments', 'concept': 'aapl:OtherComprehensiveIncomeLossDerivativeInstrumentGainLossafterReclassificationandTax', 'unit': 'usd', 'value': 604000000}, {'label': 'Change in fair value of marketable debt securities', 'concept': 'OtherComprehensiveIncomeUnrealizedHoldingGainLossOnSecuritiesArisingDuringPeriodNetOfTax', 'unit': 'usd', 'value': -775000000}, {'label': 'Adjustment for net (gains)/losses realized and included in net income', 'concept': 'OtherComprehensiveIncomeLossReclassificationAdjustmentFromAOCIForSaleOfSecuritiesNetOfTax', 'unit': 'usd', 'value': 180000000}, {'label': 'Total change in unrealized gains/losses on marketable debt securities', 'concept': 'OtherComprehensiveIncomeLossAvailableForSaleSecuritiesAdjustmentNetOfTax', 'unit': 'usd', 'value': -955000000}, {'label': 'Total other comprehensive income/(loss)', 'concept': 'OtherComprehensiveIncomeLossNetOfTaxPortionAttributableToParent', 'unit': 'usd', 'value': 120000000}, {'label': 'Other comprehensive income/(loss):', 'concept': 'ComprehensiveIncomeNetOfTax', 'unit': 'usd', 'value': 52505000000}]}}, {'accessNumber': '0000320193-21-000010', 'symbol': 'AAPL', 'cik': '320193', 'year': 2021, 'quarter': 1, 'form': '10-Q', 'startDate': '2020-09-27 00:00:00', 'endDate': '2020-12-26 00:00:00', 'filedDate': '2021-01-28 00:00:00', 'acceptedDate': '2021-01-27 18:03:06', 'report': {'bs': [{'unit': 'usd', 'label': 'Cash and cash equivalents', 'value': 36010000000, 'concept': 'CashAndCashEquivalentsAtCarryingValue'}, {'unit': 'usd', 'label': 'Marketable securities', 'value': 40816000000, 'concept': 'MarketableSecuritiesCurrent'}, {'unit': 'usd', 'label': 'Accounts receivable, net', 'value': 27101000000, 'concept': 'AccountsReceivableNetCurrent'}, {'unit': 'usd', 'label': 'Inventories', 'value': 4973000000, 'concept': 'InventoryNet'}, {'unit': 'usd', 'label': 'Vendor non-trade receivables', 'value': 31519000000, 'concept': 'NontradeReceivablesCurrent'}, {'unit': 'usd', 'label': 'Other current assets', 'value': 13687000000, 'concept': 'OtherAssetsCurrent'}, {'unit': 'usd', 'label': 'Current assets:', 'value': 154106000000, 'concept': 'AssetsCurrent'}, {'unit': 'usd', 'label': 'Marketable securities', 'value': 118745000000, 'concept': 'MarketableSecuritiesNoncurrent'}, {'unit': 'usd', 'label': 'Property, plant and equipment, net', 'value': 37933000000, 'concept': 'PropertyPlantAndEquipmentNet'}, {'unit': 'usd', 'label': 'Other non-current assets', 'value': 43270000000, 'concept': 'OtherAssetsNoncurrent'}, {'unit': 'usd', 'label': 'Total non-current assets', 'value': 199948000000, 'concept': 'AssetsNoncurrent'}, {'unit': 'usd', 'label': 'ASSETS:', 'value': 354054000000, 'concept': 'Assets'}, {'unit': 'usd', 'label': 'Accounts payable', 'value': 63846000000, 'concept': 'AccountsPayableCurrent'}, {'unit': 'usd', 'label': 'Other current liabilities', 'value': 48504000000, 'concept': 'OtherLiabilitiesCurrent'}, {'unit': 'usd', 'label': 'Deferred revenue', 'value': 7395000000, 'concept': 'ContractWithCustomerLiabilityCurrent'}, {'unit': 'usd', 'label': 'Commercial paper', 'value': 5000000000, 'concept': 'CommercialPaper'}, {'unit': 'usd', 'label': 'Term debt', 'value': 7762000000, 'concept': 'LongTermDebtCurrent'}, {'unit': 'usd', 'label': 'Total current liabilities', 'value': 132507000000, 'concept': 'LiabilitiesCurrent'}, {'unit': 'usd', 'label': 'Term debt', 'value': 99281000000, 'concept': 'LongTermDebtNoncurrent'}, {'unit': 'usd', 'label': 'Other non-current liabilities', 'value': 56042000000, 'concept': 'OtherLiabilitiesNoncurrent'}, {'unit': 'usd', 'label': 'Total non-current liabilities', 'value': 155323000000, 'concept': 'LiabilitiesNoncurrent'}, {'unit': 'usd', 'label': 'LIABILITIES AND SHAREHOLDERSu2019 EQUITY:', 'value': 287830000000, 'concept': 'Liabilities'}, {'unit': 'usd', 'label': 'Commitments and Contingencies', 'value': 'N/A', 'concept': 'CommitmentsAndContingencies'}, {'unit': 'usd', 'label': 'Common stock and additional paid-in capital, $0.00001 par value: 50,400,000 shares authorized; 16,823,263 and 16,976,763 shares issued and outstanding, respectively', 'value': 51744000000, 'concept': 'CommonStocksIncludingAdditionalPaidInCapital'}, {'unit': 'usd', 'label': 'Retained earnings', 'value': 14301000000, 'concept': 'RetainedEarningsAccumulatedDeficit'}, {'unit': 'usd', 'label': 'Accumulated other comprehensive income/(loss)', 'value': 179000000, 'concept': 'AccumulatedOtherComprehensiveIncomeLossNetOfTax'}, {'unit': 'usd', 'label': 'Common stock split ratio', 'value': 66224000000, 'concept': 'StockholdersEquity'}, {'unit': 'usd', 'label': 'LIABILITIES AND SHAREHOLDERSu2019 EQUITY:', 'value': 354054000000, 'concept': 'LiabilitiesAndStockholdersEquity'}], 'cf': [{'unit': 'usd', 'label': 'Numerator:', 'value': 28755000000, 'concept': 'NetIncomeLoss'}, {'unit': 'usd', 'label': 'Depreciation and amortization', 'value': 2666000000, 'concept': 'DepreciationDepletionAndAmortization'}, {'unit': 'usd', 'label': 'RSUs granted (in shares)', 'value': 2020000000, 'concept': 'ShareBasedCompensation'}, {'unit': 'usd', 'label': 'Deferred income tax benefit', 'value': -58000000, 'concept': 'DeferredIncomeTaxExpenseBenefit'}, {'unit': 'usd', 'label': 'Other', 'value': -25000000, 'concept': 'OtherNoncashIncomeExpense'}, {'unit': 'usd', 'label': 'Accounts receivable, net', 'value': 10945000000, 'concept': 'IncreaseDecreaseInAccountsReceivable'}, {'unit': 'usd', 'label': 'Inventories', 'value': 950000000, 'concept': 'IncreaseDecreaseInInventories'}, {'unit': 'usd', 'label': 'Vendor non-trade receivables', 'value': 10194000000, 'concept': 'IncreaseDecreaseInOtherReceivables'}, {'unit': 'usd', 'label': 'Other current and non-current assets', 'value': 3526000000, 'concept': 'IncreaseDecreaseInOtherOperatingAssets'}, {'unit': 'usd', 'label': 'Accounts payable', 'value': 21670000000, 'concept': 'IncreaseDecreaseInAccountsPayable'}, {'unit': 'usd', 'label': 'Deferred revenue', 'value': 1341000000, 'concept': 'IncreaseDecreaseInContractWithCustomerLiability'}, {'unit': 'usd', 'label': 'Other current and non-current liabilities', 'value': 7959000000, 'concept': 'IncreaseDecreaseInOtherOperatingLiabilities'}, {'unit': 'usd', 'label': 'Cash generated by operating activities', 'value': 38763000000, 'concept': 'NetCashProvidedByUsedInOperatingActivities'}, {'unit': 'usd', 'label': 'Purchases of marketable securities', 'value': 39800000000, 'concept': 'PaymentsToAcquireAvailableForSaleSecuritiesDebt'}, {'unit': 'usd', 'label': 'Proceeds from maturities of marketable securities', 'value': 25177000000, 'concept': 'ProceedsFromMaturitiesPrepaymentsAndCallsOfAvailableForSaleSecurities'}, {'unit': 'usd', 'label': 'Proceeds from sales of marketable securities', 'value': 9344000000, 'concept': 'ProceedsFromSaleOfAvailableForSaleSecuritiesDebt'}, {'unit': 'usd', 'label': 'Payments for acquisition of property, plant and equipment', 'value': 3500000000, 'concept': 'PaymentsToAcquirePropertyPlantAndEquipment'}, {'unit': 'usd', 'label': 'Payments made in connection with business acquisitions, net', 'value': 9000000, 'concept': 'PaymentsToAcquireBusinessesNetOfCashAcquired'}, {'unit': 'usd', 'label': 'Other', 'value': -204000000, 'concept': 'PaymentsForProceedsFromOtherInvestingActivities'}, {'unit': 'usd', 'label': 'Investing activities:', 'value': -8584000000, 'concept': 'NetCashProvidedByUsedInInvestingActivities'}, {'unit': 'usd', 'label': 'Proceeds from issuance of common stock', 'value': 'N/A', 'concept': 'ProceedsFromIssuanceOfCommonStock'}, {'unit': 'usd', 'label': 'Payments for taxes related to net share settlement of equity awards', 'value': 2861000000, 'concept': 'PaymentsRelatedToTaxWithholdingForShareBasedCompensation'}, {'unit': 'usd', 'label': 'Payments for dividends and dividend equivalents', 'value': 3613000000, 'concept': 'PaymentsOfDividends'}, {'unit': 'usd', 'label': 'Repurchases of common stock', 'value': 24775000000, 'concept': 'PaymentsForRepurchaseOfCommonStock'}, {'unit': 'usd', 'label': 'Proceeds from issuance of term debt, net', 'value': 'N/A', 'concept': 'ProceedsFromIssuanceOfLongTermDebt'}, {'unit': 'usd', 'label': 'Repayments of term debt', 'value': 1000000000, 'concept': 'RepaymentsOfLongTermDebt'}, {'unit': 'usd', 'label': 'Proceeds from/(Repayments of) commercial paper, net', 'value': 22000000, 'concept': 'ProceedsFromRepaymentsOfCommercialPaper'}, {'unit': 'usd', 'label': 'Other', 'value': -22000000, 'concept': 'ProceedsFromPaymentsForOtherFinancingActivities'}, {'unit': 'usd', 'label': 'Cash used in financing activities', 'value': -32249000000, 'concept': 'NetCashProvidedByUsedInFinancingActivities'}, {'unit': 'usd', 'label': 'Decrease in cash, cash equivalents and restricted cash', 'value': -2070000000, 'concept': 'CashCashEquivalentsRestrictedCashAndRestrictedCashEquivalentsPeriodIncreaseDecreaseIncludingExchangeRateEffect'}, {'unit': 'usd', 'label': 'Cash paid for income taxes, net', 'value': 1787000000, 'concept': 'IncomeTaxesPaidNet'}, {'unit': 'usd', 'label': 'Cash paid for interest', 'value': 619000000, 'concept': 'InterestPaidNet'}], 'ic': [{'unit': 'usd', 'label': 'Net sales', 'value': 111439000000, 'concept': 'RevenueFromContractWithCustomerExcludingAssessedTax'}, {'unit': 'usd', 'label': 'Cost of sales', 'value': 67111000000, 'concept': 'CostOfGoodsAndServicesSold'}, {'unit': 'usd', 'label': 'Gross margin', 'value': 44328000000, 'concept': 'GrossProfit'}, {'unit': 'usd', 'label': 'Research and development', 'value': 5163000000, 'concept': 'ResearchAndDevelopmentExpense'}, {'unit': 'usd', 'label': 'Selling, general and administrative', 'value': 5631000000, 'concept': 'SellingGeneralAndAdministrativeExpense'}, {'unit': 'usd', 'label': 'Total operating expenses', 'value': 10794000000, 'concept': 'OperatingExpenses'}, {'unit': 'usd', 'label': 'Operating income', 'value': 33534000000, 'concept': 'OperatingIncomeLoss'}, {'unit': 'usd', 'label': 'OI&E', 'value': 45000000, 'concept': 'NonoperatingIncomeExpense'}, {'unit': 'usd', 'label': 'Income before provision for income taxes', 'value': 33579000000, 'concept': 'IncomeLossFromContinuingOperationsBeforeIncomeTaxesExtraordinaryItemsNoncontrollingInterest'}, {'unit': 'usd', 'label': 'Provision for income taxes', 'value': 4824000000, 'concept': 'IncomeTaxExpenseBenefit'}, {'unit': 'usd', 'label': 'Numerator:', 'value': 28755000000, 'concept': 'NetIncomeLoss'}, {'unit': 'usd/shares', 'label': 'Basic (in dollars per share)', 'value': 1.7, 'concept': 'EarningsPerShareBasic'}, {'unit': 'usd/shares', 'label': 'Diluted (in dollars per share)', 'value': 1.68, 'concept': 'EarningsPerShareDiluted'}, {'unit': 'shares', 'label': 'Basic (in shares)', 'value': 16935119000, 'concept': 'WeightedAverageNumberOfSharesOutstandingBasic'}, {'unit': 'shares', 'label': 'Diluted (in shares)', 'value': 17113688000, 'concept': 'WeightedAverageNumberOfDilutedSharesOutstanding'}, {'unit': 'usd', 'label': 'Change in foreign currency translation, net of tax', 'value': 549000000, 'concept': 'OtherComprehensiveIncomeLossForeignCurrencyTransactionAndTranslationAdjustmentNetOfTax'}, {'unit': 'usd', 'label': 'Change in fair value of derivatives', 'value': -304000000, 'concept': 'aapl:OtherComprehensiveIncomeLossDerivativeInstrumentGainLossbeforeReclassificationafterTax'}, {'unit': 'usd', 'label': 'Adjustment for net (gains)/losses realized and included in net income', 'value': 183000000, 'concept': 'aapl:OtherComprehensiveIncomeLossDerivativeInstrumentGainLossReclassificationAfterTax'}, {'unit': 'usd', 'label': 'Total change in unrealized gains/losses on derivative instruments', 'value': -487000000, 'concept': 'aapl:OtherComprehensiveIncomeLossDerivativeInstrumentGainLossafterReclassificationandTax'}, {'unit': 'usd', 'label': 'Change in fair value of marketable debt securities', 'value': 628000000, 'concept': 'OtherComprehensiveIncomeUnrealizedHoldingGainLossOnSecuritiesArisingDuringPeriodNetOfTax'}, {'unit': 'usd', 'label': 'Adjustment for net (gains)/losses realized and included in net income', 'value': 105000000, 'concept': 'OtherComprehensiveIncomeLossReclassificationAdjustmentFromAOCIForSaleOfSecuritiesNetOfTax'}, {'unit': 'usd', 'label': 'Total change in unrealized gains/losses on marketable debt securities', 'value': 523000000, 'concept': 'OtherComprehensiveIncomeLossAvailableForSaleSecuritiesAdjustmentNetOfTax'}, {'unit': 'usd', 'label': 'Total other comprehensive income/(loss)', 'value': 585000000, 'concept': 'OtherComprehensiveIncomeLossNetOfTaxPortionAttributableToParent'}, {'unit': 'usd', 'label': 'Other comprehensive income/(loss):', 'value': 29340000000, 'concept': 'ComprehensiveIncomeNetOfTax'}]}}, {'accessNumber': '0000320193-20-000062', 'symbol': 'AAPL', 'cik': '320193', 'year': 2020, 'quarter': 3, 'form': '10-Q', 'startDate': '2019-09-29 00:00:00', 'endDate': '2020-06-27 00:00:00', 'filedDate': '2020-07-31 00:00:00', 'acceptedDate': '2020-07-30 19:29:09', 'report': {'bs': [{'unit': 'usd', 'label': 'Cash and cash equivalents', 'value': 33383000000, 'concept': 'CashAndCashEquivalentsAtCarryingValue'}, {'unit': 'usd', 'label': 'Marketable securities', 'value': 59642000000, 'concept': 'MarketableSecuritiesCurrent'}, {'unit': 'usd', 'label': 'Accounts receivable, net', 'value': 17882000000, 'concept': 'AccountsReceivableNetCurrent'}, {'unit': 'usd', 'label': 'Inventories', 'value': 3978000000, 'concept': 'InventoryNet'}, {'unit': 'usd', 'label': 'Vendor non-trade receivables', 'value': 14193000000, 'concept': 'NontradeReceivablesCurrent'}, {'unit': 'usd', 'label': 'Other current assets', 'value': 10987000000, 'concept': 'OtherAssetsCurrent'}, {'unit': 'usd', 'label': 'Total current assets', 'value': 140065000000, 'concept': 'AssetsCurrent'}, {'unit': 'usd', 'label': 'Marketable securities', 'value': 100592000000, 'concept': 'MarketableSecuritiesNoncurrent'}, {'unit': 'usd', 'label': 'Property, plant and equipment, net', 'value': 35687000000, 'concept': 'PropertyPlantAndEquipmentNet'}, {'unit': 'usd', 'label': 'Other non-current assets', 'value': 41000000000, 'concept': 'OtherAssetsNoncurrent'}, {'unit': 'usd', 'label': 'Non-current assets:', 'value': 177279000000, 'concept': 'AssetsNoncurrent'}, {'unit': 'usd', 'label': 'Total assets', 'value': 317344000000, 'concept': 'Assets'}, {'unit': 'usd', 'label': 'Accounts payable', 'value': 35325000000, 'concept': 'AccountsPayableCurrent'}, {'unit': 'usd', 'label': 'Other current liabilities', 'value': 35005000000, 'concept': 'OtherLiabilitiesCurrent'}, {'unit': 'usd', 'label': 'Deferred revenue', 'value': 6313000000, 'concept': 'ContractWithCustomerLiabilityCurrent'}, {'unit': 'usd', 'label': 'Commercial paper and repurchase agreements', 'value': 11166000000, 'concept': 'OtherShortTermBorrowings'}, {'unit': 'usd', 'label': 'Term debt', 'value': 7509000000, 'concept': 'LongTermDebtCurrent'}, {'unit': 'usd', 'label': 'Total current liabilities', 'value': 95318000000, 'concept': 'LiabilitiesCurrent'}, {'unit': 'usd', 'label': 'Term debt', 'value': 94048000000, 'concept': 'LongTermDebtNoncurrent'}, {'unit': 'usd', 'label': 'Other non-current liabilities', 'value': 55696000000, 'concept': 'OtherLiabilitiesNoncurrent'}, {'unit': 'usd', 'label': 'Total non-current liabilities', 'value': 149744000000, 'concept': 'LiabilitiesNoncurrent'}, {'unit': 'usd', 'label': 'Total current liabilities', 'value': 245062000000, 'concept': 'Liabilities'}, {'unit': 'usd', 'label': 'Commitments and contingencies', 'value': 'N/A', 'concept': 'CommitmentsAndContingencies'}, {'unit': 'usd', 'label': 'Common stock and additional paid-in capital, $0.00001 par value: 12,600,000 shares authorized; 4,283,939 and 4,443,236 shares issued and outstanding, respectively', 'value': 48696000000, 'concept': 'CommonStocksIncludingAdditionalPaidInCapital'}, {'unit': 'usd', 'label': 'Retained earnings', 'value': 24136000000, 'concept': 'RetainedEarningsAccumulatedDeficit'}, {'unit': 'usd', 'label': 'Accumulated other comprehensive income/(loss)', 'value': -550000000, 'concept': 'AccumulatedOtherComprehensiveIncomeLossNetOfTax'}, {'unit': 'usd', 'label': \"Shareholders' Equity\", 'value': 72282000000, 'concept': 'StockholdersEquity'}, {'unit': 'usd', 'label': 'Total liabilities and shareholdersu2019 equity', 'value': 317344000000, 'concept': 'LiabilitiesAndStockholdersEquity'}], 'cf': [{'unit': 'usd', 'label': 'Numerator:', 'value': 44738000000, 'concept': 'NetIncomeLoss'}, {'unit': 'usd', 'label': 'Depreciation and amortization', 'value': 8354000000, 'concept': 'DepreciationDepletionAndAmortization'}, {'unit': 'usd', 'label': 'RSUs granted (in shares)', 'value': 5105000000, 'concept': 'ShareBasedCompensation'}, {'unit': 'usd', 'label': 'Deferred income tax expense/(benefit)', 'value': 182000000, 'concept': 'DeferredIncomeTaxExpenseBenefit'}, {'unit': 'usd', 'label': 'Other', 'value': 94000000, 'concept': 'OtherNoncashIncomeExpense'}, {'unit': 'usd', 'label': 'Accounts receivable, net', 'value': -5149000000, 'concept': 'IncreaseDecreaseInAccountsReceivable'}, {'unit': 'usd', 'label': 'Inventories', 'value': -10000000, 'concept': 'IncreaseDecreaseInInventories'}, {'unit': 'usd', 'label': 'Vendor non-trade receivables', 'value': -8685000000, 'concept': 'IncreaseDecreaseInOtherReceivables'}, {'unit': 'usd', 'label': 'Other current and non-current assets', 'value': 6760000000, 'concept': 'IncreaseDecreaseInOtherOperatingAssets'}, {'unit': 'usd', 'label': 'Accounts payable', 'value': -10787000000, 'concept': 'IncreaseDecreaseInAccountsPayable'}, {'unit': 'usd', 'label': 'Deferred revenue', 'value': 1649000000, 'concept': 'IncreaseDecreaseInContractWithCustomerLiability'}, {'unit': 'usd', 'label': 'Other current and non-current liabilities', 'value': 3867000000, 'concept': 'IncreaseDecreaseInOtherOperatingLiabilities'}, {'unit': 'usd', 'label': 'Operating activities:', 'value': 60098000000, 'concept': 'NetCashProvidedByUsedInOperatingActivities'}, {'unit': 'usd', 'label': 'Purchases of marketable securities', 'value': 96606000000, 'concept': 'PaymentsToAcquireAvailableForSaleSecuritiesDebt'}, {'unit': 'usd', 'label': 'Proceeds from maturities of marketable securities', 'value': 54865000000, 'concept': 'ProceedsFromMaturitiesPrepaymentsAndCallsOfAvailableForSaleSecurities'}, {'unit': 'usd', 'label': 'Proceeds from sales of marketable securities', 'value': 39760000000, 'concept': 'ProceedsFromSaleOfAvailableForSaleSecuritiesDebt'}, {'unit': 'usd', 'label': 'Payments for acquisition of property, plant and equipment', 'value': 5525000000, 'concept': 'PaymentsToAcquirePropertyPlantAndEquipment'}, {'unit': 'usd', 'label': 'Payments made in connection with business acquisitions, net', 'value': 1473000000, 'concept': 'PaymentsToAcquireBusinessesNetOfCashAcquired'}, {'unit': 'usd', 'label': 'Purchases of non-marketable securities', 'value': 210000000, 'concept': 'PaymentsToAcquireOtherInvestments'}, {'unit': 'usd', 'label': 'Proceeds from non-marketable securities', 'value': 58000000, 'concept': 'ProceedsFromSaleAndMaturityOfOtherInvestments'}, {'unit': 'usd', 'label': 'Other', 'value': 689000000, 'concept': 'PaymentsForProceedsFromOtherInvestingActivities'}, {'unit': 'usd', 'label': 'Cash generated by/(used in) investing activities', 'value': -9820000000, 'concept': 'NetCashProvidedByUsedInInvestingActivities'}, {'unit': 'usd', 'label': 'Proceeds from issuance of common stock', 'value': 430000000, 'concept': 'ProceedsFromIssuanceOfCommonStock'}, {'unit': 'usd', 'label': 'Payments for taxes related to net share settlement of equity awards', 'value': 3234000000, 'concept': 'PaymentsRelatedToTaxWithholdingForShareBasedCompensation'}, {'unit': 'usd', 'label': 'Payments for dividends and dividend equivalents', 'value': 10570000000, 'concept': 'PaymentsOfDividends'}, {'unit': 'usd', 'label': 'Repurchases of common stock', 'value': 55171000000, 'concept': 'PaymentsForRepurchaseOfCommonStock'}, {'unit': 'usd', 'label': 'Proceeds from issuance of term debt, net', 'value': 10635000000, 'concept': 'ProceedsFromIssuanceOfLongTermDebt'}, {'unit': 'usd', 'label': 'Repayments of term debt', 'value': 12629000000, 'concept': 'RepaymentsOfLongTermDebt'}, {'unit': 'usd', 'label': 'Proceeds from/(Repayments of) commercial paper, net', 'value': 31000000, 'concept': 'ProceedsFromRepaymentsOfCommercialPaper'}, {'unit': 'usd', 'label': 'Proceeds from repurchase agreements', 'value': 5165000000, 'concept': 'ProceedsFromOtherShortTermDebt'}, {'unit': 'usd', 'label': 'Other', 'value': -120000000, 'concept': 'ProceedsFromPaymentsForOtherFinancingActivities'}, {'unit': 'usd', 'label': 'Financing activities:', 'value': -65463000000, 'concept': 'NetCashProvidedByUsedInFinancingActivities'}, {'unit': 'usd', 'label': 'Increase/(Decrease) in cash, cash equivalents and restricted cash', 'value': -15185000000, 'concept': 'CashCashEquivalentsRestrictedCashAndRestrictedCashEquivalentsPeriodIncreaseDecreaseIncludingExchangeRateEffect'}, {'unit': 'usd', 'label': 'Cash paid for income taxes, net', 'value': 8410000000, 'concept': 'IncomeTaxesPaidNet'}, {'unit': 'usd', 'label': 'Cash paid for interest', 'value': 2275000000, 'concept': 'InterestPaidNet'}], 'ic': [{'unit': 'usd', 'label': 'Net sales', 'value': 209817000000, 'concept': 'RevenueFromContractWithCustomerExcludingAssessedTax'}, {'unit': 'usd', 'label': 'Cost of sales', 'value': 129550000000, 'concept': 'CostOfGoodsAndServicesSold'}, {'unit': 'usd', 'label': 'Gross margin', 'value': 80267000000, 'concept': 'GrossProfit'}, {'unit': 'usd', 'label': 'Research and development', 'value': 13774000000, 'concept': 'ResearchAndDevelopmentExpense'}, {'unit': 'usd', 'label': 'Selling, general and administrative', 'value': 14980000000, 'concept': 'SellingGeneralAndAdministrativeExpense'}, {'unit': 'usd', 'label': 'Operating expenses:', 'value': 28754000000, 'concept': 'OperatingExpenses'}, {'unit': 'usd', 'label': 'Operating income', 'value': 51513000000, 'concept': 'OperatingIncomeLoss'}, {'unit': 'usd', 'label': 'Other income/(expense), net', 'value': 677000000, 'concept': 'NonoperatingIncomeExpense'}, {'unit': 'usd', 'label': 'Income before provision for income taxes', 'value': 52190000000, 'concept': 'IncomeLossFromContinuingOperationsBeforeIncomeTaxesExtraordinaryItemsNoncontrollingInterest'}, {'unit': 'usd', 'label': 'Provision for income taxes', 'value': 7452000000, 'concept': 'IncomeTaxExpenseBenefit'}, {'unit': 'usd', 'label': 'Numerator:', 'value': 44738000000, 'concept': 'NetIncomeLoss'}, {'unit': 'usd/shares', 'label': 'Basic (in dollars per share)', 'value': 10.25, 'concept': 'EarningsPerShareBasic'}, {'unit': 'usd/shares', 'label': 'Diluted (in dollars per share)', 'value': 10.16, 'concept': 'EarningsPerShareDiluted'}, {'unit': 'shares', 'label': 'Basic (in shares)', 'value': 4362571000, 'concept': 'WeightedAverageNumberOfSharesOutstandingBasic'}, {'unit': 'shares', 'label': 'Diluted (in shares)', 'value': 4404695000, 'concept': 'WeightedAverageNumberOfDilutedSharesOutstanding'}, {'unit': 'usd', 'label': 'Change in foreign currency translation, net of tax', 'value': -170000000, 'concept': 'OtherComprehensiveIncomeLossForeignCurrencyTransactionAndTranslationAdjustmentNetOfTax'}, {'unit': 'usd', 'label': 'Change in fair value of derivatives', 'value': 46000000, 'concept': 'aapl:OtherComprehensiveIncomeLossDerivativeInstrumentGainLossbeforeReclassificationafterTax'}, {'unit': 'usd', 'label': 'Adjustment for net (gains)/losses realized and included in net income', 'value': 884000000, 'concept': 'OtherComprehensiveIncomeLossCashFlowHedgeGainLossReclassificationAfterTax'}, {'unit': 'usd', 'label': 'Total change in unrealized gains/losses on derivative instruments', 'value': -838000000, 'concept': 'aapl:OtherComprehensiveIncomeLossDerivativeInstrumentGainLossafterReclassificationandTax'}, {'unit': 'usd', 'label': 'Change in fair value of marketable debt securities', 'value': 898000000, 'concept': 'OtherComprehensiveIncomeUnrealizedHoldingGainLossOnSecuritiesArisingDuringPeriodNetOfTax'}, {'unit': 'usd', 'label': 'Adjustment for net (gains)/losses realized and included in net income', 'value': -8000000, 'concept': 'OtherComprehensiveIncomeLossReclassificationAdjustmentFromAOCIForSaleOfSecuritiesNetOfTax'}, {'unit': 'usd', 'label': 'Total change in unrealized gains/losses on marketable debt securities', 'value': 906000000, 'concept': 'OtherComprehensiveIncomeLossAvailableForSaleSecuritiesAdjustmentNetOfTax'}, {'unit': 'usd', 'label': 'Total other comprehensive income/(loss)', 'value': -102000000, 'concept': 'OtherComprehensiveIncomeLossNetOfTaxPortionAttributableToParent'}, {'unit': 'usd', 'label': 'Total comprehensive income', 'value': 44636000000, 'concept': 'ComprehensiveIncomeNetOfTax'}]}}, {'accessNumber': '0000320193-20-000052', 'symbol': 'AAPL', 'cik': '320193', 'year': 2020, 'quarter': 2, 'form': '10-Q', 'startDate': '2019-09-29 00:00:00', 'endDate': '2020-03-28 00:00:00', 'filedDate': '2020-05-01 00:00:00', 'acceptedDate': '2020-04-30 18:03:10', 'report': {'bs': [{'unit': 'usd', 'label': 'Cash and cash equivalents', 'value': 40174000000, 'concept': 'CashAndCashEquivalentsAtCarryingValue'}, {'unit': 'usd', 'label': 'Current Marketable Securities', 'value': 53877000000, 'concept': 'MarketableSecuritiesCurrent'}, {'unit': 'usd', 'label': 'Accounts receivable, net', 'value': 15722000000, 'concept': 'AccountsReceivableNetCurrent'}, {'unit': 'usd', 'label': 'Inventories', 'value': 3334000000, 'concept': 'InventoryNet'}, {'unit': 'usd', 'label': 'Vendor non-trade receivables', 'value': 14955000000, 'concept': 'NontradeReceivablesCurrent'}, {'unit': 'usd', 'label': 'Other current assets', 'value': 15691000000, 'concept': 'OtherAssetsCurrent'}, {'unit': 'usd', 'label': 'Current assets:', 'value': 143753000000, 'concept': 'AssetsCurrent'}, {'unit': 'usd', 'label': 'Non-Current Marketable Securities', 'value': 98793000000, 'concept': 'MarketableSecuritiesNoncurrent'}, {'unit': 'usd', 'label': 'Total property, plant and equipment, net', 'value': 35889000000, 'concept': 'PropertyPlantAndEquipmentNet'}, {'unit': 'usd', 'label': 'Other non-current assets', 'value': 41965000000, 'concept': 'OtherAssetsNoncurrent'}, {'unit': 'usd', 'label': 'Non-current assets:', 'value': 176647000000, 'concept': 'AssetsNoncurrent'}, {'unit': 'usd', 'label': 'ASSETS:', 'value': 320400000000, 'concept': 'Assets'}, {'unit': 'usd', 'label': 'Accounts payable', 'value': 32421000000, 'concept': 'AccountsPayableCurrent'}, {'unit': 'usd', 'label': 'Other current liabilities', 'value': 37324000000, 'concept': 'OtherLiabilitiesCurrent'}, {'unit': 'usd', 'label': 'Deferred revenue', 'value': 5928000000, 'concept': 'ContractWithCustomerLiabilityCurrent'}, {'unit': 'usd', 'label': 'Commercial paper and repurchase agreement', 'value': 10029000000, 'concept': 'OtherShortTermBorrowings'}, {'unit': 'usd', 'label': 'Term debt', 'value': 10392000000, 'concept': 'LongTermDebtCurrent'}, {'unit': 'usd', 'label': 'Current liabilities:', 'value': 96094000000, 'concept': 'LiabilitiesCurrent'}, {'unit': 'usd', 'label': 'Term debt', 'value': 89086000000, 'concept': 'LongTermDebtNoncurrent'}, {'unit': 'usd', 'label': 'Total other non-current liabilities', 'value': 56795000000, 'concept': 'OtherLiabilitiesNoncurrent'}, {'unit': 'usd', 'label': 'Non-current liabilities:', 'value': 145881000000, 'concept': 'LiabilitiesNoncurrent'}, {'unit': 'usd', 'label': 'LIABILITIES AND SHAREHOLDERSu2019 EQUITY:', 'value': 241975000000, 'concept': 'Liabilities'}, {'unit': 'usd', 'label': 'Commitments and Contingencies Disclosure [Abstract]', 'value': 'N/A', 'concept': 'CommitmentsAndContingencies'}, {'unit': 'usd', 'label': 'Common stock and additional paid-in capital, $0.00001 par value: 12,600,000 shares authorized; 4,323,987 and 4,443,236 shares issued and outstanding, respectively', 'value': 48032000000, 'concept': 'CommonStocksIncludingAdditionalPaidInCapital'}, {'unit': 'usd', 'label': 'Retained earnings', 'value': 33182000000, 'concept': 'RetainedEarningsAccumulatedDeficit'}, {'unit': 'usd', 'label': 'Accumulated other comprehensive income/(loss)', 'value': -2789000000, 'concept': 'AccumulatedOtherComprehensiveIncomeLossNetOfTax'}, {'unit': 'usd', 'label': \"Shareholders' Equity\", 'value': 78425000000, 'concept': 'StockholdersEquity'}, {'unit': 'usd', 'label': 'LIABILITIES AND SHAREHOLDERSu2019 EQUITY:', 'value': 320400000000, 'concept': 'LiabilitiesAndStockholdersEquity'}], 'cf': [{'unit': 'usd', 'label': 'Net income', 'value': 33485000000, 'concept': 'NetIncomeLoss'}, {'unit': 'usd', 'label': 'Depreciation and amortization', 'value': 5602000000, 'concept': 'DepreciationDepletionAndAmortization'}, {'unit': 'usd', 'label': 'Share-based compensation expense', 'value': 3407000000, 'concept': 'ShareBasedCompensation'}, {'unit': 'usd', 'label': 'Deferred income tax benefit', 'value': -651000000, 'concept': 'DeferredIncomeTaxExpenseBenefit'}, {'unit': 'usd', 'label': 'Other', 'value': 259000000, 'concept': 'OtherNoncashIncomeExpense'}, {'unit': 'usd', 'label': 'Accounts receivable, net', 'value': -7284000000, 'concept': 'IncreaseDecreaseInAccountsReceivable'}, {'unit': 'usd', 'label': 'Inventories', 'value': -699000000, 'concept': 'IncreaseDecreaseInInventories'}, {'unit': 'usd', 'label': 'Vendor non-trade receivables', 'value': -7923000000, 'concept': 'IncreaseDecreaseInOtherReceivables'}, {'unit': 'usd', 'label': 'Other current and non-current assets', 'value': 8866000000, 'concept': 'IncreaseDecreaseInOtherOperatingAssets'}, {'unit': 'usd', 'label': 'Accounts payable', 'value': -13520000000, 'concept': 'IncreaseDecreaseInAccountsPayable'}, {'unit': 'usd', 'label': 'Deferred revenue', 'value': 1223000000, 'concept': 'IncreaseDecreaseInContractWithCustomerLiability'}, {'unit': 'usd', 'label': 'Other current and non-current liabilities', 'value': 7500000000, 'concept': 'IncreaseDecreaseInOtherOperatingLiabilities'}, {'unit': 'usd', 'label': 'Operating activities:', 'value': 43827000000, 'concept': 'NetCashProvidedByUsedInOperatingActivities'}, {'unit': 'usd', 'label': 'Purchases of marketable securities', 'value': 66489000000, 'concept': 'PaymentsToAcquireAvailableForSaleSecuritiesDebt'}, {'unit': 'usd', 'label': 'Proceeds from maturities of marketable securities', 'value': 39738000000, 'concept': 'ProceedsFromMaturitiesPrepaymentsAndCallsOfAvailableForSaleSecurities'}, {'unit': 'usd', 'label': 'Proceeds from sales of marketable securities', 'value': 27762000000, 'concept': 'ProceedsFromSaleOfAvailableForSaleSecuritiesDebt'}, {'unit': 'usd', 'label': 'Payments for acquisition of property, plant and equipment', 'value': 3960000000, 'concept': 'PaymentsToAcquirePropertyPlantAndEquipment'}, {'unit': 'usd', 'label': 'Payments made in connection with business acquisitions, net', 'value': 1134000000, 'concept': 'PaymentsToAcquireBusinessesNetOfCashAcquired'}, {'unit': 'usd', 'label': 'Purchases of non-marketable securities', 'value': 146000000, 'concept': 'PaymentsToAcquireOtherInvestments'}, {'unit': 'usd', 'label': 'Other', 'value': 426000000, 'concept': 'PaymentsForProceedsFromOtherInvestingActivities'}, {'unit': 'usd', 'label': 'Investing activities:', 'value': -4655000000, 'concept': 'NetCashProvidedByUsedInInvestingActivities'}, {'unit': 'usd', 'label': 'Proceeds from issuance of common stock', 'value': 430000000, 'concept': 'ProceedsFromIssuanceOfCommonStock'}, {'unit': 'usd', 'label': 'Payments for taxes related to net share settlement of equity awards', 'value': 1566000000, 'concept': 'PaymentsRelatedToTaxWithholdingForShareBasedCompensation'}, {'unit': 'usd', 'label': 'Payments for dividends and dividend equivalents', 'value': 6914000000, 'concept': 'PaymentsOfDividends'}, {'unit': 'usd', 'label': 'Repurchases of common stock', 'value': 39280000000, 'concept': 'PaymentsForRepurchaseOfCommonStock'}, {'unit': 'usd', 'label': 'Proceeds from issuance of term debt, net', 'value': 2210000000, 'concept': 'ProceedsFromIssuanceOfLongTermDebt'}, {'unit': 'usd', 'label': 'Repayments of term debt', 'value': 5250000000, 'concept': 'RepaymentsOfLongTermDebt'}, {'unit': 'usd', 'label': 'Proceeds from/(Repayments of) commercial paper, net', 'value': 1518000000, 'concept': 'ProceedsFromRepaymentsOfCommercialPaper'}, {'unit': 'usd', 'label': 'Proceeds from repurchase agreement', 'value': 2556000000, 'concept': 'ProceedsFromOtherShortTermDebt'}, {'unit': 'usd', 'label': 'Other', 'value': -51000000, 'concept': 'ProceedsFromPaymentsForOtherFinancingActivities'}, {'unit': 'usd', 'label': 'Financing activities:', 'value': -46347000000, 'concept': 'NetCashProvidedByUsedInFinancingActivities'}, {'unit': 'usd', 'label': 'Increase/(Decrease) in cash, cash equivalents and restricted cash', 'value': -7175000000, 'concept': 'CashCashEquivalentsRestrictedCashAndRestrictedCashEquivalentsPeriodIncreaseDecreaseIncludingExchangeRateEffect'}, {'unit': 'usd', 'label': 'Cash paid for income taxes, net', 'value': 7505000000, 'concept': 'IncomeTaxesPaidNet'}, {'unit': 'usd', 'label': 'Cash paid for interest', 'value': 1689000000, 'concept': 'InterestPaidNet'}], 'ic': [{'unit': 'usd', 'label': 'Net income', 'value': 33485000000, 'concept': 'NetIncomeLoss'}, {'unit': 'usd', 'label': 'Change in foreign currency translation, net of tax', 'value': -364000000, 'concept': 'OtherComprehensiveIncomeLossForeignCurrencyTransactionAndTranslationAdjustmentNetOfTax'}, {'unit': 'usd', 'label': 'Change in fair value of derivatives', 'value': -32000000, 'concept': 'aapl:OtherComprehensiveIncomeLossDerivativeInstrumentGainLossbeforeReclassificationafterTax'}, {'unit': 'usd', 'label': 'Adjustment for net (gains)/losses realized and included in net income', 'value': -236000000, 'concept': 'OtherComprehensiveIncomeLossCashFlowHedgeGainLossReclassificationAfterTax'}, {'unit': 'usd', 'label': 'Total change in unrealized gains/losses on derivative instruments', 'value': 204000000, 'concept': 'aapl:OtherComprehensiveIncomeLossDerivativeInstrumentGainLossafterReclassificationandTax'}, {'unit': 'usd', 'label': 'Change in fair value of marketable debt securities', 'value': -2200000000, 'concept': 'OtherComprehensiveIncomeUnrealizedHoldingGainLossOnSecuritiesArisingDuringPeriodNetOfTax'}, {'unit': 'usd', 'label': 'Adjustment for net (gains)/losses realized and included in net income', 'value': -19000000, 'concept': 'OtherComprehensiveIncomeLossReclassificationAdjustmentFromAOCIForSaleOfSecuritiesNetOfTax'}, {'unit': 'usd', 'label': 'Total change in unrealized gains/losses on marketable debt securities', 'value': -2181000000, 'concept': 'OtherComprehensiveIncomeLossAvailableForSaleSecuritiesAdjustmentNetOfTax'}, {'unit': 'usd', 'label': 'Total other comprehensive income/(loss)', 'value': -2341000000, 'concept': 'OtherComprehensiveIncomeLossNetOfTaxPortionAttributableToParent'}, {'unit': 'usd', 'label': 'Other comprehensive income/(loss):', 'value': 31144000000, 'concept': 'ComprehensiveIncomeNetOfTax'}, {'unit': 'usd', 'label': 'Net sales', 'value': 150132000000, 'concept': 'RevenueFromContractWithCustomerExcludingAssessedTax'}, {'unit': 'usd', 'label': 'Total cost of sales', 'value': 92545000000, 'concept': 'CostOfGoodsAndServicesSold'}, {'unit': 'usd', 'label': 'Gross margin', 'value': 57587000000, 'concept': 'GrossProfit'}, {'unit': 'usd', 'label': 'Research and development', 'value': 9016000000, 'concept': 'ResearchAndDevelopmentExpense'}, {'unit': 'usd', 'label': 'Selling, general and administrative', 'value': 10149000000, 'concept': 'SellingGeneralAndAdministrativeExpense'}, {'unit': 'usd', 'label': 'Operating expenses:', 'value': 19165000000, 'concept': 'OperatingExpenses'}, {'unit': 'usd', 'label': 'Operating income', 'value': 38422000000, 'concept': 'OperatingIncomeLoss'}, {'unit': 'usd', 'label': 'OI&E', 'value': 631000000, 'concept': 'NonoperatingIncomeExpense'}, {'unit': 'usd', 'label': 'Total amounts reclassified from AOCI', 'value': 39053000000, 'concept': 'IncomeLossFromContinuingOperationsBeforeIncomeTaxesExtraordinaryItemsNoncontrollingInterest'}, {'unit': 'usd', 'label': 'Provision for income taxes', 'value': 5568000000, 'concept': 'IncomeTaxExpenseBenefit'}, {'unit': 'usd/shares', 'label': 'Basic (in dollars per share)', 'value': 7.63, 'concept': 'EarningsPerShareBasic'}, {'unit': 'usd/shares', 'label': 'Diluted (in dollars per share)', 'value': 7.56, 'concept': 'EarningsPerShareDiluted'}, {'unit': 'shares', 'label': 'Basic (in shares)', 'value': 4387570000, 'concept': 'WeightedAverageNumberOfSharesOutstandingBasic'}, {'unit': 'shares', 'label': 'Diluted (in shares)', 'value': 4429648000, 'concept': 'WeightedAverageNumberOfDilutedSharesOutstanding'}]}}, {'accessNumber': '0000320193-20-000010', 'symbol': 'AAPL', 'cik': '320193', 'year': 2020, 'quarter': 1, 'form': '10-Q', 'startDate': '2019-09-29 00:00:00', 'endDate': '2019-12-28 00:00:00', 'filedDate': '2020-01-29 00:00:00', 'acceptedDate': '2020-01-28 18:02:44', 'report': {'bs': [{'unit': 'usd', 'label': 'Cash and cash equivalents', 'value': 39771000000, 'concept': 'CashAndCashEquivalentsAtCarryingValue'}, {'unit': 'usd', 'label': 'Marketable securities', 'value': 67391000000, 'concept': 'MarketableSecuritiesCurrent'}, {'unit': 'usd', 'label': 'Accounts receivable, net', 'value': 20970000000, 'concept': 'AccountsReceivableNetCurrent'}, {'unit': 'usd', 'label': 'Inventories', 'value': 4097000000, 'concept': 'InventoryNet'}, {'unit': 'usd', 'label': 'Vendor non-trade receivables', 'value': 18976000000, 'concept': 'NontradeReceivablesCurrent'}, {'unit': 'usd', 'label': 'Other current assets', 'value': 12026000000, 'concept': 'OtherAssetsCurrent'}, {'unit': 'usd', 'label': 'Current assets:', 'value': 163231000000, 'concept': 'AssetsCurrent'}, {'unit': 'usd', 'label': 'Marketable securities', 'value': 99899000000, 'concept': 'MarketableSecuritiesNoncurrent'}, {'unit': 'usd', 'label': 'Total property, plant and equipment, net', 'value': 37031000000, 'concept': 'PropertyPlantAndEquipmentNet'}, {'unit': 'usd', 'label': 'Other non-current assets', 'value': 40457000000, 'concept': 'OtherAssetsNoncurrent'}, {'unit': 'usd', 'label': 'Non-current assets:', 'value': 177387000000, 'concept': 'AssetsNoncurrent'}, {'unit': 'usd', 'label': 'ASSETS:', 'value': 340618000000, 'concept': 'Assets'}, {'unit': 'usd', 'label': 'Accounts payable', 'value': 45111000000, 'concept': 'AccountsPayableCurrent'}, {'unit': 'usd', 'label': 'Other current liabilities', 'value': 36263000000, 'concept': 'OtherLiabilitiesCurrent'}, {'unit': 'usd', 'label': 'Deferred revenue', 'value': 5573000000, 'concept': 'ContractWithCustomerLiabilityCurrent'}, {'unit': 'usd', 'label': 'Commercial paper', 'value': 4990000000, 'concept': 'CommercialPaper'}, {'unit': 'usd', 'label': 'Term debt', 'value': 10224000000, 'concept': 'LongTermDebtCurrent'}, {'unit': 'usd', 'label': 'Current liabilities:', 'value': 102161000000, 'concept': 'LiabilitiesCurrent'}, {'unit': 'usd', 'label': 'Term debt', 'value': 93078000000, 'concept': 'LongTermDebtNoncurrent'}, {'unit': 'usd', 'label': 'Other non-current liabilities', 'value': 55848000000, 'concept': 'OtherLiabilitiesNoncurrent'}, {'unit': 'usd', 'label': 'Non-current liabilities:', 'value': 148926000000, 'concept': 'LiabilitiesNoncurrent'}, {'unit': 'usd', 'label': 'LIABILITIES AND SHAREHOLDERSu2019 EQUITY:', 'value': 251087000000, 'concept': 'Liabilities'}, {'unit': 'usd', 'label': 'Commitments and Contingencies Disclosure [Abstract]', 'value': 'N/A', 'concept': 'CommitmentsAndContingencies'}, {'unit': 'usd', 'label': 'Common stock and additional paid-in capital, $0.00001 par value: 12,600,000 shares authorized; 4,384,959 and 4,443,236 shares issued and outstanding, respectively', 'value': 45972000000, 'concept': 'CommonStocksIncludingAdditionalPaidInCapital'}, {'unit': 'usd', 'label': 'Retained earnings', 'value': 43977000000, 'concept': 'RetainedEarningsAccumulatedDeficit'}, {'unit': 'usd', 'label': 'Accumulated other comprehensive income/(loss)', 'value': -418000000, 'concept': 'AccumulatedOtherComprehensiveIncomeLossNetOfTax'}, {'unit': 'usd', 'label': 'Beginning balances', 'value': 89531000000, 'concept': 'StockholdersEquity'}, {'unit': 'usd', 'label': 'LIABILITIES AND SHAREHOLDERSu2019 EQUITY:', 'value': 340618000000, 'concept': 'LiabilitiesAndStockholdersEquity'}], 'cf': [{'unit': 'usd', 'label': 'Net income', 'value': 22236000000, 'concept': 'NetIncomeLoss'}, {'unit': 'usd', 'label': 'Depreciation and amortization', 'value': 2816000000, 'concept': 'DepreciationDepletionAndAmortization'}, {'unit': 'usd', 'label': 'Award Type [Domain]', 'value': 1710000000, 'concept': 'ShareBasedCompensation'}, {'unit': 'usd', 'label': 'Deferred income tax expense/(benefit)', 'value': -349000000, 'concept': 'DeferredIncomeTaxExpenseBenefit'}, {'unit': 'usd', 'label': 'Other', 'value': 142000000, 'concept': 'OtherNoncashIncomeExpense'}, {'unit': 'usd', 'label': 'Accounts receivable, net', 'value': -2015000000, 'concept': 'IncreaseDecreaseInAccountsReceivable'}, {'unit': 'usd', 'label': 'Inventories', 'value': 28000000, 'concept': 'IncreaseDecreaseInInventories'}, {'unit': 'usd', 'label': 'Vendor non-trade receivables', 'value': -3902000000, 'concept': 'IncreaseDecreaseInOtherReceivables'}, {'unit': 'usd', 'label': 'Other current and non-current assets', 'value': 7054000000, 'concept': 'IncreaseDecreaseInOtherOperatingAssets'}, {'unit': 'usd', 'label': 'Accounts payable', 'value': -1089000000, 'concept': 'IncreaseDecreaseInAccountsPayable'}, {'unit': 'usd', 'label': 'Deferred revenue', 'value': 985000000, 'concept': 'IncreaseDecreaseInContractWithCustomerLiability'}, {'unit': 'usd', 'label': 'Other current and non-current liabilities', 'value': 5514000000, 'concept': 'IncreaseDecreaseInOtherOperatingLiabilities'}, {'unit': 'usd', 'label': 'Operating activities:', 'value': 30516000000, 'concept': 'NetCashProvidedByUsedInOperatingActivities'}, {'unit': 'usd', 'label': 'Purchases of marketable securities', 'value': 37416000000, 'concept': 'PaymentsToAcquireAvailableForSaleSecuritiesDebt'}, {'unit': 'usd', 'label': 'Proceeds from maturities of marketable securities', 'value': 19740000000, 'concept': 'ProceedsFromMaturitiesPrepaymentsAndCallsOfAvailableForSaleSecurities'}, {'unit': 'usd', 'label': 'Proceeds from sales of marketable securities', 'value': 7280000000, 'concept': 'ProceedsFromSaleOfAvailableForSaleSecuritiesDebt'}, {'unit': 'usd', 'label': 'Payments for acquisition of property, plant and equipment', 'value': 2107000000, 'concept': 'PaymentsToAcquirePropertyPlantAndEquipment'}, {'unit': 'usd', 'label': 'Payments made in connection with business acquisitions, net', 'value': 958000000, 'concept': 'PaymentsToAcquireBusinessesNetOfCashAcquired'}, {'unit': 'usd', 'label': 'Purchases of non-marketable securities', 'value': 77000000, 'concept': 'PaymentsToAcquireOtherInvestments'}, {'unit': 'usd', 'label': 'Other', 'value': 130000000, 'concept': 'PaymentsForProceedsFromOtherInvestingActivities'}, {'unit': 'usd', 'label': 'Investing activities:', 'value': -13668000000, 'concept': 'NetCashProvidedByUsedInInvestingActivities'}, {'unit': 'usd', 'label': 'Proceeds from issuance of common stock', 'value': 2000000, 'concept': 'ProceedsFromIssuanceOfCommonStock'}, {'unit': 'usd', 'label': 'Payments for taxes related to net share settlement of equity awards', 'value': 1379000000, 'concept': 'PaymentsRelatedToTaxWithholdingForShareBasedCompensation'}, {'unit': 'usd', 'label': 'Payments for dividends and dividend equivalents', 'value': 3539000000, 'concept': 'PaymentsOfDividends'}, {'unit': 'usd', 'label': 'Repurchases of common stock', 'value': 20706000000, 'concept': 'PaymentsForRepurchaseOfCommonStock'}, {'unit': 'usd', 'label': 'Proceeds from issuance of term debt, net', 'value': 2210000000, 'concept': 'ProceedsFromIssuanceOfLongTermDebt'}, {'unit': 'usd', 'label': 'Repayments of term debt', 'value': 1000000000, 'concept': 'RepaymentsOfLongTermDebt'}, {'unit': 'usd', 'label': 'Total proceeds from/(repayments of) commercial paper, net', 'value': -979000000, 'concept': 'ProceedsFromRepaymentsOfCommercialPaper'}, {'unit': 'usd', 'label': 'Other', 'value': -16000000, 'concept': 'ProceedsFromPaymentsForOtherFinancingActivities'}, {'unit': 'usd', 'label': 'Financing activities:', 'value': -25407000000, 'concept': 'NetCashProvidedByUsedInFinancingActivities'}, {'unit': 'usd', 'label': 'Increase/(Decrease) in cash, cash equivalents and restricted cash', 'value': -8559000000, 'concept': 'CashCashEquivalentsRestrictedCashAndRestrictedCashEquivalentsPeriodIncreaseDecreaseIncludingExchangeRateEffect'}, {'unit': 'usd', 'label': 'Cash paid for income taxes, net', 'value': 4393000000, 'concept': 'IncomeTaxesPaidNet'}, {'unit': 'usd', 'label': 'Cash paid for interest', 'value': 771000000, 'concept': 'InterestPaidNet'}], 'ic': [{'unit': 'usd', 'label': 'Net income', 'value': 22236000000, 'concept': 'NetIncomeLoss'}, {'unit': 'usd', 'label': 'Change in foreign currency translation, net of tax', 'value': 202000000, 'concept': 'OtherComprehensiveIncomeLossForeignCurrencyTransactionAndTranslationAdjustmentNetOfTax'}, {'unit': 'usd', 'label': 'Change in fair value of derivatives', 'value': 111000000, 'concept': 'aapl:OtherComprehensiveIncomeLossDerivativeInstrumentGainLossbeforeReclassificationafterTax'}, {'unit': 'usd', 'label': 'Adjustment for net (gains)/losses realized and included in net income', 'value': 398000000, 'concept': 'OtherComprehensiveIncomeLossCashFlowHedgeGainLossReclassificationAfterTax'}, {'unit': 'usd', 'label': 'Total change in unrealized gains/losses on derivative instruments', 'value': -287000000, 'concept': 'aapl:OtherComprehensiveIncomeLossDerivativeInstrumentGainLossafterReclassificationandTax'}, {'unit': 'usd', 'label': 'Change in fair value of marketable securities', 'value': 125000000, 'concept': 'OtherComprehensiveIncomeUnrealizedHoldingGainLossOnSecuritiesArisingDuringPeriodNetOfTax'}, {'unit': 'usd', 'label': 'Adjustment for net (gains)/losses realized and included in net income', 'value': 10000000, 'concept': 'OtherComprehensiveIncomeLossReclassificationAdjustmentFromAOCIForSaleOfSecuritiesNetOfTax'}, {'unit': 'usd', 'label': 'Total change in unrealized gains/losses on marketable securities', 'value': 115000000, 'concept': 'OtherComprehensiveIncomeLossAvailableForSaleSecuritiesAdjustmentNetOfTax'}, {'unit': 'usd', 'label': 'Other comprehensive income/(loss)', 'value': 30000000, 'concept': 'OtherComprehensiveIncomeLossNetOfTaxPortionAttributableToParent'}, {'unit': 'usd', 'label': 'Other comprehensive income/(loss):', 'value': 22266000000, 'concept': 'ComprehensiveIncomeNetOfTax'}, {'unit': 'usd', 'label': 'Net sales', 'value': 91819000000, 'concept': 'RevenueFromContractWithCustomerExcludingAssessedTax'}, {'unit': 'usd', 'label': 'Total cost of sales', 'value': 56602000000, 'concept': 'CostOfGoodsAndServicesSold'}, {'unit': 'usd', 'label': 'Gross margin', 'value': 35217000000, 'concept': 'GrossProfit'}, {'unit': 'usd', 'label': 'Research and development expense', 'value': 4451000000, 'concept': 'ResearchAndDevelopmentExpense'}, {'unit': 'usd', 'label': 'Selling, general and administrative', 'value': 5197000000, 'concept': 'SellingGeneralAndAdministrativeExpense'}, {'unit': 'usd', 'label': 'Operating expenses:', 'value': 9648000000, 'concept': 'OperatingExpenses'}, {'unit': 'usd', 'label': 'Operating income', 'value': 25569000000, 'concept': 'OperatingIncomeLoss'}, {'unit': 'usd', 'label': 'Other income/(expense), net', 'value': 349000000, 'concept': 'NonoperatingIncomeExpense'}, {'unit': 'usd', 'label': 'Total amounts reclassified from AOCI', 'value': 25918000000, 'concept': 'IncomeLossFromContinuingOperationsBeforeIncomeTaxesExtraordinaryItemsNoncontrollingInterest'}, {'unit': 'usd', 'label': 'Provision for income taxes', 'value': 3682000000, 'concept': 'IncomeTaxExpenseBenefit'}, {'unit': 'usd/shares', 'label': 'Basic earnings per share (in dollars per share)', 'value': 5.04, 'concept': 'EarningsPerShareBasic'}, {'unit': 'usd/shares', 'label': 'Diluted earnings per share (in dollars per share)', 'value': 4.99, 'concept': 'EarningsPerShareDiluted'}, {'unit': 'shares', 'label': 'Weighted-average basic shares outstanding (in shares)', 'value': 4415040000, 'concept': 'WeightedAverageNumberOfSharesOutstandingBasic'}, {'unit': 'shares', 'label': 'Weighted-average diluted shares (in shares)', 'value': 4454604000, 'concept': 'WeightedAverageNumberOfDilutedSharesOutstanding'}]}}, {'accessNumber': '0000320193-19-000076', 'symbol': 'AAPL', 'cik': '320193', 'year': 2019, 'quarter': 3, 'form': '10-Q', 'startDate': '2018-09-30 00:00:00', 'endDate': '2019-06-29 00:00:00', 'filedDate': '2019-07-31 00:00:00', 'acceptedDate': '2019-07-31 16:31:53', 'report': {'bs': [{'unit': 'usd', 'label': 'Cash and cash equivalents', 'value': 50530000000, 'concept': 'CashAndCashEquivalentsAtCarryingValue'}, {'unit': 'usd', 'label': 'Marketable securities', 'value': 44084000000, 'concept': 'MarketableSecuritiesCurrent'}, {'unit': 'usd', 'label': 'Accounts receivable, net', 'value': 14148000000, 'concept': 'AccountsReceivableNetCurrent'}, {'unit': 'usd', 'label': 'Inventories', 'value': 3355000000, 'concept': 'InventoryNet'}, {'unit': 'usd', 'label': 'Vendor non-trade receivables', 'value': 12326000000, 'concept': 'NontradeReceivablesCurrent'}, {'unit': 'usd', 'label': 'Other current assets', 'value': 10530000000, 'concept': 'OtherAssetsCurrent'}, {'unit': 'usd', 'label': 'Current assets:', 'value': 134973000000, 'concept': 'AssetsCurrent'}, {'unit': 'usd', 'label': 'Marketable securities', 'value': 115996000000, 'concept': 'MarketableSecuritiesNoncurrent'}, {'unit': 'usd', 'label': 'Property, plant and equipment, net', 'value': 37636000000, 'concept': 'PropertyPlantAndEquipmentNet'}, {'unit': 'usd', 'label': 'Other non-current assets', 'value': 33634000000, 'concept': 'OtherAssetsNoncurrent'}, {'unit': 'usd', 'label': 'Non-current assets:', 'value': 187266000000, 'concept': 'AssetsNoncurrent'}, {'unit': 'usd', 'label': 'ASSETS:', 'value': 322239000000, 'concept': 'Assets'}, {'unit': 'usd', 'label': 'Accounts payable', 'value': 29115000000, 'concept': 'AccountsPayableCurrent'}, {'unit': 'usd', 'label': 'Other current liabilities', 'value': 31673000000, 'concept': 'OtherLiabilitiesCurrent'}, {'unit': 'usd', 'label': 'Deferred revenue', 'value': 5434000000, 'concept': 'ContractWithCustomerLiabilityCurrent'}, {'unit': 'usd', 'label': 'Commercial paper', 'value': 9953000000, 'concept': 'CommercialPaper'}, {'unit': 'usd', 'label': 'Term debt', 'value': 13529000000, 'concept': 'LongTermDebtCurrent'}, {'unit': 'usd', 'label': 'Current liabilities:', 'value': 89704000000, 'concept': 'LiabilitiesCurrent'}, {'unit': 'usd', 'label': 'Term debt', 'value': 84936000000, 'concept': 'LongTermDebtNoncurrent'}, {'unit': 'usd', 'label': 'Total other non-current liabilities', 'value': 51143000000, 'concept': 'OtherLiabilitiesNoncurrent'}, {'unit': 'usd', 'label': 'Non-current liabilities:', 'value': 136079000000, 'concept': 'LiabilitiesNoncurrent'}, {'unit': 'usd', 'label': 'LIABILITIES AND SHAREHOLDERSu2019 EQUITY:', 'value': 225783000000, 'concept': 'Liabilities'}, {'unit': 'usd', 'label': 'Commitments and Contingencies Disclosure [Abstract]', 'value': 'N/A', 'concept': 'CommitmentsAndContingencies'}, {'unit': 'usd', 'label': 'Common stock and additional paid-in capital, $0.00001 par value: 12,600,000 shares authorized; 4,531,395 and 4,754,986 shares issued and outstanding, respectively', 'value': 43371000000, 'concept': 'CommonStocksIncludingAdditionalPaidInCapital'}, {'unit': 'usd', 'label': 'Retained earnings', 'value': 53724000000, 'concept': 'RetainedEarningsAccumulatedDeficit'}, {'unit': 'usd', 'label': 'Accumulated other comprehensive income/(loss)', 'value': -639000000, 'concept': 'AccumulatedOtherComprehensiveIncomeLossNetOfTax'}, {'unit': 'usd', 'label': 'Beginning balances', 'value': 96456000000, 'concept': 'StockholdersEquity'}, {'unit': 'usd', 'label': 'LIABILITIES AND SHAREHOLDERSu2019 EQUITY:', 'value': 322239000000, 'concept': 'LiabilitiesAndStockholdersEquity'}], 'cf': [{'unit': 'usd', 'label': 'Net income', 'value': 41570000000, 'concept': 'NetIncomeLoss'}, {'unit': 'usd', 'label': 'Depreciation and amortization', 'value': 9368000000, 'concept': 'DepreciationDepletionAndAmortization'}, {'unit': 'usd', 'label': 'Equity Award [Domain]', 'value': 4569000000, 'concept': 'ShareBasedCompensation'}, {'unit': 'usd', 'label': 'Deferred income tax benefit', 'value': -38000000, 'concept': 'DeferredIncomeTaxExpenseBenefit'}, {'unit': 'usd', 'label': 'Other', 'value': 340000000, 'concept': 'OtherNoncashIncomeExpense'}, {'unit': 'usd', 'label': 'Accounts receivable, net', 'value': -9013000000, 'concept': 'IncreaseDecreaseInAccountsReceivable'}, {'unit': 'usd', 'label': 'Inventories', 'value': -496000000, 'concept': 'IncreaseDecreaseInInventories'}, {'unit': 'usd', 'label': 'Vendor non-trade receivables', 'value': -13483000000, 'concept': 'IncreaseDecreaseInOtherReceivables'}, {'unit': 'usd', 'label': 'Other current and non-current assets', 'value': -693000000, 'concept': 'IncreaseDecreaseInOtherOperatingAssets'}, {'unit': 'usd', 'label': 'Accounts payable', 'value': -19804000000, 'concept': 'IncreaseDecreaseInAccountsPayable'}, {'unit': 'usd', 'label': 'Deferred revenue', 'value': -776000000, 'concept': 'IncreaseDecreaseInContractWithCustomerLiability'}, {'unit': 'usd', 'label': 'Other current and non-current liabilities', 'value': -8753000000, 'concept': 'IncreaseDecreaseInOtherOperatingLiabilities'}, {'unit': 'usd', 'label': 'Operating activities:', 'value': 49481000000, 'concept': 'NetCashProvidedByUsedInOperatingActivities'}, {'unit': 'usd', 'label': 'Purchases of marketable securities', 'value': 21902000000, 'concept': 'PaymentsToAcquireAvailableForSaleSecuritiesDebt'}, {'unit': 'usd', 'label': 'Proceeds from maturities of marketable securities', 'value': 26783000000, 'concept': 'ProceedsFromMaturitiesPrepaymentsAndCallsOfAvailableForSaleSecurities'}, {'unit': 'usd', 'label': 'Proceeds from sales of marketable securities', 'value': 49516000000, 'concept': 'ProceedsFromSaleOfAvailableForSaleSecuritiesDebt'}, {'unit': 'usd', 'label': 'Payments for acquisition of property, plant and equipment', 'value': 7718000000, 'concept': 'PaymentsToAcquirePropertyPlantAndEquipment'}, {'unit': 'usd', 'label': 'Payments made in connection with business acquisitions, net', 'value': 611000000, 'concept': 'PaymentsToAcquireBusinessesNetOfCashAcquired'}, {'unit': 'usd', 'label': 'Purchases of non-marketable securities', 'value': 632000000, 'concept': 'PaymentsToAcquireOtherInvestments'}, {'unit': 'usd', 'label': 'Proceeds from non-marketable securities', 'value': 1526000000, 'concept': 'ProceedsFromSaleAndMaturityOfOtherInvestments'}, {'unit': 'usd', 'label': 'Other', 'value': 268000000, 'concept': 'PaymentsForProceedsFromOtherInvestingActivities'}, {'unit': 'usd', 'label': 'Investing activities:', 'value': 46694000000, 'concept': 'NetCashProvidedByUsedInInvestingActivities'}, {'unit': 'usd', 'label': 'Proceeds from issuance of common stock', 'value': 391000000, 'concept': 'ProceedsFromIssuanceOfCommonStock'}, {'unit': 'usd', 'label': 'Payments for taxes related to net share settlement of equity awards', 'value': 2626000000, 'concept': 'PaymentsRelatedToTaxWithholdingForShareBasedCompensation'}, {'unit': 'usd', 'label': 'Payments for dividends and dividend equivalents', 'value': 10640000000, 'concept': 'PaymentsOfDividends'}, {'unit': 'usd', 'label': 'Repurchases of common stock', 'value': 49453000000, 'concept': 'PaymentsForRepurchaseOfCommonStock'}, {'unit': 'usd', 'label': 'Proceeds from issuance of term debt, net', 'value': 'N/A', 'concept': 'ProceedsFromIssuanceOfLongTermDebt'}, {'unit': 'usd', 'label': 'Repayments of term debt', 'value': 5500000000, 'concept': 'RepaymentsOfLongTermDebt'}, {'unit': 'usd', 'label': 'Total repayments of commercial paper, net', 'value': -2026000000, 'concept': 'ProceedsFromRepaymentsOfCommercialPaper'}, {'unit': 'usd', 'label': 'Other', 'value': -83000000, 'concept': 'ProceedsFromPaymentsForOtherFinancingActivities'}, {'unit': 'usd', 'label': 'Financing activities:', 'value': -69937000000, 'concept': 'NetCashProvidedByUsedInFinancingActivities'}, {'unit': 'usd', 'label': 'Increase in cash, cash equivalents and restricted cash', 'value': 26238000000, 'concept': 'CashCashEquivalentsRestrictedCashAndRestrictedCashEquivalentsPeriodIncreaseDecreaseIncludingExchangeRateEffect'}, {'unit': 'usd', 'label': 'Cash paid for income taxes, net', 'value': 11795000000, 'concept': 'IncomeTaxesPaidNet'}, {'unit': 'usd', 'label': 'Cash paid for interest', 'value': 2563000000, 'concept': 'InterestPaidNet'}], 'ic': [{'unit': 'usd', 'label': 'Net income', 'value': 41570000000, 'concept': 'NetIncomeLoss'}, {'unit': 'usd', 'label': 'Change in foreign currency translation, net of tax', 'value': -123000000, 'concept': 'OtherComprehensiveIncomeLossForeignCurrencyTransactionAndTranslationAdjustmentNetOfTax'}, {'unit': 'usd', 'label': 'Change in fair value of derivatives', 'value': -492000000, 'concept': 'OtherComprehensiveIncomeUnrealizedGainLossOnDerivativesArisingDuringPeriodNetOfTax'}, {'unit': 'usd', 'label': 'Adjustment for net (gains)/losses realized and included in net income', 'value': 107000000, 'concept': 'OtherComprehensiveIncomeLossReclassificationAdjustmentFromAOCIOnDerivativesNetOfTax'}, {'unit': 'usd', 'label': 'Total change in unrealized gains/losses on derivative instruments', 'value': -599000000, 'concept': 'OtherComprehensiveIncomeLossDerivativesQualifyingAsHedgesNetOfTax'}, {'unit': 'usd', 'label': 'Change in fair value of marketable securities', 'value': 3405000000, 'concept': 'OtherComprehensiveIncomeUnrealizedHoldingGainLossOnSecuritiesArisingDuringPeriodNetOfTax'}, {'unit': 'usd', 'label': 'Adjustment for net (gains)/losses realized and included in net income', 'value': -43000000, 'concept': 'OtherComprehensiveIncomeLossReclassificationAdjustmentFromAOCIForSaleOfSecuritiesNetOfTax'}, {'unit': 'usd', 'label': 'Total change in unrealized gains/losses on marketable securities', 'value': 3448000000, 'concept': 'OtherComprehensiveIncomeLossAvailableForSaleSecuritiesAdjustmentNetOfTax'}, {'unit': 'usd', 'label': 'Other comprehensive income/(loss)', 'value': 2726000000, 'concept': 'OtherComprehensiveIncomeLossNetOfTaxPortionAttributableToParent'}, {'unit': 'usd', 'label': 'Other comprehensive income/(loss):', 'value': 44296000000, 'concept': 'ComprehensiveIncomeNetOfTax'}, {'unit': 'usd', 'label': 'Net sales', 'value': 196134000000, 'concept': 'RevenueFromContractWithCustomerExcludingAssessedTax'}, {'unit': 'usd', 'label': 'Total cost of sales', 'value': 122055000000, 'concept': 'CostOfGoodsAndServicesSold'}, {'unit': 'usd', 'label': 'Gross margin', 'value': 74079000000, 'concept': 'GrossProfit'}, {'unit': 'usd', 'label': 'Research and development expense', 'value': 12107000000, 'concept': 'ResearchAndDevelopmentExpense'}, {'unit': 'usd', 'label': 'Selling, general and administrative', 'value': 13667000000, 'concept': 'SellingGeneralAndAdministrativeExpense'}, {'unit': 'usd', 'label': 'Operating expenses:', 'value': 25774000000, 'concept': 'OperatingExpenses'}, {'unit': 'usd', 'label': 'Operating income', 'value': 48305000000, 'concept': 'OperatingIncomeLoss'}, {'unit': 'usd', 'label': 'Total other income/(expense), net', 'value': 1305000000, 'concept': 'NonoperatingIncomeExpense'}, {'unit': 'usd', 'label': 'Total amounts reclassified from AOCI', 'value': 49610000000, 'concept': 'IncomeLossFromContinuingOperationsBeforeIncomeTaxesExtraordinaryItemsNoncontrollingInterest'}, {'unit': 'usd', 'label': 'Provision for income taxes', 'value': 8040000000, 'concept': 'IncomeTaxExpenseBenefit'}, {'unit': 'usd/shares', 'label': 'Basic earnings per share (in dollars per share)', 'value': 8.92, 'concept': 'EarningsPerShareBasic'}, {'unit': 'usd/shares', 'label': 'Diluted earnings per share (in dollars per share)', 'value': 8.86, 'concept': 'EarningsPerShareDiluted'}, {'unit': 'shares', 'label': 'Weighted-average basic shares outstanding (in shares)', 'value': 4660175000, 'concept': 'WeightedAverageNumberOfSharesOutstandingBasic'}, {'unit': 'shares', 'label': 'Weighted-average diluted shares (in shares)', 'value': 4691759000, 'concept': 'WeightedAverageNumberOfDilutedSharesOutstanding'}]}}, {'accessNumber': '0000320193-19-000066', 'symbol': 'AAPL', 'cik': '320193', 'year': 2019, 'quarter': 2, 'form': '10-Q', 'startDate': '2018-09-30 00:00:00', 'endDate': '2019-03-30 00:00:00', 'filedDate': '2019-05-01 00:00:00', 'acceptedDate': '2019-05-01 16:32:00', 'report': {'bs': [{'unit': 'usd', 'label': 'Cash and Cash Equivalents', 'value': 37988000000, 'concept': 'CashAndCashEquivalentsAtCarryingValue'}, {'unit': 'usd', 'label': 'Short-Term Marketable Securities', 'value': 42104000000, 'concept': 'MarketableSecuritiesCurrent'}, {'unit': 'usd', 'label': 'Accounts receivable, net', 'value': 15085000000, 'concept': 'AccountsReceivableNetCurrent'}, {'unit': 'usd', 'label': 'Inventories', 'value': 4884000000, 'concept': 'InventoryNet'}, {'unit': 'usd', 'label': 'Vendor non-trade receivables', 'value': 11193000000, 'concept': 'NontradeReceivablesCurrent'}, {'unit': 'usd', 'label': 'Other current assets', 'value': 12092000000, 'concept': 'OtherAssetsCurrent'}, {'unit': 'usd', 'label': 'Current assets:', 'value': 123346000000, 'concept': 'AssetsCurrent'}, {'unit': 'usd', 'label': 'Long-Term Marketable Securities', 'value': 145319000000, 'concept': 'MarketableSecuritiesNoncurrent'}, {'unit': 'usd', 'label': 'Total property, plant and equipment, net', 'value': 38746000000, 'concept': 'PropertyPlantAndEquipmentNet'}, {'unit': 'usd', 'label': 'Reduction to other non-current assets upon adoption of ASU 2016-16', 'value': 34587000000, 'concept': 'OtherAssetsNoncurrent'}, {'unit': 'usd', 'label': 'Non-current assets:', 'value': 218652000000, 'concept': 'AssetsNoncurrent'}, {'unit': 'usd', 'label': 'ASSETS:', 'value': 341998000000, 'concept': 'Assets'}, {'unit': 'usd', 'label': 'Accounts payable', 'value': 30443000000, 'concept': 'AccountsPayableCurrent'}, {'unit': 'usd', 'label': 'Other current liabilities', 'value': 35368000000, 'concept': 'OtherLiabilitiesCurrent'}, {'unit': 'usd', 'label': 'Deferred revenue', 'value': 5532000000, 'concept': 'ContractWithCustomerLiabilityCurrent'}, {'unit': 'usd', 'label': 'Commercial paper', 'value': 11924000000, 'concept': 'CommercialPaper'}, {'unit': 'usd', 'label': 'Less: Current portion of term debt', 'value': 10505000000, 'concept': 'LongTermDebtCurrent'}, {'unit': 'usd', 'label': 'Current liabilities:', 'value': 93772000000, 'concept': 'LiabilitiesCurrent'}, {'unit': 'usd', 'label': 'Total non-current portion of term debt', 'value': 90201000000, 'concept': 'LongTermDebtNoncurrent'}, {'unit': 'usd', 'label': 'Total other non-current liabilities', 'value': 52165000000, 'concept': 'OtherLiabilitiesNoncurrent'}, {'unit': 'usd', 'label': 'Non-current liabilities:', 'value': 142366000000, 'concept': 'LiabilitiesNoncurrent'}, {'unit': 'usd', 'label': 'LIABILITIES AND SHAREHOLDERSu2019 EQUITY:', 'value': 236138000000, 'concept': 'Liabilities'}, {'unit': 'usd', 'label': 'Commitments and Contingencies Disclosure [Abstract]', 'value': 'N/A', 'concept': 'CommitmentsAndContingencies'}, {'unit': 'usd', 'label': 'Common stock and additional paid-in capital, $0.00001 par value: 12,600,000 shares authorized; 4,607,284 and 4,754,986 shares issued and outstanding, respectively', 'value': 42801000000, 'concept': 'CommonStocksIncludingAdditionalPaidInCapital'}, {'unit': 'usd', 'label': 'Retained earnings', 'value': 64558000000, 'concept': 'RetainedEarningsAccumulatedDeficit'}, {'unit': 'usd', 'label': 'Accumulated other comprehensive income/(loss)', 'value': -1499000000, 'concept': 'AccumulatedOtherComprehensiveIncomeLossNetOfTax'}, {'unit': 'usd', 'label': 'Beginning balances', 'value': 105860000000, 'concept': 'StockholdersEquity'}, {'unit': 'usd', 'label': 'LIABILITIES AND SHAREHOLDERSu2019 EQUITY:', 'value': 341998000000, 'concept': 'LiabilitiesAndStockholdersEquity'}], 'cf': [{'unit': 'usd', 'label': 'Net income', 'value': 31526000000, 'concept': 'NetIncomeLoss'}, {'unit': 'usd', 'label': 'Depreciation and amortization', 'value': 6435000000, 'concept': 'DepreciationDepletionAndAmortization'}, {'unit': 'usd', 'label': 'Equity Award [Domain]', 'value': 3073000000, 'concept': 'ShareBasedCompensation'}, {'unit': 'usd', 'label': 'Deferred income tax benefit', 'value': -124000000, 'concept': 'DeferredIncomeTaxExpenseBenefit'}, {'unit': 'usd', 'label': 'Other', 'value': 215000000, 'concept': 'OtherNoncashIncomeExpense'}, {'unit': 'usd', 'label': 'Accounts receivable, net', 'value': -8094000000, 'concept': 'IncreaseDecreaseInAccountsReceivable'}, {'unit': 'usd', 'label': 'Inventories', 'value': 1006000000, 'concept': 'IncreaseDecreaseInInventories'}, {'unit': 'usd', 'label': 'Vendor non-trade receivables', 'value': -14616000000, 'concept': 'IncreaseDecreaseInOtherReceivables'}, {'unit': 'usd', 'label': 'Other current and non-current assets', 'value': 717000000, 'concept': 'IncreaseDecreaseInOtherOperatingAssets'}, {'unit': 'usd', 'label': 'Accounts payable', 'value': -20024000000, 'concept': 'IncreaseDecreaseInAccountsPayable'}, {'unit': 'usd', 'label': 'Deferred revenue', 'value': -540000000, 'concept': 'IncreaseDecreaseInContractWithCustomerLiability'}, {'unit': 'usd', 'label': 'Other current and non-current liabilities', 'value': -3273000000, 'concept': 'IncreaseDecreaseInOtherOperatingLiabilities'}, {'unit': 'usd', 'label': 'Operating activities:', 'value': 37845000000, 'concept': 'NetCashProvidedByUsedInOperatingActivities'}, {'unit': 'usd', 'label': 'Purchases of marketable securities', 'value': 13854000000, 'concept': 'PaymentsToAcquireAvailableForSaleSecuritiesDebt'}, {'unit': 'usd', 'label': 'Proceeds from maturities of marketable securities', 'value': 16880000000, 'concept': 'ProceedsFromMaturitiesPrepaymentsAndCallsOfAvailableForSaleSecurities'}, {'unit': 'usd', 'label': 'Proceeds from sales of marketable securities', 'value': 22635000000, 'concept': 'ProceedsFromSaleOfAvailableForSaleSecuritiesDebt'}, {'unit': 'usd', 'label': 'Payments for acquisition of property, plant and equipment', 'value': 5718000000, 'concept': 'PaymentsToAcquirePropertyPlantAndEquipment'}, {'unit': 'usd', 'label': 'Payments made in connection with business acquisitions, net', 'value': 291000000, 'concept': 'PaymentsToAcquireBusinessesNetOfCashAcquired'}, {'unit': 'usd', 'label': 'Purchases of non-marketable securities', 'value': 490000000, 'concept': 'PaymentsToAcquireOtherInvestments'}, {'unit': 'usd', 'label': 'Other', 'value': -30000000, 'concept': 'PaymentsForProceedsFromOtherInvestingActivities'}, {'unit': 'usd', 'label': 'Investing activities:', 'value': 19192000000, 'concept': 'NetCashProvidedByUsedInInvestingActivities'}, {'unit': 'usd', 'label': 'Proceeds from issuance of common stock', 'value': 390000000, 'concept': 'ProceedsFromIssuanceOfCommonStock'}, {'unit': 'usd', 'label': 'Payments for taxes related to net share settlement of equity awards', 'value': 1427000000, 'concept': 'PaymentsRelatedToTaxWithholdingForShareBasedCompensation'}, {'unit': 'usd', 'label': 'Payments for dividends and dividend equivalents', 'value': 7011000000, 'concept': 'PaymentsOfDividends'}, {'unit': 'usd', 'label': 'Repurchases of common stock', 'value': 32498000000, 'concept': 'PaymentsForRepurchaseOfCommonStock'}, {'unit': 'usd', 'label': 'Proceeds from issuance of term debt, net', 'value': 'N/A', 'concept': 'ProceedsFromIssuanceOfLongTermDebt'}, {'unit': 'usd', 'label': 'Repayments of term debt', 'value': 2500000000, 'concept': 'RepaymentsOfLongTermDebt'}, {'unit': 'usd', 'label': 'Other', 'value': -87000000, 'concept': 'ProceedsFromPaymentsForOtherFinancingActivities'}, {'unit': 'usd', 'label': 'Financing activities:', 'value': -43133000000, 'concept': 'NetCashProvidedByUsedInFinancingActivities'}, {'unit': 'usd', 'label': 'Increase in cash, cash equivalents and restricted cash', 'value': 13904000000, 'concept': 'CashCashEquivalentsRestrictedCashAndRestrictedCashEquivalentsPeriodIncreaseDecreaseIncludingExchangeRateEffect'}, {'unit': 'usd', 'label': 'Cash paid for income taxes, net', 'value': 9497000000, 'concept': 'IncomeTaxesPaidNet'}, {'unit': 'usd', 'label': 'Cash paid for interest', 'value': 1762000000, 'concept': 'InterestPaidNet'}], 'ic': [{'unit': 'usd', 'label': 'Net income', 'value': 31526000000, 'concept': 'NetIncomeLoss'}, {'unit': 'usd', 'label': 'Change in foreign currency translation, net of tax', 'value': 96000000, 'concept': 'OtherComprehensiveIncomeLossForeignCurrencyTransactionAndTranslationAdjustmentNetOfTax'}, {'unit': 'usd', 'label': 'Change in fair value of derivatives', 'value': -384000000, 'concept': 'OtherComprehensiveIncomeUnrealizedGainLossOnDerivativesArisingDuringPeriodNetOfTax'}, {'unit': 'usd', 'label': 'Adjustment for net (gains)/losses realized and included in net income', 'value': 63000000, 'concept': 'OtherComprehensiveIncomeLossReclassificationAdjustmentFromAOCIOnDerivativesNetOfTax'}, {'unit': 'usd', 'label': 'Total change in unrealized gains/losses on derivative instruments', 'value': -447000000, 'concept': 'OtherComprehensiveIncomeLossDerivativesQualifyingAsHedgesNetOfTax'}, {'unit': 'usd', 'label': 'Change in fair value of marketable securities', 'value': 2152000000, 'concept': 'OtherComprehensiveIncomeUnrealizedHoldingGainLossOnSecuritiesArisingDuringPeriodNetOfTax'}, {'unit': 'usd', 'label': 'Adjustment for net (gains)/losses realized and included in net income', 'value': -65000000, 'concept': 'OtherComprehensiveIncomeLossReclassificationAdjustmentFromAOCIForSaleOfSecuritiesNetOfTax'}, {'unit': 'usd', 'label': 'Total change in unrealized gains/losses on marketable securities', 'value': 2217000000, 'concept': 'OtherComprehensiveIncomeLossAvailableForSaleSecuritiesAdjustmentNetOfTax'}, {'unit': 'usd', 'label': 'Total other comprehensive income/(loss)', 'value': 1866000000, 'concept': 'OtherComprehensiveIncomeLossNetOfTaxPortionAttributableToParent'}, {'unit': 'usd', 'label': 'Other comprehensive income/(loss):', 'value': 33392000000, 'concept': 'ComprehensiveIncomeNetOfTax'}, {'unit': 'usd', 'label': 'Net sales', 'value': 142325000000, 'concept': 'RevenueFromContractWithCustomerExcludingAssessedTax'}, {'unit': 'usd', 'label': 'Cost of sales', 'value': 88473000000, 'concept': 'CostOfGoodsAndServicesSold'}, {'unit': 'usd', 'label': 'Gross margin', 'value': 53852000000, 'concept': 'GrossProfit'}, {'unit': 'usd', 'label': 'Research and development', 'value': 7850000000, 'concept': 'ResearchAndDevelopmentExpense'}, {'unit': 'usd', 'label': 'Selling, general and administrative', 'value': 9241000000, 'concept': 'SellingGeneralAndAdministrativeExpense'}, {'unit': 'usd', 'label': 'Operating expenses:', 'value': 17091000000, 'concept': 'OperatingExpenses'}, {'unit': 'usd', 'label': 'Operating income', 'value': 36761000000, 'concept': 'OperatingIncomeLoss'}, {'unit': 'usd', 'label': 'Other income/(expense), net', 'value': 938000000, 'concept': 'NonoperatingIncomeExpense'}, {'unit': 'usd', 'label': 'Income before provision for income taxes', 'value': 37699000000, 'concept': 'IncomeLossFromContinuingOperationsBeforeIncomeTaxesExtraordinaryItemsNoncontrollingInterest'}, {'unit': 'usd', 'label': 'Provision for income taxes', 'value': 6173000000, 'concept': 'IncomeTaxExpenseBenefit'}, {'unit': 'usd/shares', 'label': 'Basic (in dollars per share)', 'value': 6.7, 'concept': 'EarningsPerShareBasic'}, {'unit': 'usd/shares', 'label': 'Diluted (in dollars per share)', 'value': 6.66, 'concept': 'EarningsPerShareDiluted'}, {'unit': 'shares', 'label': 'Basic (in shares)', 'value': 4704945000, 'concept': 'WeightedAverageNumberOfSharesOutstandingBasic'}, {'unit': 'shares', 'label': 'Diluted (in shares)', 'value': 4736949000, 'concept': 'WeightedAverageNumberOfDilutedSharesOutstanding'}]}}, {'accessNumber': '0000320193-19-000010', 'symbol': 'AAPL', 'cik': '320193', 'year': 2019, 'quarter': 1, 'form': '10-Q', 'startDate': '2018-09-30 00:00:00', 'endDate': '2018-12-29 00:00:00', 'filedDate': '2019-01-30 00:00:00', 'acceptedDate': '2019-01-30 16:31:37', 'report': {'bs': [{'unit': 'usd', 'label': 'Cash and cash equivalents, beginning balances', 'value': 44771000000, 'concept': 'CashAndCashEquivalentsAtCarryingValue'}, {'unit': 'usd', 'label': 'Marketable securities', 'value': 41656000000, 'concept': 'MarketableSecuritiesCurrent'}, {'unit': 'usd', 'label': 'Accounts receivable, net', 'value': 18077000000, 'concept': 'AccountsReceivableNetCurrent'}, {'unit': 'usd', 'label': 'Inventories', 'value': 4988000000, 'concept': 'InventoryNet'}, {'unit': 'usd', 'label': 'Vendor non-trade receivables', 'value': 18904000000, 'concept': 'NontradeReceivablesCurrent'}, {'unit': 'usd', 'label': 'Other current assets', 'value': 12432000000, 'concept': 'OtherAssetsCurrent'}, {'unit': 'usd', 'label': 'Current assets:', 'value': 140828000000, 'concept': 'AssetsCurrent'}, {'unit': 'usd', 'label': 'Marketable securities', 'value': 158608000000, 'concept': 'MarketableSecuritiesNoncurrent'}, {'unit': 'usd', 'label': 'Total property, plant and equipment, net', 'value': 39597000000, 'concept': 'PropertyPlantAndEquipmentNet'}, {'unit': 'usd', 'label': 'Other non-current assets', 'value': 34686000000, 'concept': 'OtherAssetsNoncurrent'}, {'unit': 'usd', 'label': 'Non-current assets:', 'value': 232891000000, 'concept': 'AssetsNoncurrent'}, {'unit': 'usd', 'label': 'ASSETS:', 'value': 373719000000, 'concept': 'Assets'}, {'unit': 'usd', 'label': 'Accounts payable', 'value': 44293000000, 'concept': 'AccountsPayableCurrent'}, {'unit': 'usd', 'label': 'Other current liabilities', 'value': 36703000000, 'concept': 'OtherLiabilitiesCurrent'}, {'unit': 'usd', 'label': 'Deferred revenue', 'value': 5546000000, 'concept': 'ContractWithCustomerLiabilityCurrent'}, {'unit': 'usd', 'label': 'Commercial paper', 'value': 11969000000, 'concept': 'CommercialPaper'}, {'unit': 'usd', 'label': 'Term debt', 'value': 9772000000, 'concept': 'LongTermDebtCurrent'}, {'unit': 'usd', 'label': 'Current liabilities:', 'value': 108283000000, 'concept': 'LiabilitiesCurrent'}, {'unit': 'usd', 'label': 'Term debt', 'value': 92989000000, 'concept': 'LongTermDebtNoncurrent'}, {'unit': 'usd', 'label': 'Other non-current liabilities', 'value': 54555000000, 'concept': 'OtherLiabilitiesNoncurrent'}, {'unit': 'usd', 'label': 'Non-current liabilities:', 'value': 147544000000, 'concept': 'LiabilitiesNoncurrent'}, {'unit': 'usd', 'label': 'LIABILITIES AND SHAREHOLDERSu2019 EQUITY:', 'value': 255827000000, 'concept': 'Liabilities'}, {'unit': 'usd', 'label': 'Commitments and Contingencies Disclosure [Abstract]', 'value': 'N/A', 'concept': 'CommitmentsAndContingencies'}, {'unit': 'usd', 'label': 'Common stock and additional paid-in capital, $0.00001 par value: 12,600,000 shares authorized; 4,729,803 and 4,754,986 shares issued and outstanding, respectively', 'value': 40970000000, 'concept': 'CommonStocksIncludingAdditionalPaidInCapital'}, {'unit': 'usd', 'label': 'Retained earnings', 'value': 80510000000, 'concept': 'RetainedEarningsAccumulatedDeficit'}, {'unit': 'usd', 'label': 'Accumulated other comprehensive income/(loss)', 'value': -3588000000, 'concept': 'AccumulatedOtherComprehensiveIncomeLossNetOfTax'}, {'unit': 'usd', 'label': 'Beginning balances', 'value': 117892000000, 'concept': 'StockholdersEquity'}, {'unit': 'usd', 'label': 'LIABILITIES AND SHAREHOLDERSu2019 EQUITY:', 'value': 373719000000, 'concept': 'LiabilitiesAndStockholdersEquity'}], 'cf': [{'unit': 'usd', 'label': 'Numerator:', 'value': 19965000000, 'concept': 'NetIncomeLoss'}, {'unit': 'usd', 'label': 'Depreciation and amortization', 'value': 3395000000, 'concept': 'DepreciationDepletionAndAmortization'}, {'unit': 'usd', 'label': 'Share-based compensation expense', 'value': 1559000000, 'concept': 'ShareBasedCompensation'}, {'unit': 'usd', 'label': 'Deferred income tax expense/(benefit)', 'value': 53000000, 'concept': 'DeferredIncomeTaxExpenseBenefit'}, {'unit': 'usd', 'label': 'Other', 'value': 54000000, 'concept': 'OtherNoncashIncomeExpense'}, {'unit': 'usd', 'label': 'Accounts receivable, net', 'value': -5130000000, 'concept': 'IncreaseDecreaseInAccountsReceivable'}, {'unit': 'usd', 'label': 'Inventories', 'value': 1076000000, 'concept': 'IncreaseDecreaseInInventories'}, {'unit': 'usd', 'label': 'Vendor non-trade receivables', 'value': -6905000000, 'concept': 'IncreaseDecreaseInOtherReceivables'}, {'unit': 'usd', 'label': 'Other current and non-current assets', 'value': 886000000, 'concept': 'IncreaseDecreaseInOtherOperatingAssets'}, {'unit': 'usd', 'label': 'Accounts payable', 'value': -8501000000, 'concept': 'IncreaseDecreaseInAccountsPayable'}, {'unit': 'usd', 'label': 'Deferred revenue', 'value': -370000000, 'concept': 'IncreaseDecreaseInContractWithCustomerLiability'}, {'unit': 'usd', 'label': 'Other current and non-current liabilities', 'value': 570000000, 'concept': 'IncreaseDecreaseInOtherOperatingLiabilities'}, {'unit': 'usd', 'label': 'Operating activities:', 'value': 26690000000, 'concept': 'NetCashProvidedByUsedInOperatingActivities'}, {'unit': 'usd', 'label': 'Purchases of marketable securities', 'value': 7077000000, 'concept': 'PaymentsToAcquireAvailableForSaleSecuritiesDebt'}, {'unit': 'usd', 'label': 'Proceeds from maturities of marketable securities', 'value': 7203000000, 'concept': 'ProceedsFromMaturitiesPrepaymentsAndCallsOfAvailableForSaleSecurities'}, {'unit': 'usd', 'label': 'Proceeds from sales of marketable securities', 'value': 9723000000, 'concept': 'ProceedsFromSaleOfAvailableForSaleSecuritiesDebt'}, {'unit': 'usd', 'label': 'Payments for acquisition of property, plant and equipment', 'value': 3355000000, 'concept': 'PaymentsToAcquirePropertyPlantAndEquipment'}, {'unit': 'usd', 'label': 'Payments made in connection with business acquisitions, net', 'value': 167000000, 'concept': 'PaymentsToAcquireBusinessesNetOfCashAcquired'}, {'unit': 'usd', 'label': 'Purchases of non-marketable securities', 'value': 427000000, 'concept': 'PaymentsToAcquireOtherInvestments'}, {'unit': 'usd', 'label': 'Other', 'value': 56000000, 'concept': 'PaymentsForProceedsFromOtherInvestingActivities'}, {'unit': 'usd', 'label': 'Investing activities:', 'value': 5844000000, 'concept': 'NetCashProvidedByUsedInInvestingActivities'}, {'unit': 'usd', 'label': 'Payments for taxes related to net share settlement of equity awards', 'value': 1318000000, 'concept': 'PaymentsRelatedToTaxWithholdingForShareBasedCompensation'}, {'unit': 'usd', 'label': 'Payments for dividends and dividend equivalents', 'value': 3568000000, 'concept': 'PaymentsOfDividends'}, {'unit': 'usd', 'label': 'Repurchases of common stock', 'value': 8796000000, 'concept': 'PaymentsForRepurchaseOfCommonStock'}, {'unit': 'usd', 'label': 'Proceeds from issuance of term debt, net', 'value': 0, 'concept': 'ProceedsFromIssuanceOfLongTermDebt'}, {'unit': 'usd', 'label': 'Change in commercial paper, net', 'value': 6000000, 'concept': 'ProceedsFromRepaymentsOfCommercialPaper'}, {'unit': 'usd', 'label': 'Financing activities:', 'value': -13676000000, 'concept': 'NetCashProvidedByUsedInFinancingActivities'}, {'unit': 'usd', 'label': 'Increase/(Decrease) in cash and cash equivalents', 'value': 18858000000, 'concept': 'CashAndCashEquivalentsPeriodIncreaseDecrease'}, {'unit': 'usd', 'label': 'Cash paid for income taxes, net', 'value': 4916000000, 'concept': 'IncomeTaxesPaidNet'}, {'unit': 'usd', 'label': 'Cash paid for interest', 'value': 836000000, 'concept': 'InterestPaidNet'}], 'ic': [{'unit': 'usd', 'label': 'Numerator:', 'value': 19965000000, 'concept': 'NetIncomeLoss'}, {'unit': 'usd', 'label': 'Change in foreign currency translation, net of tax', 'value': -78000000, 'concept': 'OtherComprehensiveIncomeLossForeignCurrencyTransactionAndTranslationAdjustmentNetOfTax'}, {'unit': 'usd', 'label': 'Change in fair value of derivatives', 'value': -334000000, 'concept': 'OtherComprehensiveIncomeUnrealizedGainLossOnDerivativesArisingDuringPeriodNetOfTax'}, {'unit': 'usd', 'label': 'Adjustment for net (gains)/losses realized and included in net income', 'value': -42000000, 'concept': 'OtherComprehensiveIncomeLossReclassificationAdjustmentFromAOCIOnDerivativesNetOfTax'}, {'unit': 'usd', 'label': 'Total change in unrealized gains/losses on derivative instruments', 'value': -292000000, 'concept': 'OtherComprehensiveIncomeLossDerivativesQualifyingAsHedgesNetOfTax'}, {'unit': 'usd', 'label': 'Change in fair value of marketable securities', 'value': 110000000, 'concept': 'OtherComprehensiveIncomeUnrealizedHoldingGainLossOnSecuritiesArisingDuringPeriodNetOfTax'}, {'unit': 'usd', 'label': 'Adjustment for net (gains)/losses realized and included in net income', 'value': -37000000, 'concept': 'OtherComprehensiveIncomeLossReclassificationAdjustmentFromAOCIForSaleOfSecuritiesNetOfTax'}, {'unit': 'usd', 'label': 'Total change in unrealized gains/losses on marketable securities', 'value': 147000000, 'concept': 'OtherComprehensiveIncomeLossAvailableForSaleSecuritiesAdjustmentNetOfTax'}, {'unit': 'usd', 'label': 'Other comprehensive income/(loss)', 'value': -223000000, 'concept': 'OtherComprehensiveIncomeLossNetOfTaxPortionAttributableToParent'}, {'unit': 'usd', 'label': 'Other comprehensive income/(loss):', 'value': 19742000000, 'concept': 'ComprehensiveIncomeNetOfTax'}, {'unit': 'usd', 'label': 'Net sales', 'value': 84310000000, 'concept': 'RevenueFromContractWithCustomerExcludingAssessedTax'}, {'unit': 'usd', 'label': 'Cost of sales', 'value': 52279000000, 'concept': 'CostOfGoodsAndServicesSold'}, {'unit': 'usd', 'label': 'Gross margin', 'value': 32031000000, 'concept': 'GrossProfit'}, {'unit': 'usd', 'label': 'Research and development expense', 'value': 3902000000, 'concept': 'ResearchAndDevelopmentExpense'}, {'unit': 'usd', 'label': 'Selling, general and administrative', 'value': 4783000000, 'concept': 'SellingGeneralAndAdministrativeExpense'}, {'unit': 'usd', 'label': 'Operating expenses:', 'value': 8685000000, 'concept': 'OperatingExpenses'}, {'unit': 'usd', 'label': 'Operating income', 'value': 23346000000, 'concept': 'OperatingIncomeLoss'}, {'unit': 'usd', 'label': 'Total other income/(expense), net', 'value': 560000000, 'concept': 'NonoperatingIncomeExpense'}, {'unit': 'usd', 'label': 'Income before provision for income taxes', 'value': 23906000000, 'concept': 'IncomeLossFromContinuingOperationsBeforeIncomeTaxesExtraordinaryItemsNoncontrollingInterest'}, {'unit': 'usd', 'label': 'Provision for income taxes', 'value': 3941000000, 'concept': 'IncomeTaxExpenseBenefit'}, {'unit': 'usd/shares', 'label': 'Basic earnings per share (in dollars per share)', 'value': 4.22, 'concept': 'EarningsPerShareBasic'}, {'unit': 'usd/shares', 'label': 'Diluted earnings per share (in dollars per share)', 'value': 4.18, 'concept': 'EarningsPerShareDiluted'}, {'unit': 'shares', 'label': 'Weighted-average basic shares outstanding (in shares)', 'value': 4735820000, 'concept': 'WeightedAverageNumberOfSharesOutstandingBasic'}, {'unit': 'shares', 'label': 'Weighted-average diluted shares (in shares)', 'value': 4773252000, 'concept': 'WeightedAverageNumberOfDilutedSharesOutstanding'}]}}, {'accessNumber': '0000320193-18-000100', 'symbol': 'AAPL', 'cik': '320193', 'year': 2018, 'quarter': 3, 'form': '10-Q', 'startDate': '2017-10-01 00:00:00', 'endDate': '2018-06-30 00:00:00', 'filedDate': '2018-08-01 00:00:00', 'acceptedDate': '2018-08-01 16:31:48', 'report': {'bs': [{'unit': 'usd', 'label': 'Cash and cash equivalents, beginning of the period', 'value': 31971000000, 'concept': 'CashAndCashEquivalentsAtCarryingValue'}, {'unit': 'usd', 'label': 'Short-Term Marketable Securities', 'value': 38999000000, 'concept': 'AvailableForSaleSecuritiesCurrent'}, {'unit': 'usd', 'label': 'Accounts receivable, net', 'value': 14104000000, 'concept': 'AccountsReceivableNetCurrent'}, {'unit': 'usd', 'label': 'Total inventories', 'value': 5936000000, 'concept': 'InventoryNet'}, {'unit': 'usd', 'label': 'Vendor non-trade receivables', 'value': 12263000000, 'concept': 'NontradeReceivablesCurrent'}, {'unit': 'usd', 'label': 'Other current assets', 'value': 12488000000, 'concept': 'OtherAssetsCurrent'}, {'unit': 'usd', 'label': 'Current assets:', 'value': 115761000000, 'concept': 'AssetsCurrent'}, {'unit': 'usd', 'label': 'Long-Term Marketable Securities', 'value': 172773000000, 'concept': 'AvailableForSaleSecuritiesNoncurrent'}, {'unit': 'usd', 'label': 'Property, plant and equipment, net', 'value': 38117000000, 'concept': 'PropertyPlantAndEquipmentNet'}, {'unit': 'usd', 'label': 'Other non-current assets', 'value': 22546000000, 'concept': 'OtherAssetsNoncurrent'}, {'unit': 'usd', 'label': 'ASSETS:', 'value': 349197000000, 'concept': 'Assets'}, {'unit': 'usd', 'label': 'Accounts payable', 'value': 38489000000, 'concept': 'AccountsPayableCurrent'}, {'unit': 'usd', 'label': 'Accrued expenses', 'value': 25184000000, 'concept': 'AccruedLiabilitiesCurrent'}, {'unit': 'usd', 'label': 'Deferred revenue', 'value': 7403000000, 'concept': 'DeferredRevenueCurrent'}, {'unit': 'usd', 'label': 'Commercial paper', 'value': 11974000000, 'concept': 'CommercialPaper'}, {'unit': 'usd', 'label': 'Less: Current portion of long-term debt', 'value': 5498000000, 'concept': 'LongTermDebtCurrent'}, {'unit': 'usd', 'label': 'Current liabilities:', 'value': 88548000000, 'concept': 'LiabilitiesCurrent'}, {'unit': 'usd', 'label': 'Deferred revenue, non-current', 'value': 2878000000, 'concept': 'DeferredRevenueNoncurrent'}, {'unit': 'usd', 'label': 'Total long-term debt', 'value': 97128000000, 'concept': 'LongTermDebtNoncurrent'}, {'unit': 'usd', 'label': 'Total other non-current liabilities', 'value': 45694000000, 'concept': 'OtherLiabilitiesNoncurrent'}, {'unit': 'usd', 'label': 'LIABILITIES AND SHAREHOLDERSu2019 EQUITY:', 'value': 234248000000, 'concept': 'Liabilities'}, {'unit': 'usd', 'label': 'Commitments and Contingencies Disclosure [Abstract]', 'value': 'N/A', 'concept': 'CommitmentsAndContingencies'}, {'unit': 'usd', 'label': 'Common stock and additional paid-in capital, $0.00001 par value: 12,600,000 shares authorized; 4,842,917 and 5,126,201 shares issued and outstanding, respectively', 'value': 38624000000, 'concept': 'CommonStocksIncludingAdditionalPaidInCapital'}, {'unit': 'usd', 'label': 'Retained earnings', 'value': 79436000000, 'concept': 'RetainedEarningsAccumulatedDeficit'}, {'unit': 'usd', 'label': 'Accumulated other comprehensive income/(loss)', 'value': -3111000000, 'concept': 'AccumulatedOtherComprehensiveIncomeLossNetOfTax'}, {'unit': 'usd', 'label': \"Shareholders' Equity\", 'value': 114949000000, 'concept': 'StockholdersEquity'}, {'unit': 'usd', 'label': 'LIABILITIES AND SHAREHOLDERSu2019 EQUITY:', 'value': 349197000000, 'concept': 'LiabilitiesAndStockholdersEquity'}], 'cf': [{'unit': 'usd', 'label': 'Net income', 'value': 45406000000, 'concept': 'NetIncomeLoss'}, {'unit': 'usd', 'label': 'Depreciation and amortization', 'value': 8149000000, 'concept': 'DepreciationAmortizationAndAccretionNet'}, {'unit': 'usd', 'label': 'Share-based compensation expense', 'value': 3995000000, 'concept': 'ShareBasedCompensation'}, {'unit': 'usd', 'label': 'Deferred income tax expense/(benefit)', 'value': -33109000000, 'concept': 'DeferredIncomeTaxExpenseBenefit'}, {'unit': 'usd', 'label': 'Other', 'value': 410000000, 'concept': 'OtherNoncashIncomeExpense'}, {'unit': 'usd', 'label': 'Accounts receivable, net', 'value': -3756000000, 'concept': 'IncreaseDecreaseInAccountsReceivable'}, {'unit': 'usd', 'label': 'Inventories', 'value': 1114000000, 'concept': 'IncreaseDecreaseInInventories'}, {'unit': 'usd', 'label': 'Vendor non-trade receivables', 'value': -5536000000, 'concept': 'IncreaseDecreaseInOtherReceivables'}, {'unit': 'usd', 'label': 'Other current and non-current assets', 'value': 65000000, 'concept': 'IncreaseDecreaseInOtherOperatingAssets'}, {'unit': 'usd', 'label': 'Accounts payable', 'value': -11139000000, 'concept': 'IncreaseDecreaseInAccountsPayable'}, {'unit': 'usd', 'label': 'Deferred revenue', 'value': -103000000, 'concept': 'IncreaseDecreaseInDeferredRevenue'}, {'unit': 'usd', 'label': 'Other current and non-current liabilities', 'value': 37009000000, 'concept': 'IncreaseDecreaseInOtherOperatingLiabilities'}, {'unit': 'usd', 'label': 'Operating activities:', 'value': 57911000000, 'concept': 'NetCashProvidedByUsedInOperatingActivities'}, {'unit': 'usd', 'label': 'Purchases of marketable securities', 'value': 56133000000, 'concept': 'PaymentsToAcquireAvailableForSaleSecurities'}, {'unit': 'usd', 'label': 'Proceeds from maturities of marketable securities', 'value': 46290000000, 'concept': 'ProceedsFromMaturitiesPrepaymentsAndCallsOfAvailableForSaleSecurities'}, {'unit': 'usd', 'label': 'Proceeds from sales of marketable securities', 'value': 41614000000, 'concept': 'ProceedsFromSaleOfAvailableForSaleSecurities'}, {'unit': 'usd', 'label': 'Payments for acquisition of property, plant and equipment', 'value': 10272000000, 'concept': 'PaymentsToAcquirePropertyPlantAndEquipment'}, {'unit': 'usd', 'label': 'Payments made in connection with business acquisitions, net', 'value': 431000000, 'concept': 'PaymentsToAcquireBusinessesNetOfCashAcquired'}, {'unit': 'usd', 'label': 'Purchases of non-marketable securities', 'value': 1788000000, 'concept': 'PaymentsToAcquireOtherInvestments'}, {'unit': 'usd', 'label': 'Proceeds from non-marketable securities', 'value': 310000000, 'concept': 'ProceedsFromSaleAndMaturityOfOtherInvestments'}, {'unit': 'usd', 'label': 'Other', 'value': 523000000, 'concept': 'PaymentsForProceedsFromOtherInvestingActivities'}, {'unit': 'usd', 'label': 'Investing activities:', 'value': 19067000000, 'concept': 'NetCashProvidedByUsedInInvestingActivities'}, {'unit': 'usd', 'label': 'Proceeds from issuance of common stock', 'value': 328000000, 'concept': 'ProceedsFromIssuanceOfCommonStock'}, {'unit': 'usd', 'label': 'Payments for taxes related to net share settlement of equity awards', 'value': 2267000000, 'concept': 'PaymentsRelatedToTaxWithholdingForShareBasedCompensation'}, {'unit': 'usd', 'label': 'Payments for dividends and dividend equivalents', 'value': 10182000000, 'concept': 'PaymentsOfDividends'}, {'unit': 'usd', 'label': 'Repurchases of common stock', 'value': 53634000000, 'concept': 'PaymentsForRepurchaseOfCommonStock'}, {'unit': 'usd', 'label': 'Proceeds from issuance of term debt, net', 'value': 6969000000, 'concept': 'ProceedsFromIssuanceOfLongTermDebt'}, {'unit': 'usd', 'label': 'Repayments of term debt', 'value': 6500000000, 'concept': 'RepaymentsOfLongTermDebt'}, {'unit': 'usd', 'label': 'Change in commercial paper, net', 'value': -10000000, 'concept': 'ProceedsFromRepaymentsOfCommercialPaper'}, {'unit': 'usd', 'label': 'Financing activities:', 'value': -65296000000, 'concept': 'NetCashProvidedByUsedInFinancingActivities'}, {'unit': 'usd', 'label': 'Increase/(Decrease) in cash and cash equivalents', 'value': 11682000000, 'concept': 'CashAndCashEquivalentsPeriodIncreaseDecrease'}, {'unit': 'usd', 'label': 'Cash paid for income taxes, net', 'value': 8819000000, 'concept': 'IncomeTaxesPaidNet'}, {'unit': 'usd', 'label': 'Cash paid for interest', 'value': 2120000000, 'concept': 'InterestPaid'}], 'ic': [{'unit': 'usd', 'label': 'Net income', 'value': 45406000000, 'concept': 'NetIncomeLoss'}, {'unit': 'usd', 'label': 'Change in foreign currency translation, net of tax effects of $(3), $(35), $4 and $(3), respectively', 'value': -287000000, 'concept': 'OtherComprehensiveIncomeLossForeignCurrencyTransactionAndTranslationAdjustmentNetOfTax'}, {'unit': 'usd', 'label': 'Change in fair value of derivatives, net of tax benefit/(expense) of $70, $(16), $(60) and $(269), respectively', 'value': 170000000, 'concept': 'OtherComprehensiveIncomeUnrealizedGainLossOnDerivativesArisingDuringPeriodNetOfTax'}, {'unit': 'usd', 'label': 'Adjustment for net (gains)/losses realized and included in net income, net of tax expense/(benefit) of $(254), $176, $(198) and $276, respectively', 'value': -873000000, 'concept': 'OtherComprehensiveIncomeLossReclassificationAdjustmentFromAOCIOnDerivativesNetOfTax'}, {'unit': 'usd', 'label': 'Total change in unrealized gains/losses on derivative instruments, net of tax', 'value': 1043000000, 'concept': 'OtherComprehensiveIncomeLossDerivativesQualifyingAsHedgesNetOfTax'}, {'unit': 'usd', 'label': 'Change in fair value of marketable securities, net of tax benefit/(expense) of $154, $(197), $1,159 and $536, respectively', 'value': -3417000000, 'concept': 'OtherComprehensiveIncomeUnrealizedHoldingGainLossOnSecuritiesArisingDuringPeriodNetOfTax'}, {'unit': 'usd', 'label': 'Adjustment for net (gains)/losses realized and included in net income, net of tax expense/(benefit) of $(7), $16, $27 and $12, respectively', 'value': 22000000, 'concept': 'OtherComprehensiveIncomeLossReclassificationAdjustmentFromAOCIForSaleOfSecuritiesNetOfTax'}, {'unit': 'usd', 'label': 'Total change in unrealized gains/losses on marketable securities, net of tax', 'value': -3439000000, 'concept': 'OtherComprehensiveIncomeLossAvailableForSaleSecuritiesAdjustmentNetOfTax'}, {'unit': 'usd', 'label': 'Total other comprehensive income/(loss)', 'value': -2683000000, 'concept': 'OtherComprehensiveIncomeLossNetOfTaxPortionAttributableToParent'}, {'unit': 'usd', 'label': 'Other comprehensive income/(loss):', 'value': 42723000000, 'concept': 'ComprehensiveIncomeNetOfTax'}, {'unit': 'usd', 'label': 'Net sales', 'value': 202695000000, 'concept': 'SalesRevenueNet'}, {'unit': 'usd', 'label': 'Cost of sales', 'value': 124940000000, 'concept': 'CostOfGoodsAndServicesSold'}, {'unit': 'usd', 'label': 'Gross margin', 'value': 77755000000, 'concept': 'GrossProfit'}, {'unit': 'usd', 'label': 'Research and development', 'value': 10486000000, 'concept': 'ResearchAndDevelopmentExpense'}, {'unit': 'usd', 'label': 'Selling, general and administrative', 'value': 12489000000, 'concept': 'SellingGeneralAndAdministrativeExpense'}, {'unit': 'usd', 'label': 'Operating expenses:', 'value': 22975000000, 'concept': 'OperatingExpenses'}, {'unit': 'usd', 'label': 'Operating income', 'value': 54780000000, 'concept': 'OperatingIncomeLoss'}, {'unit': 'usd', 'label': 'Total other income/(expense), net', 'value': 1702000000, 'concept': 'NonoperatingIncomeExpense'}, {'unit': 'usd', 'label': 'Income before provision for income taxes', 'value': 56482000000, 'concept': 'IncomeLossFromContinuingOperationsBeforeIncomeTaxesExtraordinaryItemsNoncontrollingInterest'}, {'unit': 'usd', 'label': 'Provision for income taxes', 'value': 11076000000, 'concept': 'IncomeTaxExpenseBenefit'}, {'unit': 'usd/shares', 'label': 'Basic (in dollars per share)', 'value': 9.07, 'concept': 'EarningsPerShareBasic'}, {'unit': 'usd/shares', 'label': 'Diluted (in dollars per share)', 'value': 8.99, 'concept': 'EarningsPerShareDiluted'}, {'unit': 'shares', 'label': 'Basic (in shares)', 'value': 5006640000, 'concept': 'WeightedAverageNumberOfSharesOutstandingBasic'}, {'unit': 'shares', 'label': 'Diluted (in shares)', 'value': 5050963000, 'concept': 'WeightedAverageNumberOfDilutedSharesOutstanding'}, {'unit': 'usd/shares', 'label': 'Cash dividends declared per share (in dollars per share)', 'value': 1.99, 'concept': 'CommonStockDividendsPerShareDeclared'}]}}, {'accessNumber': '0000320193-18-000070', 'symbol': 'AAPL', 'cik': '320193', 'year': 2018, 'quarter': 2, 'form': '10-Q', 'startDate': '2017-10-01 00:00:00', 'endDate': '2018-03-31 00:00:00', 'filedDate': '2018-05-02 00:00:00', 'acceptedDate': '2018-05-02 16:32:12', 'report': {'bs': [{'unit': 'usd', 'label': 'Cash and cash equivalents, beginning of the period', 'value': 45059000000, 'concept': 'CashAndCashEquivalentsAtCarryingValue'}, {'unit': 'usd', 'label': 'Short-term marketable securities', 'value': 42881000000, 'concept': 'AvailableForSaleSecuritiesCurrent'}, {'unit': 'usd', 'label': 'Accounts receivable, less allowances of $60 and $58, respectively', 'value': 14324000000, 'concept': 'AccountsReceivableNetCurrent'}, {'unit': 'usd', 'label': 'Total inventories', 'value': 7662000000, 'concept': 'InventoryNet'}, {'unit': 'usd', 'label': 'Vendor non-trade receivables', 'value': 8084000000, 'concept': 'NontradeReceivablesCurrent'}, {'unit': 'usd', 'label': 'Other current assets', 'value': 12043000000, 'concept': 'OtherAssetsCurrent'}, {'unit': 'usd', 'label': 'Current assets:', 'value': 130053000000, 'concept': 'AssetsCurrent'}, {'unit': 'usd', 'label': 'Long-term marketable securities', 'value': 179286000000, 'concept': 'AvailableForSaleSecuritiesNoncurrent'}, {'unit': 'usd', 'label': 'Property, plant and equipment, net', 'value': 35077000000, 'concept': 'PropertyPlantAndEquipmentNet'}, {'unit': 'usd', 'label': 'Other non-current assets', 'value': 23086000000, 'concept': 'OtherAssetsNoncurrent'}, {'unit': 'usd', 'label': 'ASSETS:', 'value': 367502000000, 'concept': 'Assets'}, {'unit': 'usd', 'label': 'Accounts payable', 'value': 34311000000, 'concept': 'AccountsPayableCurrent'}, {'unit': 'usd', 'label': 'Accrued expenses', 'value': 26756000000, 'concept': 'AccruedLiabilitiesCurrent'}, {'unit': 'usd', 'label': 'Deferred revenue', 'value': 7775000000, 'concept': 'DeferredRevenueCurrent'}, {'unit': 'usd', 'label': 'Commercial paper', 'value': 11980000000, 'concept': 'CommercialPaper'}, {'unit': 'usd', 'label': 'Less: Current portion of long-term debt', 'value': 8498000000, 'concept': 'LongTermDebtCurrent'}, {'unit': 'usd', 'label': 'Current liabilities:', 'value': 89320000000, 'concept': 'LiabilitiesCurrent'}, {'unit': 'usd', 'label': 'Deferred revenue, non-current', 'value': 3087000000, 'concept': 'DeferredRevenueNoncurrent'}, {'unit': 'usd', 'label': 'Total long-term debt', 'value': 101362000000, 'concept': 'LongTermDebtNoncurrent'}, {'unit': 'usd', 'label': 'Other non-current liabilities', 'value': 46855000000, 'concept': 'OtherLiabilitiesNoncurrent'}, {'unit': 'usd', 'label': 'LIABILITIES AND SHAREHOLDERSu2019 EQUITY:', 'value': 240624000000, 'concept': 'Liabilities'}, {'unit': 'usd', 'label': 'Commitments and Contingencies Disclosure [Abstract]', 'value': 'N/A', 'concept': 'CommitmentsAndContingencies'}, {'unit': 'usd', 'label': 'Common stock and additional paid-in capital, $0.00001 par value: 12,600,000 shares authorized; 4,943,282 and 5,126,201 shares issued and outstanding, respectively', 'value': 38044000000, 'concept': 'CommonStocksIncludingAdditionalPaidInCapital'}, {'unit': 'usd', 'label': 'Retained earnings', 'value': 91898000000, 'concept': 'RetainedEarningsAccumulatedDeficit'}, {'unit': 'usd', 'label': 'Accumulated other comprehensive income/(loss)', 'value': -3064000000, 'concept': 'AccumulatedOtherComprehensiveIncomeLossNetOfTax'}, {'unit': 'usd', 'label': \"Shareholders' Equity\", 'value': 126878000000, 'concept': 'StockholdersEquity'}, {'unit': 'usd', 'label': 'LIABILITIES AND SHAREHOLDERSu2019 EQUITY:', 'value': 367502000000, 'concept': 'LiabilitiesAndStockholdersEquity'}], 'cf': [{'unit': 'usd', 'label': 'Net income', 'value': 33887000000, 'concept': 'NetIncomeLoss'}, {'unit': 'usd', 'label': 'Depreciation and amortization', 'value': 5484000000, 'concept': 'DepreciationAmortizationAndAccretionNet'}, {'unit': 'usd', 'label': 'Share-based compensation expense', 'value': 2644000000, 'concept': 'ShareBasedCompensation'}, {'unit': 'usd', 'label': 'Deferred income tax expense/(benefit)', 'value': -34235000000, 'concept': 'DeferredIncomeTaxExpenseBenefit'}, {'unit': 'usd', 'label': 'Other', 'value': 151000000, 'concept': 'OtherNoncashIncomeExpense'}, {'unit': 'usd', 'label': 'Accounts receivable, net', 'value': -3523000000, 'concept': 'IncreaseDecreaseInAccountsReceivable'}, {'unit': 'usd', 'label': 'Inventories', 'value': 2807000000, 'concept': 'IncreaseDecreaseInInventories'}, {'unit': 'usd', 'label': 'Vendor non-trade receivables', 'value': -9715000000, 'concept': 'IncreaseDecreaseInOtherReceivables'}, {'unit': 'usd', 'label': 'Other current and non-current assets', 'value': 1053000000, 'concept': 'IncreaseDecreaseInOtherOperatingAssets'}, {'unit': 'usd', 'label': 'Accounts payable', 'value': -13220000000, 'concept': 'IncreaseDecreaseInAccountsPayable'}, {'unit': 'usd', 'label': 'Deferred revenue', 'value': 478000000, 'concept': 'IncreaseDecreaseInDeferredRevenue'}, {'unit': 'usd', 'label': 'Other current and non-current liabilities', 'value': 39158000000, 'concept': 'IncreaseDecreaseInOtherOperatingLiabilities'}, {'unit': 'usd', 'label': 'Operating activities:', 'value': 43423000000, 'concept': 'NetCashProvidedByUsedInOperatingActivities'}, {'unit': 'usd', 'label': 'Purchases of marketable securities', 'value': 48449000000, 'concept': 'PaymentsToAcquireAvailableForSaleSecurities'}, {'unit': 'usd', 'label': 'Proceeds from maturities of marketable securities', 'value': 31884000000, 'concept': 'ProceedsFromMaturitiesPrepaymentsAndCallsOfAvailableForSaleSecurities'}, {'unit': 'usd', 'label': 'Proceeds from sales of marketable securities', 'value': 38942000000, 'concept': 'ProceedsFromSaleOfAvailableForSaleSecurities'}, {'unit': 'usd', 'label': 'Payments for acquisition of property, plant and equipment', 'value': 7005000000, 'concept': 'PaymentsToAcquirePropertyPlantAndEquipment'}, {'unit': 'usd', 'label': 'Payments made in connection with business acquisitions, net', 'value': 305000000, 'concept': 'PaymentsToAcquireBusinessesNetOfCashAcquired'}, {'unit': 'usd', 'label': 'Other', 'value': -53000000, 'concept': 'PaymentsForProceedsFromOtherInvestingActivities'}, {'unit': 'usd', 'label': 'Investing activities:', 'value': 15120000000, 'concept': 'NetCashProvidedByUsedInInvestingActivities'}, {'unit': 'usd', 'label': 'Proceeds from issuance of common stock', 'value': 327000000, 'concept': 'ProceedsFromIssuanceOfCommonStock'}, {'unit': 'usd', 'label': 'Payments for taxes related to net share settlement of equity awards', 'value': 1190000000, 'concept': 'PaymentsRelatedToTaxWithholdingForShareBasedCompensation'}, {'unit': 'usd', 'label': 'Payments for dividends and dividend equivalents', 'value': 6529000000, 'concept': 'PaymentsOfDividends'}, {'unit': 'usd', 'label': 'Repurchases of common stock', 'value': 32851000000, 'concept': 'PaymentsForRepurchaseOfCommonStock'}, {'unit': 'usd', 'label': 'Proceeds from issuance of term debt, net', 'value': 6969000000, 'concept': 'ProceedsFromIssuanceOfLongTermDebt'}, {'unit': 'usd', 'label': 'Repayments of term debt', 'value': 500000000, 'concept': 'RepaymentsOfLongTermDebt'}, {'unit': 'usd', 'label': 'Change in commercial paper, net', 'value': 1000000, 'concept': 'ProceedsFromRepaymentsOfCommercialPaper'}, {'unit': 'usd', 'label': 'Financing activities:', 'value': -33773000000, 'concept': 'NetCashProvidedByUsedInFinancingActivities'}, {'unit': 'usd', 'label': 'Increase/(Decrease) in cash and cash equivalents', 'value': 24770000000, 'concept': 'CashAndCashEquivalentsPeriodIncreaseDecrease'}, {'unit': 'usd', 'label': 'Cash paid for income taxes, net', 'value': 6340000000, 'concept': 'IncomeTaxesPaidNet'}, {'unit': 'usd', 'label': 'Cash paid for interest', 'value': 1356000000, 'concept': 'InterestPaid'}], 'ic': [{'unit': 'usd', 'label': 'Net income', 'value': 33887000000, 'concept': 'NetIncomeLoss'}, {'unit': 'usd', 'label': 'Change in foreign currency translation, net of tax effects of $8, $(44), $7 and $32, respectively', 'value': 303000000, 'concept': 'OtherComprehensiveIncomeLossForeignCurrencyTransactionAndTranslationAdjustmentNetOfTax'}, {'unit': 'usd', 'label': 'Change in fair value of derivatives, net of tax benefit/(expense) of $(64), $(25), $(130) and $(253), respectively', 'value': 61000000, 'concept': 'OtherComprehensiveIncomeUnrealizedGainLossOnDerivativesArisingDuringPeriodNetOfTax'}, {'unit': 'usd', 'label': 'Adjustment for net (gains)/losses realized and included in net income, net of tax expense/(benefit) of $77, $311, $56 and $100, respectively', 'value': 105000000, 'concept': 'OtherComprehensiveIncomeLossReclassificationAdjustmentFromAOCIOnDerivativesNetOfTax'}, {'unit': 'usd', 'label': 'Total change in unrealized gains/losses on derivative instruments, net of tax', 'value': -44000000, 'concept': 'OtherComprehensiveIncomeLossDerivativesQualifyingAsHedgesNetOfTax'}, {'unit': 'usd', 'label': 'Change in fair value of marketable securities, net of tax benefit/(expense) of $541, $(256), $1,005 and $733, respectively', 'value': -2849000000, 'concept': 'OtherComprehensiveIncomeUnrealizedHoldingGainLossOnSecuritiesArisingDuringPeriodNetOfTax'}, {'unit': 'usd', 'label': 'Adjustment for net (gains)/losses realized and included in net income, net of tax expense/(benefit) of $(7), $7, $34 and $(4), respectively', 'value': 46000000, 'concept': 'OtherComprehensiveIncomeLossReclassificationAdjustmentFromAOCIForSaleOfSecuritiesNetOfTax'}, {'unit': 'usd', 'label': 'Total change in unrealized gains/losses on marketable securities, net of tax', 'value': -2895000000, 'concept': 'OtherComprehensiveIncomeLossAvailableForSaleSecuritiesAdjustmentNetOfTax'}, {'unit': 'usd', 'label': 'Total other comprehensive income/(loss)', 'value': -2636000000, 'concept': 'OtherComprehensiveIncomeLossNetOfTaxPortionAttributableToParent'}, {'unit': 'usd', 'label': 'Other comprehensive income/(loss):', 'value': 31251000000, 'concept': 'ComprehensiveIncomeNetOfTax'}, {'unit': 'usd', 'label': 'Net sales', 'value': 149430000000, 'concept': 'SalesRevenueNet'}, {'unit': 'usd', 'label': 'Cost of sales', 'value': 92096000000, 'concept': 'CostOfGoodsAndServicesSold'}, {'unit': 'usd', 'label': 'Gross margin', 'value': 57334000000, 'concept': 'GrossProfit'}, {'unit': 'usd', 'label': 'Research and development expense', 'value': 6785000000, 'concept': 'ResearchAndDevelopmentExpense'}, {'unit': 'usd', 'label': 'Selling, general and administrative', 'value': 8381000000, 'concept': 'SellingGeneralAndAdministrativeExpense'}, {'unit': 'usd', 'label': 'Operating expenses:', 'value': 15166000000, 'concept': 'OperatingExpenses'}, {'unit': 'usd', 'label': 'Operating income', 'value': 42168000000, 'concept': 'OperatingIncomeLoss'}, {'unit': 'usd', 'label': 'Other income/(expense), net', 'value': 1030000000, 'concept': 'NonoperatingIncomeExpense'}, {'unit': 'usd', 'label': 'Income before provision for income taxes', 'value': 43198000000, 'concept': 'IncomeLossFromContinuingOperationsBeforeIncomeTaxesExtraordinaryItemsNoncontrollingInterest'}, {'unit': 'usd', 'label': 'Provision for income taxes', 'value': 9311000000, 'concept': 'IncomeTaxExpenseBenefit'}, {'unit': 'usd/shares', 'label': 'Basic earnings per share (in dollars per share)', 'value': 6.69, 'concept': 'EarningsPerShareBasic'}, {'unit': 'usd/shares', 'label': 'Diluted earnings per share (in dollars per share)', 'value': 6.63, 'concept': 'EarningsPerShareDiluted'}, {'unit': 'shares', 'label': 'Weighted-average basic shares outstanding (in shares)', 'value': 5068877000, 'concept': 'WeightedAverageNumberOfSharesOutstandingBasic'}, {'unit': 'shares', 'label': 'Weighted-average diluted shares (in shares)', 'value': 5113140000, 'concept': 'WeightedAverageNumberOfDilutedSharesOutstanding'}, {'unit': 'usd/shares', 'label': 'Cash dividends declared per share (in dollars per share)', 'value': 1.26, 'concept': 'CommonStockDividendsPerShareDeclared'}]}}, {'accessNumber': '0000320193-18-000007', 'symbol': 'AAPL', 'cik': '320193', 'year': 2018, 'quarter': 1, 'form': '10-Q', 'startDate': '2017-10-01 00:00:00', 'endDate': '2017-12-30 00:00:00', 'filedDate': '2018-02-02 00:00:00', 'acceptedDate': '2018-02-02 08:01:26', 'report': {'bs': [{'unit': 'usd', 'label': 'Cash and Cash Equivalents', 'value': 27491000000, 'concept': 'CashAndCashEquivalentsAtCarryingValue'}, {'unit': 'usd', 'label': 'Short-Term Marketable Securities', 'value': 49662000000, 'concept': 'AvailableForSaleSecuritiesCurrent'}, {'unit': 'usd', 'label': 'Accounts receivable, less allowances of $59 and $58, respectively', 'value': 23440000000, 'concept': 'AccountsReceivableNetCurrent'}, {'unit': 'usd', 'label': 'Inventories', 'value': 4421000000, 'concept': 'InventoryNet'}, {'unit': 'usd', 'label': 'Vendor non-trade receivables', 'value': 27459000000, 'concept': 'NontradeReceivablesCurrent'}, {'unit': 'usd', 'label': 'Other current assets', 'value': 11337000000, 'concept': 'OtherAssetsCurrent'}, {'unit': 'usd', 'label': 'Current assets:', 'value': 143810000000, 'concept': 'AssetsCurrent'}, {'unit': 'usd', 'label': 'Long-Term Marketable Securities', 'value': 207944000000, 'concept': 'AvailableForSaleSecuritiesNoncurrent'}, {'unit': 'usd', 'label': 'Total property, plant and equipment, net', 'value': 33679000000, 'concept': 'PropertyPlantAndEquipmentNet'}, {'unit': 'usd', 'label': 'Goodwill and Intangible Assets Disclosure [Abstract]', 'value': 5889000000, 'concept': 'Goodwill'}, {'unit': 'usd', 'label': 'Total acquired intangible assets, net carrying amount', 'value': 2149000000, 'concept': 'IntangibleAssetsNetExcludingGoodwill'}, {'unit': 'usd', 'label': 'Other non-current assets', 'value': 13323000000, 'concept': 'OtherAssetsNoncurrent'}, {'unit': 'usd', 'label': 'ASSETS:', 'value': 406794000000, 'concept': 'Assets'}, {'unit': 'usd', 'label': 'Accounts payable', 'value': 62985000000, 'concept': 'AccountsPayableCurrent'}, {'unit': 'usd', 'label': 'Accrued expenses', 'value': 26281000000, 'concept': 'AccruedLiabilitiesCurrent'}, {'unit': 'usd', 'label': 'Deferred revenue', 'value': 8044000000, 'concept': 'DeferredRevenueCurrent'}, {'unit': 'usd', 'label': 'Commercial paper', 'value': 11980000000, 'concept': 'CommercialPaper'}, {'unit': 'usd', 'label': 'Less: Current portion of long-term debt', 'value': 6498000000, 'concept': 'LongTermDebtCurrent'}, {'unit': 'usd', 'label': 'Current liabilities:', 'value': 115788000000, 'concept': 'LiabilitiesCurrent'}, {'unit': 'usd', 'label': 'Deferred revenue, non-current', 'value': 3131000000, 'concept': 'DeferredRevenueNoncurrent'}, {'unit': 'usd', 'label': 'Total long-term debt', 'value': 103922000000, 'concept': 'LongTermDebtNoncurrent'}, {'unit': 'usd', 'label': 'Total other non-current liabilities', 'value': 43754000000, 'concept': 'OtherLiabilitiesNoncurrent'}, {'unit': 'usd', 'label': 'LIABILITIES AND SHAREHOLDERSu2019 EQUITY:', 'value': 266595000000, 'concept': 'Liabilities'}, {'unit': 'usd', 'label': 'Commitments and Contingencies Disclosure [Abstract]', 'value': 'N/A', 'concept': 'CommitmentsAndContingencies'}, {'unit': 'usd', 'label': 'Common stock and additional paid-in capital, $0.00001 par value: 12,600,000 shares authorized; 5,081,651 and 5,126,201 shares issued and outstanding, respectively', 'value': 36447000000, 'concept': 'CommonStocksIncludingAdditionalPaidInCapital'}, {'unit': 'usd', 'label': 'Retained earnings', 'value': 104593000000, 'concept': 'RetainedEarningsAccumulatedDeficit'}, {'unit': 'usd', 'label': 'Accumulated other comprehensive income/(loss)', 'value': -841000000, 'concept': 'AccumulatedOtherComprehensiveIncomeLossNetOfTax'}, {'unit': 'usd', 'label': \"Shareholders' Equity\", 'value': 140199000000, 'concept': 'StockholdersEquity'}, {'unit': 'usd', 'label': 'LIABILITIES AND SHAREHOLDERSu2019 EQUITY:', 'value': 406794000000, 'concept': 'LiabilitiesAndStockholdersEquity'}], 'cf': [{'unit': 'usd', 'label': 'Numerator:', 'value': 20065000000, 'concept': 'NetIncomeLoss'}, {'unit': 'usd', 'label': 'Depreciation and amortization', 'value': 2745000000, 'concept': 'DepreciationAmortizationAndAccretionNet'}, {'unit': 'usd', 'label': 'Equity Award [Domain]', 'value': 1296000000, 'concept': 'ShareBasedCompensation'}, {'unit': 'usd', 'label': 'Deferred income tax expense/(benefit)', 'value': -33737000000, 'concept': 'DeferredIncomeTaxExpenseBenefit'}, {'unit': 'usd', 'label': 'Other', 'value': 11000000, 'concept': 'OtherNoncashIncomeExpense'}, {'unit': 'usd', 'label': 'Accounts receivable, net', 'value': 5570000000, 'concept': 'IncreaseDecreaseInAccountsReceivable'}, {'unit': 'usd', 'label': 'Inventories', 'value': -434000000, 'concept': 'IncreaseDecreaseInInventories'}, {'unit': 'usd', 'label': 'Vendor non-trade receivables', 'value': 9660000000, 'concept': 'IncreaseDecreaseInOtherReceivables'}, {'unit': 'usd', 'label': 'Other current and non-current assets', 'value': 197000000, 'concept': 'IncreaseDecreaseInOtherOperatingAssets'}, {'unit': 'usd', 'label': 'Accounts payable', 'value': 14588000000, 'concept': 'IncreaseDecreaseInAccountsPayable'}, {'unit': 'usd', 'label': 'Deferred revenue', 'value': 791000000, 'concept': 'IncreaseDecreaseInDeferredRevenue'}, {'unit': 'usd', 'label': 'Other current and non-current liabilities', 'value': 37549000000, 'concept': 'IncreaseDecreaseInOtherOperatingLiabilities'}, {'unit': 'usd', 'label': 'Operating activities:', 'value': 28293000000, 'concept': 'NetCashProvidedByUsedInOperatingActivities'}, {'unit': 'usd', 'label': 'Purchases of marketable securities', 'value': 41272000000, 'concept': 'PaymentsToAcquireAvailableForSaleSecurities'}, {'unit': 'usd', 'label': 'Proceeds from maturities of marketable securities', 'value': 14048000000, 'concept': 'ProceedsFromMaturitiesPrepaymentsAndCallsOfAvailableForSaleSecurities'}, {'unit': 'usd', 'label': 'Proceeds from sales of marketable securities', 'value': 16801000000, 'concept': 'ProceedsFromSaleOfAvailableForSaleSecurities'}, {'unit': 'usd', 'label': 'Payments made in connection with business acquisitions, net', 'value': 173000000, 'concept': 'PaymentsToAcquireBusinessesNetOfCashAcquired'}, {'unit': 'usd', 'label': 'Payments for acquisition of property, plant and equipment', 'value': 2810000000, 'concept': 'PaymentsToAcquirePropertyPlantAndEquipment'}, {'unit': 'usd', 'label': 'Payments for acquisition of intangible assets', 'value': 154000000, 'concept': 'PaymentsToAcquireIntangibleAssets'}, {'unit': 'usd', 'label': 'Payments for strategic investments, net', 'value': 94000000, 'concept': 'PaymentsToAcquireOtherInvestments'}, {'unit': 'usd', 'label': 'Other', 'value': -64000000, 'concept': 'PaymentsForProceedsFromOtherInvestingActivities'}, {'unit': 'usd', 'label': 'Investing activities:', 'value': -13590000000, 'concept': 'NetCashProvidedByUsedInInvestingActivities'}, {'unit': 'usd', 'label': 'Payments for taxes related to net share settlement of equity awards', 'value': 1038000000, 'concept': 'PaymentsRelatedToTaxWithholdingForShareBasedCompensation'}, {'unit': 'usd', 'label': 'Dividend amount', 'value': 3339000000, 'concept': 'PaymentsOfDividends'}, {'unit': 'usd', 'label': 'Repurchases of common stock', 'value': 10095000000, 'concept': 'PaymentsForRepurchaseOfCommonStock'}, {'unit': 'usd', 'label': 'Proceeds from issuance of term debt, net', 'value': 6969000000, 'concept': 'ProceedsFromIssuanceOfLongTermDebt'}, {'unit': 'usd', 'label': 'Change in commercial paper, net', 'value': 2000000, 'concept': 'ProceedsFromRepaymentsOfCommercialPaper'}, {'unit': 'usd', 'label': 'Financing activities:', 'value': -7501000000, 'concept': 'NetCashProvidedByUsedInFinancingActivities'}, {'unit': 'usd', 'label': 'Increase/(Decrease) in cash and cash equivalents', 'value': 7202000000, 'concept': 'CashAndCashEquivalentsPeriodIncreaseDecrease'}, {'unit': 'usd', 'label': 'Cash paid for income taxes, net', 'value': 3551000000, 'concept': 'IncomeTaxesPaidNet'}, {'unit': 'usd', 'label': 'Cash paid for interest', 'value': 623000000, 'concept': 'InterestPaid'}], 'ic': [{'unit': 'usd', 'label': 'Numerator:', 'value': 20065000000, 'concept': 'NetIncomeLoss'}, {'unit': 'usd', 'label': 'Change in foreign currency translation, net of tax effects of $(1) and $76, respectively', 'value': 40000000, 'concept': 'OtherComprehensiveIncomeLossForeignCurrencyTransactionAndTranslationAdjustmentNetOfTax'}, {'unit': 'usd', 'label': 'Change in fair value of derivatives, net of tax benefit/(expense) of $(66) and $(228), respectively', 'value': 88000000, 'concept': 'OtherComprehensiveIncomeUnrealizedGainLossOnDerivativesArisingDuringPeriodNetOfTax'}, {'unit': 'usd', 'label': 'Adjustment for net (gains)/losses realized and included in net income, net of tax expense/(benefit) of $(21) and $(211), respectively', 'value': -102000000, 'concept': 'OtherComprehensiveIncomeLossReclassificationAdjustmentFromAOCIOnDerivativesNetOfTax'}, {'unit': 'usd', 'label': 'Total change in unrealized gains/losses on derivative instruments, net of tax', 'value': 190000000, 'concept': 'OtherComprehensiveIncomeLossDerivativesQualifyingAsHedgesNetOfTax'}, {'unit': 'usd', 'label': 'Change in fair value of marketable securities, net of tax benefit/(expense) of $464 and $989, respectively', 'value': -846000000, 'concept': 'OtherComprehensiveIncomeUnrealizedHoldingGainLossOnSecuritiesArisingDuringPeriodNetOfTax'}, {'unit': 'usd', 'label': 'Adjustment for net (gains)/losses realized and included in net income, net of tax expense/(benefit) of $41 and $(11), respectively', 'value': 75000000, 'concept': 'OtherComprehensiveIncomeLossReclassificationAdjustmentFromAOCIForSaleOfSecuritiesNetOfTax'}, {'unit': 'usd', 'label': 'Total change in unrealized gains/losses on marketable securities, net of tax', 'value': -921000000, 'concept': 'OtherComprehensiveIncomeLossAvailableForSaleSecuritiesAdjustmentNetOfTax'}, {'unit': 'usd', 'label': 'Total other comprehensive income/(loss)', 'value': -691000000, 'concept': 'OtherComprehensiveIncomeLossNetOfTaxPortionAttributableToParent'}, {'unit': 'usd', 'label': 'Other comprehensive income/(loss):', 'value': 19374000000, 'concept': 'ComprehensiveIncomeNetOfTax'}, {'unit': 'usd', 'label': 'Net sales', 'value': 88293000000, 'concept': 'SalesRevenueNet'}, {'unit': 'usd', 'label': 'Cost of sales', 'value': 54381000000, 'concept': 'CostOfGoodsAndServicesSold'}, {'unit': 'usd', 'label': 'Gross margin', 'value': 33912000000, 'concept': 'GrossProfit'}, {'unit': 'usd', 'label': 'Research and development expense', 'value': 3407000000, 'concept': 'ResearchAndDevelopmentExpense'}, {'unit': 'usd', 'label': 'Selling, general and administrative', 'value': 4231000000, 'concept': 'SellingGeneralAndAdministrativeExpense'}, {'unit': 'usd', 'label': 'Operating expenses:', 'value': 7638000000, 'concept': 'OperatingExpenses'}, {'unit': 'usd', 'label': 'Operating income', 'value': 26274000000, 'concept': 'OperatingIncomeLoss'}, {'unit': 'usd', 'label': 'Total other income/(expense), net', 'value': 756000000, 'concept': 'NonoperatingIncomeExpense'}, {'unit': 'usd', 'label': 'Total amounts reclassified from AOCI', 'value': 27030000000, 'concept': 'IncomeLossFromContinuingOperationsBeforeIncomeTaxesExtraordinaryItemsNoncontrollingInterest'}, {'unit': 'usd', 'label': 'Provision for income taxes', 'value': 6965000000, 'concept': 'IncomeTaxExpenseBenefit'}, {'unit': 'usd/shares', 'label': 'Basic earnings per share (in dollars per share)', 'value': 3.92, 'concept': 'EarningsPerShareBasic'}, {'unit': 'usd/shares', 'label': 'Diluted earnings per share (in dollars per share)', 'value': 3.89, 'concept': 'EarningsPerShareDiluted'}, {'unit': 'shares', 'label': 'Weighted-average shares outstanding (in shares)', 'value': 5112877000, 'concept': 'WeightedAverageNumberOfSharesOutstandingBasic'}, {'unit': 'shares', 'label': 'Weighted-average diluted shares (in shares)', 'value': 5157787000, 'concept': 'WeightedAverageNumberOfDilutedSharesOutstanding'}, {'unit': 'usd/shares', 'label': 'Dividends per share (in dollars per share)', 'value': 0.63, 'concept': 'CommonStockDividendsPerShareDeclared'}]}}, {'accessNumber': '0000320193-17-000009', 'symbol': 'AAPL', 'cik': '320193', 'year': 2017, 'quarter': 3, 'form': '10-Q', 'startDate': '2016-09-25 00:00:00', 'endDate': '2017-07-01 00:00:00', 'filedDate': '2017-08-02 00:00:00', 'acceptedDate': '2017-08-02 16:31:28', 'report': {'bs': [{'unit': 'usd', 'label': 'Cash and Cash Equivalents', 'value': 18571000000, 'concept': 'CashAndCashEquivalentsAtCarryingValue'}, {'unit': 'usd', 'label': 'Short-Term Marketable Securities', 'value': 58188000000, 'concept': 'AvailableForSaleSecuritiesCurrent'}, {'unit': 'usd', 'label': 'Accounts receivable, less allowances of $55 and $53, respectively', 'value': 12399000000, 'concept': 'AccountsReceivableNetCurrent'}, {'unit': 'usd', 'label': 'Inventories', 'value': 3146000000, 'concept': 'InventoryNet'}, {'unit': 'usd', 'label': 'Vendor non-trade receivables', 'value': 10233000000, 'concept': 'NontradeReceivablesCurrent'}, {'unit': 'usd', 'label': 'Other current assets', 'value': 10338000000, 'concept': 'OtherAssetsCurrent'}, {'unit': 'usd', 'label': 'Current assets:', 'value': 112875000000, 'concept': 'AssetsCurrent'}, {'unit': 'usd', 'label': 'Long-Term Marketable Securities', 'value': 184757000000, 'concept': 'AvailableForSaleSecuritiesNoncurrent'}, {'unit': 'usd', 'label': 'Total property, plant and equipment, net', 'value': 29286000000, 'concept': 'PropertyPlantAndEquipmentNet'}, {'unit': 'usd', 'label': 'Goodwill and Intangible Assets Disclosure [Abstract]', 'value': 5661000000, 'concept': 'Goodwill'}, {'unit': 'usd', 'label': 'Total acquired intangible assets, net carrying amount', 'value': 2444000000, 'concept': 'IntangibleAssetsNetExcludingGoodwill'}, {'unit': 'usd', 'label': 'Other non-current assets', 'value': 10150000000, 'concept': 'OtherAssetsNoncurrent'}, {'unit': 'usd', 'label': 'ASSETS:', 'value': 345173000000, 'concept': 'Assets'}, {'unit': 'usd', 'label': 'Accounts payable', 'value': 31915000000, 'concept': 'AccountsPayableCurrent'}, {'unit': 'usd', 'label': 'Accrued expenses', 'value': 23304000000, 'concept': 'AccruedLiabilitiesCurrent'}, {'unit': 'usd', 'label': 'Deferred revenue', 'value': 7608000000, 'concept': 'DeferredRevenueCurrent'}, {'unit': 'usd', 'label': 'Commercial paper', 'value': 11980000000, 'concept': 'CommercialPaper'}, {'unit': 'usd', 'label': 'Less: Current portion of long-term debt', 'value': 6495000000, 'concept': 'LongTermDebtCurrent'}, {'unit': 'usd', 'label': 'Current liabilities:', 'value': 81302000000, 'concept': 'LiabilitiesCurrent'}, {'unit': 'usd', 'label': 'Deferred revenue, non-current', 'value': 2984000000, 'concept': 'DeferredRevenueNoncurrent'}, {'unit': 'usd', 'label': 'Total long-term debt', 'value': 89864000000, 'concept': 'LongTermDebtNoncurrent'}, {'unit': 'usd', 'label': 'Other non-current liabilities', 'value': 38598000000, 'concept': 'OtherLiabilitiesNoncurrent'}, {'unit': 'usd', 'label': 'LIABILITIES AND SHAREHOLDERSu2019 EQUITY:', 'value': 212748000000, 'concept': 'Liabilities'}, {'unit': 'usd', 'label': 'Commitments and Contingencies Disclosure [Abstract]', 'value': 'N/A', 'concept': 'CommitmentsAndContingencies'}, {'unit': 'usd', 'label': 'Common stock and additional paid-in capital, $0.00001 par value: 12,600,000 shares authorized; 5,169,782 and 5,336,166 shares issued and outstanding, respectively', 'value': 34445000000, 'concept': 'CommonStocksIncludingAdditionalPaidInCapital'}, {'unit': 'usd', 'label': 'Retained earnings', 'value': 98525000000, 'concept': 'RetainedEarningsAccumulatedDeficit'}, {'unit': 'usd', 'label': 'Accumulated other comprehensive income/(loss)', 'value': -545000000, 'concept': 'AccumulatedOtherComprehensiveIncomeLossNetOfTax'}, {'unit': 'usd', 'label': 'Shareholdersu2019 equity:', 'value': 132425000000, 'concept': 'StockholdersEquity'}, {'unit': 'usd', 'label': 'LIABILITIES AND SHAREHOLDERSu2019 EQUITY:', 'value': 345173000000, 'concept': 'LiabilitiesAndStockholdersEquity'}], 'cf': [{'unit': 'usd', 'label': 'Net income', 'value': 37637000000, 'concept': 'NetIncomeLoss'}, {'unit': 'usd', 'label': 'Depreciation and amortization', 'value': 7673000000, 'concept': 'DepreciationAmortizationAndAccretionNet'}, {'unit': 'usd', 'label': 'Shares reserved for future issuance under stock plans (in shares)', 'value': 3666000000, 'concept': 'ShareBasedCompensation'}, {'unit': 'usd', 'label': 'Deferred income tax expense', 'value': 4764000000, 'concept': 'DeferredIncomeTaxExpenseBenefit'}, {'unit': 'usd', 'label': 'Other', 'value': 142000000, 'concept': 'OtherNoncashIncomeExpense'}, {'unit': 'usd', 'label': 'Accounts receivable, net', 'value': -3381000000, 'concept': 'IncreaseDecreaseInAccountsReceivable'}, {'unit': 'usd', 'label': 'Inventories', 'value': 1014000000, 'concept': 'IncreaseDecreaseInInventories'}, {'unit': 'usd', 'label': 'Vendor non-trade receivables', 'value': -3312000000, 'concept': 'IncreaseDecreaseInOtherReceivables'}, {'unit': 'usd', 'label': 'Other current and non-current assets', 'value': 3229000000, 'concept': 'IncreaseDecreaseInOtherOperatingAssets'}, {'unit': 'usd', 'label': 'Accounts payable', 'value': -5212000000, 'concept': 'IncreaseDecreaseInAccountsPayable'}, {'unit': 'usd', 'label': 'Deferred revenue', 'value': -418000000, 'concept': 'IncreaseDecreaseInDeferredRevenue'}, {'unit': 'usd', 'label': 'Other current and non-current liabilities', 'value': -2476000000, 'concept': 'IncreaseDecreaseInOtherOperatingLiabilities'}, {'unit': 'usd', 'label': 'Operating activities:', 'value': 47942000000, 'concept': 'NetCashProvidedByUsedInOperatingActivities'}, {'unit': 'usd', 'label': 'Purchases of marketable securities', 'value': 123781000000, 'concept': 'PaymentsToAcquireAvailableForSaleSecurities'}, {'unit': 'usd', 'label': 'Proceeds from maturities of marketable securities', 'value': 19347000000, 'concept': 'ProceedsFromMaturitiesPrepaymentsAndCallsOfAvailableForSaleSecurities'}, {'unit': 'usd', 'label': 'Proceeds from sales of marketable securities', 'value': 76747000000, 'concept': 'ProceedsFromSaleOfAvailableForSaleSecurities'}, {'unit': 'usd', 'label': 'Payments made in connection with business acquisitions, net', 'value': 248000000, 'concept': 'PaymentsToAcquireBusinessesNetOfCashAcquired'}, {'unit': 'usd', 'label': 'Payments for acquisition of property, plant and equipment', 'value': 8586000000, 'concept': 'PaymentsToAcquirePropertyPlantAndEquipment'}, {'unit': 'usd', 'label': 'Payments for acquisition of intangible assets', 'value': 209000000, 'concept': 'PaymentsToAcquireIntangibleAssets'}, {'unit': 'usd', 'label': 'Payments for strategic investments, net', 'value': 87000000, 'concept': 'PaymentsToAcquireOtherInvestments'}, {'unit': 'usd', 'label': 'Other', 'value': -313000000, 'concept': 'PaymentsForProceedsFromOtherInvestingActivities'}, {'unit': 'usd', 'label': 'Investing activities:', 'value': -36504000000, 'concept': 'NetCashProvidedByUsedInInvestingActivities'}, {'unit': 'usd', 'label': 'Proceeds from issuance of common stock', 'value': 274000000, 'concept': 'ProceedsFromIssuanceOfCommonStock'}, {'unit': 'usd', 'label': 'Excess tax benefits from equity awards', 'value': 534000000, 'concept': 'ExcessTaxBenefitFromShareBasedCompensationFinancingActivities'}, {'unit': 'usd', 'label': 'Payments for taxes related to net share settlement of equity awards', 'value': 1646000000, 'concept': 'PaymentsRelatedToTaxWithholdingForShareBasedCompensation'}, {'unit': 'usd', 'label': 'Payments for dividends and dividend equivalents', 'value': 9499000000, 'concept': 'PaymentsOfDividends'}, {'unit': 'usd', 'label': 'Repurchases of common stock', 'value': 25105000000, 'concept': 'PaymentsForRepurchaseOfCommonStock'}, {'unit': 'usd', 'label': 'Proceeds from issuance of term debt, net', 'value': 21725000000, 'concept': 'ProceedsFromIssuanceOfLongTermDebt'}, {'unit': 'usd', 'label': 'Repayments of term debt', 'value': 3500000000, 'concept': 'RepaymentsOfLongTermDebt'}, {'unit': 'usd', 'label': 'Change in commercial paper, net', 'value': 3866000000, 'concept': 'ProceedsFromRepaymentsOfCommercialPaper'}, {'unit': 'usd', 'label': 'Financing activities:', 'value': -13351000000, 'concept': 'NetCashProvidedByUsedInFinancingActivities'}, {'unit': 'usd', 'label': 'Increase/(Decrease) in cash and cash equivalents', 'value': -1913000000, 'concept': 'CashAndCashEquivalentsPeriodIncreaseDecrease'}, {'unit': 'usd', 'label': 'Cash paid for income taxes, net', 'value': 9752000000, 'concept': 'IncomeTaxesPaidNet'}, {'unit': 'usd', 'label': 'Cash paid for interest', 'value': 1456000000, 'concept': 'InterestPaid'}], 'ic': [{'unit': 'usd', 'label': 'Net income', 'value': 37637000000, 'concept': 'NetIncomeLoss'}, {'unit': 'usd', 'label': 'Change in foreign currency translation, net of tax effects of $(35), $2, $(3) and $2, respectively', 'value': -41000000, 'concept': 'OtherComprehensiveIncomeLossForeignCurrencyTransactionAndTranslationAdjustmentNetOfTax'}, {'unit': 'usd', 'label': 'Change in fair value of derivatives, net of tax benefit/(expense) of $(16), $27, $(269) and $(10), respectively', 'value': 1002000000, 'concept': 'OtherComprehensiveIncomeUnrealizedGainLossOnDerivativesArisingDuringPeriodNetOfTax'}, {'unit': 'usd', 'label': 'Adjustment for net (gains)/losses realized and included in net income, net of tax expense/(benefit) of $176, $46, $276 and $256, respectively', 'value': 1135000000, 'concept': 'OtherComprehensiveIncomeLossReclassificationAdjustmentFromAOCIOnDerivativesNetOfTax'}, {'unit': 'usd', 'label': 'Total change in unrealized gains/losses on derivative instruments, net of tax', 'value': -133000000, 'concept': 'OtherComprehensiveIncomeLossDerivativesQualifyingAsHedgesNetOfTax'}, {'unit': 'usd', 'label': 'Change in fair value of marketable securities, net of tax benefit/(expense) of $(197), $(641), $536 and $(663), respectively', 'value': -980000000, 'concept': 'OtherComprehensiveIncomeUnrealizedHoldingGainLossOnSecuritiesArisingDuringPeriodNetOfTax'}, {'unit': 'usd', 'label': 'Adjustment for net (gains)/losses realized and included in net income, net of tax expense/(benefit) of $16, $8, $12 and $(45), respectively', 'value': 25000000, 'concept': 'OtherComprehensiveIncomeLossReclassificationAdjustmentFromAOCIForSaleOfSecuritiesNetOfTax'}, {'unit': 'usd', 'label': 'Total change in unrealized gains/losses on marketable securities, net of tax', 'value': -1005000000, 'concept': 'OtherComprehensiveIncomeLossAvailableForSaleSecuritiesAdjustmentNetOfTax'}, {'unit': 'usd', 'label': 'Total other comprehensive income/(loss)', 'value': -1179000000, 'concept': 'OtherComprehensiveIncomeLossNetOfTaxPortionAttributableToParent'}, {'unit': 'usd', 'label': 'Other comprehensive income/(loss):', 'value': 36458000000, 'concept': 'ComprehensiveIncomeNetOfTax'}, {'unit': 'usd', 'label': 'Net sales', 'value': 176655000000, 'concept': 'SalesRevenueNet'}, {'unit': 'usd', 'label': 'Cost of sales', 'value': 108400000000, 'concept': 'CostOfGoodsAndServicesSold'}, {'unit': 'usd', 'label': 'Gross margin', 'value': 68255000000, 'concept': 'GrossProfit'}, {'unit': 'usd', 'label': 'Research and development', 'value': 8584000000, 'concept': 'ResearchAndDevelopmentExpense'}, {'unit': 'usd', 'label': 'Selling, general and administrative', 'value': 11447000000, 'concept': 'SellingGeneralAndAdministrativeExpense'}, {'unit': 'usd', 'label': 'Operating expenses:', 'value': 20031000000, 'concept': 'OperatingExpenses'}, {'unit': 'usd', 'label': 'Operating income', 'value': 48224000000, 'concept': 'OperatingIncomeLoss'}, {'unit': 'usd', 'label': 'Other income/(expense), net', 'value': 1948000000, 'concept': 'NonoperatingIncomeExpense'}, {'unit': 'usd', 'label': 'Income before provision for income taxes', 'value': 50172000000, 'concept': 'IncomeLossFromContinuingOperationsBeforeIncomeTaxesExtraordinaryItemsNoncontrollingInterest'}, {'unit': 'usd', 'label': 'Provision for income taxes', 'value': 12535000000, 'concept': 'IncomeTaxExpenseBenefit'}, {'unit': 'usd/shares', 'label': 'Basic (in dollars per share)', 'value': 7.18, 'concept': 'EarningsPerShareBasic'}, {'unit': 'usd/shares', 'label': 'Diluted (in dollars per share)', 'value': 7.14, 'concept': 'EarningsPerShareDiluted'}, {'unit': 'shares', 'label': 'Basic (in shares)', 'value': 5239847000, 'concept': 'WeightedAverageNumberOfSharesOutstandingBasic'}, {'unit': 'shares', 'label': 'Diluted (in shares)', 'value': 5274394000, 'concept': 'WeightedAverageNumberOfDilutedSharesOutstanding'}, {'unit': 'usd/shares', 'label': 'Cash dividends declared per share (in dollars per share)', 'value': 1.77, 'concept': 'CommonStockDividendsPerShareDeclared'}]}}, {'accessNumber': '0001628280-17-004790', 'symbol': 'AAPL', 'cik': '320193', 'year': 2017, 'quarter': 2, 'form': '10-Q', 'startDate': '2016-09-25 00:00:00', 'endDate': '2017-04-01 00:00:00', 'filedDate': '2017-05-03 00:00:00', 'acceptedDate': '2017-05-03 16:32:23', 'report': {'bs': [{'unit': 'usd', 'label': 'Cash and cash equivalents', 'value': 15157000000, 'concept': 'CashAndCashEquivalentsAtCarryingValue'}, {'unit': 'usd', 'label': 'Short-term marketable securities', 'value': 51944000000, 'concept': 'AvailableForSaleSecuritiesCurrent'}, {'unit': 'usd', 'label': 'Accounts receivable, less an allowance of $53 at each period end', 'value': 11579000000, 'concept': 'AccountsReceivableNetCurrent'}, {'unit': 'usd', 'label': 'Inventories', 'value': 2910000000, 'concept': 'InventoryNet'}, {'unit': 'usd', 'label': 'Vendor non-trade receivables', 'value': 9033000000, 'concept': 'NontradeReceivablesCurrent'}, {'unit': 'usd', 'label': 'Other current assets', 'value': 11367000000, 'concept': 'OtherAssetsCurrent'}, {'unit': 'usd', 'label': 'Current assets:', 'value': 101990000000, 'concept': 'AssetsCurrent'}, {'unit': 'usd', 'label': 'Long-term marketable securities', 'value': 189740000000, 'concept': 'AvailableForSaleSecuritiesNoncurrent'}, {'unit': 'usd', 'label': 'Property, plant and equipment, net', 'value': 27163000000, 'concept': 'PropertyPlantAndEquipmentNet'}, {'unit': 'usd', 'label': 'Goodwill', 'value': 5473000000, 'concept': 'Goodwill'}, {'unit': 'usd', 'label': 'Acquired intangible assets, net', 'value': 2617000000, 'concept': 'IntangibleAssetsNetExcludingGoodwill'}, {'unit': 'usd', 'label': 'Other non-current assets', 'value': 7549000000, 'concept': 'OtherAssetsNoncurrent'}, {'unit': 'usd', 'label': 'ASSETS:', 'value': 334532000000, 'concept': 'Assets'}, {'unit': 'usd', 'label': 'Accounts payable', 'value': 28573000000, 'concept': 'AccountsPayableCurrent'}, {'unit': 'usd', 'label': 'Accrued expenses', 'value': 23096000000, 'concept': 'AccruedLiabilitiesCurrent'}, {'unit': 'usd', 'label': 'Deferred revenue', 'value': 7682000000, 'concept': 'DeferredRevenueCurrent'}, {'unit': 'usd', 'label': 'Commercial paper', 'value': 10000000000, 'concept': 'CommercialPaper'}, {'unit': 'usd', 'label': 'Current portion of long-term debt', 'value': 3999000000, 'concept': 'LongTermDebtCurrent'}, {'unit': 'usd', 'label': 'Current liabilities:', 'value': 73342000000, 'concept': 'LiabilitiesCurrent'}, {'unit': 'usd', 'label': 'Deferred revenue, non-current', 'value': 3107000000, 'concept': 'DeferredRevenueNoncurrent'}, {'unit': 'usd', 'label': 'Long-term debt', 'value': 84531000000, 'concept': 'LongTermDebtNoncurrent'}, {'unit': 'usd', 'label': 'Other non-current liabilities', 'value': 39470000000, 'concept': 'OtherLiabilitiesNoncurrent'}, {'unit': 'usd', 'label': 'LIABILITIES AND SHAREHOLDERSu2019 EQUITY:', 'value': 200450000000, 'concept': 'Liabilities'}, {'unit': 'usd', 'label': 'Commitments and Contingencies Disclosure [Abstract]', 'value': 'N/A', 'concept': 'CommitmentsAndContingencies'}, {'unit': 'usd', 'label': 'Common stock and additional paid-in capital, $0.00001 par value: 12,600,000 shares authorized; 5,205,815 and 5,336,166 shares issued and outstanding, respectively', 'value': 33579000000, 'concept': 'CommonStocksIncludingAdditionalPaidInCapital'}, {'unit': 'usd', 'label': 'Retained earnings', 'value': 100925000000, 'concept': 'RetainedEarningsAccumulatedDeficit'}, {'unit': 'usd', 'label': 'Accumulated other comprehensive income/(loss)', 'value': -422000000, 'concept': 'AccumulatedOtherComprehensiveIncomeLossNetOfTax'}, {'unit': 'usd', 'label': 'Shareholdersu2019 equity:', 'value': 134082000000, 'concept': 'StockholdersEquity'}, {'unit': 'usd', 'label': 'LIABILITIES AND SHAREHOLDERSu2019 EQUITY:', 'value': 334532000000, 'concept': 'LiabilitiesAndStockholdersEquity'}], 'cf': [{'unit': 'usd', 'label': 'Net income', 'value': 28920000000, 'concept': 'NetIncomeLoss'}, {'unit': 'usd', 'label': 'Depreciation and amortization', 'value': 5319000000, 'concept': 'DepreciationAmortizationAndAccretionNet'}, {'unit': 'usd', 'label': 'Shares reserved for future issuance under stock plans (in shares)', 'value': 2473000000, 'concept': 'ShareBasedCompensation'}, {'unit': 'usd', 'label': 'Deferred income tax expense', 'value': 2822000000, 'concept': 'DeferredIncomeTaxExpenseBenefit'}, {'unit': 'usd', 'label': 'Other', 'value': 209000000, 'concept': 'OtherNoncashIncomeExpense'}, {'unit': 'usd', 'label': 'Accounts receivable, net', 'value': -4183000000, 'concept': 'IncreaseDecreaseInAccountsReceivable'}, {'unit': 'usd', 'label': 'Inventories', 'value': 778000000, 'concept': 'IncreaseDecreaseInInventories'}, {'unit': 'usd', 'label': 'Vendor non-trade receivables', 'value': -4512000000, 'concept': 'IncreaseDecreaseInOtherReceivables'}, {'unit': 'usd', 'label': 'Other current and non-current assets', 'value': 896000000, 'concept': 'IncreaseDecreaseInOtherOperatingAssets'}, {'unit': 'usd', 'label': 'Accounts payable', 'value': -6862000000, 'concept': 'IncreaseDecreaseInAccountsPayable'}, {'unit': 'usd', 'label': 'Deferred revenue', 'value': -221000000, 'concept': 'IncreaseDecreaseInDeferredRevenue'}, {'unit': 'usd', 'label': 'Other current and non-current liabilities', 'value': 316000000, 'concept': 'IncreaseDecreaseInOtherOperatingLiabilities'}, {'unit': 'usd', 'label': 'Operating activities:', 'value': 39579000000, 'concept': 'NetCashProvidedByUsedInOperatingActivities'}, {'unit': 'usd', 'label': 'Purchases of marketable securities', 'value': 99821000000, 'concept': 'PaymentsToAcquireAvailableForSaleSecurities'}, {'unit': 'usd', 'label': 'Proceeds from maturities of marketable securities', 'value': 12429000000, 'concept': 'ProceedsFromMaturitiesPrepaymentsAndCallsOfAvailableForSaleSecurities'}, {'unit': 'usd', 'label': 'Proceeds from sales of marketable securities', 'value': 60454000000, 'concept': 'ProceedsFromSaleOfAvailableForSaleSecurities'}, {'unit': 'usd', 'label': 'Payments made in connection with business acquisitions, net', 'value': 67000000, 'concept': 'PaymentsToAcquireBusinessesNetOfCashAcquired'}, {'unit': 'usd', 'label': 'Payments for acquisition of property, plant and equipment', 'value': 6309000000, 'concept': 'PaymentsToAcquirePropertyPlantAndEquipment'}, {'unit': 'usd', 'label': 'Payments for acquisition of intangible assets', 'value': 126000000, 'concept': 'PaymentsToAcquireIntangibleAssets'}, {'unit': 'usd', 'label': 'Payments for strategic investments', 'value': 0, 'concept': 'PaymentsToAcquireOtherInvestments'}, {'unit': 'usd', 'label': 'Other', 'value': -116000000, 'concept': 'PaymentsForProceedsFromOtherInvestingActivities'}, {'unit': 'usd', 'label': 'Investing activities:', 'value': -33324000000, 'concept': 'NetCashProvidedByUsedInInvestingActivities'}, {'unit': 'usd', 'label': 'Proceeds from issuance of common stock', 'value': 273000000, 'concept': 'ProceedsFromIssuanceOfCommonStock'}, {'unit': 'usd', 'label': 'Excess tax benefits from equity awards', 'value': 225000000, 'concept': 'ExcessTaxBenefitFromShareBasedCompensationFinancingActivities'}, {'unit': 'usd', 'label': 'Payments for taxes related to net share settlement of equity awards', 'value': 788000000, 'concept': 'PaymentsRelatedToTaxWithholdingForShareBasedCompensation'}, {'unit': 'usd', 'label': 'Payments for dividends and dividend equivalents', 'value': 6134000000, 'concept': 'aapl:PaymentsOfDividendsAndDividendEquivalentsOnCommonStockAndRestrictedStockUnits'}, {'unit': 'usd', 'label': 'Repurchases of common stock', 'value': 18012000000, 'concept': 'PaymentsForRepurchaseOfCommonStock'}, {'unit': 'usd', 'label': 'Proceeds from issuance of term debt, net', 'value': 10975000000, 'concept': 'ProceedsFromIssuanceOfLongTermDebt'}, {'unit': 'usd', 'label': 'Total change in commercial paper, net', 'value': 1879000000, 'concept': 'ProceedsFromRepaymentsOfCommercialPaper'}, {'unit': 'usd', 'label': 'Financing activities:', 'value': -11582000000, 'concept': 'NetCashProvidedByUsedInFinancingActivities'}, {'unit': 'usd', 'label': 'Increase/(Decrease) in cash and cash equivalents', 'value': -5327000000, 'concept': 'CashAndCashEquivalentsPeriodIncreaseDecrease'}, {'unit': 'usd', 'label': 'Cash paid for income taxes, net', 'value': 6878000000, 'concept': 'IncomeTaxesPaidNet'}, {'unit': 'usd', 'label': 'Cash paid for interest', 'value': 1007000000, 'concept': 'InterestPaid'}], 'ic': [{'unit': 'usd', 'label': 'Net income', 'value': 28920000000, 'concept': 'NetIncomeLoss'}, {'unit': 'usd', 'label': 'Change in foreign currency translation, net of tax effects of $(44), $(19), $32 and $0, respectively', 'value': -161000000, 'concept': 'OtherComprehensiveIncomeLossForeignCurrencyTransactionAndTranslationAdjustmentNetOfTax'}, {'unit': 'usd', 'label': 'Change in fair value of derivatives, net of tax benefit/(expense) of $(25), $1, $(253) and $(37), respectively', 'value': 1168000000, 'concept': 'OtherComprehensiveIncomeUnrealizedGainLossOnDerivativesArisingDuringPeriodNetOfTax'}, {'unit': 'usd', 'label': 'Adjustment for net (gains)/losses realized and included in net income, net of tax expense/(benefit) of $311, $144, $100 and $210, respectively', 'value': 726000000, 'concept': 'OtherComprehensiveIncomeLossReclassificationAdjustmentFromAOCIOnDerivativesNetOfTax'}, {'unit': 'usd', 'label': 'Total change in unrealized gains/losses on derivative instruments, net of tax', 'value': 442000000, 'concept': 'OtherComprehensiveIncomeLossDerivativesQualifyingAsHedgesNetOfTax'}, {'unit': 'usd', 'label': 'Change in fair value of marketable securities, net of tax benefit/(expense) of $(256), $(530), $733 and $(22), respectively', 'value': -1344000000, 'concept': 'OtherComprehensiveIncomeUnrealizedHoldingGainLossOnSecuritiesArisingDuringPeriodNetOfTax'}, {'unit': 'usd', 'label': 'Adjustment for net (gains)/losses realized and included in net income, net of tax expense/(benefit) of $7, $(27), $(4) and $(53), respectively', 'value': -7000000, 'concept': 'OtherComprehensiveIncomeLossReclassificationAdjustmentFromAOCIForSaleOfSecuritiesNetOfTax'}, {'unit': 'usd', 'label': 'Total change in unrealized gains/losses on marketable securities, net of tax', 'value': -1337000000, 'concept': 'OtherComprehensiveIncomeLossAvailableForSaleSecuritiesAdjustmentNetOfTax'}, {'unit': 'usd', 'label': 'Total other comprehensive income/(loss)', 'value': -1056000000, 'concept': 'OtherComprehensiveIncomeLossNetOfTaxPortionAttributableToParent'}, {'unit': 'usd', 'label': 'Other comprehensive income/(loss):', 'value': 27864000000, 'concept': 'ComprehensiveIncomeNetOfTax'}, {'unit': 'usd', 'label': 'Net sales', 'value': 131247000000, 'concept': 'SalesRevenueNet'}, {'unit': 'usd', 'label': 'Cost of sales', 'value': 80480000000, 'concept': 'CostOfGoodsAndServicesSold'}, {'unit': 'usd', 'label': 'Gross margin', 'value': 50767000000, 'concept': 'GrossProfit'}, {'unit': 'usd', 'label': 'Research and development', 'value': 5647000000, 'concept': 'ResearchAndDevelopmentExpense'}, {'unit': 'usd', 'label': 'Selling, general and administrative', 'value': 7664000000, 'concept': 'SellingGeneralAndAdministrativeExpense'}, {'unit': 'usd', 'label': 'Operating expenses:', 'value': 13311000000, 'concept': 'OperatingExpenses'}, {'unit': 'usd', 'label': 'Operating income', 'value': 37456000000, 'concept': 'OperatingIncomeLoss'}, {'unit': 'usd', 'label': 'Other income/(expense), net', 'value': 1408000000, 'concept': 'NonoperatingIncomeExpense'}, {'unit': 'usd', 'label': 'Income before provision for income taxes', 'value': 38864000000, 'concept': 'IncomeLossFromContinuingOperationsBeforeIncomeTaxesExtraordinaryItemsNoncontrollingInterest'}, {'unit': 'usd', 'label': 'Provision for income taxes', 'value': 9944000000, 'concept': 'IncomeTaxExpenseBenefit'}, {'unit': 'usd/shares', 'label': 'Basic (in dollars per share)', 'value': 5.5, 'concept': 'EarningsPerShareBasic'}, {'unit': 'usd/shares', 'label': 'Diluted (in dollars per share)', 'value': 5.46, 'concept': 'EarningsPerShareDiluted'}, {'unit': 'shares', 'label': 'Basic (in shares)', 'value': 5262226000, 'concept': 'WeightedAverageNumberOfSharesOutstandingBasic'}, {'unit': 'shares', 'label': 'Diluted (in shares)', 'value': 5294841000, 'concept': 'WeightedAverageNumberOfDilutedSharesOutstanding'}, {'unit': 'usd/shares', 'label': 'Cash dividends declared per share (in dollars per share)', 'value': 1.14, 'concept': 'CommonStockDividendsPerShareDeclared'}]}}, {'accessNumber': '0001628280-17-000717', 'symbol': 'AAPL', 'cik': '320193', 'year': 2017, 'quarter': 1, 'form': '10-Q', 'startDate': '2016-09-25 00:00:00', 'endDate': '2016-12-31 00:00:00', 'filedDate': '2017-02-01 00:00:00', 'acceptedDate': '2017-02-01 16:33:29', 'report': {'bs': [{'unit': 'usd', 'label': 'Cash and cash equivalents', 'value': 16371000000, 'concept': 'CashAndCashEquivalentsAtCarryingValue'}, {'unit': 'usd', 'label': 'Short-term marketable securities', 'value': 44081000000, 'concept': 'AvailableForSaleSecuritiesCurrent'}, {'unit': 'usd', 'label': 'Accounts receivable, less an allowance of $53 in each period', 'value': 14057000000, 'concept': 'AccountsReceivableNetCurrent'}, {'unit': 'usd', 'label': 'Inventories', 'value': 2712000000, 'concept': 'InventoryNet'}, {'unit': 'usd', 'label': 'Vendor non-trade receivables', 'value': 13920000000, 'concept': 'NontradeReceivablesCurrent'}, {'unit': 'usd', 'label': 'Other current assets', 'value': 12191000000, 'concept': 'OtherAssetsCurrent'}, {'unit': 'usd', 'label': 'Current assets:', 'value': 103332000000, 'concept': 'AssetsCurrent'}, {'unit': 'usd', 'label': 'Long-term marketable securities', 'value': 185638000000, 'concept': 'AvailableForSaleSecuritiesNoncurrent'}, {'unit': 'usd', 'label': 'Total property, plant and equipment, net', 'value': 26510000000, 'concept': 'PropertyPlantAndEquipmentNet'}, {'unit': 'usd', 'label': 'Goodwill and Intangible Assets Disclosure [Abstract]', 'value': 5423000000, 'concept': 'Goodwill'}, {'unit': 'usd', 'label': 'Total acquired intangible assets, net carrying amount', 'value': 2848000000, 'concept': 'IntangibleAssetsNetExcludingGoodwill'}, {'unit': 'usd', 'label': 'Other non-current assets', 'value': 7390000000, 'concept': 'OtherAssetsNoncurrent'}, {'unit': 'usd', 'label': 'ASSETS:', 'value': 331141000000, 'concept': 'Assets'}, {'unit': 'usd', 'label': 'Accounts payable', 'value': 38510000000, 'concept': 'AccountsPayableCurrent'}, {'unit': 'usd', 'label': 'Accrued expenses', 'value': 23739000000, 'concept': 'AccruedLiabilitiesCurrent'}, {'unit': 'usd', 'label': 'Deferred revenue', 'value': 7889000000, 'concept': 'DeferredRevenueCurrent'}, {'unit': 'usd', 'label': 'Commercial paper', 'value': 10493000000, 'concept': 'CommercialPaper'}, {'unit': 'usd', 'label': 'Less: Current portion of long-term debt', 'value': 3499000000, 'concept': 'LongTermDebtCurrent'}, {'unit': 'usd', 'label': 'Current liabilities:', 'value': 84130000000, 'concept': 'LiabilitiesCurrent'}, {'unit': 'usd', 'label': 'Deferred revenue, non-current', 'value': 3163000000, 'concept': 'DeferredRevenueNoncurrent'}, {'unit': 'usd', 'label': 'Total long-term debt', 'value': 73557000000, 'concept': 'LongTermDebtNoncurrent'}, {'unit': 'usd', 'label': 'Total other non-current liabilities', 'value': 37901000000, 'concept': 'OtherLiabilitiesNoncurrent'}, {'unit': 'usd', 'label': 'LIABILITIES AND SHAREHOLDERSu2019 EQUITY:', 'value': 198751000000, 'concept': 'Liabilities'}, {'unit': 'usd', 'label': 'Commitments and Contingencies Disclosure [Abstract]', 'value': 'N/A', 'concept': 'CommitmentsAndContingencies'}, {'unit': 'usd', 'label': 'Common stock and additional paid-in capital, $0.00001 par value: 12,600,000 shares authorized; 5,255,423 and 5,336,166 shares issued and outstanding, respectively', 'value': 32144000000, 'concept': 'CommonStocksIncludingAdditionalPaidInCapital'}, {'unit': 'usd', 'label': 'Retained earnings', 'value': 100001000000, 'concept': 'RetainedEarningsAccumulatedDeficit'}, {'unit': 'usd', 'label': 'Accumulated other comprehensive income/(loss)', 'value': 245000000, 'concept': 'AccumulatedOtherComprehensiveIncomeLossNetOfTax'}, {'unit': 'usd', 'label': \"Shareholders' Equity\", 'value': 132390000000, 'concept': 'StockholdersEquity'}, {'unit': 'usd', 'label': 'LIABILITIES AND SHAREHOLDERSu2019 EQUITY:', 'value': 331141000000, 'concept': 'LiabilitiesAndStockholdersEquity'}], 'cf': [{'unit': 'usd', 'label': 'Net income', 'value': 17891000000, 'concept': 'NetIncomeLoss'}, {'unit': 'usd', 'label': 'Depreciation and amortization', 'value': 2987000000, 'concept': 'DepreciationAmortizationAndAccretionNet'}, {'unit': 'usd', 'label': 'Shares reserved for future issuance under Employee Benefit Plans (in shares)', 'value': 1256000000, 'concept': 'ShareBasedCompensation'}, {'unit': 'usd', 'label': 'Deferred income tax expense', 'value': 1452000000, 'concept': 'DeferredIncomeTaxExpenseBenefit'}, {'unit': 'usd', 'label': 'Other', 'value': 274000000, 'concept': 'OtherNoncashIncomeExpense'}, {'unit': 'usd', 'label': 'Accounts receivable, net', 'value': -1697000000, 'concept': 'IncreaseDecreaseInAccountsReceivable'}, {'unit': 'usd', 'label': 'Inventories', 'value': 580000000, 'concept': 'IncreaseDecreaseInInventories'}, {'unit': 'usd', 'label': 'Vendor non-trade receivables', 'value': 375000000, 'concept': 'IncreaseDecreaseInOtherReceivables'}, {'unit': 'usd', 'label': 'Other current and non-current assets', 'value': 1446000000, 'concept': 'IncreaseDecreaseInOtherOperatingAssets'}, {'unit': 'usd', 'label': 'Accounts payable', 'value': 2460000000, 'concept': 'IncreaseDecreaseInAccountsPayable'}, {'unit': 'usd', 'label': 'Deferred revenue', 'value': 42000000, 'concept': 'IncreaseDecreaseInDeferredRevenue'}, {'unit': 'usd', 'label': 'Other current and non-current liabilities', 'value': 1946000000, 'concept': 'IncreaseDecreaseInOtherOperatingLiabilities'}, {'unit': 'usd', 'label': 'Operating activities:', 'value': 27056000000, 'concept': 'NetCashProvidedByUsedInOperatingActivitiesContinuingOperations'}, {'unit': 'usd', 'label': 'Purchases of marketable securities', 'value': 54272000000, 'concept': 'PaymentsToAcquireAvailableForSaleSecurities'}, {'unit': 'usd', 'label': 'Proceeds from maturities of marketable securities', 'value': 6525000000, 'concept': 'ProceedsFromMaturitiesPrepaymentsAndCallsOfAvailableForSaleSecurities'}, {'unit': 'usd', 'label': 'Proceeds from sales of marketable securities', 'value': 32166000000, 'concept': 'ProceedsFromSaleOfAvailableForSaleSecurities'}, {'unit': 'usd', 'label': 'Payments made in connection with business acquisitions, net', 'value': 17000000, 'concept': 'PaymentsToAcquireBusinessesNetOfCashAcquired'}, {'unit': 'usd', 'label': 'Payments for acquisition of property, plant and equipment', 'value': 3334000000, 'concept': 'PaymentsToAcquirePropertyPlantAndEquipment'}, {'unit': 'usd', 'label': 'Payments for acquisition of intangible assets', 'value': 86000000, 'concept': 'PaymentsToAcquireIntangibleAssets'}, {'unit': 'usd', 'label': 'Payments for strategic investments', 'value': 0, 'concept': 'PaymentsToAcquireOtherInvestments'}, {'unit': 'usd', 'label': 'Other', 'value': 104000000, 'concept': 'PaymentsForProceedsFromOtherInvestingActivities'}, {'unit': 'usd', 'label': 'Investing activities:', 'value': -19122000000, 'concept': 'NetCashProvidedByUsedInInvestingActivitiesContinuingOperations'}, {'unit': 'usd', 'label': 'Proceeds from issuance of common stock', 'value': 0, 'concept': 'ProceedsFromIssuanceOfCommonStock'}, {'unit': 'usd', 'label': 'Excess tax benefits from equity awards', 'value': 178000000, 'concept': 'ExcessTaxBenefitFromShareBasedCompensationFinancingActivities'}, {'unit': 'usd', 'label': 'Payments for taxes related to net share settlement of equity awards', 'value': 629000000, 'concept': 'PaymentsRelatedToTaxWithholdingForShareBasedCompensation'}, {'unit': 'usd', 'label': 'Payments for dividends and dividend equivalents', 'value': 3130000000, 'concept': 'aapl:PaymentsOfDividendsAndDividendEquivalentsOnCommonStockAndRestrictedStockUnits'}, {'unit': 'usd', 'label': 'Repurchases of common stock', 'value': 10851000000, 'concept': 'PaymentsForRepurchaseOfCommonStock'}, {'unit': 'usd', 'label': 'Total change in commercial paper, net', 'value': 2385000000, 'concept': 'ProceedsFromRepaymentsOfCommercialPaper'}, {'unit': 'usd', 'label': 'Financing activities:', 'value': -12047000000, 'concept': 'NetCashProvidedByUsedInFinancingActivitiesContinuingOperations'}, {'unit': 'usd', 'label': 'Increase/(Decrease) in cash and cash equivalents', 'value': -4113000000, 'concept': 'CashAndCashEquivalentsPeriodIncreaseDecrease'}, {'unit': 'usd', 'label': 'Cash paid for income taxes, net', 'value': 3510000000, 'concept': 'IncomeTaxesPaidNet'}, {'unit': 'usd', 'label': 'Cash paid for interest', 'value': 497000000, 'concept': 'InterestPaid'}], 'ic': [{'unit': 'usd', 'label': 'Net income', 'value': 17891000000, 'concept': 'NetIncomeLoss'}, {'unit': 'usd', 'label': 'Change in foreign currency translation, net of tax effects of $76 and $19, respectively', 'value': -375000000, 'concept': 'OtherComprehensiveIncomeLossForeignCurrencyTransactionAndTranslationAdjustmentNetOfTax'}, {'unit': 'usd', 'label': 'Change in fair value of derivatives, net of tax benefit/(expense) of $(228) and $(38), respectively', 'value': 1468000000, 'concept': 'OtherComprehensiveIncomeUnrealizedGainLossOnDerivativesArisingDuringPeriodNetOfTax'}, {'unit': 'usd', 'label': 'Adjustment for net (gains)/losses realized and included in net income, net of tax expense/(benefit) of $(211) and $66, respectively', 'value': -306000000, 'concept': 'OtherComprehensiveIncomeLossReclassificationAdjustmentFromAOCIOnDerivativesNetOfTax'}, {'unit': 'usd', 'label': 'Total change in unrealized gains/losses on derivative instruments, net of tax', 'value': 1774000000, 'concept': 'OtherComprehensiveIncomeLossDerivativesQualifyingAsHedgesNetOfTax'}, {'unit': 'usd', 'label': 'Change in fair value of marketable securities, net of tax benefit/(expense) of $989 and $508, respectively', 'value': -1808000000, 'concept': 'OtherComprehensiveIncomeUnrealizedHoldingGainLossOnSecuritiesArisingDuringPeriodNetOfTax'}, {'unit': 'usd', 'label': 'Adjustment for net (gains)/losses realized and included in net income, net of tax expense/(benefit) of $(11) and $(26), respectively', 'value': -20000000, 'concept': 'OtherComprehensiveIncomeLossReclassificationAdjustmentFromAOCIForSaleOfSecuritiesNetOfTax'}, {'unit': 'usd', 'label': 'Total change in unrealized gains/losses on marketable securities, net of tax', 'value': -1788000000, 'concept': 'OtherComprehensiveIncomeLossAvailableForSaleSecuritiesAdjustmentNetOfTax'}, {'unit': 'usd', 'label': 'Total other comprehensive income/(loss)', 'value': -389000000, 'concept': 'OtherComprehensiveIncomeLossNetOfTax'}, {'unit': 'usd', 'label': 'Other comprehensive income/(loss):', 'value': 17502000000, 'concept': 'ComprehensiveIncomeNetOfTax'}, {'unit': 'usd', 'label': 'Net sales', 'value': 78351000000, 'concept': 'SalesRevenueNet'}, {'unit': 'usd', 'label': 'Cost of sales', 'value': 48175000000, 'concept': 'CostOfGoodsAndServicesSold'}, {'unit': 'usd', 'label': 'Gross margin', 'value': 30176000000, 'concept': 'GrossProfit'}, {'unit': 'usd', 'label': 'Research and development', 'value': 2871000000, 'concept': 'ResearchAndDevelopmentExpense'}, {'unit': 'usd', 'label': 'Selling, general and administrative', 'value': 3946000000, 'concept': 'SellingGeneralAndAdministrativeExpense'}, {'unit': 'usd', 'label': 'Operating expenses:', 'value': 6817000000, 'concept': 'OperatingExpenses'}, {'unit': 'usd', 'label': 'Operating income', 'value': 23359000000, 'concept': 'OperatingIncomeLoss'}, {'unit': 'usd', 'label': 'Other income/(expense), net', 'value': 821000000, 'concept': 'NonoperatingIncomeExpense'}, {'unit': 'usd', 'label': 'Income before provision for income taxes', 'value': 24180000000, 'concept': 'IncomeLossFromContinuingOperationsBeforeIncomeTaxesExtraordinaryItemsNoncontrollingInterest'}, {'unit': 'usd', 'label': 'Provision for income taxes', 'value': 6289000000, 'concept': 'IncomeTaxExpenseBenefit'}, {'unit': 'usd/shares', 'label': 'Basic (in dollars per share)', 'value': 3.38, 'concept': 'EarningsPerShareBasic'}, {'unit': 'usd/shares', 'label': 'Diluted (in dollars per share)', 'value': 3.36, 'concept': 'EarningsPerShareDiluted'}, {'unit': 'shares', 'label': 'Basic (in shares)', 'value': 5298661000, 'concept': 'WeightedAverageNumberOfSharesOutstandingBasic'}, {'unit': 'shares', 'label': 'Diluted (in shares)', 'value': 5327995000, 'concept': 'WeightedAverageNumberOfDilutedSharesOutstanding'}, {'unit': 'usd/shares', 'label': 'Dividend per share (in dollars per share)', 'value': 0.57, 'concept': 'CommonStockDividendsPerShareDeclared'}]}}, {'accessNumber': '0001628280-16-017809', 'symbol': 'AAPL', 'cik': '320193', 'year': 2016, 'quarter': 3, 'form': '10-Q', 'startDate': '2015-09-27 00:00:00', 'endDate': '2016-06-25 00:00:00', 'filedDate': '2016-07-27 00:00:00', 'acceptedDate': '2016-07-27 16:32:36', 'report': {'bs': [{'unit': 'usd', 'label': 'Cash and cash equivalents', 'value': 18237000000, 'concept': 'CashAndCashEquivalentsAtCarryingValue'}, {'unit': 'usd', 'label': 'Short-term marketable securities', 'value': 43519000000, 'concept': 'AvailableForSaleSecuritiesCurrent'}, {'unit': 'usd', 'label': 'Accounts receivable, less allowances of $55 and $63, respectively', 'value': 11714000000, 'concept': 'AccountsReceivableNetCurrent'}, {'unit': 'usd', 'label': 'Inventories', 'value': 1831000000, 'concept': 'InventoryNet'}, {'unit': 'usd', 'label': 'Vendor non-trade receivables', 'value': 7328000000, 'concept': 'NontradeReceivablesCurrent'}, {'unit': 'usd', 'label': 'Other current assets', 'value': 11132000000, 'concept': 'OtherAssetsCurrent'}, {'unit': 'usd', 'label': 'Current assets:', 'value': 93761000000, 'concept': 'AssetsCurrent'}, {'unit': 'usd', 'label': 'Long-term marketable securities', 'value': 169764000000, 'concept': 'AvailableForSaleSecuritiesNoncurrent'}, {'unit': 'usd', 'label': 'Property, plant and equipment, net', 'value': 25448000000, 'concept': 'PropertyPlantAndEquipmentNet'}, {'unit': 'usd', 'label': 'Goodwill and Intangible Assets Disclosure [Abstract]', 'value': 5261000000, 'concept': 'Goodwill'}, {'unit': 'usd', 'label': 'Acquired intangible assets, net', 'value': 3506000000, 'concept': 'IntangibleAssetsNetExcludingGoodwill'}, {'unit': 'usd', 'label': 'Other non-current assets', 'value': 7862000000, 'concept': 'OtherAssetsNoncurrent'}, {'unit': 'usd', 'label': 'ASSETS:', 'value': 305602000000, 'concept': 'Assets'}, {'unit': 'usd', 'label': 'Accounts payable', 'value': 26318000000, 'concept': 'AccountsPayableCurrent'}, {'unit': 'usd', 'label': 'Accrued expenses', 'value': 20820000000, 'concept': 'AccruedLiabilitiesCurrent'}, {'unit': 'usd', 'label': 'Deferred revenue', 'value': 8352000000, 'concept': 'DeferredRevenueCurrent'}, {'unit': 'usd', 'label': 'Commercial paper', 'value': 12496000000, 'concept': 'CommercialPaper'}, {'unit': 'usd', 'label': 'Current portion of long-term debt', 'value': 3500000000, 'concept': 'LongTermDebtCurrent'}, {'unit': 'usd', 'label': 'Current liabilities:', 'value': 71486000000, 'concept': 'LiabilitiesCurrent'}, {'unit': 'usd', 'label': 'Deferred revenue, non-current', 'value': 3064000000, 'concept': 'DeferredRevenueNoncurrent'}, {'unit': 'usd', 'label': 'Long-term debt', 'value': 68939000000, 'concept': 'LongTermDebtNoncurrent'}, {'unit': 'usd', 'label': 'Other non-current liabilities', 'value': 35572000000, 'concept': 'OtherLiabilitiesNoncurrent'}, {'unit': 'usd', 'label': 'LIABILITIES AND SHAREHOLDERSu2019 EQUITY:', 'value': 179061000000, 'concept': 'Liabilities'}, {'unit': 'usd', 'label': 'Commitments and contingencies', 'value': 'N/A', 'concept': 'CommitmentsAndContingencies'}, {'unit': 'usd', 'label': 'Common stock and additional paid-in capital, $0.00001 par value: 12,600,000 shares authorized; 5,393,165 and 5,578,753 shares issued and outstanding, respectively', 'value': 30106000000, 'concept': 'CommonStocksIncludingAdditionalPaidInCapital'}, {'unit': 'usd', 'label': 'Retained earnings', 'value': 96542000000, 'concept': 'RetainedEarningsAccumulatedDeficit'}, {'unit': 'usd', 'label': 'Accumulated other comprehensive income/(loss)', 'value': -107000000, 'concept': 'AccumulatedOtherComprehensiveIncomeLossNetOfTax'}, {'unit': 'usd', 'label': 'Shareholdersu2019 equity:', 'value': 126541000000, 'concept': 'StockholdersEquity'}, {'unit': 'usd', 'label': 'LIABILITIES AND SHAREHOLDERSu2019 EQUITY:', 'value': 305602000000, 'concept': 'LiabilitiesAndStockholdersEquity'}], 'cf': [{'unit': 'usd', 'label': 'Net income', 'value': 36673000000, 'concept': 'NetIncomeLoss'}, {'unit': 'usd', 'label': 'Depreciation and amortization', 'value': 7957000000, 'concept': 'DepreciationAmortizationAndAccretionNet'}, {'unit': 'usd', 'label': 'Shares reserved for future issuance under stock plans (in shares)', 'value': 3180000000, 'concept': 'ShareBasedCompensation'}, {'unit': 'usd', 'label': 'Deferred income tax expense', 'value': 5191000000, 'concept': 'DeferredIncomeTaxExpenseBenefit'}, {'unit': 'usd', 'label': 'Accounts receivable, net', 'value': -5135000000, 'concept': 'IncreaseDecreaseInAccountsReceivable'}, {'unit': 'usd', 'label': 'Inventories', 'value': -518000000, 'concept': 'IncreaseDecreaseInInventories'}, {'unit': 'usd', 'label': 'Vendor non-trade receivables', 'value': -6166000000, 'concept': 'IncreaseDecreaseInOtherReceivables'}, {'unit': 'usd', 'label': 'Other current and non-current assets', 'value': -1143000000, 'concept': 'IncreaseDecreaseInOtherOperatingAssets'}, {'unit': 'usd', 'label': 'Accounts payable', 'value': -9622000000, 'concept': 'IncreaseDecreaseInAccountsPayable'}, {'unit': 'usd', 'label': 'Deferred revenue', 'value': -1148000000, 'concept': 'IncreaseDecreaseInDeferredRevenue'}, {'unit': 'usd', 'label': 'Other current and non-current liabilities', 'value': -5495000000, 'concept': 'IncreaseDecreaseInOtherOperatingLiabilities'}, {'unit': 'usd', 'label': 'Operating activities:', 'value': 49698000000, 'concept': 'NetCashProvidedByUsedInOperatingActivitiesContinuingOperations'}, {'unit': 'usd', 'label': 'Purchases of marketable securities', 'value': 112068000000, 'concept': 'PaymentsToAcquireAvailableForSaleSecurities'}, {'unit': 'usd', 'label': 'Proceeds from maturities of marketable securities', 'value': 14915000000, 'concept': 'ProceedsFromMaturitiesPrepaymentsAndCallsOfAvailableForSaleSecurities'}, {'unit': 'usd', 'label': 'Proceeds from sales of marketable securities', 'value': 69926000000, 'concept': 'ProceedsFromSaleOfAvailableForSaleSecurities'}, {'unit': 'usd', 'label': 'Payments made in connection with business acquisitions, net', 'value': 146000000, 'concept': 'PaymentsToAcquireBusinessesNetOfCashAcquired'}, {'unit': 'usd', 'label': 'Payments for acquisition of property, plant and equipment', 'value': 8757000000, 'concept': 'PaymentsToAcquirePropertyPlantAndEquipment'}, {'unit': 'usd', 'label': 'Payments for acquisition of intangible assets', 'value': 753000000, 'concept': 'PaymentsToAcquireIntangibleAssets'}, {'unit': 'usd', 'label': 'Payments for strategic investments', 'value': 1376000000, 'concept': 'PaymentsToAcquireOtherInvestments'}, {'unit': 'usd', 'label': 'Other', 'value': 321000000, 'concept': 'PaymentsForProceedsFromOtherInvestingActivities'}, {'unit': 'usd', 'label': 'Investing activities:', 'value': -38580000000, 'concept': 'NetCashProvidedByUsedInInvestingActivitiesContinuingOperations'}, {'unit': 'usd', 'label': 'Proceeds from issuance of common stock', 'value': 247000000, 'concept': 'ProceedsFromIssuanceOfCommonStock'}, {'unit': 'usd', 'label': 'Excess tax benefits from equity awards', 'value': 391000000, 'concept': 'ExcessTaxBenefitFromShareBasedCompensationFinancingActivities'}, {'unit': 'usd', 'label': 'Payments for taxes related to net share settlement of equity awards', 'value': 1361000000, 'concept': 'PaymentsRelatedToTaxWithholdingForShareBasedCompensation'}, {'unit': 'usd', 'label': 'Payments for dividends and dividend equivalents', 'value': 9058000000, 'concept': 'aapl:PaymentsOfDividendsAndDividendEquivalentsOnCommonStockAndRestrictedStockUnits'}, {'unit': 'usd', 'label': 'Repurchases of common stock', 'value': 23696000000, 'concept': 'PaymentsForRepurchaseOfCommonStock'}, {'unit': 'usd', 'label': 'Proceeds from issuance of term debt, net', 'value': 17984000000, 'concept': 'ProceedsFromIssuanceOfLongTermDebt'}, {'unit': 'usd', 'label': 'Repayments of term debt', 'value': 2500000000, 'concept': 'RepaymentsOfLongTermDebt'}, {'unit': 'usd', 'label': 'Change in commercial paper, net', 'value': 3992000000, 'concept': 'ProceedsFromRepaymentsOfCommercialPaper'}, {'unit': 'usd', 'label': 'Financing activities:', 'value': -14001000000, 'concept': 'NetCashProvidedByUsedInFinancingActivitiesContinuingOperations'}, {'unit': 'usd', 'label': 'Increase/(decrease) in cash and cash equivalents', 'value': -2883000000, 'concept': 'CashAndCashEquivalentsPeriodIncreaseDecrease'}, {'unit': 'usd', 'label': 'Cash paid for income taxes, net', 'value': 8990000000, 'concept': 'IncomeTaxesPaidNet'}, {'unit': 'usd', 'label': 'Cash paid for interest', 'value': 892000000, 'concept': 'InterestPaid'}], 'ic': [{'unit': 'usd', 'label': 'Net income', 'value': 36673000000, 'concept': 'NetIncomeLoss'}, {'unit': 'usd', 'label': 'Change in foreign currency translation, net of tax', 'value': 64000000, 'concept': 'OtherComprehensiveIncomeLossForeignCurrencyTransactionAndTranslationAdjustmentNetOfTax'}, {'unit': 'usd', 'label': 'Change in fair value of derivatives, net of tax', 'value': -66000000, 'concept': 'OtherComprehensiveIncomeUnrealizedGainLossOnDerivativesArisingDuringPeriodNetOfTax'}, {'unit': 'usd', 'label': 'Adjustment for net (gains)/losses realized and included in net income, net of tax', 'value': 1061000000, 'concept': 'OtherComprehensiveIncomeLossReclassificationAdjustmentFromAOCIOnDerivativesNetOfTax'}, {'unit': 'usd', 'label': 'Total change in unrealized gains/losses on derivative instruments, net of tax', 'value': -1127000000, 'concept': 'OtherComprehensiveIncomeLossDerivativesQualifyingAsHedgesNetOfTax'}, {'unit': 'usd', 'label': 'Change in fair value of marketable securities, net of tax', 'value': 1217000000, 'concept': 'OtherComprehensiveIncomeUnrealizedHoldingGainLossOnSecuritiesArisingDuringPeriodNetOfTax'}, {'unit': 'usd', 'label': 'Adjustment for net (gains)/losses realized and included in net income, net of tax', 'value': -84000000, 'concept': 'OtherComprehensiveIncomeLossReclassificationAdjustmentFromAOCIForSaleOfSecuritiesNetOfTax'}, {'unit': 'usd', 'label': 'Total change in unrealized gains/losses on marketable securities, net of tax', 'value': 1301000000, 'concept': 'OtherComprehensiveIncomeLossAvailableForSaleSecuritiesAdjustmentNetOfTax'}, {'unit': 'usd', 'label': 'Total other comprehensive income/(loss)', 'value': 238000000, 'concept': 'OtherComprehensiveIncomeLossNetOfTax'}, {'unit': 'usd', 'label': 'Other comprehensive income/(loss):', 'value': 36911000000, 'concept': 'ComprehensiveIncomeNetOfTax'}, {'unit': 'usd', 'label': 'Revenue', 'value': 168787000000, 'concept': 'SalesRevenueNet'}, {'unit': 'usd', 'label': 'Cost of sales', 'value': 102337000000, 'concept': 'CostOfGoodsAndServicesSold'}, {'unit': 'usd', 'label': 'Gross margin', 'value': 66450000000, 'concept': 'GrossProfit'}, {'unit': 'usd', 'label': 'Research and development expense', 'value': 7475000000, 'concept': 'ResearchAndDevelopmentExpense'}, {'unit': 'usd', 'label': 'Selling, general and administrative', 'value': 10712000000, 'concept': 'SellingGeneralAndAdministrativeExpense'}, {'unit': 'usd', 'label': 'Operating expenses:', 'value': 18187000000, 'concept': 'OperatingExpenses'}, {'unit': 'usd', 'label': 'Operating income', 'value': 48263000000, 'concept': 'OperatingIncomeLoss'}, {'unit': 'usd', 'label': 'Total other income/(expense), net', 'value': 921000000, 'concept': 'NonoperatingIncomeExpense'}, {'unit': 'usd', 'label': 'Income before provision for income taxes', 'value': 49184000000, 'concept': 'IncomeLossFromContinuingOperationsBeforeIncomeTaxesExtraordinaryItemsNoncontrollingInterest'}, {'unit': 'usd', 'label': 'Provision for income taxes', 'value': 12511000000, 'concept': 'IncomeTaxExpenseBenefit'}, {'unit': 'usd/shares', 'label': 'Basic (in dollars per share)', 'value': 6.66, 'concept': 'EarningsPerShareBasic'}, {'unit': 'usd/shares', 'label': 'Diluted (in dollars per share)', 'value': 6.62, 'concept': 'EarningsPerShareDiluted'}, {'unit': 'shares', 'label': 'Basic (in shares)', 'value': 5505456000, 'concept': 'WeightedAverageNumberOfSharesOutstandingBasic'}, {'unit': 'shares', 'label': 'Diluted (in shares)', 'value': 5535931000, 'concept': 'WeightedAverageNumberOfDilutedSharesOutstanding'}, {'unit': 'usd/shares', 'label': 'Cash dividends declared per share (in dollars per share)', 'value': 1.61, 'concept': 'CommonStockDividendsPerShareDeclared'}]}}, {'accessNumber': '0001193125-16-559625', 'symbol': 'AAPL', 'cik': '320193', 'year': 2016, 'quarter': 2, 'form': '10-Q', 'startDate': '2015-09-27 00:00:00', 'endDate': '2016-03-26 00:00:00', 'filedDate': '2016-04-27 00:00:00', 'acceptedDate': '2016-04-27 16:32:53', 'report': {'bs': [{'unit': 'usd', 'label': 'Available-for-sale Securities, Noncurrent', 'value': 177645000000, 'concept': 'AvailableForSaleSecuritiesNoncurrent'}, {'unit': 'usd', 'label': 'Property, Plant and Equipment, Net', 'value': 23203000000, 'concept': 'PropertyPlantAndEquipmentNet'}, {'unit': 'usd', 'label': 'Goodwill', 'value': 5249000000, 'concept': 'Goodwill'}, {'unit': 'usd', 'label': 'Intangible Assets, Net (Excluding Goodwill)', 'value': 3843000000, 'concept': 'IntangibleAssetsNetExcludingGoodwill'}, {'unit': 'usd', 'label': 'Other Assets, Noncurrent', 'value': 7745000000, 'concept': 'OtherAssetsNoncurrent'}, {'unit': 'usd', 'label': 'Assets', 'value': 305277000000, 'concept': 'Assets'}, {'unit': 'usd', 'label': 'Cash and Cash Equivalents, at Carrying Value', 'value': 21514000000, 'concept': 'CashAndCashEquivalentsAtCarryingValue'}, {'unit': 'usd', 'label': 'Available-for-sale Securities, Current', 'value': 33769000000, 'concept': 'AvailableForSaleSecuritiesCurrent'}, {'unit': 'usd', 'label': 'Accounts Receivable, Net, Current', 'value': 12229000000, 'concept': 'AccountsReceivableNetCurrent'}, {'unit': 'usd', 'label': 'Inventory, Net', 'value': 2281000000, 'concept': 'InventoryNet'}, {'unit': 'usd', 'label': 'Nontrade Receivables, Current', 'value': 7595000000, 'concept': 'NontradeReceivablesCurrent'}, {'unit': 'usd', 'label': 'Other Assets, Current', 'value': 10204000000, 'concept': 'OtherAssetsCurrent'}, {'unit': 'usd', 'label': 'Assets, Current', 'value': 87592000000, 'concept': 'AssetsCurrent'}, {'unit': 'usd', 'label': 'Deferred Revenue, Noncurrent', 'value': 3322000000, 'concept': 'DeferredRevenueNoncurrent'}, {'unit': 'usd', 'label': 'Long-term Debt, Excluding Current Maturities', 'value': 69374000000, 'concept': 'LongTermDebtNoncurrent'}, {'unit': 'usd', 'label': 'Other Liabilities, Noncurrent', 'value': 33859000000, 'concept': 'OtherLiabilitiesNoncurrent'}, {'unit': 'usd', 'label': 'Liabilities', 'value': 174820000000, 'concept': 'Liabilities'}, {'unit': 'usd', 'label': 'Commitments and Contingencies', 'value': 'N/A', 'concept': 'CommitmentsAndContingencies'}, {'unit': 'usd', 'label': 'Liabilities and Equity', 'value': 305277000000, 'concept': 'LiabilitiesAndStockholdersEquity'}, {'unit': 'usd', 'label': 'Accounts Payable, Current', 'value': 25098000000, 'concept': 'AccountsPayableCurrent'}, {'unit': 'usd', 'label': 'Accrued Liabilities, Current', 'value': 23208000000, 'concept': 'AccruedLiabilitiesCurrent'}, {'unit': 'usd', 'label': 'Deferred Revenue, Current', 'value': 9461000000, 'concept': 'DeferredRevenueCurrent'}, {'unit': 'usd', 'label': 'Commercial Paper', 'value': 7998000000, 'concept': 'CommercialPaper'}, {'unit': 'usd', 'label': 'Long-term Debt, Current Maturities', 'value': 2500000000, 'concept': 'LongTermDebtCurrent'}, {'unit': 'usd', 'label': 'Liabilities, Current', 'value': 68265000000, 'concept': 'LiabilitiesCurrent'}, {'unit': 'usd', 'label': 'Common Stocks, Including Additional Paid in Capital', 'value': 29484000000, 'concept': 'CommonStocksIncludingAdditionalPaidInCapital'}, {'unit': 'usd', 'label': 'Retained Earnings (Accumulated Deficit)', 'value': 102021000000, 'concept': 'RetainedEarningsAccumulatedDeficit'}, {'unit': 'usd', 'label': 'Accumulated Other Comprehensive Income (Loss), Net of Tax', 'value': -1048000000, 'concept': 'AccumulatedOtherComprehensiveIncomeLossNetOfTax'}, {'unit': 'usd', 'label': \"Stockholders' Equity Attributable to Parent\", 'value': 130457000000, 'concept': 'StockholdersEquity'}], 'cf': [{'unit': 'usd', 'label': 'Depreciation, Amortization and Accretion, Net', 'value': 5431000000, 'concept': 'DepreciationAmortizationAndAccretionNet'}, {'unit': 'usd', 'label': 'Share-based Compensation', 'value': 2126000000, 'concept': 'ShareBasedCompensation'}, {'unit': 'usd', 'label': 'Deferred Income Tax Expense (Benefit)', 'value': 3092000000, 'concept': 'DeferredIncomeTaxExpenseBenefit'}, {'unit': 'usd', 'label': 'Increase (Decrease) in Accounts Receivable', 'value': -4620000000, 'concept': 'IncreaseDecreaseInAccountsReceivable'}, {'unit': 'usd', 'label': 'Increase (Decrease) in Inventories', 'value': -68000000, 'concept': 'IncreaseDecreaseInInventories'}, {'unit': 'usd', 'label': 'Increase (decrease) in the amounts currently receivable other than from customers.', 'value': -5899000000, 'concept': 'aapl:IncreaseDecreaseInNonTradeReceivables'}, {'unit': 'usd', 'label': 'Increase (Decrease) in Other Operating Assets', 'value': -300000000, 'concept': 'IncreaseDecreaseInOtherOperatingAssets'}, {'unit': 'usd', 'label': 'Increase (Decrease) in Accounts Payable', 'value': -9475000000, 'concept': 'IncreaseDecreaseInAccountsPayable'}, {'unit': 'usd', 'label': 'Increase (Decrease) in Deferred Revenue', 'value': 219000000, 'concept': 'IncreaseDecreaseInDeferredRevenue'}, {'unit': 'usd', 'label': 'Increase (Decrease) in Other Operating Liabilities', 'value': -2093000000, 'concept': 'IncreaseDecreaseInOtherOperatingLiabilities'}, {'unit': 'usd', 'label': 'Proceeds from Issuance of Common Stock', 'value': 247000000, 'concept': 'ProceedsFromIssuanceOfCommonStock'}, {'unit': 'usd', 'label': 'Excess Tax Benefit from Share-based Compensation, Financing Activities', 'value': 264000000, 'concept': 'ExcessTaxBenefitFromShareBasedCompensationFinancingActivities'}, {'unit': 'usd', 'label': 'Payments Related to Tax Withholding for Share-based Compensation', 'value': 751000000, 'concept': 'PaymentsRelatedToTaxWithholdingForShareBasedCompensation'}, {'unit': 'usd', 'label': 'Dividends and dividend equivalents paid on common stock and restricted stock units.', 'value': 5871000000, 'concept': 'aapl:PaymentsOfDividendsAndDividendEquivalentsOnCommonStockAndRestrictedStockUnits'}, {'unit': 'usd', 'label': 'Payments for Repurchase of Common Stock', 'value': 13530000000, 'concept': 'PaymentsForRepurchaseOfCommonStock'}, {'unit': 'usd', 'label': 'Proceeds from Issuance of Long-term Debt', 'value': 15584000000, 'concept': 'ProceedsFromIssuanceOfLongTermDebt'}, {'unit': 'usd', 'label': 'Proceeds from (Repayments of) Commercial Paper', 'value': -503000000, 'concept': 'ProceedsFromRepaymentsOfCommercialPaper'}, {'unit': 'usd', 'label': 'Net Cash Provided by (Used in) Financing Activities, Continuing Operations', 'value': -4560000000, 'concept': 'NetCashProvidedByUsedInFinancingActivitiesContinuingOperations'}, {'unit': 'usd', 'label': 'Payments to Acquire Available-for-sale Securities', 'value': 86242000000, 'concept': 'PaymentsToAcquireAvailableForSaleSecurities'}, {'unit': 'usd', 'label': 'Proceeds from Maturities, Prepayments and Calls of Available-for-sale Securities', 'value': 9148000000, 'concept': 'ProceedsFromMaturitiesPrepaymentsAndCallsOfAvailableForSaleSecurities'}, {'unit': 'usd', 'label': 'Proceeds from Sale of Available-for-sale Securities', 'value': 50051000000, 'concept': 'ProceedsFromSaleOfAvailableForSaleSecurities'}, {'unit': 'usd', 'label': 'Payments to Acquire Businesses, Net of Cash Acquired', 'value': 140000000, 'concept': 'PaymentsToAcquireBusinessesNetOfCashAcquired'}, {'unit': 'usd', 'label': 'Payments to Acquire Property, Plant, and Equipment', 'value': 5948000000, 'concept': 'PaymentsToAcquirePropertyPlantAndEquipment'}, {'unit': 'usd', 'label': 'Payments to Acquire Intangible Assets', 'value': 657000000, 'concept': 'PaymentsToAcquireIntangibleAssets'}, {'unit': 'usd', 'label': 'Payments for (Proceeds from) Other Investing Activities', 'value': 322000000, 'concept': 'PaymentsForProceedsFromOtherInvestingActivities'}, {'unit': 'usd', 'label': 'Net Cash Provided by (Used in) Investing Activities, Continuing Operations', 'value': -34110000000, 'concept': 'NetCashProvidedByUsedInInvestingActivitiesContinuingOperations'}, {'unit': 'usd', 'label': 'Net Income (Loss) Attributable to Parent', 'value': 28877000000, 'concept': 'NetIncomeLoss'}, {'unit': 'usd', 'label': 'Net Cash Provided by (Used in) Operating Activities, Continuing Operations', 'value': 39064000000, 'concept': 'NetCashProvidedByUsedInOperatingActivitiesContinuingOperations'}, {'unit': 'usd', 'label': 'Cash and Cash Equivalents, Period Increase (Decrease)', 'value': 394000000, 'concept': 'CashAndCashEquivalentsPeriodIncreaseDecrease'}, {'unit': 'usd', 'label': 'Income Taxes Paid, Net', 'value': 6630000000, 'concept': 'IncomeTaxesPaidNet'}, {'unit': 'usd', 'label': 'Interest Paid', 'value': 565000000, 'concept': 'InterestPaid'}], 'ic': [{'unit': 'usd/shares', 'label': 'Earnings Per Share, Basic', 'value': 5.22, 'concept': 'EarningsPerShareBasic'}, {'unit': 'usd/shares', 'label': 'Earnings Per Share, Diluted', 'value': 5.19, 'concept': 'EarningsPerShareDiluted'}, {'unit': 'usd', 'label': 'Research and Development Expense', 'value': 4915000000, 'concept': 'ResearchAndDevelopmentExpense'}, {'unit': 'usd', 'label': 'Selling, General and Administrative Expense', 'value': 7271000000, 'concept': 'SellingGeneralAndAdministrativeExpense'}, {'unit': 'usd', 'label': 'Operating Expenses', 'value': 12186000000, 'concept': 'OperatingExpenses'}, {'unit': 'usd', 'label': 'Revenue, Net', 'value': 126429000000, 'concept': 'SalesRevenueNet'}, {'unit': 'usd', 'label': 'Cost of Goods and Services Sold', 'value': 76085000000, 'concept': 'CostOfGoodsAndServicesSold'}, {'unit': 'usd', 'label': 'Gross Profit', 'value': 50344000000, 'concept': 'GrossProfit'}, {'unit': 'usd', 'label': 'Operating Income (Loss)', 'value': 38158000000, 'concept': 'OperatingIncomeLoss'}, {'unit': 'usd', 'label': 'Nonoperating Income (Expense)', 'value': 557000000, 'concept': 'NonoperatingIncomeExpense'}, {'unit': 'usd', 'label': 'Income (Loss) from Continuing Operations before Income Taxes, Extraordinary Items, Noncontrolling Interest', 'value': 38715000000, 'concept': 'IncomeLossFromContinuingOperationsBeforeIncomeTaxesExtraordinaryItemsNoncontrollingInterest'}, {'unit': 'usd', 'label': 'Income Tax Expense (Benefit)', 'value': 9838000000, 'concept': 'IncomeTaxExpenseBenefit'}, {'unit': 'usd', 'label': 'Net Income (Loss) Attributable to Parent', 'value': 28877000000, 'concept': 'NetIncomeLoss'}, {'unit': 'usd/shares', 'label': 'Common Stock, Dividends, Per Share, Declared', 'value': 1.04, 'concept': 'CommonStockDividendsPerShareDeclared'}, {'unit': 'shares', 'label': 'Weighted Average Number of Shares Outstanding, Basic', 'value': 5536656000, 'concept': 'WeightedAverageNumberOfSharesOutstandingBasic'}, {'unit': 'shares', 'label': 'Weighted Average Number of Shares Outstanding, Diluted', 'value': 5567506000, 'concept': 'WeightedAverageNumberOfDilutedSharesOutstanding'}, {'unit': 'usd', 'label': 'Other Comprehensive Income (Loss), Foreign Currency Transaction and Translation Adjustment, Net of Tax', 'value': 18000000, 'concept': 'OtherComprehensiveIncomeLossForeignCurrencyTransactionAndTranslationAdjustmentNetOfTax'}, {'unit': 'usd', 'label': 'Other Comprehensive Income (Loss), Net of Tax', 'value': -703000000, 'concept': 'OtherComprehensiveIncomeLossNetOfTax'}, {'unit': 'usd', 'label': 'Other Comprehensive Income (Loss), Unrealized Holding Gain (Loss) on Securities Arising During Period, Net of Tax', 'value': 47000000, 'concept': 'OtherComprehensiveIncomeUnrealizedHoldingGainLossOnSecuritiesArisingDuringPeriodNetOfTax'}, {'unit': 'usd', 'label': 'Other Comprehensive Income (Loss), Reclassification Adjustment from AOCI for Sale of Securities, Net of Tax', 'value': -96000000, 'concept': 'OtherComprehensiveIncomeLossReclassificationAdjustmentFromAOCIForSaleOfSecuritiesNetOfTax'}, {'unit': 'usd', 'label': 'Other Comprehensive Income (Loss), Available-for-sale Securities Adjustment, Net of Tax', 'value': 143000000, 'concept': 'OtherComprehensiveIncomeLossAvailableForSaleSecuritiesAdjustmentNetOfTax'}, {'unit': 'usd', 'label': 'Other Comprehensive Income (Loss), Unrealized Gain (Loss) on Derivatives Arising During Period, Net of Tax', 'value': 109000000, 'concept': 'OtherComprehensiveIncomeUnrealizedGainLossOnDerivativesArisingDuringPeriodNetOfTax'}, {'unit': 'usd', 'label': 'Other Comprehensive Income (Loss), Reclassification Adjustment from AOCI on Derivatives, Net of Tax', 'value': 973000000, 'concept': 'OtherComprehensiveIncomeLossReclassificationAdjustmentFromAOCIOnDerivativesNetOfTax'}, {'unit': 'usd', 'label': 'Other Comprehensive Income (Loss), Derivatives Qualifying as Hedges, Net of Tax', 'value': -864000000, 'concept': 'OtherComprehensiveIncomeLossDerivativesQualifyingAsHedgesNetOfTax'}, {'unit': 'usd', 'label': 'Comprehensive Income (Loss), Net of Tax, Attributable to Parent', 'value': 28174000000, 'concept': 'ComprehensiveIncomeNetOfTax'}]}}, {'accessNumber': '0001193125-16-439878', 'symbol': 'AAPL', 'cik': '320193', 'year': 2016, 'quarter': 1, 'form': '10-Q', 'startDate': '2015-09-27 00:00:00', 'endDate': '2015-12-26 00:00:00', 'filedDate': '2016-01-27 00:00:00', 'acceptedDate': '2016-01-27 16:32:03', 'report': {'bs': [{'unit': 'usd', 'label': 'Available-for-sale Securities, Noncurrent', 'value': 177665000000, 'concept': 'AvailableForSaleSecuritiesNoncurrent'}, {'unit': 'usd', 'label': 'Property, Plant and Equipment, Net', 'value': 22300000000, 'concept': 'PropertyPlantAndEquipmentNet'}, {'unit': 'usd', 'label': 'Goodwill', 'value': 5202000000, 'concept': 'Goodwill'}, {'unit': 'usd', 'label': 'Intangible Assets, Net (Excluding Goodwill)', 'value': 3924000000, 'concept': 'IntangibleAssetsNetExcludingGoodwill'}, {'unit': 'usd', 'label': 'Other Assets, Noncurrent', 'value': 7974000000, 'concept': 'OtherAssetsNoncurrent'}, {'unit': 'usd', 'label': 'Assets', 'value': 293284000000, 'concept': 'Assets'}, {'unit': 'usd', 'label': 'Cash and Cash Equivalents, at Carrying Value', 'value': 16689000000, 'concept': 'CashAndCashEquivalentsAtCarryingValue'}, {'unit': 'usd', 'label': 'Available-for-sale Securities, Current', 'value': 21385000000, 'concept': 'AvailableForSaleSecuritiesCurrent'}, {'unit': 'usd', 'label': 'Accounts Receivable, Net, Current', 'value': 12953000000, 'concept': 'AccountsReceivableNetCurrent'}, {'unit': 'usd', 'label': 'Inventory, Net', 'value': 2451000000, 'concept': 'InventoryNet'}, {'unit': 'usd', 'label': 'Nontrade Receivables, Current', 'value': 11668000000, 'concept': 'NontradeReceivablesCurrent'}, {'unit': 'usd', 'label': 'Other Assets, Current', 'value': 11073000000, 'concept': 'OtherAssetsCurrent'}, {'unit': 'usd', 'label': 'Assets, Current', 'value': 76219000000, 'concept': 'AssetsCurrent'}, {'unit': 'usd', 'label': 'Deferred Revenue, Noncurrent', 'value': 3546000000, 'concept': 'DeferredRevenueNoncurrent'}, {'unit': 'usd', 'label': 'Long-term Debt, Excluding Current Maturities', 'value': 53204000000, 'concept': 'LongTermDebtNoncurrent'}, {'unit': 'usd', 'label': 'Other Liabilities, Noncurrent', 'value': 32175000000, 'concept': 'OtherLiabilitiesNoncurrent'}, {'unit': 'usd', 'label': 'Liabilities', 'value': 165017000000, 'concept': 'Liabilities'}, {'unit': 'usd', 'label': 'Commitments and Contingencies', 'value': 'N/A', 'concept': 'CommitmentsAndContingencies'}, {'unit': 'usd', 'label': 'Liabilities and Equity', 'value': 293284000000, 'concept': 'LiabilitiesAndStockholdersEquity'}, {'unit': 'usd', 'label': 'Accounts Payable, Current', 'value': 33312000000, 'concept': 'AccountsPayableCurrent'}, {'unit': 'usd', 'label': 'Accrued Liabilities, Current', 'value': 24032000000, 'concept': 'AccruedLiabilitiesCurrent'}, {'unit': 'usd', 'label': 'Deferred Revenue, Current', 'value': 8989000000, 'concept': 'DeferredRevenueCurrent'}, {'unit': 'usd', 'label': 'Commercial Paper', 'value': 7259000000, 'concept': 'CommercialPaper'}, {'unit': 'usd', 'label': 'Long-term Debt, Current Maturities', 'value': 2500000000, 'concept': 'LongTermDebtCurrent'}, {'unit': 'usd', 'label': 'Liabilities, Current', 'value': 76092000000, 'concept': 'LiabilitiesCurrent'}, {'unit': 'usd', 'label': 'Common Stocks, Including Additional Paid in Capital', 'value': 28253000000, 'concept': 'CommonStocksIncludingAdditionalPaidInCapital'}, {'unit': 'usd', 'label': 'Retained Earnings (Accumulated Deficit)', 'value': 101494000000, 'concept': 'RetainedEarningsAccumulatedDeficit'}, {'unit': 'usd', 'label': 'Accumulated Other Comprehensive Income (Loss), Net of Tax', 'value': -1480000000, 'concept': 'AccumulatedOtherComprehensiveIncomeLossNetOfTax'}, {'unit': 'usd', 'label': \"Stockholders' Equity Attributable to Parent\", 'value': 128267000000, 'concept': 'StockholdersEquity'}], 'cf': [{'unit': 'usd', 'label': 'Depreciation, Amortization and Accretion, Net', 'value': 2954000000, 'concept': 'DepreciationAmortizationAndAccretionNet'}, {'unit': 'usd', 'label': 'Share-based Compensation', 'value': 1078000000, 'concept': 'ShareBasedCompensation'}, {'unit': 'usd', 'label': 'Deferred Income Tax Expense (Benefit)', 'value': 1592000000, 'concept': 'DeferredIncomeTaxExpenseBenefit'}, {'unit': 'usd', 'label': 'Increase (Decrease) in Accounts Receivable', 'value': -3896000000, 'concept': 'IncreaseDecreaseInAccountsReceivable'}, {'unit': 'usd', 'label': 'Increase (Decrease) in Inventories', 'value': 102000000, 'concept': 'IncreaseDecreaseInInventories'}, {'unit': 'usd', 'label': 'Increase (decrease) in the amounts currently receivable other than from customers.', 'value': -1826000000, 'concept': 'aapl:IncreaseDecreaseInNonTradeReceivables'}, {'unit': 'usd', 'label': 'Increase (Decrease) in Other Operating Assets', 'value': 893000000, 'concept': 'IncreaseDecreaseInOtherOperatingAssets'}, {'unit': 'usd', 'label': 'Increase (Decrease) in Accounts Payable', 'value': -852000000, 'concept': 'IncreaseDecreaseInAccountsPayable'}, {'unit': 'usd', 'label': 'Increase (Decrease) in Deferred Revenue', 'value': -29000000, 'concept': 'IncreaseDecreaseInDeferredRevenue'}, {'unit': 'usd', 'label': 'Increase (Decrease) in Other Operating Liabilities', 'value': -368000000, 'concept': 'IncreaseDecreaseInOtherOperatingLiabilities'}, {'unit': 'usd', 'label': 'Proceeds from Issuance of Common Stock', 'value': 1000000, 'concept': 'ProceedsFromIssuanceOfCommonStock'}, {'unit': 'usd', 'label': 'Excess Tax Benefit from Share-based Compensation, Financing Activities', 'value': 224000000, 'concept': 'ExcessTaxBenefitFromShareBasedCompensationFinancingActivities'}, {'unit': 'usd', 'label': 'Payments Related to Tax Withholding for Share-based Compensation', 'value': 597000000, 'concept': 'PaymentsRelatedToTaxWithholdingForShareBasedCompensation'}, {'unit': 'usd', 'label': 'Dividends and dividend equivalents paid on common stock and restricted stock units.', 'value': 2969000000, 'concept': 'aapl:PaymentsOfDividendsAndDividendEquivalentsOnCommonStockAndRestrictedStockUnits'}, {'unit': 'usd', 'label': 'Payments for Repurchase of Common Stock', 'value': 6863000000, 'concept': 'PaymentsForRepurchaseOfCommonStock'}, {'unit': 'usd', 'label': 'Proceeds from Issuance of Long-term Debt', 'value': 0, 'concept': 'ProceedsFromIssuanceOfLongTermDebt'}, {'unit': 'usd', 'label': 'Proceeds from (Repayments of) Commercial Paper', 'value': -1240000000, 'concept': 'ProceedsFromRepaymentsOfCommercialPaper'}, {'unit': 'usd', 'label': 'Net Cash Provided by (Used in) Financing Activities, Continuing Operations', 'value': -11444000000, 'concept': 'NetCashProvidedByUsedInFinancingActivitiesContinuingOperations'}, {'unit': 'usd', 'label': 'Payments to Acquire Available-for-sale Securities', 'value': 47836000000, 'concept': 'PaymentsToAcquireAvailableForSaleSecurities'}, {'unit': 'usd', 'label': 'Proceeds from Maturities, Prepayments and Calls of Available-for-sale Securities', 'value': 3514000000, 'concept': 'ProceedsFromMaturitiesPrepaymentsAndCallsOfAvailableForSaleSecurities'}, {'unit': 'usd', 'label': 'Proceeds from Sale of Available-for-sale Securities', 'value': 28262000000, 'concept': 'ProceedsFromSaleOfAvailableForSaleSecurities'}, {'unit': 'usd', 'label': 'Payments to Acquire Businesses, Net of Cash Acquired', 'value': 86000000, 'concept': 'PaymentsToAcquireBusinessesNetOfCashAcquired'}, {'unit': 'usd', 'label': 'Payments to Acquire Property, Plant, and Equipment', 'value': 3612000000, 'concept': 'PaymentsToAcquirePropertyPlantAndEquipment'}, {'unit': 'usd', 'label': 'Payments to Acquire Intangible Assets', 'value': 394000000, 'concept': 'PaymentsToAcquireIntangibleAssets'}, {'unit': 'usd', 'label': 'Payments for (Proceeds from) Other Investing Activities', 'value': 298000000, 'concept': 'PaymentsForProceedsFromOtherInvestingActivities'}, {'unit': 'usd', 'label': 'Net Cash Provided by (Used in) Investing Activities, Continuing Operations', 'value': -20450000000, 'concept': 'NetCashProvidedByUsedInInvestingActivitiesContinuingOperations'}, {'unit': 'usd', 'label': 'Net Income (Loss) Attributable to Parent', 'value': 18361000000, 'concept': 'NetIncomeLoss'}, {'unit': 'usd', 'label': 'Net Cash Provided by (Used in) Operating Activities, Continuing Operations', 'value': 27463000000, 'concept': 'NetCashProvidedByUsedInOperatingActivitiesContinuingOperations'}, {'unit': 'usd', 'label': 'Cash and Cash Equivalents, Period Increase (Decrease)', 'value': -4431000000, 'concept': 'CashAndCashEquivalentsPeriodIncreaseDecrease'}, {'unit': 'usd', 'label': 'Income Taxes Paid, Net', 'value': 3398000000, 'concept': 'IncomeTaxesPaidNet'}, {'unit': 'usd', 'label': 'Interest Paid', 'value': 396000000, 'concept': 'InterestPaid'}], 'ic': [{'unit': 'usd/shares', 'label': 'Earnings Per Share, Basic', 'value': 3.3, 'concept': 'EarningsPerShareBasic'}, {'unit': 'usd/shares', 'label': 'Earnings Per Share, Diluted', 'value': 3.28, 'concept': 'EarningsPerShareDiluted'}, {'unit': 'usd', 'label': 'Research and Development Expense', 'value': 2404000000, 'concept': 'ResearchAndDevelopmentExpense'}, {'unit': 'usd', 'label': 'Selling, General and Administrative Expense', 'value': 3848000000, 'concept': 'SellingGeneralAndAdministrativeExpense'}, {'unit': 'usd', 'label': 'Operating Expenses', 'value': 6252000000, 'concept': 'OperatingExpenses'}, {'unit': 'usd', 'label': 'Revenue, Net', 'value': 75872000000, 'concept': 'SalesRevenueNet'}, {'unit': 'usd', 'label': 'Cost of Goods and Services Sold', 'value': 45449000000, 'concept': 'CostOfGoodsAndServicesSold'}, {'unit': 'usd', 'label': 'Gross Profit', 'value': 30423000000, 'concept': 'GrossProfit'}, {'unit': 'usd', 'label': 'Operating Income (Loss)', 'value': 24171000000, 'concept': 'OperatingIncomeLoss'}, {'unit': 'usd', 'label': 'Nonoperating Income (Expense)', 'value': 402000000, 'concept': 'NonoperatingIncomeExpense'}, {'unit': 'usd', 'label': 'Income (Loss) from Continuing Operations before Income Taxes, Extraordinary Items, Noncontrolling Interest', 'value': 24573000000, 'concept': 'IncomeLossFromContinuingOperationsBeforeIncomeTaxesExtraordinaryItemsNoncontrollingInterest'}, {'unit': 'usd', 'label': 'Income Tax Expense (Benefit)', 'value': 6212000000, 'concept': 'IncomeTaxExpenseBenefit'}, {'unit': 'usd', 'label': 'Net Income (Loss) Attributable to Parent', 'value': 18361000000, 'concept': 'NetIncomeLoss'}, {'unit': 'usd/shares', 'label': 'Common Stock, Dividends, Per Share, Declared', 'value': 0.52, 'concept': 'CommonStockDividendsPerShareDeclared'}, {'unit': 'shares', 'label': 'Weighted Average Number of Shares Outstanding, Basic', 'value': 5558930000, 'concept': 'WeightedAverageNumberOfSharesOutstandingBasic'}, {'unit': 'shares', 'label': 'Weighted Average Number of Shares Outstanding, Diluted', 'value': 5594127000, 'concept': 'WeightedAverageNumberOfDilutedSharesOutstanding'}, {'unit': 'usd', 'label': 'Other Comprehensive Income (Loss), Foreign Currency Transaction and Translation Adjustment, Net of Tax', 'value': -102000000, 'concept': 'OtherComprehensiveIncomeLossForeignCurrencyTransactionAndTranslationAdjustmentNetOfTax'}, {'unit': 'usd', 'label': 'Other Comprehensive Income (Loss), Net of Tax', 'value': -1135000000, 'concept': 'OtherComprehensiveIncomeLossNetOfTax'}, {'unit': 'usd', 'label': 'Other Comprehensive Income (Loss), Unrealized Holding Gain (Loss) on Securities Arising During Period, Net of Tax', 'value': -922000000, 'concept': 'OtherComprehensiveIncomeUnrealizedHoldingGainLossOnSecuritiesArisingDuringPeriodNetOfTax'}, {'unit': 'usd', 'label': 'Other Comprehensive Income (Loss), Reclassification Adjustment from AOCI for Sale of Securities, Net of Tax', 'value': -47000000, 'concept': 'OtherComprehensiveIncomeLossReclassificationAdjustmentFromAOCIForSaleOfSecuritiesNetOfTax'}, {'unit': 'usd', 'label': 'Other Comprehensive Income (Loss), Available-for-sale Securities Adjustment, Net of Tax', 'value': -875000000, 'concept': 'OtherComprehensiveIncomeLossAvailableForSaleSecuritiesAdjustmentNetOfTax'}, {'unit': 'usd', 'label': 'Other Comprehensive Income (Loss), Unrealized Gain (Loss) on Derivatives Arising During Period, Net of Tax', 'value': 287000000, 'concept': 'OtherComprehensiveIncomeUnrealizedGainLossOnDerivativesArisingDuringPeriodNetOfTax'}, {'unit': 'usd', 'label': 'Other Comprehensive Income (Loss), Reclassification Adjustment from AOCI on Derivatives, Net of Tax', 'value': 445000000, 'concept': 'OtherComprehensiveIncomeLossReclassificationAdjustmentFromAOCIOnDerivativesNetOfTax'}, {'unit': 'usd', 'label': 'Other Comprehensive Income (Loss), Derivatives Qualifying as Hedges, Net of Tax', 'value': -158000000, 'concept': 'OtherComprehensiveIncomeLossDerivativesQualifyingAsHedgesNetOfTax'}, {'unit': 'usd', 'label': 'Comprehensive Income (Loss), Net of Tax, Attributable to Parent', 'value': 17226000000, 'concept': 'ComprehensiveIncomeNetOfTax'}]}}, {'accessNumber': '0001193125-15-259935', 'symbol': 'AAPL', 'cik': '320193', 'year': 2015, 'quarter': 3, 'form': '10-Q', 'startDate': '2014-09-28 00:00:00', 'endDate': '2015-06-27 00:00:00', 'filedDate': '2015-07-22 00:00:00', 'acceptedDate': '2015-07-22 17:01:17', 'report': {'bs': [{'unit': 'usd', 'label': 'Available-for-sale Securities, Noncurrent', 'value': 168145000000, 'concept': 'AvailableForSaleSecuritiesNoncurrent'}, {'unit': 'usd', 'label': 'Property, Plant and Equipment, Net', 'value': 21149000000, 'concept': 'PropertyPlantAndEquipmentNet'}, {'unit': 'usd', 'label': 'Goodwill', 'value': 5044000000, 'concept': 'Goodwill'}, {'unit': 'usd', 'label': 'Intangible Assets, Net (Excluding Goodwill)', 'value': 3779000000, 'concept': 'IntangibleAssetsNetExcludingGoodwill'}, {'unit': 'usd', 'label': 'Other Assets, Noncurrent', 'value': 4081000000, 'concept': 'OtherAssetsNoncurrent'}, {'unit': 'usd', 'label': 'Assets', 'value': 273151000000, 'concept': 'Assets'}, {'unit': 'usd', 'label': 'Cash and Cash Equivalents, at Carrying Value', 'value': 15319000000, 'concept': 'CashAndCashEquivalentsAtCarryingValue'}, {'unit': 'usd', 'label': 'Available-for-sale Securities, Current', 'value': 19384000000, 'concept': 'AvailableForSaleSecuritiesCurrent'}, {'unit': 'usd', 'label': 'Accounts Receivable, Net, Current', 'value': 10370000000, 'concept': 'AccountsReceivableNetCurrent'}, {'unit': 'usd', 'label': 'Inventory, Net', 'value': 2042000000, 'concept': 'InventoryNet'}, {'unit': 'usd', 'label': 'Deferred Tax Assets, Net, Current', 'value': 5010000000, 'concept': 'DeferredTaxAssetsLiabilitiesNetCurrent'}, {'unit': 'usd', 'label': 'Nontrade Receivables, Current', 'value': 9537000000, 'concept': 'NontradeReceivablesCurrent'}, {'unit': 'usd', 'label': 'Other Assets, Current', 'value': 9291000000, 'concept': 'OtherAssetsCurrent'}, {'unit': 'usd', 'label': 'Assets, Current', 'value': 70953000000, 'concept': 'AssetsCurrent'}, {'unit': 'usd', 'label': 'Deferred Revenue, Noncurrent', 'value': 3474000000, 'concept': 'DeferredRevenueNoncurrent'}, {'unit': 'usd', 'label': 'Long-term Debt, Excluding Current Maturities', 'value': 47419000000, 'concept': 'LongTermDebtNoncurrent'}, {'unit': 'usd', 'label': 'Other Liabilities, Noncurrent', 'value': 31296000000, 'concept': 'OtherLiabilitiesNoncurrent'}, {'unit': 'usd', 'label': 'Liabilities', 'value': 147474000000, 'concept': 'Liabilities'}, {'unit': 'usd', 'label': 'Commitments and Contingencies', 'value': 'N/A', 'concept': 'CommitmentsAndContingencies'}, {'unit': 'usd', 'label': 'Liabilities and Equity', 'value': 273151000000, 'concept': 'LiabilitiesAndStockholdersEquity'}, {'unit': 'usd', 'label': 'Accounts Payable, Current', 'value': 26474000000, 'concept': 'AccountsPayableCurrent'}, {'unit': 'usd', 'label': 'Accrued Liabilities, Current', 'value': 22724000000, 'concept': 'AccruedLiabilitiesCurrent'}, {'unit': 'usd', 'label': 'Deferred Revenue, Current', 'value': 9088000000, 'concept': 'DeferredRevenueCurrent'}, {'unit': 'usd', 'label': 'Commercial Paper', 'value': 4499000000, 'concept': 'CommercialPaper'}, {'unit': 'usd', 'label': 'Long-term Debt, Current Maturities', 'value': 2500000000, 'concept': 'LongTermDebtCurrent'}, {'unit': 'usd', 'label': 'Liabilities, Current', 'value': 65285000000, 'concept': 'LiabilitiesCurrent'}, {'unit': 'usd', 'label': 'Common Stocks, Including Additional Paid in Capital', 'value': 26327000000, 'concept': 'CommonStocksIncludingAdditionalPaidInCapital'}, {'unit': 'usd', 'label': 'Retained Earnings (Accumulated Deficit)', 'value': 98252000000, 'concept': 'RetainedEarningsAccumulatedDeficit'}, {'unit': 'usd', 'label': 'Accumulated Other Comprehensive Income (Loss), Net of Tax', 'value': 1098000000, 'concept': 'AccumulatedOtherComprehensiveIncomeLossNetOfTax'}, {'unit': 'usd', 'label': \"Stockholders' Equity Attributable to Parent\", 'value': 125677000000, 'concept': 'StockholdersEquity'}], 'cf': [{'unit': 'usd', 'label': 'Depreciation, Amortization and Accretion, Net', 'value': 8138000000, 'concept': 'DepreciationAmortizationAndAccretionNet'}, {'unit': 'usd', 'label': 'Share-based Compensation', 'value': 2671000000, 'concept': 'ShareBasedCompensation'}, {'unit': 'usd', 'label': 'Deferred Income Tax Expense (Benefit)', 'value': 2820000000, 'concept': 'DeferredIncomeTaxExpenseBenefit'}, {'unit': 'usd', 'label': 'Increase (Decrease) in Accounts Receivable', 'value': -7090000000, 'concept': 'IncreaseDecreaseInAccountsReceivable'}, {'unit': 'usd', 'label': 'Increase (Decrease) in Inventories', 'value': -69000000, 'concept': 'IncreaseDecreaseInInventories'}, {'unit': 'usd', 'label': 'Increase (Decrease) in Other Receivables', 'value': -222000000, 'concept': 'IncreaseDecreaseInOtherReceivables'}, {'unit': 'usd', 'label': 'Increase (Decrease) in Other Operating Assets', 'value': -2286000000, 'concept': 'IncreaseDecreaseInOtherOperatingAssets'}, {'unit': 'usd', 'label': 'Increase (Decrease) in Accounts Payable', 'value': -3263000000, 'concept': 'IncreaseDecreaseInAccountsPayable'}, {'unit': 'usd', 'label': 'Increase (Decrease) in Deferred Revenue', 'value': 1040000000, 'concept': 'IncreaseDecreaseInDeferredRevenue'}, {'unit': 'usd', 'label': 'Increase (Decrease) in Other Operating Liabilities', 'value': 4448000000, 'concept': 'IncreaseDecreaseInOtherOperatingLiabilities'}, {'unit': 'usd', 'label': 'Proceeds from Issuance of Common Stock', 'value': 324000000, 'concept': 'ProceedsFromIssuanceOfCommonStock'}, {'unit': 'usd', 'label': 'Excess Tax Benefit from Share-based Compensation, Financing Activities', 'value': 684000000, 'concept': 'ExcessTaxBenefitFromShareBasedCompensationFinancingActivities'}, {'unit': 'usd', 'label': 'Payments Related to Tax Withholding for Share-based Compensation', 'value': 1332000000, 'concept': 'PaymentsRelatedToTaxWithholdingForShareBasedCompensation'}, {'unit': 'usd', 'label': 'Dividends and dividend equivalents paid on common stock and restricted stock units.', 'value': 8597000000, 'concept': 'aapl:PaymentsOfDividendsAndDividendEquivalentsOnCommonStockAndRestrictedStockUnits'}, {'unit': 'usd', 'label': 'Payments for Repurchase of Common Stock', 'value': 22000000000, 'concept': 'PaymentsForRepurchaseOfCommonStock'}, {'unit': 'usd', 'label': 'Proceeds from Issuance of Long-term Debt', 'value': 21312000000, 'concept': 'ProceedsFromIssuanceOfLongTermDebt'}, {'unit': 'usd', 'label': 'Proceeds from (Repayments of) Commercial Paper', 'value': -1808000000, 'concept': 'ProceedsFromRepaymentsOfCommercialPaper'}, {'unit': 'usd', 'label': 'Net Cash Provided by (Used in) Financing Activities, Continuing Operations', 'value': -11417000000, 'concept': 'NetCashProvidedByUsedInFinancingActivitiesContinuingOperations'}, {'unit': 'usd', 'label': 'Payments to Acquire Available-for-sale Securities', 'value': 137524000000, 'concept': 'PaymentsToAcquireAvailableForSaleSecurities'}, {'unit': 'usd', 'label': 'Proceeds from Maturities, Prepayments and Calls of Available-for-sale Securities', 'value': 9916000000, 'concept': 'ProceedsFromMaturitiesPrepaymentsAndCallsOfAvailableForSaleSecurities'}, {'unit': 'usd', 'label': 'Proceeds from Sale of Available-for-sale Securities', 'value': 80635000000, 'concept': 'ProceedsFromSaleOfAvailableForSaleSecurities'}, {'unit': 'usd', 'label': 'Payments to Acquire Businesses, Net of Cash Acquired', 'value': 230000000, 'concept': 'PaymentsToAcquireBusinessesNetOfCashAcquired'}, {'unit': 'usd', 'label': 'Payments to Acquire Property, Plant, and Equipment', 'value': 7629000000, 'concept': 'PaymentsToAcquirePropertyPlantAndEquipment'}, {'unit': 'usd', 'label': 'Payments to Acquire Intangible Assets', 'value': 201000000, 'concept': 'PaymentsToAcquireIntangibleAssets'}, {'unit': 'usd', 'label': 'Payments for (Proceeds from) Other Investing Activities', 'value': -134000000, 'concept': 'PaymentsForProceedsFromOtherInvestingActivities'}, {'unit': 'usd', 'label': 'Net Cash Provided by (Used in) Investing Activities, Continuing Operations', 'value': -54899000000, 'concept': 'NetCashProvidedByUsedInInvestingActivitiesContinuingOperations'}, {'unit': 'usd', 'label': 'Net Income (Loss) Attributable to Parent', 'value': 42270000000, 'concept': 'NetIncomeLoss'}, {'unit': 'usd', 'label': 'Net Cash Provided by (Used in) Operating Activities, Continuing Operations', 'value': 67791000000, 'concept': 'NetCashProvidedByUsedInOperatingActivitiesContinuingOperations'}, {'unit': 'usd', 'label': 'Cash and Cash Equivalents, Period Increase (Decrease)', 'value': 1475000000, 'concept': 'CashAndCashEquivalentsPeriodIncreaseDecrease'}, {'unit': 'usd', 'label': 'Income Taxes Paid, Net', 'value': 10604000000, 'concept': 'IncomeTaxesPaidNet'}, {'unit': 'usd', 'label': 'Interest Paid', 'value': 427000000, 'concept': 'InterestPaid'}], 'ic': [{'unit': 'usd/shares', 'label': 'Earnings Per Share, Basic', 'value': 7.3, 'concept': 'EarningsPerShareBasic'}, {'unit': 'usd/shares', 'label': 'Earnings Per Share, Diluted', 'value': 7.25, 'concept': 'EarningsPerShareDiluted'}, {'unit': 'usd', 'label': 'Research and Development Expense', 'value': 5847000000, 'concept': 'ResearchAndDevelopmentExpense'}, {'unit': 'usd', 'label': 'Selling, General and Administrative Expense', 'value': 10624000000, 'concept': 'SellingGeneralAndAdministrativeExpense'}, {'unit': 'usd', 'label': 'Operating Expenses', 'value': 16471000000, 'concept': 'OperatingExpenses'}, {'unit': 'usd', 'label': 'Revenue, Net', 'value': 182214000000, 'concept': 'SalesRevenueNet'}, {'unit': 'usd', 'label': 'Cost of Goods and Services Sold', 'value': 109136000000, 'concept': 'CostOfGoodsAndServicesSold'}, {'unit': 'usd', 'label': 'Gross Profit', 'value': 73078000000, 'concept': 'GrossProfit'}, {'unit': 'usd', 'label': 'Operating Income (Loss)', 'value': 56607000000, 'concept': 'OperatingIncomeLoss'}, {'unit': 'usd', 'label': 'Nonoperating Income (Expense)', 'value': 846000000, 'concept': 'NonoperatingIncomeExpense'}, {'unit': 'usd', 'label': 'Income (Loss) from Continuing Operations before Income Taxes, Extraordinary Items, Noncontrolling Interest', 'value': 57453000000, 'concept': 'IncomeLossFromContinuingOperationsBeforeIncomeTaxesExtraordinaryItemsNoncontrollingInterest'}, {'unit': 'usd', 'label': 'Income Tax Expense (Benefit)', 'value': 15183000000, 'concept': 'IncomeTaxExpenseBenefit'}, {'unit': 'usd', 'label': 'Net Income (Loss) Attributable to Parent', 'value': 42270000000, 'concept': 'NetIncomeLoss'}, {'unit': 'usd/shares', 'label': 'Common Stock, Dividends, Per Share, Declared', 'value': 1.46, 'concept': 'CommonStockDividendsPerShareDeclared'}, {'unit': 'shares', 'label': 'Weighted Average Number of Shares Outstanding, Basic', 'value': 5788922000, 'concept': 'WeightedAverageNumberOfSharesOutstandingBasic'}, {'unit': 'shares', 'label': 'Weighted Average Number of Shares Outstanding, Diluted', 'value': 5829920000, 'concept': 'WeightedAverageNumberOfDilutedSharesOutstanding'}, {'unit': 'usd', 'label': 'Other Comprehensive Income (Loss), Foreign Currency Transaction and Translation Adjustment, Net of Tax', 'value': -179000000, 'concept': 'OtherComprehensiveIncomeLossForeignCurrencyTransactionAndTranslationAdjustmentNetOfTax'}, {'unit': 'usd', 'label': 'Other Comprehensive Income (Loss), Net of Tax', 'value': 16000000, 'concept': 'OtherComprehensiveIncomeLossNetOfTax'}, {'unit': 'usd', 'label': 'Other Comprehensive Income (Loss), Unrealized Holding Gain (Loss) on Securities Arising During Period, Net of Tax', 'value': -286000000, 'concept': 'OtherComprehensiveIncomeUnrealizedHoldingGainLossOnSecuritiesArisingDuringPeriodNetOfTax'}, {'unit': 'usd', 'label': 'Other Comprehensive Income (Loss), Reclassification Adjustment from AOCI for Sale of Securities, Net of Tax', 'value': -25000000, 'concept': 'OtherComprehensiveIncomeLossReclassificationAdjustmentFromAOCIForSaleOfSecuritiesNetOfTax'}, {'unit': 'usd', 'label': 'Other Comprehensive Income (Loss), Available-for-sale Securities Adjustment, Net of Tax', 'value': -261000000, 'concept': 'OtherComprehensiveIncomeLossAvailableForSaleSecuritiesAdjustmentNetOfTax'}, {'unit': 'usd', 'label': 'Other Comprehensive Income (Loss), Unrealized Gain (Loss) on Derivatives Arising During Period, Net of Tax', 'value': 2955000000, 'concept': 'OtherComprehensiveIncomeUnrealizedGainLossOnDerivativesArisingDuringPeriodNetOfTax'}, {'unit': 'usd', 'label': 'Other Comprehensive Income (Loss), Reclassification Adjustment from AOCI on Derivatives, Net of Tax', 'value': 2499000000, 'concept': 'OtherComprehensiveIncomeLossReclassificationAdjustmentFromAOCIOnDerivativesNetOfTax'}, {'unit': 'usd', 'label': 'Other Comprehensive Income (Loss), Derivatives Qualifying as Hedges, Net of Tax', 'value': 456000000, 'concept': 'OtherComprehensiveIncomeLossDerivativesQualifyingAsHedgesNetOfTax'}, {'unit': 'usd', 'label': 'Comprehensive Income (Loss), Net of Tax, Attributable to Parent', 'value': 42286000000, 'concept': 'ComprehensiveIncomeNetOfTax'}]}}, {'accessNumber': '0001193125-15-153166', 'symbol': 'AAPL', 'cik': '320193', 'year': 2015, 'quarter': 2, 'form': '10-Q', 'startDate': '2014-09-28 00:00:00', 'endDate': '2015-03-28 00:00:00', 'filedDate': '2015-04-28 00:00:00', 'acceptedDate': '2015-04-28 17:01:16', 'report': {'bs': [{'unit': 'usd', 'label': 'Available-for-sale Securities, Noncurrent', 'value': 160443000000, 'concept': 'AvailableForSaleSecuritiesNoncurrent'}, {'unit': 'usd', 'label': 'Property, Plant and Equipment, Net', 'value': 20151000000, 'concept': 'PropertyPlantAndEquipmentNet'}, {'unit': 'usd', 'label': 'Goodwill', 'value': 4711000000, 'concept': 'Goodwill'}, {'unit': 'usd', 'label': 'Intangible Assets, Net (Excluding Goodwill)', 'value': 4061000000, 'concept': 'IntangibleAssetsNetExcludingGoodwill'}, {'unit': 'usd', 'label': 'Other Assets, Noncurrent', 'value': 3937000000, 'concept': 'OtherAssetsNoncurrent'}, {'unit': 'usd', 'label': 'Assets', 'value': 261194000000, 'concept': 'Assets'}, {'unit': 'usd', 'label': 'Cash and Cash Equivalents, at Carrying Value', 'value': 14489000000, 'concept': 'CashAndCashEquivalentsAtCarryingValue'}, {'unit': 'usd', 'label': 'Available-for-sale Securities, Current', 'value': 18607000000, 'concept': 'AvailableForSaleSecuritiesCurrent'}, {'unit': 'usd', 'label': 'Accounts Receivable, Net, Current', 'value': 10905000000, 'concept': 'AccountsReceivableNetCurrent'}, {'unit': 'usd', 'label': 'Inventory, Net', 'value': 2396000000, 'concept': 'InventoryNet'}, {'unit': 'usd', 'label': 'Deferred Tax Assets, Net, Current', 'value': 5141000000, 'concept': 'DeferredTaxAssetsLiabilitiesNetCurrent'}, {'unit': 'usd', 'label': 'Nontrade Receivables, Current', 'value': 7259000000, 'concept': 'NontradeReceivablesCurrent'}, {'unit': 'usd', 'label': 'Other Assets, Current', 'value': 9094000000, 'concept': 'OtherAssetsCurrent'}, {'unit': 'usd', 'label': 'Assets, Current', 'value': 67891000000, 'concept': 'AssetsCurrent'}, {'unit': 'usd', 'label': 'Deferred Revenue, Noncurrent', 'value': 3571000000, 'concept': 'DeferredRevenueNoncurrent'}, {'unit': 'usd', 'label': 'Long-term Debt', 'value': 40072000000, 'concept': 'LongTermDebt'}, {'unit': 'usd', 'label': 'Other Liabilities, Noncurrent', 'value': 29816000000, 'concept': 'OtherLiabilitiesNoncurrent'}, {'unit': 'usd', 'label': 'Liabilities', 'value': 132188000000, 'concept': 'Liabilities'}, {'unit': 'usd', 'label': 'Commitments and Contingencies', 'value': 'N/A', 'concept': 'CommitmentsAndContingencies'}, {'unit': 'usd', 'label': 'Liabilities and Equity', 'value': 261194000000, 'concept': 'LiabilitiesAndStockholdersEquity'}, {'unit': 'usd', 'label': 'Accounts Payable, Current', 'value': 23159000000, 'concept': 'AccountsPayableCurrent'}, {'unit': 'usd', 'label': 'Accrued Liabilities, Current', 'value': 22827000000, 'concept': 'AccruedLiabilitiesCurrent'}, {'unit': 'usd', 'label': 'Deferred Revenue, Current', 'value': 8944000000, 'concept': 'DeferredRevenueCurrent'}, {'unit': 'usd', 'label': 'Commercial Paper', 'value': 3799000000, 'concept': 'CommercialPaper'}, {'unit': 'usd', 'label': 'Liabilities, Current', 'value': 58729000000, 'concept': 'LiabilitiesCurrent'}, {'unit': 'usd', 'label': 'Common Stocks, Including Additional Paid in Capital', 'value': 25376000000, 'concept': 'CommonStocksIncludingAdditionalPaidInCapital'}, {'unit': 'usd', 'label': 'Retained Earnings (Accumulated Deficit)', 'value': 100920000000, 'concept': 'RetainedEarningsAccumulatedDeficit'}, {'unit': 'usd', 'label': 'Accumulated Other Comprehensive Income (Loss), Net of Tax', 'value': 2710000000, 'concept': 'AccumulatedOtherComprehensiveIncomeLossNetOfTax'}, {'unit': 'usd', 'label': \"Stockholders' Equity Attributable to Parent\", 'value': 129006000000, 'concept': 'StockholdersEquity'}], 'cf': [{'unit': 'usd', 'label': 'Depreciation, Amortization and Accretion, Net', 'value': 5054000000, 'concept': 'DepreciationAmortizationAndAccretionNet'}, {'unit': 'usd', 'label': 'Share-based Compensation', 'value': 1815000000, 'concept': 'ShareBasedCompensation'}, {'unit': 'usd', 'label': 'Deferred Income Tax Expense (Benefit)', 'value': 1879000000, 'concept': 'DeferredIncomeTaxExpenseBenefit'}, {'unit': 'usd', 'label': 'Increase (Decrease) in Accounts Receivable', 'value': -6555000000, 'concept': 'IncreaseDecreaseInAccountsReceivable'}, {'unit': 'usd', 'label': 'Increase (Decrease) in Inventories', 'value': 285000000, 'concept': 'IncreaseDecreaseInInventories'}, {'unit': 'usd', 'label': 'Increase (Decrease) in Other Receivables', 'value': -2500000000, 'concept': 'IncreaseDecreaseInOtherReceivables'}, {'unit': 'usd', 'label': 'Increase (Decrease) in Other Operating Assets', 'value': -2448000000, 'concept': 'IncreaseDecreaseInOtherOperatingAssets'}, {'unit': 'usd', 'label': 'Increase (Decrease) in Accounts Payable', 'value': -5428000000, 'concept': 'IncreaseDecreaseInAccountsPayable'}, {'unit': 'usd', 'label': 'Increase (Decrease) in Deferred Revenue', 'value': 993000000, 'concept': 'IncreaseDecreaseInDeferredRevenue'}, {'unit': 'usd', 'label': 'Increase (Decrease) in Other Operating Liabilities', 'value': 5679000000, 'concept': 'IncreaseDecreaseInOtherOperatingLiabilities'}, {'unit': 'usd', 'label': 'Proceeds from Issuance of Common Stock', 'value': 309000000, 'concept': 'ProceedsFromIssuanceOfCommonStock'}, {'unit': 'usd', 'label': 'Excess Tax Benefit from Share-based Compensation, Financing Activities', 'value': 357000000, 'concept': 'ExcessTaxBenefitFromShareBasedCompensationFinancingActivities'}, {'unit': 'usd', 'label': 'Payments Related to Tax Withholding for Share-based Compensation', 'value': 608000000, 'concept': 'PaymentsRelatedToTaxWithholdingForShareBasedCompensation'}, {'unit': 'usd', 'label': 'Dividends and dividend equivalents paid on common stock and restricted stock units.', 'value': 5544000000, 'concept': 'aapl:PaymentsOfDividendsAndDividendEquivalentsOnCommonStockAndRestrictedStockUnits'}, {'unit': 'usd', 'label': 'Payments for Repurchase of Common Stock', 'value': 12000000000, 'concept': 'PaymentsForRepurchaseOfCommonStock'}, {'unit': 'usd', 'label': 'Proceeds from Issuance of Long-term Debt', 'value': 11332000000, 'concept': 'ProceedsFromIssuanceOfLongTermDebt'}, {'unit': 'usd', 'label': 'Proceeds from (Repayments of) Commercial Paper', 'value': -2508000000, 'concept': 'ProceedsFromRepaymentsOfCommercialPaper'}, {'unit': 'usd', 'label': 'Net Cash Provided by (Used in) Financing Activities, Continuing Operations', 'value': -8662000000, 'concept': 'NetCashProvidedByUsedInFinancingActivitiesContinuingOperations'}, {'unit': 'usd', 'label': 'Payments to Acquire Available-for-sale Securities', 'value': 92523000000, 'concept': 'PaymentsToAcquireAvailableForSaleSecurities'}, {'unit': 'usd', 'label': 'Proceeds from Maturities, Prepayments and Calls of Available-for-sale Securities', 'value': 5871000000, 'concept': 'ProceedsFromMaturitiesPrepaymentsAndCallsOfAvailableForSaleSecurities'}, {'unit': 'usd', 'label': 'Proceeds from Sale of Available-for-sale Securities', 'value': 48924000000, 'concept': 'ProceedsFromSaleOfAvailableForSaleSecurities'}, {'unit': 'usd', 'label': 'Payments to Acquire Businesses, Net of Cash Acquired', 'value': 115000000, 'concept': 'PaymentsToAcquireBusinessesNetOfCashAcquired'}, {'unit': 'usd', 'label': 'Payments to Acquire Property, Plant, and Equipment', 'value': 5586000000, 'concept': 'PaymentsToAcquirePropertyPlantAndEquipment'}, {'unit': 'usd', 'label': 'Payments to Acquire Intangible Assets', 'value': 155000000, 'concept': 'PaymentsToAcquireIntangibleAssets'}, {'unit': 'usd', 'label': 'Payments for (Proceeds from) Other Investing Activities', 'value': -88000000, 'concept': 'PaymentsForProceedsFromOtherInvestingActivities'}, {'unit': 'usd', 'label': 'Net Cash Provided by (Used in) Investing Activities, Continuing Operations', 'value': -43496000000, 'concept': 'NetCashProvidedByUsedInInvestingActivitiesContinuingOperations'}, {'unit': 'usd', 'label': 'Net Income (Loss) Attributable to Parent', 'value': 31593000000, 'concept': 'NetIncomeLoss'}, {'unit': 'usd', 'label': 'Net Cash Provided by (Used in) Operating Activities, Continuing Operations', 'value': 52803000000, 'concept': 'NetCashProvidedByUsedInOperatingActivitiesContinuingOperations'}, {'unit': 'usd', 'label': 'Cash and Cash Equivalents, Period Increase (Decrease)', 'value': 645000000, 'concept': 'CashAndCashEquivalentsPeriodIncreaseDecrease'}, {'unit': 'usd', 'label': 'Income Taxes Paid, Net', 'value': 7058000000, 'concept': 'IncomeTaxesPaidNet'}, {'unit': 'usd', 'label': 'Interest Paid', 'value': 220000000, 'concept': 'InterestPaid'}], 'ic': [{'unit': 'usd/shares', 'label': 'Earnings Per Share, Basic', 'value': 5.43, 'concept': 'EarningsPerShareBasic'}, {'unit': 'usd/shares', 'label': 'Earnings Per Share, Diluted', 'value': 5.39, 'concept': 'EarningsPerShareDiluted'}, {'unit': 'usd', 'label': 'Research and Development Expense', 'value': 3813000000, 'concept': 'ResearchAndDevelopmentExpense'}, {'unit': 'usd', 'label': 'Selling, General and Administrative Expense', 'value': 7060000000, 'concept': 'SellingGeneralAndAdministrativeExpense'}, {'unit': 'usd', 'label': 'Operating Expenses', 'value': 10873000000, 'concept': 'OperatingExpenses'}, {'unit': 'usd', 'label': 'Revenue, Net', 'value': 132609000000, 'concept': 'SalesRevenueNet'}, {'unit': 'usd', 'label': 'Cost of Goods and Services Sold', 'value': 79212000000, 'concept': 'CostOfGoodsAndServicesSold'}, {'unit': 'usd', 'label': 'Gross Profit', 'value': 53397000000, 'concept': 'GrossProfit'}, {'unit': 'usd', 'label': 'Operating Income (Loss)', 'value': 42524000000, 'concept': 'OperatingIncomeLoss'}, {'unit': 'usd', 'label': 'Nonoperating Income (Expense)', 'value': 456000000, 'concept': 'NonoperatingIncomeExpense'}, {'unit': 'usd', 'label': 'Income (Loss) from Continuing Operations before Income Taxes, Extraordinary Items, Noncontrolling Interest', 'value': 42980000000, 'concept': 'IncomeLossFromContinuingOperationsBeforeIncomeTaxesExtraordinaryItemsNoncontrollingInterest'}, {'unit': 'usd', 'label': 'Income Tax Expense (Benefit)', 'value': 11387000000, 'concept': 'IncomeTaxExpenseBenefit'}, {'unit': 'usd', 'label': 'Net Income (Loss) Attributable to Parent', 'value': 31593000000, 'concept': 'NetIncomeLoss'}, {'unit': 'usd/shares', 'label': 'Common Stock, Dividends, Per Share, Declared', 'value': 0.94, 'concept': 'CommonStockDividendsPerShareDeclared'}, {'unit': 'shares', 'label': 'Weighted Average Number of Shares Outstanding, Basic', 'value': 5818441000, 'concept': 'WeightedAverageNumberOfSharesOutstandingBasic'}, {'unit': 'shares', 'label': 'Weighted Average Number of Shares Outstanding, Diluted', 'value': 5858330000, 'concept': 'WeightedAverageNumberOfDilutedSharesOutstanding'}, {'unit': 'usd', 'label': 'Other Comprehensive Income (Loss), Foreign Currency Transaction and Translation Adjustment, Net of Tax', 'value': -246000000, 'concept': 'OtherComprehensiveIncomeLossForeignCurrencyTransactionAndTranslationAdjustmentNetOfTax'}, {'unit': 'usd', 'label': 'Other Comprehensive Income (Loss), Net of Tax', 'value': 1628000000, 'concept': 'OtherComprehensiveIncomeLossNetOfTax'}, {'unit': 'usd', 'label': 'Other Comprehensive Income (Loss), Unrealized Holding Gain (Loss) on Securities Arising During Period, Net of Tax', 'value': 137000000, 'concept': 'OtherComprehensiveIncomeUnrealizedHoldingGainLossOnSecuritiesArisingDuringPeriodNetOfTax'}, {'unit': 'usd', 'label': 'Other Comprehensive Income (Loss), Reclassification Adjustment from AOCI for Sale of Securities, Net of Tax', 'value': -22000000, 'concept': 'OtherComprehensiveIncomeLossReclassificationAdjustmentFromAOCIForSaleOfSecuritiesNetOfTax'}, {'unit': 'usd', 'label': 'Other Comprehensive Income (Loss), Available-for-sale Securities Adjustment, Net of Tax', 'value': 159000000, 'concept': 'OtherComprehensiveIncomeLossAvailableForSaleSecuritiesAdjustmentNetOfTax'}, {'unit': 'usd', 'label': 'Other Comprehensive Income (Loss), Unrealized Gain (Loss) on Derivatives Arising During Period, Net of Tax', 'value': 3019000000, 'concept': 'OtherComprehensiveIncomeUnrealizedGainLossOnDerivativesArisingDuringPeriodNetOfTax'}, {'unit': 'usd', 'label': 'Other Comprehensive Income (Loss), Reclassification Adjustment from AOCI on Derivatives, Net of Tax', 'value': 1304000000, 'concept': 'OtherComprehensiveIncomeLossReclassificationAdjustmentFromAOCIOnDerivativesNetOfTax'}, {'unit': 'usd', 'label': 'Other Comprehensive Income (Loss), Derivatives Qualifying as Hedges, Net of Tax', 'value': 1715000000, 'concept': 'OtherComprehensiveIncomeLossDerivativesQualifyingAsHedgesNetOfTax'}, {'unit': 'usd', 'label': 'Comprehensive Income (Loss), Net of Tax, Attributable to Parent', 'value': 33221000000, 'concept': 'ComprehensiveIncomeNetOfTax'}]}}, {'accessNumber': '0001193125-15-023697', 'symbol': 'AAPL', 'cik': '320193', 'year': 2015, 'quarter': 1, 'form': '10-Q', 'startDate': '2014-09-28 00:00:00', 'endDate': '2014-12-27 00:00:00', 'filedDate': '2015-01-28 00:00:00', 'acceptedDate': '2015-01-28 16:39:32', 'report': {'bs': [{'unit': 'usd', 'label': 'Available-for-sale Securities, Noncurrent', 'value': 145492000000, 'concept': 'AvailableForSaleSecuritiesNoncurrent'}, {'unit': 'usd', 'label': 'Property, Plant and Equipment, Net', 'value': 20392000000, 'concept': 'PropertyPlantAndEquipmentNet'}, {'unit': 'usd', 'label': 'Goodwill', 'value': 4629000000, 'concept': 'Goodwill'}, {'unit': 'usd', 'label': 'Intangible Assets, Net (Excluding Goodwill)', 'value': 4370000000, 'concept': 'IntangibleAssetsNetExcludingGoodwill'}, {'unit': 'usd', 'label': 'Other Assets, Noncurrent', 'value': 3608000000, 'concept': 'OtherAssetsNoncurrent'}, {'unit': 'usd', 'label': 'Assets', 'value': 261894000000, 'concept': 'Assets'}, {'unit': 'usd', 'label': 'Cash and Cash Equivalents, at Carrying Value', 'value': 19478000000, 'concept': 'CashAndCashEquivalentsAtCarryingValue'}, {'unit': 'usd', 'label': 'Available-for-sale Securities, Current', 'value': 12985000000, 'concept': 'AvailableForSaleSecuritiesCurrent'}, {'unit': 'usd', 'label': 'Accounts Receivable, Net, Current', 'value': 16709000000, 'concept': 'AccountsReceivableNetCurrent'}, {'unit': 'usd', 'label': 'Inventory, Net', 'value': 2283000000, 'concept': 'InventoryNet'}, {'unit': 'usd', 'label': 'Deferred Tax Assets, Net, Current', 'value': 5046000000, 'concept': 'DeferredTaxAssetsLiabilitiesNetCurrent'}, {'unit': 'usd', 'label': 'Nontrade Receivables, Current', 'value': 13267000000, 'concept': 'NontradeReceivablesCurrent'}, {'unit': 'usd', 'label': 'Other Assets, Current', 'value': 13635000000, 'concept': 'OtherAssetsCurrent'}, {'unit': 'usd', 'label': 'Assets, Current', 'value': 83403000000, 'concept': 'AssetsCurrent'}, {'unit': 'usd', 'label': 'Deferred Revenue, Noncurrent', 'value': 3480000000, 'concept': 'DeferredRevenueNoncurrent'}, {'unit': 'usd', 'label': 'Long-term Debt', 'value': 32504000000, 'concept': 'LongTermDebt'}, {'unit': 'usd', 'label': 'Other Liabilities, Noncurrent', 'value': 28971000000, 'concept': 'OtherLiabilitiesNoncurrent'}, {'unit': 'usd', 'label': 'Liabilities', 'value': 138566000000, 'concept': 'Liabilities'}, {'unit': 'usd', 'label': 'Commitments and Contingencies', 'value': 'N/A', 'concept': 'CommitmentsAndContingencies'}, {'unit': 'usd', 'label': 'Liabilities and Equity', 'value': 261894000000, 'concept': 'LiabilitiesAndStockholdersEquity'}, {'unit': 'usd', 'label': 'Accounts Payable, Current', 'value': 38001000000, 'concept': 'AccountsPayableCurrent'}, {'unit': 'usd', 'label': 'Accrued Liabilities, Current', 'value': 22724000000, 'concept': 'AccruedLiabilitiesCurrent'}, {'unit': 'usd', 'label': 'Deferred Revenue, Current', 'value': 8987000000, 'concept': 'DeferredRevenueCurrent'}, {'unit': 'usd', 'label': 'Commercial Paper', 'value': 3899000000, 'concept': 'CommercialPaper'}, {'unit': 'usd', 'label': 'Liabilities, Current', 'value': 73611000000, 'concept': 'LiabilitiesCurrent'}, {'unit': 'usd', 'label': 'Common Stocks, Including Additional Paid in Capital', 'value': 24187000000, 'concept': 'CommonStocksIncludingAdditionalPaidInCapital'}, {'unit': 'usd', 'label': 'Retained Earnings (Accumulated Deficit)', 'value': 97178000000, 'concept': 'RetainedEarningsAccumulatedDeficit'}, {'unit': 'usd', 'label': 'Accumulated Other Comprehensive Income (Loss), Net of Tax', 'value': 1963000000, 'concept': 'AccumulatedOtherComprehensiveIncomeLossNetOfTax'}, {'unit': 'usd', 'label': \"Stockholders' Equity Attributable to Parent\", 'value': 123328000000, 'concept': 'StockholdersEquity'}], 'cf': [{'unit': 'usd', 'label': 'Depreciation, Amortization and Accretion, Net', 'value': 2575000000, 'concept': 'DepreciationAmortizationAndAccretionNet'}, {'unit': 'usd', 'label': 'Share-based Compensation', 'value': 888000000, 'concept': 'ShareBasedCompensation'}, {'unit': 'usd', 'label': 'Deferred Income Tax Expense (Benefit)', 'value': 2197000000, 'concept': 'DeferredIncomeTaxExpenseBenefit'}, {'unit': 'usd', 'label': 'Increase (Decrease) in Accounts Receivable', 'value': -751000000, 'concept': 'IncreaseDecreaseInAccountsReceivable'}, {'unit': 'usd', 'label': 'Increase (Decrease) in Inventories', 'value': 172000000, 'concept': 'IncreaseDecreaseInInventories'}, {'unit': 'usd', 'label': 'Increase (Decrease) in Other Receivables', 'value': 3508000000, 'concept': 'IncreaseDecreaseInOtherReceivables'}, {'unit': 'usd', 'label': 'Increase (Decrease) in Other Operating Assets', 'value': 1648000000, 'concept': 'IncreaseDecreaseInOtherOperatingAssets'}, {'unit': 'usd', 'label': 'Increase (Decrease) in Accounts Payable', 'value': 9003000000, 'concept': 'IncreaseDecreaseInAccountsPayable'}, {'unit': 'usd', 'label': 'Increase (Decrease) in Deferred Revenue', 'value': 945000000, 'concept': 'IncreaseDecreaseInDeferredRevenue'}, {'unit': 'usd', 'label': 'Increase (Decrease) in Other Operating Liabilities', 'value': 4667000000, 'concept': 'IncreaseDecreaseInOtherOperatingLiabilities'}, {'unit': 'usd', 'label': 'Proceeds from Issuance of Common Stock', 'value': 80000000, 'concept': 'ProceedsFromIssuanceOfCommonStock'}, {'unit': 'usd', 'label': 'Excess Tax Benefit from Share-based Compensation, Financing Activities', 'value': 264000000, 'concept': 'ExcessTaxBenefitFromShareBasedCompensationFinancingActivities'}, {'unit': 'usd', 'label': 'Payments Related to Tax Withholding for Share-based Compensation', 'value': 512000000, 'concept': 'PaymentsRelatedToTaxWithholdingForShareBasedCompensation'}, {'unit': 'usd', 'label': 'Dividends and dividend equivalents paid on common stock and restricted stock units.', 'value': 2801000000, 'concept': 'aapl:PaymentsOfDividendsAndDividendEquivalentsOnCommonStockAndRestrictedStockUnits'}, {'unit': 'usd', 'label': 'Payments for Repurchase of Common Stock', 'value': 5030000000, 'concept': 'PaymentsForRepurchaseOfCommonStock'}, {'unit': 'usd', 'label': 'Proceeds from Issuance of Long-term Debt', 'value': 3485000000, 'concept': 'ProceedsFromIssuanceOfLongTermDebt'}, {'unit': 'usd', 'label': 'Proceeds from (Repayments of) Commercial Paper', 'value': -2409000000, 'concept': 'ProceedsFromRepaymentsOfCommercialPaper'}, {'unit': 'usd', 'label': 'Net Cash Provided by (Used in) Financing Activities, Continuing Operations', 'value': -6923000000, 'concept': 'NetCashProvidedByUsedInFinancingActivitiesContinuingOperations'}, {'unit': 'usd', 'label': 'Payments to Acquire Available-for-sale Securities', 'value': 44915000000, 'concept': 'PaymentsToAcquireAvailableForSaleSecurities'}, {'unit': 'usd', 'label': 'Proceeds from Maturities, Prepayments and Calls of Available-for-sale Securities', 'value': 2807000000, 'concept': 'ProceedsFromMaturitiesPrepaymentsAndCallsOfAvailableForSaleSecurities'}, {'unit': 'usd', 'label': 'Proceeds from Sale of Available-for-sale Securities', 'value': 24166000000, 'concept': 'ProceedsFromSaleOfAvailableForSaleSecurities'}, {'unit': 'usd', 'label': 'Payments to Acquire Businesses, Net of Cash Acquired', 'value': 23000000, 'concept': 'PaymentsToAcquireBusinessesNetOfCashAcquired'}, {'unit': 'usd', 'label': 'Payments to Acquire Property, Plant, and Equipment', 'value': 3217000000, 'concept': 'PaymentsToAcquirePropertyPlantAndEquipment'}, {'unit': 'usd', 'label': 'Payments to Acquire Intangible Assets', 'value': 48000000, 'concept': 'PaymentsToAcquireIntangibleAssets'}, {'unit': 'usd', 'label': 'Payments for (Proceeds from) Other Investing Activities', 'value': -65000000, 'concept': 'PaymentsForProceedsFromOtherInvestingActivities'}, {'unit': 'usd', 'label': 'Net Cash Provided by (Used in) Investing Activities, Continuing Operations', 'value': -21165000000, 'concept': 'NetCashProvidedByUsedInInvestingActivitiesContinuingOperations'}, {'unit': 'usd', 'label': 'Net Income (Loss) Attributable to Parent', 'value': 18024000000, 'concept': 'NetIncomeLoss'}, {'unit': 'usd', 'label': 'Net Cash Provided by (Used in) Operating Activities, Continuing Operations', 'value': 33722000000, 'concept': 'NetCashProvidedByUsedInOperatingActivitiesContinuingOperations'}, {'unit': 'usd', 'label': 'Cash and Cash Equivalents, Period Increase (Decrease)', 'value': 5634000000, 'concept': 'CashAndCashEquivalentsPeriodIncreaseDecrease'}, {'unit': 'usd', 'label': 'Income Taxes Paid, Net', 'value': 3869000000, 'concept': 'IncomeTaxesPaidNet'}, {'unit': 'usd', 'label': 'Interest Paid', 'value': 202000000, 'concept': 'InterestPaid'}], 'ic': [{'unit': 'usd/shares', 'label': 'Earnings Per Share, Basic', 'value': 3.08, 'concept': 'EarningsPerShareBasic'}, {'unit': 'usd/shares', 'label': 'Earnings Per Share, Diluted', 'value': 3.06, 'concept': 'EarningsPerShareDiluted'}, {'unit': 'usd', 'label': 'Research and Development Expense', 'value': 1895000000, 'concept': 'ResearchAndDevelopmentExpense'}, {'unit': 'usd', 'label': 'Selling, General and Administrative Expense', 'value': 3600000000, 'concept': 'SellingGeneralAndAdministrativeExpense'}, {'unit': 'usd', 'label': 'Operating Expenses', 'value': 5495000000, 'concept': 'OperatingExpenses'}, {'unit': 'usd', 'label': 'Revenue, Net', 'value': 74599000000, 'concept': 'SalesRevenueNet'}, {'unit': 'usd', 'label': 'Cost of Goods and Services Sold', 'value': 44858000000, 'concept': 'CostOfGoodsAndServicesSold'}, {'unit': 'usd', 'label': 'Gross Profit', 'value': 29741000000, 'concept': 'GrossProfit'}, {'unit': 'usd', 'label': 'Operating Income (Loss)', 'value': 24246000000, 'concept': 'OperatingIncomeLoss'}, {'unit': 'usd', 'label': 'Nonoperating Income (Expense)', 'value': 170000000, 'concept': 'NonoperatingIncomeExpense'}, {'unit': 'usd', 'label': 'Income (Loss) from Continuing Operations before Income Taxes, Extraordinary Items, Noncontrolling Interest', 'value': 24416000000, 'concept': 'IncomeLossFromContinuingOperationsBeforeIncomeTaxesExtraordinaryItemsNoncontrollingInterest'}, {'unit': 'usd', 'label': 'Income Tax Expense (Benefit)', 'value': 6392000000, 'concept': 'IncomeTaxExpenseBenefit'}, {'unit': 'usd', 'label': 'Net Income (Loss) Attributable to Parent', 'value': 18024000000, 'concept': 'NetIncomeLoss'}, {'unit': 'usd/shares', 'label': 'Common Stock, Dividends, Per Share, Declared', 'value': 0.47, 'concept': 'CommonStockDividendsPerShareDeclared'}, {'unit': 'shares', 'label': 'Weighted Average Number of Shares Outstanding, Basic', 'value': 5843082000, 'concept': 'WeightedAverageNumberOfSharesOutstandingBasic'}, {'unit': 'shares', 'label': 'Weighted Average Number of Shares Outstanding, Diluted', 'value': 5881803000, 'concept': 'WeightedAverageNumberOfDilutedSharesOutstanding'}, {'unit': 'usd', 'label': 'Other Comprehensive Income (Loss), Foreign Currency Transaction and Translation Adjustment, Net of Tax', 'value': -66000000, 'concept': 'OtherComprehensiveIncomeLossForeignCurrencyTransactionAndTranslationAdjustmentNetOfTax'}, {'unit': 'usd', 'label': 'Other Comprehensive Income (Loss), Net of Tax', 'value': 881000000, 'concept': 'OtherComprehensiveIncomeLossNetOfTax'}, {'unit': 'usd', 'label': 'Other Comprehensive Income (Loss), Unrealized Holding Gain (Loss) on Securities Arising During Period, Net of Tax', 'value': -456000000, 'concept': 'OtherComprehensiveIncomeUnrealizedHoldingGainLossOnSecuritiesArisingDuringPeriodNetOfTax'}, {'unit': 'usd', 'label': 'Other Comprehensive Income (Loss), Reclassification Adjustment from AOCI for Sale of Securities, Net of Tax', 'value': 14000000, 'concept': 'OtherComprehensiveIncomeLossReclassificationAdjustmentFromAOCIForSaleOfSecuritiesNetOfTax'}, {'unit': 'usd', 'label': 'Other Comprehensive Income (Loss), Available-for-sale Securities Adjustment, Net of Tax', 'value': -470000000, 'concept': 'OtherComprehensiveIncomeLossAvailableForSaleSecuritiesAdjustmentNetOfTax'}, {'unit': 'usd', 'label': 'Other Comprehensive Income (Loss), Unrealized Gain (Loss) on Derivatives Arising During Period, Net of Tax', 'value': 1982000000, 'concept': 'OtherComprehensiveIncomeUnrealizedGainLossOnDerivativesArisingDuringPeriodNetOfTax'}, {'unit': 'usd', 'label': 'Other Comprehensive Income (Loss), Reclassification Adjustment from AOCI on Derivatives, Net of Tax', 'value': 565000000, 'concept': 'OtherComprehensiveIncomeLossReclassificationAdjustmentFromAOCIOnDerivativesNetOfTax'}, {'unit': 'usd', 'label': 'Other Comprehensive Income (Loss), Derivatives Qualifying as Hedges, Net of Tax', 'value': 1417000000, 'concept': 'OtherComprehensiveIncomeLossDerivativesQualifyingAsHedgesNetOfTax'}, {'unit': 'usd', 'label': 'Comprehensive Income (Loss), Net of Tax, Attributable to Parent', 'value': 18905000000, 'concept': 'ComprehensiveIncomeNetOfTax'}]}}, {'accessNumber': '0001193125-14-277160', 'symbol': 'AAPL', 'cik': '320193', 'year': 2014, 'quarter': 3, 'form': '10-Q', 'startDate': '2013-09-29 00:00:00', 'endDate': '2014-06-28 00:00:00', 'filedDate': '2014-07-23 00:00:00', 'acceptedDate': '2014-07-23 16:32:48', 'report': {'bs': [{'unit': 'usd', 'label': 'Available For Sale Securities Noncurrent', 'value': 126685000000, 'concept': 'AvailableForSaleSecuritiesNoncurrent'}, {'unit': 'usd', 'label': 'Property Plant And Equipment Net', 'value': 17585000000, 'concept': 'PropertyPlantAndEquipmentNet'}, {'unit': 'usd', 'label': 'Goodwill', 'value': 2374000000, 'concept': 'Goodwill'}, {'unit': 'usd', 'label': 'Intangible Assets Net Excluding Goodwill', 'value': 3767000000, 'concept': 'IntangibleAssetsNetExcludingGoodwill'}, {'unit': 'usd', 'label': 'Other Assets Noncurrent', 'value': 4160000000, 'concept': 'OtherAssetsNoncurrent'}, {'unit': 'usd', 'label': 'Assets', 'value': 222520000000, 'concept': 'Assets'}, {'unit': 'usd', 'label': 'Cash And Cash Equivalents At Carrying Value', 'value': 12977000000, 'concept': 'CashAndCashEquivalentsAtCarryingValue'}, {'unit': 'usd', 'label': 'Available For Sale Securities Current', 'value': 24828000000, 'concept': 'AvailableForSaleSecuritiesCurrent'}, {'unit': 'usd', 'label': 'Accounts Receivable Net Current', 'value': 10788000000, 'concept': 'AccountsReceivableNetCurrent'}, {'unit': 'usd', 'label': 'Inventory Net', 'value': 1594000000, 'concept': 'InventoryNet'}, {'unit': 'usd', 'label': 'Deferred Tax Assets Net Current', 'value': 3884000000, 'concept': 'DeferredTaxAssetsNetCurrent'}, {'unit': 'usd', 'label': 'Nontrade Receivables Current', 'value': 6053000000, 'concept': 'NontradeReceivablesCurrent'}, {'unit': 'usd', 'label': 'Other Assets Current', 'value': 7825000000, 'concept': 'OtherAssetsCurrent'}, {'unit': 'usd', 'label': 'Assets Current', 'value': 67949000000, 'concept': 'AssetsCurrent'}, {'unit': 'usd', 'label': 'Deferred Revenue Noncurrent', 'value': 3058000000, 'concept': 'DeferredRevenueNoncurrent'}, {'unit': 'usd', 'label': 'Long Term Debt', 'value': 29030000000, 'concept': 'LongTermDebt'}, {'unit': 'usd', 'label': 'Other Liabilities Noncurrent', 'value': 23287000000, 'concept': 'OtherLiabilitiesNoncurrent'}, {'unit': 'usd', 'label': 'Liabilities', 'value': 101580000000, 'concept': 'Liabilities'}, {'unit': 'usd', 'label': 'Commitments And Contingencies', 'value': 'N/A', 'concept': 'CommitmentsAndContingencies'}, {'unit': 'usd', 'label': 'Liabilities And Stockholders Equity', 'value': 222520000000, 'concept': 'LiabilitiesAndStockholdersEquity'}, {'unit': 'usd', 'label': 'Accounts Payable Current', 'value': 20535000000, 'concept': 'AccountsPayableCurrent'}, {'unit': 'usd', 'label': 'Accrued Liabilities Current', 'value': 15264000000, 'concept': 'AccruedLiabilitiesCurrent'}, {'unit': 'usd', 'label': 'Deferred Revenue Current', 'value': 8396000000, 'concept': 'DeferredRevenueCurrent'}, {'unit': 'usd', 'label': 'Commercial Paper', 'value': 2010000000, 'concept': 'CommercialPaper'}, {'unit': 'usd', 'label': 'Liabilities Current', 'value': 46205000000, 'concept': 'LiabilitiesCurrent'}, {'unit': 'usd', 'label': 'Common Stocks Including Additional Paid In Capital', 'value': 22139000000, 'concept': 'CommonStocksIncludingAdditionalPaidInCapital'}, {'unit': 'usd', 'label': 'Retained Earnings Accumulated Deficit', 'value': 98715000000, 'concept': 'RetainedEarningsAccumulatedDeficit'}, {'unit': 'usd', 'label': 'Accumulated Other Comprehensive Income Loss Net Of Tax', 'value': 86000000, 'concept': 'AccumulatedOtherComprehensiveIncomeLossNetOfTax'}, {'unit': 'usd', 'label': 'Stockholders Equity', 'value': 120940000000, 'concept': 'StockholdersEquity'}], 'cf': [{'unit': 'usd', 'label': 'Depreciation Amortization And Accretion Net', 'value': 5977000000, 'concept': 'DepreciationAmortizationAndAccretionNet'}, {'unit': 'usd', 'label': 'Share Based Compensation', 'value': 2101000000, 'concept': 'ShareBasedCompensation'}, {'unit': 'usd', 'label': 'Deferred Income Tax Expense Benefit', 'value': 3154000000, 'concept': 'DeferredIncomeTaxExpenseBenefit'}, {'unit': 'usd', 'label': 'Increase Decrease In Accounts Receivable', 'value': -2314000000, 'concept': 'IncreaseDecreaseInAccountsReceivable'}, {'unit': 'usd', 'label': 'Increase Decrease In Inventories', 'value': -170000000, 'concept': 'IncreaseDecreaseInInventories'}, {'unit': 'usd', 'label': 'Increase Decrease In Other Receivables', 'value': -1486000000, 'concept': 'IncreaseDecreaseInOtherReceivables'}, {'unit': 'usd', 'label': 'Increase Decrease In Other Operating Assets', 'value': -931000000, 'concept': 'IncreaseDecreaseInOtherOperatingAssets'}, {'unit': 'usd', 'label': 'Increase Decrease In Accounts Payable', 'value': -2531000000, 'concept': 'IncreaseDecreaseInAccountsPayable'}, {'unit': 'usd', 'label': 'Increase Decrease In Deferred Revenue', 'value': 1394000000, 'concept': 'IncreaseDecreaseInDeferredRevenue'}, {'unit': 'usd', 'label': 'Increase Decrease In Other Operating Liabilities', 'value': 424000000, 'concept': 'IncreaseDecreaseInOtherOperatingLiabilities'}, {'unit': 'usd', 'label': 'Proceeds From Issuance Of Common Stock', 'value': 435000000, 'concept': 'ProceedsFromIssuanceOfCommonStock'}, {'unit': 'usd', 'label': 'Excess Tax Benefit From Share Based Compensation Financing Activities', 'value': 562000000, 'concept': 'ExcessTaxBenefitFromShareBasedCompensationFinancingActivities'}, {'unit': 'usd', 'label': 'Payments Related To Tax Withholding For Share Based Compensation', 'value': 839000000, 'concept': 'PaymentsRelatedToTaxWithholdingForShareBasedCompensation'}, {'unit': 'usd', 'label': 'Dividends and dividend equivalents paid on common stock and restricted stock units.', 'value': 8297000000, 'concept': 'aapl:PaymentsOfDividendsAndDividendEquivalentsOnCommonStockAndRestrictedStockUnits'}, {'unit': 'usd', 'label': 'Payments For Repurchase Of Common Stock', 'value': 28000000000, 'concept': 'PaymentsForRepurchaseOfCommonStock'}, {'unit': 'usd', 'label': 'Proceeds From Issuance Of Long Term Debt', 'value': 11960000000, 'concept': 'ProceedsFromIssuanceOfLongTermDebt'}, {'unit': 'usd', 'label': 'Proceeds From Repayments Of Commercial Paper', 'value': 2010000000, 'concept': 'ProceedsFromRepaymentsOfCommercialPaper'}, {'unit': 'usd', 'label': 'Net Cash Provided By Used In Financing Activities Continuing Operations', 'value': -22169000000, 'concept': 'NetCashProvidedByUsedInFinancingActivitiesContinuingOperations'}, {'unit': 'usd', 'label': 'Payments To Acquire Available For Sale Securities', 'value': 160662000000, 'concept': 'PaymentsToAcquireAvailableForSaleSecurities'}, {'unit': 'usd', 'label': 'Proceeds From Maturities Prepayments And Calls Of Available For Sale Securities', 'value': 15111000000, 'concept': 'ProceedsFromMaturitiesPrepaymentsAndCallsOfAvailableForSaleSecurities'}, {'unit': 'usd', 'label': 'Proceeds From Sale Of Available For Sale Securities', 'value': 126827000000, 'concept': 'ProceedsFromSaleOfAvailableForSaleSecurities'}, {'unit': 'usd', 'label': 'Payments To Acquire Businesses Net Of Cash Acquired', 'value': 898000000, 'concept': 'PaymentsToAcquireBusinessesNetOfCashAcquired'}, {'unit': 'usd', 'label': 'Payments To Acquire Productive Assets', 'value': 5745000000, 'concept': 'PaymentsToAcquireProductiveAssets'}, {'unit': 'usd', 'label': 'Payments To Acquire Intangible Assets', 'value': 216000000, 'concept': 'PaymentsToAcquireIntangibleAssets'}, {'unit': 'usd', 'label': 'Payments For Proceeds From Other Investing Activities', 'value': -7000000, 'concept': 'PaymentsForProceedsFromOtherInvestingActivities'}, {'unit': 'usd', 'label': 'Net Cash Provided By Used In Investing Activities Continuing Operations', 'value': -25576000000, 'concept': 'NetCashProvidedByUsedInInvestingActivitiesContinuingOperations'}, {'unit': 'usd', 'label': 'Net Income Loss', 'value': 31043000000, 'concept': 'NetIncomeLoss'}, {'unit': 'usd', 'label': 'Net Cash Provided By Used In Operating Activities Continuing Operations', 'value': 46463000000, 'concept': 'NetCashProvidedByUsedInOperatingActivitiesContinuingOperations'}, {'unit': 'usd', 'label': 'Cash And Cash Equivalents Period Increase Decrease', 'value': -1282000000, 'concept': 'CashAndCashEquivalentsPeriodIncreaseDecrease'}, {'unit': 'usd', 'label': 'Income Taxes Paid Net', 'value': 8013000000, 'concept': 'IncomeTaxesPaidNet'}, {'unit': 'usd', 'label': 'Interest Paid', 'value': 322000000, 'concept': 'InterestPaid'}], 'ic': [{'unit': 'usd/shares', 'label': 'Earnings Per Share Basic', 'value': 5.06, 'concept': 'EarningsPerShareBasic'}, {'unit': 'usd/shares', 'label': 'Earnings Per Share Diluted', 'value': 5.03, 'concept': 'EarningsPerShareDiluted'}, {'unit': 'usd', 'label': 'Research And Development Expense', 'value': 4355000000, 'concept': 'ResearchAndDevelopmentExpense'}, {'unit': 'usd', 'label': 'Selling General And Administrative Expense', 'value': 8835000000, 'concept': 'SellingGeneralAndAdministrativeExpense'}, {'unit': 'usd', 'label': 'Operating Expenses', 'value': 13190000000, 'concept': 'OperatingExpenses'}, {'unit': 'usd', 'label': 'Sales Revenue Net', 'value': 140672000000, 'concept': 'SalesRevenueNet'}, {'unit': 'usd', 'label': 'Cost Of Goods And Services Sold', 'value': 86144000000, 'concept': 'CostOfGoodsAndServicesSold'}, {'unit': 'usd', 'label': 'Gross Profit', 'value': 54528000000, 'concept': 'GrossProfit'}, {'unit': 'usd', 'label': 'Operating Income Loss', 'value': 41338000000, 'concept': 'OperatingIncomeLoss'}, {'unit': 'usd', 'label': 'Nonoperating Income Expense', 'value': 673000000, 'concept': 'NonoperatingIncomeExpense'}, {'unit': 'usd', 'label': 'Income Loss From Continuing Operations Before Income Taxes Extraordinary Items Noncontrolling Interest', 'value': 42011000000, 'concept': 'IncomeLossFromContinuingOperationsBeforeIncomeTaxesExtraordinaryItemsNoncontrollingInterest'}, {'unit': 'usd', 'label': 'Income Tax Expense Benefit', 'value': 10968000000, 'concept': 'IncomeTaxExpenseBenefit'}, {'unit': 'usd', 'label': 'Net Income Loss', 'value': 31043000000, 'concept': 'NetIncomeLoss'}, {'unit': 'usd/shares', 'label': 'Common Stock Dividends Per Share Declared', 'value': 1.35, 'concept': 'CommonStockDividendsPerShareDeclared'}, {'unit': 'shares', 'label': 'Weighted Average Number Of Shares Outstanding Basic', 'value': 6136147000, 'concept': 'WeightedAverageNumberOfSharesOutstandingBasic'}, {'unit': 'shares', 'label': 'Weighted Average Number Of Diluted Shares Outstanding', 'value': 6172857000, 'concept': 'WeightedAverageNumberOfDilutedSharesOutstanding'}, {'unit': 'usd', 'label': 'Other Comprehensive Income Loss Foreign Currency Transaction And Translation Adjustment Net Of Tax', 'value': -35000000, 'concept': 'OtherComprehensiveIncomeLossForeignCurrencyTransactionAndTranslationAdjustmentNetOfTax'}, {'unit': 'usd', 'label': 'Other Comprehensive Income Loss Net Of Tax', 'value': 557000000, 'concept': 'OtherComprehensiveIncomeLossNetOfTax'}, {'unit': 'usd', 'label': 'Other Comprehensive Income Unrealized Holding Gain Loss On Securities Arising During Period Net Of Tax', 'value': 550000000, 'concept': 'OtherComprehensiveIncomeUnrealizedHoldingGainLossOnSecuritiesArisingDuringPeriodNetOfTax'}, {'unit': 'usd', 'label': 'Other Comprehensive Income Loss Reclassification Adjustment From A O C I For Sale Of Securities Net Of Tax', 'value': 82000000, 'concept': 'OtherComprehensiveIncomeLossReclassificationAdjustmentFromAOCIForSaleOfSecuritiesNetOfTax'}, {'unit': 'usd', 'label': 'Other Comprehensive Income Loss Available For Sale Securities Adjustment Net Of Tax', 'value': 468000000, 'concept': 'OtherComprehensiveIncomeLossAvailableForSaleSecuritiesAdjustmentNetOfTax'}, {'unit': 'usd', 'label': 'Other Comprehensive Income Unrealized Gain Loss On Derivatives Arising During Period Net Of Tax', 'value': 39000000, 'concept': 'OtherComprehensiveIncomeUnrealizedGainLossOnDerivativesArisingDuringPeriodNetOfTax'}, {'unit': 'usd', 'label': 'Other Comprehensive Income Loss Reclassification Adjustment From A O C I On Derivatives Net Of Tax', 'value': -85000000, 'concept': 'OtherComprehensiveIncomeLossReclassificationAdjustmentFromAOCIOnDerivativesNetOfTax'}, {'unit': 'usd', 'label': 'Other Comprehensive Income Loss Derivatives Qualifying As Hedges Net Of Tax', 'value': 124000000, 'concept': 'OtherComprehensiveIncomeLossDerivativesQualifyingAsHedgesNetOfTax'}, {'unit': 'usd', 'label': 'Comprehensive Income Net Of Tax', 'value': 31600000000, 'concept': 'ComprehensiveIncomeNetOfTax'}]}}, {'accessNumber': '0001193125-14-157311', 'symbol': 'AAPL', 'cik': '320193', 'year': 2014, 'quarter': 2, 'form': '10-Q', 'startDate': '2013-09-29 00:00:00', 'endDate': '2014-03-29 00:00:00', 'filedDate': '2014-04-24 00:00:00', 'acceptedDate': '2014-04-24 17:02:12', 'report': {'bs': [{'unit': 'usd', 'label': 'Available For Sale Securities Noncurrent', 'value': 109239000000, 'concept': 'AvailableForSaleSecuritiesNoncurrent'}, {'unit': 'usd', 'label': 'Property Plant And Equipment Net', 'value': 15120000000, 'concept': 'PropertyPlantAndEquipmentNet'}, {'unit': 'usd', 'label': 'Goodwill', 'value': 2055000000, 'concept': 'Goodwill'}, {'unit': 'usd', 'label': 'Intangible Assets Net Excluding Goodwill', 'value': 3928000000, 'concept': 'IntangibleAssetsNetExcludingGoodwill'}, {'unit': 'usd', 'label': 'Other Assets Noncurrent', 'value': 5106000000, 'concept': 'OtherAssetsNoncurrent'}, {'unit': 'usd', 'label': 'Assets', 'value': 205989000000, 'concept': 'Assets'}, {'unit': 'usd', 'label': 'Cash And Cash Equivalents At Carrying Value', 'value': 18949000000, 'concept': 'CashAndCashEquivalentsAtCarryingValue'}, {'unit': 'usd', 'label': 'Available For Sale Securities Current', 'value': 22401000000, 'concept': 'AvailableForSaleSecuritiesCurrent'}, {'unit': 'usd', 'label': 'Accounts Receivable Net Current', 'value': 9700000000, 'concept': 'AccountsReceivableNetCurrent'}, {'unit': 'usd', 'label': 'Inventory Net', 'value': 1829000000, 'concept': 'InventoryNet'}, {'unit': 'usd', 'label': 'Deferred Tax Assets Net Current', 'value': 4014000000, 'concept': 'DeferredTaxAssetsNetCurrent'}, {'unit': 'usd', 'label': 'Nontrade Receivables Current', 'value': 6120000000, 'concept': 'NontradeReceivablesCurrent'}, {'unit': 'usd', 'label': 'Other Assets Current', 'value': 7528000000, 'concept': 'OtherAssetsCurrent'}, {'unit': 'usd', 'label': 'Assets Current', 'value': 70541000000, 'concept': 'AssetsCurrent'}, {'unit': 'usd', 'label': 'Deferred Revenue Noncurrent', 'value': 3164000000, 'concept': 'DeferredRevenueNoncurrent'}, {'unit': 'usd', 'label': 'Long Term Debt', 'value': 16962000000, 'concept': 'LongTermDebt'}, {'unit': 'usd', 'label': 'Other Liabilities Noncurrent', 'value': 22476000000, 'concept': 'OtherLiabilitiesNoncurrent'}, {'unit': 'usd', 'label': 'Liabilities', 'value': 85810000000, 'concept': 'Liabilities'}, {'unit': 'usd', 'label': 'Commitments And Contingencies', 'value': 'N/A', 'concept': 'CommitmentsAndContingencies'}, {'unit': 'usd', 'label': 'Liabilities And Stockholders Equity', 'value': 205989000000, 'concept': 'LiabilitiesAndStockholdersEquity'}, {'unit': 'usd', 'label': 'Accounts Payable Current', 'value': 18914000000, 'concept': 'AccountsPayableCurrent'}, {'unit': 'usd', 'label': 'Accrued Liabilities Current', 'value': 15984000000, 'concept': 'AccruedLiabilitiesCurrent'}, {'unit': 'usd', 'label': 'Deferred Revenue Current', 'value': 8310000000, 'concept': 'DeferredRevenueCurrent'}, {'unit': 'usd', 'label': 'Liabilities Current', 'value': 43208000000, 'concept': 'LiabilitiesCurrent'}, {'unit': 'usd', 'label': 'Common Stocks Including Additional Paid In Capital', 'value': 21496000000, 'concept': 'CommonStocksIncludingAdditionalPaidInCapital'}, {'unit': 'usd', 'label': 'Retained Earnings Accumulated Deficit', 'value': 98934000000, 'concept': 'RetainedEarningsAccumulatedDeficit'}, {'unit': 'usd', 'label': 'Accumulated Other Comprehensive Income Loss Net Of Tax', 'value': -251000000, 'concept': 'AccumulatedOtherComprehensiveIncomeLossNetOfTax'}, {'unit': 'usd', 'label': 'Stockholders Equity', 'value': 120179000000, 'concept': 'StockholdersEquity'}], 'cf': [{'unit': 'usd', 'label': 'Depreciation Amortization And Accretion Net', 'value': 4031000000, 'concept': 'DepreciationAmortizationAndAccretionNet'}, {'unit': 'usd', 'label': 'Share Based Compensation', 'value': 1377000000, 'concept': 'ShareBasedCompensation'}, {'unit': 'usd', 'label': 'Deferred Income Tax Expense Benefit', 'value': 2059000000, 'concept': 'DeferredIncomeTaxExpenseBenefit'}, {'unit': 'usd', 'label': 'Increase Decrease In Accounts Receivable', 'value': -3401000000, 'concept': 'IncreaseDecreaseInAccountsReceivable'}, {'unit': 'usd', 'label': 'Increase Decrease In Inventories', 'value': 65000000, 'concept': 'IncreaseDecreaseInInventories'}, {'unit': 'usd', 'label': 'Increase Decrease In Other Receivables', 'value': -1419000000, 'concept': 'IncreaseDecreaseInOtherReceivables'}, {'unit': 'usd', 'label': 'Increase Decrease In Other Operating Assets', 'value': -14000000, 'concept': 'IncreaseDecreaseInOtherOperatingAssets'}, {'unit': 'usd', 'label': 'Increase Decrease In Accounts Payable', 'value': -2375000000, 'concept': 'IncreaseDecreaseInAccountsPayable'}, {'unit': 'usd', 'label': 'Increase Decrease In Deferred Revenue', 'value': 1414000000, 'concept': 'IncreaseDecreaseInDeferredRevenue'}, {'unit': 'usd', 'label': 'Increase Decrease In Other Operating Liabilities', 'value': 1638000000, 'concept': 'IncreaseDecreaseInOtherOperatingLiabilities'}, {'unit': 'usd', 'label': 'Proceeds From Issuance Of Common Stock', 'value': 341000000, 'concept': 'ProceedsFromIssuanceOfCommonStock'}, {'unit': 'usd', 'label': 'Excess Tax Benefit From Share Based Compensation Financing Activities', 'value': 363000000, 'concept': 'ExcessTaxBenefitFromShareBasedCompensationFinancingActivities'}, {'unit': 'usd', 'label': 'Payments Related To Tax Withholding For Share Based Compensation', 'value': 430000000, 'concept': 'PaymentsRelatedToTaxWithholdingForShareBasedCompensation'}, {'unit': 'usd', 'label': 'Dividends and dividend equivalents paid on common stock and restricted stock units.', 'value': 5430000000, 'concept': 'aapl:PaymentsOfDividendsAndDividendEquivalentsOnCommonStockAndRestrictedStockUnits'}, {'unit': 'usd', 'label': 'Payments For Repurchase Of Common Stock', 'value': 23000000000, 'concept': 'PaymentsForRepurchaseOfCommonStock'}, {'unit': 'usd', 'label': 'Net Cash Provided By Used In Financing Activities Continuing Operations', 'value': -28156000000, 'concept': 'NetCashProvidedByUsedInFinancingActivitiesContinuingOperations'}, {'unit': 'usd', 'label': 'Payments To Acquire Available For Sale Securities', 'value': 90360000000, 'concept': 'PaymentsToAcquireAvailableForSaleSecurities'}, {'unit': 'usd', 'label': 'Proceeds From Maturities Prepayments And Calls Of Available For Sale Securities', 'value': 10869000000, 'concept': 'ProceedsFromMaturitiesPrepaymentsAndCallsOfAvailableForSaleSecurities'}, {'unit': 'usd', 'label': 'Proceeds From Sale Of Available For Sale Securities', 'value': 80241000000, 'concept': 'ProceedsFromSaleOfAvailableForSaleSecurities'}, {'unit': 'usd', 'label': 'Payments To Acquire Businesses Net Of Cash Acquired', 'value': 559000000, 'concept': 'PaymentsToAcquireBusinessesNetOfCashAcquired'}, {'unit': 'usd', 'label': 'Payments To Acquire Productive Assets', 'value': 3367000000, 'concept': 'PaymentsToAcquireProductiveAssets'}, {'unit': 'usd', 'label': 'Payments To Acquire Intangible Assets', 'value': 163000000, 'concept': 'PaymentsToAcquireIntangibleAssets'}, {'unit': 'usd', 'label': 'Payments For Proceeds From Other Investing Activities', 'value': 23000000, 'concept': 'PaymentsForProceedsFromOtherInvestingActivities'}, {'unit': 'usd', 'label': 'Net Cash Provided By Used In Investing Activities Continuing Operations', 'value': -3362000000, 'concept': 'NetCashProvidedByUsedInInvestingActivitiesContinuingOperations'}, {'unit': 'usd', 'label': 'Net Income Loss', 'value': 23295000000, 'concept': 'NetIncomeLoss'}, {'unit': 'usd', 'label': 'Net Cash Provided By Used In Operating Activities Continuing Operations', 'value': 36208000000, 'concept': 'NetCashProvidedByUsedInOperatingActivitiesContinuingOperations'}, {'unit': 'usd', 'label': 'Cash And Cash Equivalents Period Increase Decrease', 'value': 4690000000, 'concept': 'CashAndCashEquivalentsPeriodIncreaseDecrease'}, {'unit': 'usd', 'label': 'Income Taxes Paid Net', 'value': 5369000000, 'concept': 'IncomeTaxesPaidNet'}, {'unit': 'usd', 'label': 'Interest Paid', 'value': 161000000, 'concept': 'InterestPaid'}], 'ic': [{'unit': 'usd/shares', 'label': 'Earnings Per Share Basic', 'value': 26.31, 'concept': 'EarningsPerShareBasic'}, {'unit': 'usd/shares', 'label': 'Earnings Per Share Diluted', 'value': 26.16, 'concept': 'EarningsPerShareDiluted'}, {'unit': 'usd', 'label': 'Research And Development Expense', 'value': 2752000000, 'concept': 'ResearchAndDevelopmentExpense'}, {'unit': 'usd', 'label': 'Selling General And Administrative Expense', 'value': 5985000000, 'concept': 'SellingGeneralAndAdministrativeExpense'}, {'unit': 'usd', 'label': 'Operating Expenses', 'value': 8737000000, 'concept': 'OperatingExpenses'}, {'unit': 'usd', 'label': 'Sales Revenue Net', 'value': 103240000000, 'concept': 'SalesRevenueNet'}, {'unit': 'usd', 'label': 'Cost Of Goods And Services Sold', 'value': 63447000000, 'concept': 'CostOfGoodsAndServicesSold'}, {'unit': 'usd', 'label': 'Gross Profit', 'value': 39793000000, 'concept': 'GrossProfit'}, {'unit': 'usd', 'label': 'Operating Income Loss', 'value': 31056000000, 'concept': 'OperatingIncomeLoss'}, {'unit': 'usd', 'label': 'Nonoperating Income Expense', 'value': 471000000, 'concept': 'NonoperatingIncomeExpense'}, {'unit': 'usd', 'label': 'Income Loss From Continuing Operations Before Income Taxes Extraordinary Items Noncontrolling Interest', 'value': 31527000000, 'concept': 'IncomeLossFromContinuingOperationsBeforeIncomeTaxesExtraordinaryItemsNoncontrollingInterest'}, {'unit': 'usd', 'label': 'Income Tax Expense Benefit', 'value': 8232000000, 'concept': 'IncomeTaxExpenseBenefit'}, {'unit': 'usd', 'label': 'Net Income Loss', 'value': 23295000000, 'concept': 'NetIncomeLoss'}, {'unit': 'usd/shares', 'label': 'Common Stock Dividends Per Share Declared', 'value': 6.1, 'concept': 'CommonStockDividendsPerShareDeclared'}, {'unit': 'shares', 'label': 'Weighted Average Number Of Shares Outstanding Basic', 'value': 885415000, 'concept': 'WeightedAverageNumberOfSharesOutstandingBasic'}, {'unit': 'shares', 'label': 'Weighted Average Number Of Diluted Shares Outstanding', 'value': 890490000, 'concept': 'WeightedAverageNumberOfDilutedSharesOutstanding'}, {'unit': 'usd', 'label': 'Other Comprehensive Income Loss Foreign Currency Transaction And Translation Adjustment Net Of Tax', 'value': -86000000, 'concept': 'OtherComprehensiveIncomeLossForeignCurrencyTransactionAndTranslationAdjustmentNetOfTax'}, {'unit': 'usd', 'label': 'Other Comprehensive Income Loss Net Of Tax', 'value': 220000000, 'concept': 'OtherComprehensiveIncomeLossNetOfTax'}, {'unit': 'usd', 'label': 'Other Comprehensive Income Unrealized Holding Gain Loss On Securities Arising During Period Net Of Tax', 'value': 193000000, 'concept': 'OtherComprehensiveIncomeUnrealizedHoldingGainLossOnSecuritiesArisingDuringPeriodNetOfTax'}, {'unit': 'usd', 'label': 'Other Comprehensive Income Loss Reclassification Adjustment From A O C I For Sale Of Securities Net Of Tax', 'value': 50000000, 'concept': 'OtherComprehensiveIncomeLossReclassificationAdjustmentFromAOCIForSaleOfSecuritiesNetOfTax'}, {'unit': 'usd', 'label': 'Other Comprehensive Income Loss Available For Sale Securities Adjustment Net Of Tax', 'value': 143000000, 'concept': 'OtherComprehensiveIncomeLossAvailableForSaleSecuritiesAdjustmentNetOfTax'}, {'unit': 'usd', 'label': 'Other Comprehensive Income Unrealized Gain Loss On Derivatives Arising During Period Net Of Tax', 'value': 104000000, 'concept': 'OtherComprehensiveIncomeUnrealizedGainLossOnDerivativesArisingDuringPeriodNetOfTax'}, {'unit': 'usd', 'label': 'Other Comprehensive Income Loss Reclassification Adjustment From A O C I On Derivatives Net Of Tax', 'value': -59000000, 'concept': 'OtherComprehensiveIncomeLossReclassificationAdjustmentFromAOCIOnDerivativesNetOfTax'}, {'unit': 'usd', 'label': 'Other Comprehensive Income Loss Derivatives Qualifying As Hedges Net Of Tax', 'value': 163000000, 'concept': 'OtherComprehensiveIncomeLossDerivativesQualifyingAsHedgesNetOfTax'}, {'unit': 'usd', 'label': 'Comprehensive Income Net Of Tax', 'value': 23515000000, 'concept': 'ComprehensiveIncomeNetOfTax'}]}}, {'accessNumber': '0001193125-14-024487', 'symbol': 'AAPL', 'cik': '320193', 'year': 2014, 'quarter': 1, 'form': '10-Q', 'startDate': '2013-09-29 00:00:00', 'endDate': '2013-12-28 00:00:00', 'filedDate': '2014-01-28 00:00:00', 'acceptedDate': '2014-01-28 17:07:27', 'report': {'bs': [{'unit': 'usd', 'label': 'Available For Sale Securities Noncurrent', 'value': 118131000000, 'concept': 'AvailableForSaleSecuritiesNoncurrent'}, {'unit': 'usd', 'label': 'Property Plant And Equipment Net', 'value': 15488000000, 'concept': 'PropertyPlantAndEquipmentNet'}, {'unit': 'usd', 'label': 'Goodwill', 'value': 2022000000, 'concept': 'Goodwill'}, {'unit': 'usd', 'label': 'Intangible Assets Net Excluding Goodwill', 'value': 4105000000, 'concept': 'IntangibleAssetsNetExcludingGoodwill'}, {'unit': 'usd', 'label': 'Other Assets Noncurrent', 'value': 5091000000, 'concept': 'OtherAssetsNoncurrent'}, {'unit': 'usd', 'label': 'Assets', 'value': 225184000000, 'concept': 'Assets'}, {'unit': 'usd', 'label': 'Cash And Cash Equivalents At Carrying Value', 'value': 14077000000, 'concept': 'CashAndCashEquivalentsAtCarryingValue'}, {'unit': 'usd', 'label': 'Available For Sale Securities Current', 'value': 26634000000, 'concept': 'AvailableForSaleSecuritiesCurrent'}, {'unit': 'usd', 'label': 'Accounts Receivable Net Current', 'value': 14200000000, 'concept': 'AccountsReceivableNetCurrent'}, {'unit': 'usd', 'label': 'Inventory Net', 'value': 2122000000, 'concept': 'InventoryNet'}, {'unit': 'usd', 'label': 'Deferred Tax Assets Net Current', 'value': 3742000000, 'concept': 'DeferredTaxAssetsNetCurrent'}, {'unit': 'usd', 'label': 'Nontrade Receivables Current', 'value': 10998000000, 'concept': 'NontradeReceivablesCurrent'}, {'unit': 'usd', 'label': 'Other Assets Current', 'value': 8574000000, 'concept': 'OtherAssetsCurrent'}, {'unit': 'usd', 'label': 'Assets Current', 'value': 80347000000, 'concept': 'AssetsCurrent'}, {'unit': 'usd', 'label': 'Deferred Revenue Noncurrent', 'value': 3071000000, 'concept': 'DeferredRevenueNoncurrent'}, {'unit': 'usd', 'label': 'Long Term Debt', 'value': 16961000000, 'concept': 'LongTermDebt'}, {'unit': 'usd', 'label': 'Other Liabilities Noncurrent', 'value': 21699000000, 'concept': 'OtherLiabilitiesNoncurrent'}, {'unit': 'usd', 'label': 'Liabilities', 'value': 95500000000, 'concept': 'Liabilities'}, {'unit': 'usd', 'label': 'Commitments And Contingencies', 'value': 'N/A', 'concept': 'CommitmentsAndContingencies'}, {'unit': 'usd', 'label': 'Liabilities And Stockholders Equity', 'value': 225184000000, 'concept': 'LiabilitiesAndStockholdersEquity'}, {'unit': 'usd', 'label': 'Accounts Payable Current', 'value': 29588000000, 'concept': 'AccountsPayableCurrent'}, {'unit': 'usd', 'label': 'Accrued Liabilities Current', 'value': 15824000000, 'concept': 'AccruedLiabilitiesCurrent'}, {'unit': 'usd', 'label': 'Deferred Revenue Current', 'value': 8357000000, 'concept': 'DeferredRevenueCurrent'}, {'unit': 'usd', 'label': 'Liabilities Current', 'value': 53769000000, 'concept': 'LiabilitiesCurrent'}, {'unit': 'usd', 'label': 'Common Stock Value', 'value': 20559000000, 'concept': 'CommonStockValue'}, {'unit': 'usd', 'label': 'Retained Earnings Accumulated Deficit', 'value': 109431000000, 'concept': 'RetainedEarningsAccumulatedDeficit'}, {'unit': 'usd', 'label': 'Accumulated Other Comprehensive Income Loss Net Of Tax', 'value': -306000000, 'concept': 'AccumulatedOtherComprehensiveIncomeLossNetOfTax'}, {'unit': 'usd', 'label': 'Stockholders Equity', 'value': 129684000000, 'concept': 'StockholdersEquity'}], 'cf': [{'unit': 'usd', 'label': 'Depreciation Amortization And Accretion Net', 'value': 2144000000, 'concept': 'DepreciationAmortizationAndAccretionNet'}, {'unit': 'usd', 'label': 'Share Based Compensation', 'value': 681000000, 'concept': 'ShareBasedCompensation'}, {'unit': 'usd', 'label': 'Deferred Income Tax Expense Benefit', 'value': 1253000000, 'concept': 'DeferredIncomeTaxExpenseBenefit'}, {'unit': 'usd', 'label': 'Increase Decrease In Accounts Receivable', 'value': 1098000000, 'concept': 'IncreaseDecreaseInAccountsReceivable'}, {'unit': 'usd', 'label': 'Increase Decrease In Inventories', 'value': 358000000, 'concept': 'IncreaseDecreaseInInventories'}, {'unit': 'usd', 'label': 'Increase Decrease In Other Receivables', 'value': 3459000000, 'concept': 'IncreaseDecreaseInOtherReceivables'}, {'unit': 'usd', 'label': 'Increase Decrease In Other Operating Assets', 'value': 319000000, 'concept': 'IncreaseDecreaseInOtherOperatingAssets'}, {'unit': 'usd', 'label': 'Increase Decrease In Accounts Payable', 'value': 8191000000, 'concept': 'IncreaseDecreaseInAccountsPayable'}, {'unit': 'usd', 'label': 'Increase Decrease In Deferred Revenue', 'value': 1368000000, 'concept': 'IncreaseDecreaseInDeferredRevenue'}, {'unit': 'usd', 'label': 'Increase Decrease In Other Operating Liabilities', 'value': 1195000000, 'concept': 'IncreaseDecreaseInOtherOperatingLiabilities'}, {'unit': 'usd', 'label': 'Proceeds From Issuance Of Common Stock', 'value': 134000000, 'concept': 'ProceedsFromIssuanceOfCommonStock'}, {'unit': 'usd', 'label': 'Excess Tax Benefit From Share Based Compensation Financing Activities', 'value': 280000000, 'concept': 'ExcessTaxBenefitFromShareBasedCompensationFinancingActivities'}, {'unit': 'usd', 'label': 'Payments Related To Tax Withholding For Share Based Compensation', 'value': 365000000, 'concept': 'PaymentsRelatedToTaxWithholdingForShareBasedCompensation'}, {'unit': 'usd', 'label': 'Dividends and dividend equivalents paid on common stock and restricted stock units.', 'value': 2769000000, 'concept': 'aapl:PaymentsOfDividendsAndDividendEquivalentsOnCommonStockAndRestrictedStockUnits'}, {'unit': 'usd', 'label': 'Payments For Repurchase Of Common Stock', 'value': 5029000000, 'concept': 'PaymentsForRepurchaseOfCommonStock'}, {'unit': 'usd', 'label': 'Net Cash Provided By Used In Financing Activities', 'value': -7749000000, 'concept': 'NetCashProvidedByUsedInFinancingActivities'}, {'unit': 'usd', 'label': 'Payments To Acquire Available For Sale Securities', 'value': 48397000000, 'concept': 'PaymentsToAcquireAvailableForSaleSecurities'}, {'unit': 'usd', 'label': 'Proceeds From Maturities Prepayments And Calls Of Available For Sale Securities', 'value': 5556000000, 'concept': 'ProceedsFromMaturitiesPrepaymentsAndCallsOfAvailableForSaleSecurities'}, {'unit': 'usd', 'label': 'Proceeds From Sale Of Available For Sale Securities', 'value': 30302000000, 'concept': 'ProceedsFromSaleOfAvailableForSaleSecurities'}, {'unit': 'usd', 'label': 'Payments To Acquire Businesses Net Of Cash Acquired', 'value': 525000000, 'concept': 'PaymentsToAcquireBusinessesNetOfCashAcquired'}, {'unit': 'usd', 'label': 'Payments To Acquire Productive Assets', 'value': 1985000000, 'concept': 'PaymentsToAcquireProductiveAssets'}, {'unit': 'usd', 'label': 'Payments To Acquire Intangible Assets', 'value': 59000000, 'concept': 'PaymentsToAcquireIntangibleAssets'}, {'unit': 'usd', 'label': 'Payments For Proceeds From Other Investing Activities', 'value': -5000000, 'concept': 'PaymentsForProceedsFromOtherInvestingActivities'}, {'unit': 'usd', 'label': 'Net Cash Provided By Used In Investing Activities', 'value': -15103000000, 'concept': 'NetCashProvidedByUsedInInvestingActivities'}, {'unit': 'usd', 'label': 'Net Income Loss', 'value': 13072000000, 'concept': 'NetIncomeLoss'}, {'unit': 'usd', 'label': 'Net Cash Provided By Used In Operating Activities', 'value': 22670000000, 'concept': 'NetCashProvidedByUsedInOperatingActivities'}, {'unit': 'usd', 'label': 'Cash And Cash Equivalents Period Increase Decrease', 'value': -182000000, 'concept': 'CashAndCashEquivalentsPeriodIncreaseDecrease'}, {'unit': 'usd', 'label': 'Income Taxes Paid Net', 'value': 3387000000, 'concept': 'IncomeTaxesPaidNet'}, {'unit': 'usd', 'label': 'Interest Paid', 'value': 161000000, 'concept': 'InterestPaid'}], 'ic': [{'unit': 'usd/shares', 'label': 'Earnings Per Share Basic', 'value': 14.59, 'concept': 'EarningsPerShareBasic'}, {'unit': 'usd/shares', 'label': 'Earnings Per Share Diluted', 'value': 14.5, 'concept': 'EarningsPerShareDiluted'}, {'unit': 'usd', 'label': 'Research And Development Expense', 'value': 1330000000, 'concept': 'ResearchAndDevelopmentExpense'}, {'unit': 'usd', 'label': 'Selling General And Administrative Expense', 'value': 3053000000, 'concept': 'SellingGeneralAndAdministrativeExpense'}, {'unit': 'usd', 'label': 'Operating Expenses', 'value': 4383000000, 'concept': 'OperatingExpenses'}, {'unit': 'usd', 'label': 'Sales Revenue Net', 'value': 57594000000, 'concept': 'SalesRevenueNet'}, {'unit': 'usd', 'label': 'Cost Of Goods And Services Sold', 'value': 35748000000, 'concept': 'CostOfGoodsAndServicesSold'}, {'unit': 'usd', 'label': 'Gross Profit', 'value': 21846000000, 'concept': 'GrossProfit'}, {'unit': 'usd', 'label': 'Operating Income Loss', 'value': 17463000000, 'concept': 'OperatingIncomeLoss'}, {'unit': 'usd', 'label': 'Nonoperating Income Expense', 'value': 246000000, 'concept': 'NonoperatingIncomeExpense'}, {'unit': 'usd', 'label': 'Income Loss From Continuing Operations Before Income Taxes Extraordinary Items Noncontrolling Interest', 'value': 17709000000, 'concept': 'IncomeLossFromContinuingOperationsBeforeIncomeTaxesExtraordinaryItemsNoncontrollingInterest'}, {'unit': 'usd', 'label': 'Income Tax Expense Benefit', 'value': 4637000000, 'concept': 'IncomeTaxExpenseBenefit'}, {'unit': 'usd', 'label': 'Net Income Loss', 'value': 13072000000, 'concept': 'NetIncomeLoss'}, {'unit': 'usd/shares', 'label': 'Common Stock Dividends Per Share Declared', 'value': 3.05, 'concept': 'CommonStockDividendsPerShareDeclared'}, {'unit': 'shares', 'label': 'Weighted Average Number Of Shares Outstanding Basic', 'value': 896072000, 'concept': 'WeightedAverageNumberOfSharesOutstandingBasic'}, {'unit': 'shares', 'label': 'Weighted Average Number Of Diluted Shares Outstanding', 'value': 901452000, 'concept': 'WeightedAverageNumberOfDilutedSharesOutstanding'}, {'unit': 'usd', 'label': 'Other Comprehensive Income Loss Foreign Currency Transaction And Translation Adjustment Net Of Tax', 'value': -67000000, 'concept': 'OtherComprehensiveIncomeLossForeignCurrencyTransactionAndTranslationAdjustmentNetOfTax'}, {'unit': 'usd', 'label': 'Other Comprehensive Income Loss Net Of Tax', 'value': 165000000, 'concept': 'OtherComprehensiveIncomeLossNetOfTax'}, {'unit': 'usd', 'label': 'Other Comprehensive Income Unrealized Holding Gain Loss On Securities Arising During Period Net Of Tax', 'value': -42000000, 'concept': 'OtherComprehensiveIncomeUnrealizedHoldingGainLossOnSecuritiesArisingDuringPeriodNetOfTax'}, {'unit': 'usd', 'label': 'Other Comprehensive Income Loss Reclassification Adjustment From A O C I For Sale Of Securities Net Of Tax', 'value': 11000000, 'concept': 'OtherComprehensiveIncomeLossReclassificationAdjustmentFromAOCIForSaleOfSecuritiesNetOfTax'}, {'unit': 'usd', 'label': 'Other Comprehensive Income Loss Available For Sale Securities Adjustment Net Of Tax', 'value': -53000000, 'concept': 'OtherComprehensiveIncomeLossAvailableForSaleSecuritiesAdjustmentNetOfTax'}, {'unit': 'usd', 'label': 'Other Comprehensive Income Unrealized Gain Loss On Derivatives Arising During Period Net Of Tax', 'value': 213000000, 'concept': 'OtherComprehensiveIncomeUnrealizedGainLossOnDerivativesArisingDuringPeriodNetOfTax'}, {'unit': 'usd', 'label': 'Other Comprehensive Income Loss Reclassification Adjustment From A O C I On Derivatives Net Of Tax', 'value': -72000000, 'concept': 'OtherComprehensiveIncomeLossReclassificationAdjustmentFromAOCIOnDerivativesNetOfTax'}, {'unit': 'usd', 'label': 'Other Comprehensive Income Loss Derivatives Qualifying As Hedges Net Of Tax', 'value': 285000000, 'concept': 'OtherComprehensiveIncomeLossDerivativesQualifyingAsHedgesNetOfTax'}, {'unit': 'usd', 'label': 'Comprehensive Income Net Of Tax', 'value': 13237000000, 'concept': 'ComprehensiveIncomeNetOfTax'}]}}, {'accessNumber': '0001193125-13-300670', 'symbol': 'AAPL', 'cik': '320193', 'year': 2013, 'quarter': 3, 'form': '10-Q', 'startDate': '2012-09-30 00:00:00', 'endDate': '2013-06-29 00:00:00', 'filedDate': '2013-07-24 00:00:00', 'acceptedDate': '2013-07-24 17:02:02', 'report': {'bs': [{'unit': 'usd', 'label': 'Available For Sale Securities Noncurrent', 'value': 104014000000, 'concept': 'AvailableForSaleSecuritiesNoncurrent'}, {'unit': 'usd', 'label': 'Property Plant And Equipment Net', 'value': 16327000000, 'concept': 'PropertyPlantAndEquipmentNet'}, {'unit': 'usd', 'label': 'Goodwill', 'value': 1522000000, 'concept': 'Goodwill'}, {'unit': 'usd', 'label': 'Intangible Assets Net Excluding Goodwill', 'value': 4353000000, 'concept': 'IntangibleAssetsNetExcludingGoodwill'}, {'unit': 'usd', 'label': 'Other Assets Noncurrent', 'value': 5421000000, 'concept': 'OtherAssetsNoncurrent'}, {'unit': 'usd', 'label': 'Assets', 'value': 199856000000, 'concept': 'Assets'}, {'unit': 'usd', 'label': 'Cash And Cash Equivalents At Carrying Value', 'value': 11248000000, 'concept': 'CashAndCashEquivalentsAtCarryingValue'}, {'unit': 'usd', 'label': 'Available For Sale Securities Current', 'value': 31358000000, 'concept': 'AvailableForSaleSecuritiesCurrent'}, {'unit': 'usd', 'label': 'Accounts Receivable Net Current', 'value': 8839000000, 'concept': 'AccountsReceivableNetCurrent'}, {'unit': 'usd', 'label': 'Inventory Net', 'value': 1697000000, 'concept': 'InventoryNet'}, {'unit': 'usd', 'label': 'Deferred Tax Assets Net Current', 'value': 3193000000, 'concept': 'DeferredTaxAssetsNetCurrent'}, {'unit': 'usd', 'label': 'Nontrade Receivables Current', 'value': 4614000000, 'concept': 'NontradeReceivablesCurrent'}, {'unit': 'usd', 'label': 'Other Assets Current', 'value': 7270000000, 'concept': 'OtherAssetsCurrent'}, {'unit': 'usd', 'label': 'Assets Current', 'value': 68219000000, 'concept': 'AssetsCurrent'}, {'unit': 'usd', 'label': 'Deferred Revenue Noncurrent', 'value': 2672000000, 'concept': 'DeferredRevenueNoncurrent'}, {'unit': 'usd', 'label': 'Long Term Debt', 'value': 16958000000, 'concept': 'LongTermDebt'}, {'unit': 'usd', 'label': 'Other Liabilities Noncurrent', 'value': 20553000000, 'concept': 'OtherLiabilitiesNoncurrent'}, {'unit': 'usd', 'label': 'Liabilities', 'value': 76502000000, 'concept': 'Liabilities'}, {'unit': 'usd', 'label': 'Commitments And Contingencies', 'value': 'N/A', 'concept': 'CommitmentsAndContingencies'}, {'unit': 'usd', 'label': 'Liabilities And Stockholders Equity', 'value': 199856000000, 'concept': 'LiabilitiesAndStockholdersEquity'}, {'unit': 'usd', 'label': 'Accounts Payable Current', 'value': 15516000000, 'concept': 'AccountsPayableCurrent'}, {'unit': 'usd', 'label': 'Accrued Liabilities Current', 'value': 13470000000, 'concept': 'AccruedLiabilitiesCurrent'}, {'unit': 'usd', 'label': 'Deferred Revenue Current', 'value': 7333000000, 'concept': 'DeferredRevenueCurrent'}, {'unit': 'usd', 'label': 'Liabilities Current', 'value': 36319000000, 'concept': 'LiabilitiesCurrent'}, {'unit': 'usd', 'label': 'Common Stock Value', 'value': 19024000000, 'concept': 'CommonStockValue'}, {'unit': 'usd', 'label': 'Retained Earnings Accumulated Deficit', 'value': 104564000000, 'concept': 'RetainedEarningsAccumulatedDeficit'}, {'unit': 'usd', 'label': 'Accumulated Other Comprehensive Income Loss Net Of Tax', 'value': -234000000, 'concept': 'AccumulatedOtherComprehensiveIncomeLossNetOfTax'}, {'unit': 'usd', 'label': 'Stockholders Equity', 'value': 123354000000, 'concept': 'StockholdersEquity'}], 'cf': [{'unit': 'usd', 'label': 'Depreciation Amortization And Accretion Net', 'value': 4974000000, 'concept': 'DepreciationAmortizationAndAccretionNet'}, {'unit': 'usd', 'label': 'Share Based Compensation', 'value': 1698000000, 'concept': 'ShareBasedCompensation'}, {'unit': 'usd', 'label': 'Deferred Income Tax Expense Benefit', 'value': 2524000000, 'concept': 'DeferredIncomeTaxExpenseBenefit'}, {'unit': 'usd', 'label': 'Increase Decrease In Accounts Receivable', 'value': -2091000000, 'concept': 'IncreaseDecreaseInAccountsReceivable'}, {'unit': 'usd', 'label': 'Increase Decrease In Inventories', 'value': 906000000, 'concept': 'IncreaseDecreaseInInventories'}, {'unit': 'usd', 'label': 'Increase Decrease In Other Receivables', 'value': -3148000000, 'concept': 'IncreaseDecreaseInOtherReceivables'}, {'unit': 'usd', 'label': 'Increase Decrease In Other Operating Assets', 'value': -484000000, 'concept': 'IncreaseDecreaseInOtherOperatingAssets'}, {'unit': 'usd', 'label': 'Increase Decrease In Accounts Payable', 'value': -4740000000, 'concept': 'IncreaseDecreaseInAccountsPayable'}, {'unit': 'usd', 'label': 'Increase Decrease In Deferred Revenue', 'value': 1404000000, 'concept': 'IncreaseDecreaseInDeferredRevenue'}, {'unit': 'usd', 'label': 'Increase Decrease In Other Operating Liabilities', 'value': 3556000000, 'concept': 'IncreaseDecreaseInOtherOperatingLiabilities'}, {'unit': 'usd', 'label': 'Proceeds From Issuance Of Common Stock', 'value': 335000000, 'concept': 'ProceedsFromIssuanceOfCommonStock'}, {'unit': 'usd', 'label': 'Excess Tax Benefit From Share Based Compensation Financing Activities', 'value': 644000000, 'concept': 'ExcessTaxBenefitFromShareBasedCompensationFinancingActivities'}, {'unit': 'usd', 'label': 'Payments Related To Tax Withholding For Share Based Compensation', 'value': 1001000000, 'concept': 'PaymentsRelatedToTaxWithholdingForShareBasedCompensation'}, {'unit': 'usd', 'label': 'Dividends and dividend equivalents paid on common stock and restricted stock units.', 'value': 7795000000, 'concept': 'aapl:PaymentsOfDividendsAndDividendEquivalentsOnCommonStockAndRestrictedStockUnits'}, {'unit': 'usd', 'label': 'Payments For Repurchase Of Common Stock', 'value': 17950000000, 'concept': 'PaymentsForRepurchaseOfCommonStock'}, {'unit': 'usd', 'label': 'Proceeds From Issuance Of Long Term Debt', 'value': 16896000000, 'concept': 'ProceedsFromIssuanceOfLongTermDebt'}, {'unit': 'usd', 'label': 'Net Cash Provided By Used In Financing Activities', 'value': -8871000000, 'concept': 'NetCashProvidedByUsedInFinancingActivities'}, {'unit': 'usd', 'label': 'Payments To Acquire Available For Sale Securities', 'value': 122681000000, 'concept': 'PaymentsToAcquireAvailableForSaleSecurities'}, {'unit': 'usd', 'label': 'Proceeds From Maturities Prepayments And Calls Of Available For Sale Securities', 'value': 13963000000, 'concept': 'ProceedsFromMaturitiesPrepaymentsAndCallsOfAvailableForSaleSecurities'}, {'unit': 'usd', 'label': 'Proceeds From Sale Of Available For Sale Securities', 'value': 81734000000, 'concept': 'ProceedsFromSaleOfAvailableForSaleSecurities'}, {'unit': 'usd', 'label': 'Payments To Acquire Businesses Net Of Cash Acquired', 'value': 443000000, 'concept': 'PaymentsToAcquireBusinessesNetOfCashAcquired'}, {'unit': 'usd', 'label': 'Payments To Acquire Productive Assets', 'value': 6210000000, 'concept': 'PaymentsToAcquireProductiveAssets'}, {'unit': 'usd', 'label': 'Payments To Acquire Intangible Assets', 'value': 560000000, 'concept': 'PaymentsToAcquireIntangibleAssets'}, {'unit': 'usd', 'label': 'Payments For Proceeds From Other Investing Activities', 'value': 188000000, 'concept': 'PaymentsForProceedsFromOtherInvestingActivities'}, {'unit': 'usd', 'label': 'Net Cash Provided By Used In Investing Activities', 'value': -34385000000, 'concept': 'NetCashProvidedByUsedInInvestingActivities'}, {'unit': 'usd', 'label': 'Net Income Loss', 'value': 29525000000, 'concept': 'NetIncomeLoss'}, {'unit': 'usd', 'label': 'Net Cash Provided By Used In Operating Activities', 'value': 43758000000, 'concept': 'NetCashProvidedByUsedInOperatingActivities'}, {'unit': 'usd', 'label': 'Cash And Cash Equivalents Period Increase Decrease', 'value': 502000000, 'concept': 'CashAndCashEquivalentsPeriodIncreaseDecrease'}, {'unit': 'usd', 'label': 'Income Taxes Paid Net', 'value': 7188000000, 'concept': 'IncomeTaxesPaidNet'}], 'ic': [{'unit': 'usd/shares', 'label': 'Earnings Per Share Basic', 'value': 31.67, 'concept': 'EarningsPerShareBasic'}, {'unit': 'usd/shares', 'label': 'Earnings Per Share Diluted', 'value': 31.44, 'concept': 'EarningsPerShareDiluted'}, {'unit': 'usd', 'label': 'Research And Development Expense', 'value': 3307000000, 'concept': 'ResearchAndDevelopmentExpense'}, {'unit': 'usd', 'label': 'Selling General And Administrative Expense', 'value': 8157000000, 'concept': 'SellingGeneralAndAdministrativeExpense'}, {'unit': 'usd', 'label': 'Operating Expenses', 'value': 11464000000, 'concept': 'OperatingExpenses'}, {'unit': 'usd', 'label': 'Sales Revenue Net', 'value': 133438000000, 'concept': 'SalesRevenueNet'}, {'unit': 'usd', 'label': 'Cost Of Goods And Services Sold', 'value': 83005000000, 'concept': 'CostOfGoodsAndServicesSold'}, {'unit': 'usd', 'label': 'Gross Profit', 'value': 50433000000, 'concept': 'GrossProfit'}, {'unit': 'usd', 'label': 'Operating Income Loss', 'value': 38969000000, 'concept': 'OperatingIncomeLoss'}, {'unit': 'usd', 'label': 'Nonoperating Income Expense', 'value': 1043000000, 'concept': 'NonoperatingIncomeExpense'}, {'unit': 'usd', 'label': 'Income Loss From Continuing Operations Before Income Taxes Extraordinary Items Noncontrolling Interest', 'value': 40012000000, 'concept': 'IncomeLossFromContinuingOperationsBeforeIncomeTaxesExtraordinaryItemsNoncontrollingInterest'}, {'unit': 'usd', 'label': 'Income Tax Expense Benefit', 'value': 10487000000, 'concept': 'IncomeTaxExpenseBenefit'}, {'unit': 'usd', 'label': 'Net Income Loss', 'value': 29525000000, 'concept': 'NetIncomeLoss'}, {'unit': 'usd/shares', 'label': 'Common Stock Dividends Per Share Declared', 'value': 8.35, 'concept': 'CommonStockDividendsPerShareDeclared'}, {'unit': 'shares', 'label': 'Weighted Average Number Of Shares Outstanding Basic', 'value': 932388000, 'concept': 'WeightedAverageNumberOfSharesOutstandingBasic'}, {'unit': 'shares', 'label': 'Weighted Average Number Of Diluted Shares Outstanding', 'value': 939172000, 'concept': 'WeightedAverageNumberOfDilutedSharesOutstanding'}, {'unit': 'usd', 'label': 'Other Comprehensive Income Loss Foreign Currency Transaction And Translation Adjustment Net Of Tax', 'value': -177000000, 'concept': 'OtherComprehensiveIncomeLossForeignCurrencyTransactionAndTranslationAdjustmentNetOfTax'}, {'unit': 'usd', 'label': 'Other Comprehensive Income Loss Net Of Tax', 'value': -733000000, 'concept': 'OtherComprehensiveIncomeLossNetOfTax'}, {'unit': 'usd', 'label': 'Other Comprehensive Income Unrealized Holding Gain Loss On Securities Arising During Period Net Of Tax', 'value': -1001000000, 'concept': 'OtherComprehensiveIncomeUnrealizedHoldingGainLossOnSecuritiesArisingDuringPeriodNetOfTax'}, {'unit': 'usd', 'label': 'Other Comprehensive Income Loss Reclassification Adjustment From A O C I For Sale Of Securities Net Of Tax', 'value': 143000000, 'concept': 'OtherComprehensiveIncomeLossReclassificationAdjustmentFromAOCIForSaleOfSecuritiesNetOfTax'}, {'unit': 'usd', 'label': 'Other Comprehensive Income Loss Available For Sale Securities Adjustment Net Of Tax', 'value': -1144000000, 'concept': 'OtherComprehensiveIncomeLossAvailableForSaleSecuritiesAdjustmentNetOfTax'}, {'unit': 'usd', 'label': 'Other Comprehensive Income Unrealized Gain Loss On Derivatives Arising During Period Net Of Tax', 'value': 791000000, 'concept': 'OtherComprehensiveIncomeUnrealizedGainLossOnDerivativesArisingDuringPeriodNetOfTax'}, {'unit': 'usd', 'label': 'Other Comprehensive Income Loss Reclassification Adjustment From A O C I On Derivatives Net Of Tax', 'value': 203000000, 'concept': 'OtherComprehensiveIncomeLossReclassificationAdjustmentFromAOCIOnDerivativesNetOfTax'}, {'unit': 'usd', 'label': 'Other Comprehensive Income Loss Derivatives Qualifying As Hedges Net Of Tax', 'value': 588000000, 'concept': 'OtherComprehensiveIncomeLossDerivativesQualifyingAsHedgesNetOfTax'}, {'unit': 'usd', 'label': 'Comprehensive Income Net Of Tax', 'value': 28792000000, 'concept': 'ComprehensiveIncomeNetOfTax'}]}}, {'accessNumber': '0001193125-13-168288', 'symbol': 'AAPL', 'cik': '320193', 'year': 2013, 'quarter': 2, 'form': '10-Q', 'startDate': '2012-09-30 00:00:00', 'endDate': '2013-03-30 00:00:00', 'filedDate': '2013-04-24 00:00:00', 'acceptedDate': '2013-04-23 21:29:23', 'report': {'bs': [{'unit': 'usd', 'label': 'Available For Sale Securities Noncurrent', 'value': 105550000000, 'concept': 'AvailableForSaleSecuritiesNoncurrent'}, {'unit': 'usd', 'label': 'Property Plant And Equipment Net', 'value': 15026000000, 'concept': 'PropertyPlantAndEquipmentNet'}, {'unit': 'usd', 'label': 'Goodwill', 'value': 1400000000, 'concept': 'Goodwill'}, {'unit': 'usd', 'label': 'Intangible Assets Net Excluding Goodwill', 'value': 4136000000, 'concept': 'IntangibleAssetsNetExcludingGoodwill'}, {'unit': 'usd', 'label': 'Other Assets Noncurrent', 'value': 5294000000, 'concept': 'OtherAssetsNoncurrent'}, {'unit': 'usd', 'label': 'Assets', 'value': 194743000000, 'concept': 'Assets'}, {'unit': 'usd', 'label': 'Cash And Cash Equivalents At Carrying Value', 'value': 12053000000, 'concept': 'CashAndCashEquivalentsAtCarryingValue'}, {'unit': 'usd', 'label': 'Available For Sale Securities Current', 'value': 27084000000, 'concept': 'AvailableForSaleSecuritiesCurrent'}, {'unit': 'usd', 'label': 'Accounts Receivable Net Current', 'value': 7084000000, 'concept': 'AccountsReceivableNetCurrent'}, {'unit': 'usd', 'label': 'Inventory Net', 'value': 1245000000, 'concept': 'InventoryNet'}, {'unit': 'usd', 'label': 'Deferred Tax Assets Net Current', 'value': 3242000000, 'concept': 'DeferredTaxAssetsNetCurrent'}, {'unit': 'usd', 'label': 'Nontrade Receivables Current', 'value': 6252000000, 'concept': 'NontradeReceivablesCurrent'}, {'unit': 'usd', 'label': 'Other Assets Current', 'value': 6377000000, 'concept': 'OtherAssetsCurrent'}, {'unit': 'usd', 'label': 'Assets Current', 'value': 63337000000, 'concept': 'AssetsCurrent'}, {'unit': 'usd', 'label': 'Deferred Revenue Noncurrent', 'value': 2877000000, 'concept': 'DeferredRevenueNoncurrent'}, {'unit': 'usd', 'label': 'Other Liabilities Noncurrent', 'value': 20868000000, 'concept': 'OtherLiabilitiesNoncurrent'}, {'unit': 'usd', 'label': 'Liabilities', 'value': 59253000000, 'concept': 'Liabilities'}, {'unit': 'usd', 'label': 'Commitments And Contingencies', 'value': 'N/A', 'concept': 'CommitmentsAndContingencies'}, {'unit': 'usd', 'label': 'Liabilities And Stockholders Equity', 'value': 194743000000, 'concept': 'LiabilitiesAndStockholdersEquity'}, {'unit': 'usd', 'label': 'Accounts Payable Current', 'value': 14912000000, 'concept': 'AccountsPayableCurrent'}, {'unit': 'usd', 'label': 'Accrued Liabilities Current', 'value': 13331000000, 'concept': 'AccruedLiabilitiesCurrent'}, {'unit': 'usd', 'label': 'Deferred Revenue Current', 'value': 7265000000, 'concept': 'DeferredRevenueCurrent'}, {'unit': 'usd', 'label': 'Liabilities Current', 'value': 35508000000, 'concept': 'LiabilitiesCurrent'}, {'unit': 'usd', 'label': 'Common Stock Value', 'value': 17954000000, 'concept': 'CommonStockValue'}, {'unit': 'usd', 'label': 'Retained Earnings Accumulated Deficit', 'value': 116572000000, 'concept': 'RetainedEarningsAccumulatedDeficit'}, {'unit': 'usd', 'label': 'Accumulated Other Comprehensive Income Loss Net Of Tax', 'value': 964000000, 'concept': 'AccumulatedOtherComprehensiveIncomeLossNetOfTax'}, {'unit': 'usd', 'label': 'Stockholders Equity', 'value': 135490000000, 'concept': 'StockholdersEquity'}], 'cf': [{'unit': 'usd', 'label': 'Depreciation Amortization And Accretion Net', 'value': 3280000000, 'concept': 'DepreciationAmortizationAndAccretionNet'}, {'unit': 'usd', 'label': 'Share Based Compensation', 'value': 1120000000, 'concept': 'ShareBasedCompensation'}, {'unit': 'usd', 'label': 'Deferred Income Tax Expense Benefit', 'value': 1957000000, 'concept': 'DeferredIncomeTaxExpenseBenefit'}, {'unit': 'usd', 'label': 'Increase Decrease In Accounts Receivable', 'value': -3846000000, 'concept': 'IncreaseDecreaseInAccountsReceivable'}, {'unit': 'usd', 'label': 'Increase Decrease In Inventories', 'value': 454000000, 'concept': 'IncreaseDecreaseInInventories'}, {'unit': 'usd', 'label': 'Increase Decrease In Other Receivables', 'value': -1510000000, 'concept': 'IncreaseDecreaseInOtherReceivables'}, {'unit': 'usd', 'label': 'Increase Decrease In Other Operating Assets', 'value': -1269000000, 'concept': 'IncreaseDecreaseInOtherOperatingAssets'}, {'unit': 'usd', 'label': 'Increase Decrease In Accounts Payable', 'value': -4422000000, 'concept': 'IncreaseDecreaseInAccountsPayable'}, {'unit': 'usd', 'label': 'Increase Decrease In Deferred Revenue', 'value': 1541000000, 'concept': 'IncreaseDecreaseInDeferredRevenue'}, {'unit': 'usd', 'label': 'Increase Decrease In Other Operating Liabilities', 'value': 3658000000, 'concept': 'IncreaseDecreaseInOtherOperatingLiabilities'}, {'unit': 'usd', 'label': 'Proceeds From Issuance Of Common Stock', 'value': 275000000, 'concept': 'ProceedsFromIssuanceOfCommonStock'}, {'unit': 'usd', 'label': 'Excess Tax Benefit From Share Based Compensation Financing Activities', 'value': 502000000, 'concept': 'ExcessTaxBenefitFromShareBasedCompensationFinancingActivities'}, {'unit': 'usd', 'label': 'Dividends and dividend equivalents paid on common stock and restricted stock units.', 'value': 4984000000, 'concept': 'aapl:PaymentsOfDividendsAndDividendEquivalentsOnCommonStockAndRestrictedStockUnits'}, {'unit': 'usd', 'label': 'Payments For Repurchase Of Common Stock', 'value': 1950000000, 'concept': 'PaymentsForRepurchaseOfCommonStock'}, {'unit': 'usd', 'label': 'Payments Related To Tax Withholding For Share Based Compensation', 'value': 588000000, 'concept': 'PaymentsRelatedToTaxWithholdingForShareBasedCompensation'}, {'unit': 'usd', 'label': 'Net Cash Provided By Used In Financing Activities', 'value': -6745000000, 'concept': 'NetCashProvidedByUsedInFinancingActivities'}, {'unit': 'usd', 'label': 'Payments To Acquire Available For Sale Securities', 'value': 81163000000, 'concept': 'PaymentsToAcquireAvailableForSaleSecurities'}, {'unit': 'usd', 'label': 'Proceeds From Maturities Prepayments And Calls Of Available For Sale Securities', 'value': 9243000000, 'concept': 'ProceedsFromMaturitiesPrepaymentsAndCallsOfAvailableForSaleSecurities'}, {'unit': 'usd', 'label': 'Proceeds From Sale Of Available For Sale Securities', 'value': 49188000000, 'concept': 'ProceedsFromSaleOfAvailableForSaleSecurities'}, {'unit': 'usd', 'label': 'Payments To Acquire Businesses Net Of Cash Acquired', 'value': 299000000, 'concept': 'PaymentsToAcquireBusinessesNetOfCashAcquired'}, {'unit': 'usd', 'label': 'Payments To Acquire Productive Assets', 'value': 4325000000, 'concept': 'PaymentsToAcquireProductiveAssets'}, {'unit': 'usd', 'label': 'Payments To Acquire Intangible Assets', 'value': 429000000, 'concept': 'PaymentsToAcquireIntangibleAssets'}, {'unit': 'usd', 'label': 'Payments For Proceeds From Other Investing Activities', 'value': 93000000, 'concept': 'PaymentsForProceedsFromOtherInvestingActivities'}, {'unit': 'usd', 'label': 'Net Cash Provided By Used In Investing Activities', 'value': -27878000000, 'concept': 'NetCashProvidedByUsedInInvestingActivities'}, {'unit': 'usd', 'label': 'Net Income Loss', 'value': 22625000000, 'concept': 'NetIncomeLoss'}, {'unit': 'usd', 'label': 'Net Cash Provided By Used In Operating Activities', 'value': 35930000000, 'concept': 'NetCashProvidedByUsedInOperatingActivities'}, {'unit': 'usd', 'label': 'Cash And Cash Equivalents Period Increase Decrease', 'value': 1307000000, 'concept': 'CashAndCashEquivalentsPeriodIncreaseDecrease'}, {'unit': 'usd', 'label': 'Income Taxes Paid Net', 'value': 4258000000, 'concept': 'IncomeTaxesPaidNet'}], 'ic': [{'unit': 'usd/shares', 'label': 'Earnings Per Share Basic', 'value': 24.09, 'concept': 'EarningsPerShareBasic'}, {'unit': 'usd/shares', 'label': 'Earnings Per Share Diluted', 'value': 23.9, 'concept': 'EarningsPerShareDiluted'}, {'unit': 'usd', 'label': 'Research And Development Expense', 'value': 2129000000, 'concept': 'ResearchAndDevelopmentExpense'}, {'unit': 'usd', 'label': 'Selling General And Administrative Expense', 'value': 5512000000, 'concept': 'SellingGeneralAndAdministrativeExpense'}, {'unit': 'usd', 'label': 'Operating Expenses', 'value': 7641000000, 'concept': 'OperatingExpenses'}, {'unit': 'usd', 'label': 'Sales Revenue Net', 'value': 98115000000, 'concept': 'SalesRevenueNet'}, {'unit': 'usd', 'label': 'Cost Of Goods And Services Sold', 'value': 60706000000, 'concept': 'CostOfGoodsAndServicesSold'}, {'unit': 'usd', 'label': 'Gross Profit', 'value': 37409000000, 'concept': 'GrossProfit'}, {'unit': 'usd', 'label': 'Operating Income Loss', 'value': 29768000000, 'concept': 'OperatingIncomeLoss'}, {'unit': 'usd', 'label': 'Nonoperating Income Expense', 'value': 809000000, 'concept': 'NonoperatingIncomeExpense'}, {'unit': 'usd', 'label': 'Income Loss From Continuing Operations Before Income Taxes Minority Interest And Income Loss From Equity Method Investments', 'value': 30577000000, 'concept': 'IncomeLossFromContinuingOperationsBeforeIncomeTaxesMinorityInterestAndIncomeLossFromEquityMethodInvestments'}, {'unit': 'usd', 'label': 'Income Tax Expense Benefit', 'value': 7952000000, 'concept': 'IncomeTaxExpenseBenefit'}, {'unit': 'usd', 'label': 'Net Income Loss', 'value': 22625000000, 'concept': 'NetIncomeLoss'}, {'unit': 'usd/shares', 'label': 'Common Stock Dividends Per Share Declared', 'value': 5.3, 'concept': 'CommonStockDividendsPerShareDeclared'}, {'unit': 'shares', 'label': 'Weighted Average Number Of Shares Outstanding Basic', 'value': 939273000, 'concept': 'WeightedAverageNumberOfSharesOutstandingBasic'}, {'unit': 'shares', 'label': 'Weighted Average Number Of Diluted Shares Outstanding', 'value': 946626000, 'concept': 'WeightedAverageNumberOfDilutedSharesOutstanding'}, {'unit': 'usd', 'label': 'Other Comprehensive Income Loss Foreign Currency Transaction And Translation Adjustment Net Of Tax', 'value': -77000000, 'concept': 'OtherComprehensiveIncomeLossForeignCurrencyTransactionAndTranslationAdjustmentNetOfTax'}, {'unit': 'usd', 'label': 'Other Comprehensive Income Loss Net Of Tax', 'value': 465000000, 'concept': 'OtherComprehensiveIncomeLossNetOfTax'}, {'unit': 'usd', 'label': 'Other Comprehensive Income Unrealized Holding Gain Loss On Securities Arising During Period Net Of Tax', 'value': -118000000, 'concept': 'OtherComprehensiveIncomeUnrealizedHoldingGainLossOnSecuritiesArisingDuringPeriodNetOfTax'}, {'unit': 'usd', 'label': 'Adjustment for net (gains)/losses realized and included in net income, net of tax.', 'value': 97000000, 'concept': 'aapl:AdjustmentForGainLossOnInvestmentsIncludedInNetIncomeNetOfTax'}, {'unit': 'usd', 'label': 'Other Comprehensive Income Loss Available For Sale Securities Adjustment Net Of Tax', 'value': -215000000, 'concept': 'OtherComprehensiveIncomeLossAvailableForSaleSecuritiesAdjustmentNetOfTax'}, {'unit': 'usd', 'label': 'Other Comprehensive Income Unrealized Gain Loss On Derivatives Arising During Period Net Of Tax', 'value': 603000000, 'concept': 'OtherComprehensiveIncomeUnrealizedGainLossOnDerivativesArisingDuringPeriodNetOfTax'}, {'unit': 'usd', 'label': 'Other Comprehensive Income Loss Reclassification Adjustment On Derivatives Included In Net Income Net Of Tax', 'value': 154000000, 'concept': 'OtherComprehensiveIncomeLossReclassificationAdjustmentOnDerivativesIncludedInNetIncomeNetOfTax'}, {'unit': 'usd', 'label': 'Other Comprehensive Income Loss Derivatives Qualifying As Hedges Net Of Tax', 'value': 757000000, 'concept': 'OtherComprehensiveIncomeLossDerivativesQualifyingAsHedgesNetOfTax'}, {'unit': 'usd', 'label': 'Comprehensive Income Net Of Tax', 'value': 23090000000, 'concept': 'ComprehensiveIncomeNetOfTax'}]}}, {'accessNumber': '0001193125-13-022339', 'symbol': 'AAPL', 'cik': '320193', 'year': 2013, 'quarter': 1, 'form': '10-Q', 'startDate': '2012-09-30 00:00:00', 'endDate': '2012-12-29 00:00:00', 'filedDate': '2013-01-24 00:00:00', 'acceptedDate': '2013-01-24 17:01:37', 'report': {'bs': [{'unit': 'usd', 'label': 'Available For Sale Securities Noncurrent', 'value': 97292000000, 'concept': 'AvailableForSaleSecuritiesNoncurrent'}, {'unit': 'usd', 'label': 'Property Plant And Equipment Net', 'value': 15422000000, 'concept': 'PropertyPlantAndEquipmentNet'}, {'unit': 'usd', 'label': 'Goodwill', 'value': 1381000000, 'concept': 'Goodwill'}, {'unit': 'usd', 'label': 'Intangible Assets Net Excluding Goodwill', 'value': 4462000000, 'concept': 'IntangibleAssetsNetExcludingGoodwill'}, {'unit': 'usd', 'label': 'Other Assets Noncurrent', 'value': 5183000000, 'concept': 'OtherAssetsNoncurrent'}, {'unit': 'usd', 'label': 'Assets', 'value': 196088000000, 'concept': 'Assets'}, {'unit': 'usd', 'label': 'Cash And Cash Equivalents At Carrying Value', 'value': 16154000000, 'concept': 'CashAndCashEquivalentsAtCarryingValue'}, {'unit': 'usd', 'label': 'Available For Sale Securities Current', 'value': 23666000000, 'concept': 'AvailableForSaleSecuritiesCurrent'}, {'unit': 'usd', 'label': 'Accounts Receivable Net Current', 'value': 11598000000, 'concept': 'AccountsReceivableNetCurrent'}, {'unit': 'usd', 'label': 'Inventory Net', 'value': 1455000000, 'concept': 'InventoryNet'}, {'unit': 'usd', 'label': 'Deferred Tax Assets Net Current', 'value': 2895000000, 'concept': 'DeferredTaxAssetsNetCurrent'}, {'unit': 'usd', 'label': 'Nontrade Receivables Current', 'value': 9936000000, 'concept': 'NontradeReceivablesCurrent'}, {'unit': 'usd', 'label': 'Other Assets Current', 'value': 6644000000, 'concept': 'OtherAssetsCurrent'}, {'unit': 'usd', 'label': 'Assets Current', 'value': 72348000000, 'concept': 'AssetsCurrent'}, {'unit': 'usd', 'label': 'Deferred Revenue Noncurrent', 'value': 2938000000, 'concept': 'DeferredRevenueNoncurrent'}, {'unit': 'usd', 'label': 'Other Liabilities Noncurrent', 'value': 18925000000, 'concept': 'OtherLiabilitiesNoncurrent'}, {'unit': 'usd', 'label': 'Liabilities', 'value': 68742000000, 'concept': 'Liabilities'}, {'unit': 'usd', 'label': 'Commitments And Contingencies', 'value': 'N/A', 'concept': 'CommitmentsAndContingencies'}, {'unit': 'usd', 'label': 'Liabilities And Stockholders Equity', 'value': 196088000000, 'concept': 'LiabilitiesAndStockholdersEquity'}, {'unit': 'usd', 'label': 'Accounts Payable Current', 'value': 26398000000, 'concept': 'AccountsPayableCurrent'}, {'unit': 'usd', 'label': 'Accrued Liabilities Current', 'value': 13207000000, 'concept': 'AccruedLiabilitiesCurrent'}, {'unit': 'usd', 'label': 'Deferred Revenue Current', 'value': 7274000000, 'concept': 'DeferredRevenueCurrent'}, {'unit': 'usd', 'label': 'Liabilities Current', 'value': 46879000000, 'concept': 'LiabilitiesCurrent'}, {'unit': 'usd', 'label': 'Common Stock Value', 'value': 17167000000, 'concept': 'CommonStockValue'}, {'unit': 'usd', 'label': 'Retained Earnings Accumulated Deficit', 'value': 109567000000, 'concept': 'RetainedEarningsAccumulatedDeficit'}, {'unit': 'usd', 'label': 'Accumulated Other Comprehensive Income Loss Net Of Tax', 'value': 612000000, 'concept': 'AccumulatedOtherComprehensiveIncomeLossNetOfTax'}, {'unit': 'usd', 'label': 'Stockholders Equity', 'value': 127346000000, 'concept': 'StockholdersEquity'}], 'cf': [{'unit': 'usd', 'label': 'Depreciation Amortization And Accretion Net', 'value': 1588000000, 'concept': 'DepreciationAmortizationAndAccretionNet'}, {'unit': 'usd', 'label': 'Share Based Compensation', 'value': 545000000, 'concept': 'ShareBasedCompensation'}, {'unit': 'usd', 'label': 'Deferred Income Tax Expense Benefit', 'value': 1179000000, 'concept': 'DeferredIncomeTaxExpenseBenefit'}, {'unit': 'usd', 'label': 'Increase Decrease In Accounts Receivable', 'value': 668000000, 'concept': 'IncreaseDecreaseInAccountsReceivable'}, {'unit': 'usd', 'label': 'Increase Decrease In Inventories', 'value': 664000000, 'concept': 'IncreaseDecreaseInInventories'}, {'unit': 'usd', 'label': 'Increase Decrease In Other Receivables', 'value': 2174000000, 'concept': 'IncreaseDecreaseInOtherReceivables'}, {'unit': 'usd', 'label': 'Increase Decrease In Other Operating Assets', 'value': -413000000, 'concept': 'IncreaseDecreaseInOtherOperatingAssets'}, {'unit': 'usd', 'label': 'Increase Decrease In Accounts Payable', 'value': 6145000000, 'concept': 'IncreaseDecreaseInAccountsPayable'}, {'unit': 'usd', 'label': 'Increase Decrease In Deferred Revenue', 'value': 1611000000, 'concept': 'IncreaseDecreaseInDeferredRevenue'}, {'unit': 'usd', 'label': 'Increase Decrease In Other Operating Liabilities', 'value': 2373000000, 'concept': 'IncreaseDecreaseInOtherOperatingLiabilities'}, {'unit': 'usd', 'label': 'Proceeds From Issuance Of Common Stock', 'value': 76000000, 'concept': 'ProceedsFromIssuanceOfCommonStock'}, {'unit': 'usd', 'label': 'Excess Tax Benefit From Share Based Compensation Financing Activities', 'value': 404000000, 'concept': 'ExcessTaxBenefitFromShareBasedCompensationFinancingActivities'}, {'unit': 'usd', 'label': 'Dividends and dividend equivalents paid on common stock and restricted stock units.', 'value': 2493000000, 'concept': 'aapl:PaymentsOfDividendsAndDividendEquivalentsOnCommonStockAndRestrictedStockUnits'}, {'unit': 'usd', 'label': 'Payments For Repurchase Of Common Stock', 'value': 1950000000, 'concept': 'PaymentsForRepurchaseOfCommonStock'}, {'unit': 'usd', 'label': 'Payments Related To Tax Withholding For Share Based Compensation', 'value': 534000000, 'concept': 'PaymentsRelatedToTaxWithholdingForShareBasedCompensation'}, {'unit': 'usd', 'label': 'Net Cash Provided By Used In Financing Activities', 'value': -4497000000, 'concept': 'NetCashProvidedByUsedInFinancingActivities'}, {'unit': 'usd', 'label': 'Payments To Acquire Available For Sale Securities', 'value': 37192000000, 'concept': 'PaymentsToAcquireAvailableForSaleSecurities'}, {'unit': 'usd', 'label': 'Proceeds From Maturities Prepayments And Calls Of Available For Sale Securities', 'value': 3460000000, 'concept': 'ProceedsFromMaturitiesPrepaymentsAndCallsOfAvailableForSaleSecurities'}, {'unit': 'usd', 'label': 'Proceeds From Sale Of Available For Sale Securities', 'value': 23002000000, 'concept': 'ProceedsFromSaleOfAvailableForSaleSecurities'}, {'unit': 'usd', 'label': 'Payments To Acquire Businesses Net Of Cash Acquired', 'value': 284000000, 'concept': 'PaymentsToAcquireBusinessesNetOfCashAcquired'}, {'unit': 'usd', 'label': 'Payments To Acquire Productive Assets', 'value': 2317000000, 'concept': 'PaymentsToAcquireProductiveAssets'}, {'unit': 'usd', 'label': 'Payments To Acquire Intangible Assets', 'value': 138000000, 'concept': 'PaymentsToAcquireIntangibleAssets'}, {'unit': 'usd', 'label': 'Payments For Proceeds From Other Investing Activities', 'value': 52000000, 'concept': 'PaymentsForProceedsFromOtherInvestingActivities'}, {'unit': 'usd', 'label': 'Net Cash Provided By Used In Investing Activities', 'value': -13521000000, 'concept': 'NetCashProvidedByUsedInInvestingActivities'}, {'unit': 'usd', 'label': 'Net Income Loss', 'value': 13078000000, 'concept': 'NetIncomeLoss'}, {'unit': 'usd', 'label': 'Net Cash Provided By Used In Operating Activities', 'value': 23426000000, 'concept': 'NetCashProvidedByUsedInOperatingActivities'}, {'unit': 'usd', 'label': 'Cash And Cash Equivalents Period Increase Decrease', 'value': 5408000000, 'concept': 'CashAndCashEquivalentsPeriodIncreaseDecrease'}, {'unit': 'usd', 'label': 'Income Taxes Paid Net', 'value': 1890000000, 'concept': 'IncomeTaxesPaidNet'}], 'ic': [{'unit': 'usd/shares', 'label': 'Earnings Per Share Basic', 'value': 13.93, 'concept': 'EarningsPerShareBasic'}, {'unit': 'usd/shares', 'label': 'Earnings Per Share Diluted', 'value': 13.81, 'concept': 'EarningsPerShareDiluted'}, {'unit': 'usd', 'label': 'Research And Development Expense', 'value': 1010000000, 'concept': 'ResearchAndDevelopmentExpense'}, {'unit': 'usd', 'label': 'Selling General And Administrative Expense', 'value': 2840000000, 'concept': 'SellingGeneralAndAdministrativeExpense'}, {'unit': 'usd', 'label': 'Operating Expenses', 'value': 3850000000, 'concept': 'OperatingExpenses'}, {'unit': 'usd', 'label': 'Sales Revenue Net', 'value': 54512000000, 'concept': 'SalesRevenueNet'}, {'unit': 'usd', 'label': 'Cost Of Goods And Services Sold', 'value': 33452000000, 'concept': 'CostOfGoodsAndServicesSold'}, {'unit': 'usd', 'label': 'Gross Profit', 'value': 21060000000, 'concept': 'GrossProfit'}, {'unit': 'usd', 'label': 'Operating Income Loss', 'value': 17210000000, 'concept': 'OperatingIncomeLoss'}, {'unit': 'usd', 'label': 'Nonoperating Income Expense', 'value': 462000000, 'concept': 'NonoperatingIncomeExpense'}, {'unit': 'usd', 'label': 'Income Loss From Continuing Operations Before Income Taxes Minority Interest And Income Loss From Equity Method Investments', 'value': 17672000000, 'concept': 'IncomeLossFromContinuingOperationsBeforeIncomeTaxesMinorityInterestAndIncomeLossFromEquityMethodInvestments'}, {'unit': 'usd', 'label': 'Income Tax Expense Benefit', 'value': 4594000000, 'concept': 'IncomeTaxExpenseBenefit'}, {'unit': 'usd', 'label': 'Net Income Loss', 'value': 13078000000, 'concept': 'NetIncomeLoss'}, {'unit': 'usd/shares', 'label': 'Common Stock Dividends Per Share Declared', 'value': 2.65, 'concept': 'CommonStockDividendsPerShareDeclared'}, {'unit': 'shares', 'label': 'Weighted Average Number Of Shares Outstanding Basic', 'value': 938916000, 'concept': 'WeightedAverageNumberOfSharesOutstandingBasic'}, {'unit': 'shares', 'label': 'Weighted Average Number Of Diluted Shares Outstanding', 'value': 947217000, 'concept': 'WeightedAverageNumberOfDilutedSharesOutstanding'}, {'unit': 'usd', 'label': 'Other Comprehensive Income Loss Foreign Currency Transaction And Translation Adjustment Net Of Tax', 'value': -26000000, 'concept': 'OtherComprehensiveIncomeLossForeignCurrencyTransactionAndTranslationAdjustmentNetOfTax'}, {'unit': 'usd', 'label': 'Other Comprehensive Income Loss Net Of Tax', 'value': 113000000, 'concept': 'OtherComprehensiveIncomeLossNetOfTax'}, {'unit': 'usd', 'label': 'Other Comprehensive Income Unrealized Holding Gain Loss On Securities Arising During Period Net Of Tax', 'value': -66000000, 'concept': 'OtherComprehensiveIncomeUnrealizedHoldingGainLossOnSecuritiesArisingDuringPeriodNetOfTax'}, {'unit': 'usd', 'label': 'Adjustment for net (gains)/losses realized and included in net income, net of tax.', 'value': 53000000, 'concept': 'aapl:AdjustmentForGainLossOnInvestmentsIncludedInNetIncomeNetOfTax'}, {'unit': 'usd', 'label': 'Other Comprehensive Income Loss Available For Sale Securities Adjustment Net Of Tax', 'value': -119000000, 'concept': 'OtherComprehensiveIncomeLossAvailableForSaleSecuritiesAdjustmentNetOfTax'}, {'unit': 'usd', 'label': 'Other Comprehensive Income Unrealized Gain Loss On Derivatives Arising During Period Net Of Tax', 'value': 146000000, 'concept': 'OtherComprehensiveIncomeUnrealizedGainLossOnDerivativesArisingDuringPeriodNetOfTax'}, {'unit': 'usd', 'label': 'Other Comprehensive Income Loss Reclassification Adjustment On Derivatives Included In Net Income Net Of Tax', 'value': 112000000, 'concept': 'OtherComprehensiveIncomeLossReclassificationAdjustmentOnDerivativesIncludedInNetIncomeNetOfTax'}, {'unit': 'usd', 'label': 'Other Comprehensive Income Loss Derivatives Qualifying As Hedges Net Of Tax', 'value': 258000000, 'concept': 'OtherComprehensiveIncomeLossDerivativesQualifyingAsHedgesNetOfTax'}, {'unit': 'usd', 'label': 'Comprehensive Income Net Of Tax', 'value': 13191000000, 'concept': 'ComprehensiveIncomeNetOfTax'}]}}, {'accessNumber': '0001193125-12-314552', 'symbol': 'AAPL', 'cik': '320193', 'year': 2012, 'quarter': 3, 'form': '10-Q', 'startDate': '2011-09-25 00:00:00', 'endDate': '2012-06-30 00:00:00', 'filedDate': '2012-07-25 00:00:00', 'acceptedDate': '2012-07-25 16:39:39', 'report': {'bs': [{'unit': 'usd', 'label': 'Available For Sale Securities Noncurrent', 'value': 89567000000, 'concept': 'AvailableForSaleSecuritiesNoncurrent'}, {'unit': 'usd', 'label': 'Property Plant And Equipment Net', 'value': 10487000000, 'concept': 'PropertyPlantAndEquipmentNet'}, {'unit': 'usd', 'label': 'Goodwill', 'value': 1132000000, 'concept': 'Goodwill'}, {'unit': 'usd', 'label': 'Intangible Assets Net Excluding Goodwill', 'value': 4329000000, 'concept': 'IntangibleAssetsNetExcludingGoodwill'}, {'unit': 'usd', 'label': 'Other Assets Noncurrent', 'value': 5438000000, 'concept': 'OtherAssetsNoncurrent'}, {'unit': 'usd', 'label': 'Assets', 'value': 162896000000, 'concept': 'Assets'}, {'unit': 'usd', 'label': 'Cash And Cash Equivalents At Carrying Value', 'value': 7945000000, 'concept': 'CashAndCashEquivalentsAtCarryingValue'}, {'unit': 'usd', 'label': 'Available For Sale Securities Current', 'value': 19709000000, 'concept': 'AvailableForSaleSecuritiesCurrent'}, {'unit': 'usd', 'label': 'Accounts Receivable Net Current', 'value': 7657000000, 'concept': 'AccountsReceivableNetCurrent'}, {'unit': 'usd', 'label': 'Inventory Net', 'value': 1122000000, 'concept': 'InventoryNet'}, {'unit': 'usd', 'label': 'Deferred Tax Assets Net Current', 'value': 2309000000, 'concept': 'DeferredTaxAssetsNetCurrent'}, {'unit': 'usd', 'label': 'Nontrade Receivables Current', 'value': 6641000000, 'concept': 'NontradeReceivablesCurrent'}, {'unit': 'usd', 'label': 'Other Assets Current', 'value': 6560000000, 'concept': 'OtherAssetsCurrent'}, {'unit': 'usd', 'label': 'Assets Current', 'value': 51943000000, 'concept': 'AssetsCurrent'}, {'unit': 'usd', 'label': 'Deferred Revenue Noncurrent', 'value': 2530000000, 'concept': 'DeferredRevenueNoncurrent'}, {'unit': 'usd', 'label': 'Other Liabilities Noncurrent', 'value': 15560000000, 'concept': 'OtherLiabilitiesNoncurrent'}, {'unit': 'usd', 'label': 'Liabilities', 'value': 51150000000, 'concept': 'Liabilities'}, {'unit': 'usd', 'label': 'Commitments And Contingencies', 'value': 'N/A', 'concept': 'CommitmentsAndContingencies'}, {'unit': 'usd', 'label': 'Liabilities And Stockholders Equity', 'value': 162896000000, 'concept': 'LiabilitiesAndStockholdersEquity'}, {'unit': 'usd', 'label': 'Accounts Payable Current', 'value': 16808000000, 'concept': 'AccountsPayableCurrent'}, {'unit': 'usd', 'label': 'Accrued Liabilities Current', 'value': 10430000000, 'concept': 'AccruedLiabilitiesCurrent'}, {'unit': 'usd', 'label': 'Deferred Revenue Current', 'value': 5822000000, 'concept': 'DeferredRevenueCurrent'}, {'unit': 'usd', 'label': 'Liabilities Current', 'value': 33060000000, 'concept': 'LiabilitiesCurrent'}, {'unit': 'usd', 'label': 'Common Stock Value', 'value': 15573000000, 'concept': 'CommonStockValue'}, {'unit': 'usd', 'label': 'Retained Earnings Accumulated Deficit', 'value': 95641000000, 'concept': 'RetainedEarningsAccumulatedDeficit'}, {'unit': 'usd', 'label': 'Accumulated Other Comprehensive Income Loss Net Of Tax', 'value': 532000000, 'concept': 'AccumulatedOtherComprehensiveIncomeLossNetOfTax'}, {'unit': 'usd', 'label': 'Stockholders Equity', 'value': 111746000000, 'concept': 'StockholdersEquity'}], 'cf': [{'unit': 'usd', 'label': 'Depreciation Amortization And Accretion Net', 'value': 2296000000, 'concept': 'DepreciationAmortizationAndAccretionNet'}, {'unit': 'usd', 'label': 'Share Based Compensation', 'value': 1292000000, 'concept': 'ShareBasedCompensation'}, {'unit': 'usd', 'label': 'Deferred Income Tax Expense Benefit', 'value': 4066000000, 'concept': 'DeferredIncomeTaxExpenseBenefit'}, {'unit': 'usd', 'label': 'Increase Decrease In Accounts Receivable', 'value': 2278000000, 'concept': 'IncreaseDecreaseInAccountsReceivable'}, {'unit': 'usd', 'label': 'Increase Decrease In Inventories', 'value': 346000000, 'concept': 'IncreaseDecreaseInInventories'}, {'unit': 'usd', 'label': 'Increase Decrease In Other Receivables', 'value': 293000000, 'concept': 'IncreaseDecreaseInOtherReceivables'}, {'unit': 'usd', 'label': 'Increase Decrease In Other Operating Assets', 'value': 3238000000, 'concept': 'IncreaseDecreaseInOtherOperatingAssets'}, {'unit': 'usd', 'label': 'Increase Decrease In Accounts Payable', 'value': 2450000000, 'concept': 'IncreaseDecreaseInAccountsPayable'}, {'unit': 'usd', 'label': 'Increase Decrease In Deferred Revenue', 'value': 2575000000, 'concept': 'IncreaseDecreaseInDeferredRevenue'}, {'unit': 'usd', 'label': 'Increase Decrease In Other Operating Liabilities', 'value': 1686000000, 'concept': 'IncreaseDecreaseInOtherOperatingLiabilities'}, {'unit': 'usd', 'label': 'Proceeds From Issuance Of Common Stock', 'value': 433000000, 'concept': 'ProceedsFromIssuanceOfCommonStock'}, {'unit': 'usd', 'label': 'Excess Tax Benefit From Share Based Compensation Financing Activities', 'value': 1036000000, 'concept': 'ExcessTaxBenefitFromShareBasedCompensationFinancingActivities'}, {'unit': 'usd', 'label': 'Payments Related To Tax Withholding For Share Based Compensation', 'value': 1145000000, 'concept': 'PaymentsRelatedToTaxWithholdingForShareBasedCompensation'}, {'unit': 'usd', 'label': 'Net Cash Provided By Used In Financing Activities', 'value': 324000000, 'concept': 'NetCashProvidedByUsedInFinancingActivities'}, {'unit': 'usd', 'label': 'Payments To Acquire Available For Sale Securities', 'value': 121091000000, 'concept': 'PaymentsToAcquireAvailableForSaleSecurities'}, {'unit': 'usd', 'label': 'Proceeds From Maturities Prepayments And Calls Of Available For Sale Securities', 'value': 10344000000, 'concept': 'ProceedsFromMaturitiesPrepaymentsAndCallsOfAvailableForSaleSecurities'}, {'unit': 'usd', 'label': 'Proceeds From Sale Of Available For Sale Securities', 'value': 73140000000, 'concept': 'ProceedsFromSaleOfAvailableForSaleSecurities'}, {'unit': 'usd', 'label': 'Payments To Acquire Businesses Net Of Cash Acquired', 'value': 350000000, 'concept': 'PaymentsToAcquireBusinessesNetOfCashAcquired'}, {'unit': 'usd', 'label': 'Payments To Acquire Productive Assets', 'value': 4834000000, 'concept': 'PaymentsToAcquireProductiveAssets'}, {'unit': 'usd', 'label': 'Payments To Acquire Intangible Assets', 'value': 1067000000, 'concept': 'PaymentsToAcquireIntangibleAssets'}, {'unit': 'usd', 'label': 'Payments For Proceeds From Other Investing Activities', 'value': 56000000, 'concept': 'PaymentsForProceedsFromOtherInvestingActivities'}, {'unit': 'usd', 'label': 'Net Cash Provided By Used In Investing Activities', 'value': -43914000000, 'concept': 'NetCashProvidedByUsedInInvestingActivities'}, {'unit': 'usd', 'label': 'Net Income Loss', 'value': 33510000000, 'concept': 'NetIncomeLoss'}, {'unit': 'usd', 'label': 'Net Cash Provided By Used In Operating Activities', 'value': 41720000000, 'concept': 'NetCashProvidedByUsedInOperatingActivities'}, {'unit': 'usd', 'label': 'Cash And Cash Equivalents Period Increase Decrease', 'value': -1870000000, 'concept': 'CashAndCashEquivalentsPeriodIncreaseDecrease'}, {'unit': 'usd', 'label': 'Income Taxes Paid Net', 'value': 5901000000, 'concept': 'IncomeTaxesPaidNet'}], 'ic': [{'unit': 'usd/shares', 'label': 'Earnings Per Share Basic', 'value': 35.89, 'concept': 'EarningsPerShareBasic'}, {'unit': 'usd/shares', 'label': 'Earnings Per Share Diluted', 'value': 35.48, 'concept': 'EarningsPerShareDiluted'}, {'unit': 'usd', 'label': 'Research And Development Expense', 'value': 2475000000, 'concept': 'ResearchAndDevelopmentExpense'}, {'unit': 'usd', 'label': 'Selling General And Administrative Expense', 'value': 7489000000, 'concept': 'SellingGeneralAndAdministrativeExpense'}, {'unit': 'usd', 'label': 'Operating Expenses', 'value': 9964000000, 'concept': 'OperatingExpenses'}, {'unit': 'usd', 'label': 'Sales Revenue Net', 'value': 120542000000, 'concept': 'SalesRevenueNet'}, {'unit': 'usd', 'label': 'Cost Of Goods And Services Sold', 'value': 66281000000, 'concept': 'CostOfGoodsAndServicesSold'}, {'unit': 'usd', 'label': 'Gross Profit', 'value': 54261000000, 'concept': 'GrossProfit'}, {'unit': 'usd', 'label': 'Operating Income Loss', 'value': 44297000000, 'concept': 'OperatingIncomeLoss'}, {'unit': 'usd', 'label': 'Nonoperating Income Expense', 'value': 573000000, 'concept': 'NonoperatingIncomeExpense'}, {'unit': 'usd', 'label': 'Income Loss From Continuing Operations Before Income Taxes Minority Interest And Income Loss From Equity Method Investments', 'value': 44870000000, 'concept': 'IncomeLossFromContinuingOperationsBeforeIncomeTaxesMinorityInterestAndIncomeLossFromEquityMethodInvestments'}, {'unit': 'usd', 'label': 'Income Tax Expense Benefit', 'value': 11360000000, 'concept': 'IncomeTaxExpenseBenefit'}, {'unit': 'usd', 'label': 'Net Income Loss', 'value': 33510000000, 'concept': 'NetIncomeLoss'}, {'unit': 'shares', 'label': 'Weighted Average Number Of Shares Outstanding Basic', 'value': 933672000, 'concept': 'WeightedAverageNumberOfSharesOutstandingBasic'}, {'unit': 'shares', 'label': 'Weighted Average Number Of Diluted Shares Outstanding', 'value': 944440000, 'concept': 'WeightedAverageNumberOfDilutedSharesOutstanding'}]}}, {'accessNumber': '0001193125-12-182321', 'symbol': 'AAPL', 'cik': '320193', 'year': 2012, 'quarter': 2, 'form': '10-Q', 'startDate': '2011-09-25 00:00:00', 'endDate': '2012-03-31 00:00:00', 'filedDate': '2012-04-25 00:00:00', 'acceptedDate': '2012-04-25 17:01:16', 'report': {'bs': [{'unit': 'usd', 'label': 'Available For Sale Securities Noncurrent', 'value': 81638000000, 'concept': 'AvailableForSaleSecuritiesNoncurrent'}, {'unit': 'usd', 'label': 'Property Plant And Equipment Net', 'value': 8847000000, 'concept': 'PropertyPlantAndEquipmentNet'}, {'unit': 'usd', 'label': 'Goodwill', 'value': 1141000000, 'concept': 'Goodwill'}, {'unit': 'usd', 'label': 'Intangible Assets Net Excluding Goodwill', 'value': 3604000000, 'concept': 'IntangibleAssetsNetExcludingGoodwill'}, {'unit': 'usd', 'label': 'Other Assets Noncurrent', 'value': 4992000000, 'concept': 'OtherAssetsNoncurrent'}, {'unit': 'usd', 'label': 'Assets', 'value': 150934000000, 'concept': 'Assets'}, {'unit': 'usd', 'label': 'Cash And Cash Equivalents At Carrying Value', 'value': 10121000000, 'concept': 'CashAndCashEquivalentsAtCarryingValue'}, {'unit': 'usd', 'label': 'Available For Sale Securities Current', 'value': 18417000000, 'concept': 'AvailableForSaleSecuritiesCurrent'}, {'unit': 'usd', 'label': 'Accounts Receivable Net Current', 'value': 7042000000, 'concept': 'AccountsReceivableNetCurrent'}, {'unit': 'usd', 'label': 'Inventory Net', 'value': 1102000000, 'concept': 'InventoryNet'}, {'unit': 'usd', 'label': 'Deferred Tax Assets Net Current', 'value': 2253000000, 'concept': 'DeferredTaxAssetsNetCurrent'}, {'unit': 'usd', 'label': 'Nontrade Receivables Current', 'value': 6727000000, 'concept': 'NontradeReceivablesCurrent'}, {'unit': 'usd', 'label': 'Other Assets Current', 'value': 5050000000, 'concept': 'OtherAssetsCurrent'}, {'unit': 'usd', 'label': 'Assets Current', 'value': 50712000000, 'concept': 'AssetsCurrent'}, {'unit': 'usd', 'label': 'Deferred Revenue Noncurrent', 'value': 2446000000, 'concept': 'DeferredRevenueNoncurrent'}, {'unit': 'usd', 'label': 'Other Liabilities Noncurrent', 'value': 13954000000, 'concept': 'OtherLiabilitiesNoncurrent'}, {'unit': 'usd', 'label': 'Liabilities', 'value': 48436000000, 'concept': 'Liabilities'}, {'unit': 'usd', 'label': 'Commitments And Contingencies', 'value': 'N/A', 'concept': 'CommitmentsAndContingencies'}, {'unit': 'usd', 'label': 'Liabilities And Stockholders Equity', 'value': 150934000000, 'concept': 'LiabilitiesAndStockholdersEquity'}, {'unit': 'usd', 'label': 'Accounts Payable Current', 'value': 17011000000, 'concept': 'AccountsPayableCurrent'}, {'unit': 'usd', 'label': 'Accrued Liabilities Current', 'value': 9778000000, 'concept': 'AccruedLiabilitiesCurrent'}, {'unit': 'usd', 'label': 'Deferred Revenue Current', 'value': 5247000000, 'concept': 'DeferredRevenueCurrent'}, {'unit': 'usd', 'label': 'Liabilities Current', 'value': 32036000000, 'concept': 'LiabilitiesCurrent'}, {'unit': 'usd', 'label': 'Common Stock Value', 'value': 14850000000, 'concept': 'CommonStockValue'}, {'unit': 'usd', 'label': 'Retained Earnings Accumulated Deficit', 'value': 87124000000, 'concept': 'RetainedEarningsAccumulatedDeficit'}, {'unit': 'usd', 'label': 'Accumulated Other Comprehensive Income Loss Net Of Tax', 'value': 524000000, 'concept': 'AccumulatedOtherComprehensiveIncomeLossNetOfTax'}, {'unit': 'usd', 'label': 'Stockholders Equity', 'value': 102498000000, 'concept': 'StockholdersEquity'}], 'cf': [{'unit': 'usd', 'label': 'Depreciation Amortization And Accretion Net', 'value': 1461000000, 'concept': 'DepreciationAmortizationAndAccretionNet'}, {'unit': 'usd', 'label': 'Share Based Compensation', 'value': 844000000, 'concept': 'ShareBasedCompensation'}, {'unit': 'usd', 'label': 'Deferred Income Tax Expense Benefit', 'value': 2915000000, 'concept': 'DeferredIncomeTaxExpenseBenefit'}, {'unit': 'usd', 'label': 'Increase Decrease In Accounts Receivable', 'value': 1663000000, 'concept': 'IncreaseDecreaseInAccountsReceivable'}, {'unit': 'usd', 'label': 'Increase Decrease In Inventories', 'value': 326000000, 'concept': 'IncreaseDecreaseInInventories'}, {'unit': 'usd', 'label': 'Increase Decrease In Other Receivables', 'value': 379000000, 'concept': 'IncreaseDecreaseInOtherReceivables'}, {'unit': 'usd', 'label': 'Increase Decrease In Other Operating Assets', 'value': 1510000000, 'concept': 'IncreaseDecreaseInOtherOperatingAssets'}, {'unit': 'usd', 'label': 'Increase Decrease In Accounts Payable', 'value': 2809000000, 'concept': 'IncreaseDecreaseInAccountsPayable'}, {'unit': 'usd', 'label': 'Increase Decrease In Deferred Revenue', 'value': 1916000000, 'concept': 'IncreaseDecreaseInDeferredRevenue'}, {'unit': 'usd', 'label': 'Increase Decrease In Other Operating Liabilities', 'value': 778000000, 'concept': 'IncreaseDecreaseInOtherOperatingLiabilities'}, {'unit': 'usd', 'label': 'Proceeds From Issuance Of Common Stock', 'value': 377000000, 'concept': 'ProceedsFromIssuanceOfCommonStock'}, {'unit': 'usd', 'label': 'Excess Tax Benefit From Share Based Compensation Financing Activities', 'value': 636000000, 'concept': 'ExcessTaxBenefitFromShareBasedCompensationFinancingActivities'}, {'unit': 'usd', 'label': 'Payments Related To Tax Withholding For Share Based Compensation', 'value': 634000000, 'concept': 'PaymentsRelatedToTaxWithholdingForShareBasedCompensation'}, {'unit': 'usd', 'label': 'Net Cash Provided By Used In Financing Activities', 'value': 379000000, 'concept': 'NetCashProvidedByUsedInFinancingActivities'}, {'unit': 'usd', 'label': 'Payments To Acquire Available For Sale Securities', 'value': 85022000000, 'concept': 'PaymentsToAcquireAvailableForSaleSecurities'}, {'unit': 'usd', 'label': 'Proceeds From Maturities Prepayments And Calls Of Available For Sale Securities', 'value': 7702000000, 'concept': 'ProceedsFromMaturitiesPrepaymentsAndCallsOfAvailableForSaleSecurities'}, {'unit': 'usd', 'label': 'Proceeds From Sale Of Available For Sale Securities', 'value': 49052000000, 'concept': 'ProceedsFromSaleOfAvailableForSaleSecurities'}, {'unit': 'usd', 'label': 'Payments To Acquire Businesses Net Of Cash Acquired', 'value': 350000000, 'concept': 'PaymentsToAcquireBusinessesNetOfCashAcquired'}, {'unit': 'usd', 'label': 'Payments To Acquire Productive Assets', 'value': 2778000000, 'concept': 'PaymentsToAcquireProductiveAssets'}, {'unit': 'usd', 'label': 'Payments To Acquire Intangible Assets', 'value': 160000000, 'concept': 'PaymentsToAcquireIntangibleAssets'}, {'unit': 'usd', 'label': 'Payments For Proceeds From Other Investing Activities', 'value': 48000000, 'concept': 'PaymentsForProceedsFromOtherInvestingActivities'}, {'unit': 'usd', 'label': 'Net Cash Provided By Used In Investing Activities', 'value': -31604000000, 'concept': 'NetCashProvidedByUsedInInvestingActivities'}, {'unit': 'usd', 'label': 'Net Income Loss', 'value': 24686000000, 'concept': 'NetIncomeLoss'}, {'unit': 'usd', 'label': 'Net Cash Provided By Used In Operating Activities', 'value': 31531000000, 'concept': 'NetCashProvidedByUsedInOperatingActivities'}, {'unit': 'usd', 'label': 'Cash And Cash Equivalents Period Increase Decrease', 'value': 306000000, 'concept': 'CashAndCashEquivalentsPeriodIncreaseDecrease'}, {'unit': 'usd', 'label': 'Income Taxes Paid Net', 'value': 4835000000, 'concept': 'IncomeTaxesPaidNet'}], 'ic': [{'unit': 'usd/shares', 'label': 'Earnings Per Share Basic', 'value': 26.48, 'concept': 'EarningsPerShareBasic'}, {'unit': 'usd/shares', 'label': 'Earnings Per Share Diluted', 'value': 26.17, 'concept': 'EarningsPerShareDiluted'}, {'unit': 'usd', 'label': 'Research And Development Expense', 'value': 1599000000, 'concept': 'ResearchAndDevelopmentExpense'}, {'unit': 'usd', 'label': 'Selling General And Administrative Expense', 'value': 4944000000, 'concept': 'SellingGeneralAndAdministrativeExpense'}, {'unit': 'usd', 'label': 'Operating Expenses', 'value': 6543000000, 'concept': 'OperatingExpenses'}, {'unit': 'usd', 'label': 'Sales Revenue Net', 'value': 85519000000, 'concept': 'SalesRevenueNet'}, {'unit': 'usd', 'label': 'Cost Of Goods And Services Sold', 'value': 46252000000, 'concept': 'CostOfGoodsAndServicesSold'}, {'unit': 'usd', 'label': 'Gross Profit', 'value': 39267000000, 'concept': 'GrossProfit'}, {'unit': 'usd', 'label': 'Operating Income Loss', 'value': 32724000000, 'concept': 'OperatingIncomeLoss'}, {'unit': 'usd', 'label': 'Nonoperating Income Expense', 'value': 285000000, 'concept': 'NonoperatingIncomeExpense'}, {'unit': 'usd', 'label': 'Income Loss From Continuing Operations Before Income Taxes Minority Interest And Income Loss From Equity Method Investments', 'value': 33009000000, 'concept': 'IncomeLossFromContinuingOperationsBeforeIncomeTaxesMinorityInterestAndIncomeLossFromEquityMethodInvestments'}, {'unit': 'usd', 'label': 'Income Tax Expense Benefit', 'value': 8323000000, 'concept': 'IncomeTaxExpenseBenefit'}, {'unit': 'usd', 'label': 'Net Income Loss', 'value': 24686000000, 'concept': 'NetIncomeLoss'}, {'unit': 'shares', 'label': 'Weighted Average Number Of Shares Outstanding Basic', 'value': 932265000, 'concept': 'WeightedAverageNumberOfSharesOutstandingBasic'}, {'unit': 'shares', 'label': 'Weighted Average Number Of Diluted Shares Outstanding', 'value': 943185000, 'concept': 'WeightedAverageNumberOfDilutedSharesOutstanding'}]}}, {'accessNumber': '0001193125-12-023398', 'symbol': 'AAPL', 'cik': '320193', 'year': 2012, 'quarter': 1, 'form': '10-Q', 'startDate': '2011-09-25 00:00:00', 'endDate': '2011-12-31 00:00:00', 'filedDate': '2012-01-25 00:00:00', 'acceptedDate': '2012-01-25 16:42:11', 'report': {'bs': [{'unit': 'usd', 'label': 'Available For Sale Securities Noncurrent', 'value': 67445000000, 'concept': 'AvailableForSaleSecuritiesNoncurrent'}, {'unit': 'usd', 'label': 'Tangible assets that are held by an entity for use in the production or supply of goods and services, for rental to others, or for administrative purposes and that are expected to provide economic benefit for more than one year; net of accumulated depreciation. Examples include land, buildings, and production equipment. Also includes software programs or applications for internal use (that is, not to be sold, leased or otherwise marketed to others) that qualify for capitalization.', 'value': 7816000000, 'concept': 'aapl:PropertyPlantAndEquipmentAndCapitalizedSoftwareNet'}, {'unit': 'usd', 'label': 'Goodwill', 'value': 896000000, 'concept': 'Goodwill'}, {'unit': 'usd', 'label': 'Intangible Assets Net Excluding Goodwill', 'value': 3472000000, 'concept': 'IntangibleAssetsNetExcludingGoodwill'}, {'unit': 'usd', 'label': 'Other Assets Noncurrent', 'value': 4281000000, 'concept': 'OtherAssetsNoncurrent'}, {'unit': 'usd', 'label': 'Assets', 'value': 138681000000, 'concept': 'Assets'}, {'unit': 'usd', 'label': 'Cash And Cash Equivalents At Carrying Value', 'value': 10310000000, 'concept': 'CashAndCashEquivalentsAtCarryingValue'}, {'unit': 'usd', 'label': 'Available For Sale Securities Current', 'value': 19846000000, 'concept': 'AvailableForSaleSecuritiesCurrent'}, {'unit': 'usd', 'label': 'Accounts Receivable Net Current', 'value': 8930000000, 'concept': 'AccountsReceivableNetCurrent'}, {'unit': 'usd', 'label': 'Inventory Net', 'value': 1236000000, 'concept': 'InventoryNet'}, {'unit': 'usd', 'label': 'Deferred Tax Assets Net Current', 'value': 1937000000, 'concept': 'DeferredTaxAssetsNetCurrent'}, {'unit': 'usd', 'label': 'Nontrade Receivables Current', 'value': 7554000000, 'concept': 'NontradeReceivablesCurrent'}, {'unit': 'usd', 'label': 'Other Assets Current', 'value': 4958000000, 'concept': 'OtherAssetsCurrent'}, {'unit': 'usd', 'label': 'Assets Current', 'value': 54771000000, 'concept': 'AssetsCurrent'}, {'unit': 'usd', 'label': 'Deferred Revenue Noncurrent', 'value': 2187000000, 'concept': 'DeferredRevenueNoncurrent'}, {'unit': 'usd', 'label': 'Other Liabilities Noncurrent', 'value': 11833000000, 'concept': 'OtherLiabilitiesNoncurrent'}, {'unit': 'usd', 'label': 'Liabilities', 'value': 48627000000, 'concept': 'Liabilities'}, {'unit': 'usd', 'label': 'Commitments And Contingencies', 'value': 'N/A', 'concept': 'CommitmentsAndContingencies'}, {'unit': 'usd', 'label': 'Liabilities And Stockholders Equity', 'value': 138681000000, 'concept': 'LiabilitiesAndStockholdersEquity'}, {'unit': 'usd', 'label': 'Accounts Payable Current', 'value': 18221000000, 'concept': 'AccountsPayableCurrent'}, {'unit': 'usd', 'label': 'Accrued Liabilities Current', 'value': 11500000000, 'concept': 'AccruedLiabilitiesCurrent'}, {'unit': 'usd', 'label': 'Deferred Revenue Current', 'value': 4886000000, 'concept': 'DeferredRevenueCurrent'}, {'unit': 'usd', 'label': 'Liabilities Current', 'value': 34607000000, 'concept': 'LiabilitiesCurrent'}, {'unit': 'usd', 'label': 'Common Stock Value', 'value': 13961000000, 'concept': 'CommonStockValue'}, {'unit': 'usd', 'label': 'Retained Earnings Accumulated Deficit', 'value': 75709000000, 'concept': 'RetainedEarningsAccumulatedDeficit'}, {'unit': 'usd', 'label': 'Accumulated Other Comprehensive Income Loss Net Of Tax', 'value': 384000000, 'concept': 'AccumulatedOtherComprehensiveIncomeLossNetOfTax'}, {'unit': 'usd', 'label': 'Stockholders Equity', 'value': 90054000000, 'concept': 'StockholdersEquity'}], 'cf': [{'unit': 'usd', 'label': 'Depreciation Amortization And Accretion Net', 'value': 721000000, 'concept': 'DepreciationAmortizationAndAccretionNet'}, {'unit': 'usd', 'label': 'Share Based Compensation', 'value': 420000000, 'concept': 'ShareBasedCompensation'}, {'unit': 'usd', 'label': 'Deferred Income Tax Expense Benefit', 'value': 1456000000, 'concept': 'DeferredIncomeTaxExpenseBenefit'}, {'unit': 'usd', 'label': 'Increase Decrease In Accounts Receivable', 'value': 3561000000, 'concept': 'IncreaseDecreaseInAccountsReceivable'}, {'unit': 'usd', 'label': 'Increase Decrease In Inventories', 'value': 460000000, 'concept': 'IncreaseDecreaseInInventories'}, {'unit': 'usd', 'label': 'Increase Decrease In Other Receivables', 'value': 1206000000, 'concept': 'IncreaseDecreaseInOtherReceivables'}, {'unit': 'usd', 'label': 'Increase Decrease In Other Operating Assets', 'value': 962000000, 'concept': 'IncreaseDecreaseInOtherOperatingAssets'}, {'unit': 'usd', 'label': 'Increase Decrease In Accounts Payable', 'value': 4314000000, 'concept': 'IncreaseDecreaseInAccountsPayable'}, {'unit': 'usd', 'label': 'Increase Decrease In Deferred Revenue', 'value': 1296000000, 'concept': 'IncreaseDecreaseInDeferredRevenue'}, {'unit': 'usd', 'label': 'Increase Decrease In Other Operating Liabilities', 'value': 2472000000, 'concept': 'IncreaseDecreaseInOtherOperatingLiabilities'}, {'unit': 'usd', 'label': 'Proceeds From Issuance Of Common Stock', 'value': 91000000, 'concept': 'ProceedsFromIssuanceOfCommonStock'}, {'unit': 'usd', 'label': 'Excess Tax Benefit From Share Based Compensation Financing Activities', 'value': 333000000, 'concept': 'ExcessTaxBenefitFromShareBasedCompensationFinancingActivities'}, {'unit': 'usd', 'label': 'Cash paid by the entity during the period to satisfy tax withholding obligations associated with the net share settlement of equity instruments granted under share-based payment arrangements.', 'value': 355000000, 'concept': 'aapl:EmployeeServiceShareBasedCompensationCashUsedToPayTaxesForEquityNetShareSettlement'}, {'unit': 'usd', 'label': 'Net Cash Provided By Used In Financing Activities', 'value': 69000000, 'concept': 'NetCashProvidedByUsedInFinancingActivities'}, {'unit': 'usd', 'label': 'Payments To Acquire Available For Sale Securities', 'value': 40175000000, 'concept': 'PaymentsToAcquireAvailableForSaleSecurities'}, {'unit': 'usd', 'label': 'Proceeds From Maturities Prepayments And Calls Of Available For Sale Securities', 'value': 3038000000, 'concept': 'ProceedsFromMaturitiesPrepaymentsAndCallsOfAvailableForSaleSecurities'}, {'unit': 'usd', 'label': 'Proceeds From Sale Of Available For Sale Securities', 'value': 21472000000, 'concept': 'ProceedsFromSaleOfAvailableForSaleSecurities'}, {'unit': 'usd', 'label': 'Payments To Acquire Productive Assets', 'value': 1321000000, 'concept': 'PaymentsToAcquireProductiveAssets'}, {'unit': 'usd', 'label': 'Payments To Acquire Intangible Assets', 'value': 108000000, 'concept': 'PaymentsToAcquireIntangibleAssets'}, {'unit': 'usd', 'label': 'Payments For Proceeds From Other Investing Activities', 'value': 34000000, 'concept': 'PaymentsForProceedsFromOtherInvestingActivities'}, {'unit': 'usd', 'label': 'Net Cash Provided By Used In Investing Activities', 'value': -17128000000, 'concept': 'NetCashProvidedByUsedInInvestingActivities'}, {'unit': 'usd', 'label': 'Net Income Loss', 'value': 13064000000, 'concept': 'NetIncomeLoss'}, {'unit': 'usd', 'label': 'Net Cash Provided By Used In Operating Activities', 'value': 17554000000, 'concept': 'NetCashProvidedByUsedInOperatingActivities'}, {'unit': 'usd', 'label': 'Cash And Cash Equivalents Period Increase Decrease', 'value': 495000000, 'concept': 'CashAndCashEquivalentsPeriodIncreaseDecrease'}, {'unit': 'usd', 'label': 'Income Taxes Paid Net', 'value': 1474000000, 'concept': 'IncomeTaxesPaidNet'}], 'ic': [{'unit': 'usd/shares', 'label': 'Earnings Per Share Basic', 'value': 14.03, 'concept': 'EarningsPerShareBasic'}, {'unit': 'usd/shares', 'label': 'Earnings Per Share Diluted', 'value': 13.87, 'concept': 'EarningsPerShareDiluted'}, {'unit': 'usd', 'label': 'Research And Development Expense', 'value': 758000000, 'concept': 'ResearchAndDevelopmentExpense'}, {'unit': 'usd', 'label': 'Selling General And Administrative Expense', 'value': 2605000000, 'concept': 'SellingGeneralAndAdministrativeExpense'}, {'unit': 'usd', 'label': 'Operating Expenses', 'value': 3363000000, 'concept': 'OperatingExpenses'}, {'unit': 'usd', 'label': 'Sales Revenue Net', 'value': 46333000000, 'concept': 'SalesRevenueNet'}, {'unit': 'usd', 'label': 'Cost Of Goods And Services Sold', 'value': 25630000000, 'concept': 'CostOfGoodsAndServicesSold'}, {'unit': 'usd', 'label': 'Gross Profit', 'value': 20703000000, 'concept': 'GrossProfit'}, {'unit': 'usd', 'label': 'Operating Income Loss', 'value': 17340000000, 'concept': 'OperatingIncomeLoss'}, {'unit': 'usd', 'label': 'Nonoperating Income Expense', 'value': 137000000, 'concept': 'NonoperatingIncomeExpense'}, {'unit': 'usd', 'label': 'Income Loss From Continuing Operations Before Income Taxes Minority Interest And Income Loss From Equity Method Investments', 'value': 17477000000, 'concept': 'IncomeLossFromContinuingOperationsBeforeIncomeTaxesMinorityInterestAndIncomeLossFromEquityMethodInvestments'}, {'unit': 'usd', 'label': 'Income Tax Expense Benefit', 'value': 4413000000, 'concept': 'IncomeTaxExpenseBenefit'}, {'unit': 'usd', 'label': 'Net Income Loss', 'value': 13064000000, 'concept': 'NetIncomeLoss'}, {'unit': 'shares', 'label': 'Weighted Average Number Of Shares Outstanding Basic', 'value': 931041000, 'concept': 'WeightedAverageNumberOfSharesOutstandingBasic'}, {'unit': 'shares', 'label': 'Weighted Average Number Of Diluted Shares Outstanding', 'value': 941572000, 'concept': 'WeightedAverageNumberOfDilutedSharesOutstanding'}]}}, {'accessNumber': '0001193125-11-192493', 'symbol': 'AAPL', 'cik': '320193', 'year': 2011, 'quarter': 3, 'form': '10-Q', 'startDate': '2010-09-26 00:00:00', 'endDate': '2011-06-25 00:00:00', 'filedDate': '2011-07-20 00:00:00', 'acceptedDate': '2011-07-20 16:32:13', 'report': {'bs': [{'unit': 'usd', 'label': 'Long-term marketable securities', 'value': 47761000000, 'concept': 'AvailableForSaleSecuritiesNoncurrent'}, {'unit': 'usd', 'label': 'Tangible assets that are held by an entity for use in the production or supply of goods and services, for rental to others, or for administrative purposes and that are expected to provide economic benefit for more than one year; net of accumulated depreciation. Examples include land, buildings, and production equipment. Also includes software programs or applications for internal use (that is, not to be sold, leased or otherwise marketed to others) that qualify for capitalization.', 'value': 6749000000, 'concept': 'aapl:PropertyPlantAndEquipmentAndCapitalizedSoftwareNet'}, {'unit': 'usd', 'label': 'Goodwill', 'value': 741000000, 'concept': 'Goodwill'}, {'unit': 'usd', 'label': 'Acquired intangible assets, net', 'value': 1169000000, 'concept': 'IntangibleAssetsNetExcludingGoodwill'}, {'unit': 'usd', 'label': 'Other assets', 'value': 3440000000, 'concept': 'OtherAssetsNoncurrent'}, {'unit': 'usd', 'label': 'Total assets', 'value': 106758000000, 'concept': 'Assets'}, {'unit': 'usd', 'label': 'Cash and Cash Equivalents', 'value': 12091000000, 'concept': 'CashAndCashEquivalentsAtCarryingValue'}, {'unit': 'usd', 'label': 'Short-term marketable securities', 'value': 16304000000, 'concept': 'AvailableForSaleSecuritiesCurrent'}, {'unit': 'usd', 'label': 'Accounts receivable, less allowances of $55 in each period', 'value': 6102000000, 'concept': 'AccountsReceivableNetCurrent'}, {'unit': 'usd', 'label': 'Inventories', 'value': 889000000, 'concept': 'InventoryNet'}, {'unit': 'usd', 'label': 'Deferred tax assets', 'value': 1892000000, 'concept': 'DeferredTaxAssetsNetCurrent'}, {'unit': 'usd', 'label': 'Vendor non-trade receivables', 'value': 5369000000, 'concept': 'NontradeReceivablesCurrent'}, {'unit': 'usd', 'label': 'Other Assets, Current', 'value': 4251000000, 'concept': 'OtherAssetsCurrent'}, {'unit': 'usd', 'label': 'Total current assets', 'value': 46898000000, 'concept': 'AssetsCurrent'}, {'unit': 'usd', 'label': 'Deferred revenue - non-current', 'value': 1407000000, 'concept': 'DeferredRevenueNoncurrent'}, {'unit': 'usd', 'label': 'Total other non-current liabilities', 'value': 9149000000, 'concept': 'OtherLiabilitiesNoncurrent'}, {'unit': 'usd', 'label': 'Total liabilities', 'value': 37415000000, 'concept': 'Liabilities'}, {'unit': 'usd', 'label': 'Commitments and contingencies', 'value': 'N/A', 'concept': 'CommitmentsAndContingencies'}, {'unit': 'usd', 'label': \"Total liabilities and shareholders' equity\", 'value': 106758000000, 'concept': 'LiabilitiesAndStockholdersEquity'}, {'unit': 'usd', 'label': 'Accounts Payable, Current', 'value': 15270000000, 'concept': 'AccountsPayableCurrent'}, {'unit': 'usd', 'label': 'Total accrued expenses', 'value': 7597000000, 'concept': 'AccruedLiabilitiesCurrent'}, {'unit': 'usd', 'label': 'Deferred Revenue, Current', 'value': 3992000000, 'concept': 'DeferredRevenueCurrent'}, {'unit': 'usd', 'label': 'Total current liabilities', 'value': 26859000000, 'concept': 'LiabilitiesCurrent'}, {'unit': 'usd', 'label': 'Common stock, no par value; 1,800,000,000 shares authorized; 926,903,779 and 915,970,050 shares issued and outstanding, respectively', 'value': 12715000000, 'concept': 'CommonStockValue'}, {'unit': 'usd', 'label': 'Retained earnings', 'value': 56239000000, 'concept': 'RetainedEarningsAccumulatedDeficit'}, {'unit': 'usd', 'label': 'Accumulated other comprehensive income/(loss)', 'value': 389000000, 'concept': 'AccumulatedOtherComprehensiveIncomeLossNetOfTax'}, {'unit': 'usd', 'label': \"Total shareholders' equity\", 'value': 69343000000, 'concept': 'StockholdersEquity'}], 'cf': [{'unit': 'usd', 'label': 'Depreciation, amortization and accretion', 'value': 1271000000, 'concept': 'DepreciationAmortizationAndAccretionNet'}, {'unit': 'usd', 'label': 'Stock-based compensation expense', 'value': 870000000, 'concept': 'ShareBasedCompensation'}, {'unit': 'usd', 'label': 'Deferred income tax expense', 'value': 2232000000, 'concept': 'DeferredIncomeTaxExpenseBenefit'}, {'unit': 'usd', 'label': 'Accounts receivable, net', 'value': 592000000, 'concept': 'IncreaseDecreaseInAccountsReceivable'}, {'unit': 'usd', 'label': 'Increase (Decrease) in Inventories', 'value': -162000000, 'concept': 'IncreaseDecreaseInInventories'}, {'unit': 'usd', 'label': 'Increase (Decrease) in Other Receivables', 'value': 955000000, 'concept': 'IncreaseDecreaseInOtherReceivables'}, {'unit': 'usd', 'label': 'Other current and non-current assets', 'value': 1551000000, 'concept': 'IncreaseDecreaseInOtherOperatingAssets'}, {'unit': 'usd', 'label': 'Increase (Decrease) in Accounts Payable', 'value': 2480000000, 'concept': 'IncreaseDecreaseInAccountsPayable'}, {'unit': 'usd', 'label': 'Increase (Decrease) in Deferred Revenue', 'value': 1276000000, 'concept': 'IncreaseDecreaseInDeferredRevenue'}, {'unit': 'usd', 'label': 'Other current and non-current liabilities', 'value': 2608000000, 'concept': 'IncreaseDecreaseInOtherOperatingLiabilities'}, {'unit': 'usd', 'label': 'Proceeds from issuance of common stock', 'value': 577000000, 'concept': 'ProceedsFromIssuanceOfCommonStock'}, {'unit': 'usd', 'label': 'Excess tax benefits from equity awards', 'value': 915000000, 'concept': 'ExcessTaxBenefitFromShareBasedCompensationFinancingActivities'}, {'unit': 'usd', 'label': 'Cash paid by the entity during the period to satisfy tax withholding obligations associated with the net share settlement of equity instruments granted under share-based payment arrangements.', 'value': 479000000, 'concept': 'aapl:EmployeeServiceShareBasedCompensationCashUsedToPayTaxesForEquityNetShareSettlement'}, {'unit': 'usd', 'label': 'Cash generated by financing activities', 'value': 1013000000, 'concept': 'NetCashProvidedByUsedInFinancingActivities'}, {'unit': 'usd', 'label': 'Purchases of marketable securities', 'value': 75133000000, 'concept': 'PaymentsToAcquireAvailableForSaleSecurities'}, {'unit': 'usd', 'label': 'Proceeds from maturities of marketable securities', 'value': 16396000000, 'concept': 'ProceedsFromMaturitiesPrepaymentsAndCallsOfAvailableForSaleSecurities'}, {'unit': 'usd', 'label': 'Proceeds from sales of marketable securities', 'value': 34301000000, 'concept': 'ProceedsFromSaleOfAvailableForSaleSecurities'}, {'unit': 'usd', 'label': 'Payments made in connection with business acquisitions, net of cash acquired', 'value': 0, 'concept': 'PaymentsToAcquireBusinessesNetOfCashAcquired'}, {'unit': 'usd', 'label': 'Payments for acquisition of property, plant and equipment', 'value': 2615000000, 'concept': 'PaymentsToAcquireProductiveAssets'}, {'unit': 'usd', 'label': 'Payments for acquisition of intangible assets', 'value': 266000000, 'concept': 'PaymentsToAcquireIntangibleAssets'}, {'unit': 'usd', 'label': 'Other', 'value': -34000000, 'concept': 'PaymentsForProceedsFromOtherInvestingActivities'}, {'unit': 'usd', 'label': 'Cash used in investing activities', 'value': -27283000000, 'concept': 'NetCashProvidedByUsedInInvestingActivities'}, {'unit': 'usd', 'label': 'Net income', 'value': 19299000000, 'concept': 'NetIncomeLoss'}, {'unit': 'usd', 'label': 'Cash generated by operating activities', 'value': 27100000000, 'concept': 'NetCashProvidedByUsedInOperatingActivities'}, {'unit': 'usd', 'label': 'Increase in cash and cash equivalents', 'value': 830000000, 'concept': 'CashAndCashEquivalentsPeriodIncreaseDecrease'}, {'unit': 'usd', 'label': 'Cash paid for income taxes, net', 'value': 2563000000, 'concept': 'IncomeTaxesPaidNet'}], 'ic': [{'unit': 'usd/shares', 'label': 'Basic earnings per common share', 'value': 20.91, 'concept': 'EarningsPerShareBasic'}, {'unit': 'usd/shares', 'label': 'Diluted earnings per common share', 'value': 20.63, 'concept': 'EarningsPerShareDiluted'}, {'unit': 'usd', 'label': 'Research and Development Expense', 'value': 1784000000, 'concept': 'ResearchAndDevelopmentExpense'}, {'unit': 'usd', 'label': 'Selling, General and Administrative Expense', 'value': 5574000000, 'concept': 'SellingGeneralAndAdministrativeExpense'}, {'unit': 'usd', 'label': 'Total operating expenses', 'value': 7358000000, 'concept': 'OperatingExpenses'}, {'unit': 'usd', 'label': 'Revenue, Net', 'value': 79979000000, 'concept': 'SalesRevenueNet'}, {'unit': 'usd', 'label': 'Cost of Goods and Services Sold', 'value': 47541000000, 'concept': 'CostOfGoodsAndServicesSold'}, {'unit': 'usd', 'label': 'Gross margin', 'value': 32438000000, 'concept': 'GrossProfit'}, {'unit': 'usd', 'label': 'Operating income', 'value': 25080000000, 'concept': 'OperatingIncomeLoss'}, {'unit': 'usd', 'label': 'Other income and expense', 'value': 334000000, 'concept': 'NonoperatingIncomeExpense'}, {'unit': 'usd', 'label': 'Income before provision for income taxes', 'value': 25414000000, 'concept': 'IncomeLossFromContinuingOperationsBeforeIncomeTaxesMinorityInterestAndIncomeLossFromEquityMethodInvestments'}, {'unit': 'usd', 'label': 'Provision for income taxes', 'value': 6115000000, 'concept': 'IncomeTaxExpenseBenefit'}, {'unit': 'usd', 'label': 'Net income', 'value': 19299000000, 'concept': 'NetIncomeLoss'}, {'unit': 'shares', 'label': 'Weighted-average shares outstanding', 'value': 922917000, 'concept': 'WeightedAverageNumberOfSharesOutstandingBasic'}, {'unit': 'shares', 'label': 'Diluted', 'value': 935688000, 'concept': 'WeightedAverageNumberOfDilutedSharesOutstanding'}]}}, {'accessNumber': '0001193125-11-104388', 'symbol': 'AAPL', 'cik': '320193', 'year': 2011, 'quarter': 2, 'form': '10-Q', 'startDate': '2010-09-26 00:00:00', 'endDate': '2011-03-26 00:00:00', 'filedDate': '2011-04-21 00:00:00', 'acceptedDate': '2011-04-21 06:13:41', 'report': {'bs': [{'unit': 'usd', 'label': 'Long-term marketable securities', 'value': 36533000000, 'concept': 'AvailableForSaleSecuritiesDebtSecuritiesNoncurrent'}, {'unit': 'usd', 'label': 'Tangible assets that are held by an entity for use in the production or supply of goods and services, for rental to others, or for administrative purposes and that are expected to provide economic benefit for more than one year; net of accumulated depreciation. Examples include land, buildings, and production equipment. Also includes software programs or applications for internal use (that is, not to be sold, leased or otherwise marketed to others) that qualify for capitalization.', 'value': 6241000000, 'concept': 'aapl:PropertyPlantAndEquipmentAndCapitalizedSoftwareNet'}, {'unit': 'usd', 'label': 'Goodwill', 'value': 741000000, 'concept': 'Goodwill'}, {'unit': 'usd', 'label': 'Acquired intangible assets, net', 'value': 507000000, 'concept': 'IntangibleAssetsNetExcludingGoodwill'}, {'unit': 'usd', 'label': 'Other assets', 'value': 3885000000, 'concept': 'OtherAssetsNoncurrent'}, {'unit': 'usd', 'label': 'Total assets', 'value': 94904000000, 'concept': 'Assets'}, {'unit': 'usd', 'label': 'Cash and Cash Equivalents', 'value': 15978000000, 'concept': 'CashAndCashEquivalentsAtCarryingValue'}, {'unit': 'usd', 'label': 'Short-Term Marketable Securities', 'value': 13256000000, 'concept': 'AvailableForSaleSecuritiesDebtSecuritiesCurrent'}, {'unit': 'usd', 'label': 'Accounts receivable, less allowances of $57 and $55, respectively', 'value': 5798000000, 'concept': 'AccountsReceivableNetCurrent'}, {'unit': 'usd', 'label': 'Inventories', 'value': 930000000, 'concept': 'InventoryNet'}, {'unit': 'usd', 'label': 'Deferred tax assets', 'value': 1683000000, 'concept': 'DeferredTaxAssetsNetCurrent'}, {'unit': 'usd', 'label': 'Vendor non-trade receivables', 'value': 5297000000, 'concept': 'NontradeReceivablesCurrent'}, {'unit': 'usd', 'label': 'Other Assets, Current', 'value': 4055000000, 'concept': 'OtherAssetsCurrent'}, {'unit': 'usd', 'label': 'Total current assets', 'value': 46997000000, 'concept': 'AssetsCurrent'}, {'unit': 'usd', 'label': 'Deferred revenue - non-current', 'value': 1230000000, 'concept': 'DeferredRevenueNoncurrent'}, {'unit': 'usd', 'label': 'Total other non-current liabilities', 'value': 7870000000, 'concept': 'OtherLiabilitiesNoncurrent'}, {'unit': 'usd', 'label': 'Total liabilities', 'value': 33427000000, 'concept': 'Liabilities'}, {'unit': 'usd', 'label': \"Total liabilities and shareholders' equity\", 'value': 94904000000, 'concept': 'LiabilitiesAndStockholdersEquity'}, {'unit': 'usd', 'label': 'Accounts Payable, Current', 'value': 13714000000, 'concept': 'AccountsPayableCurrent'}, {'unit': 'usd', 'label': 'Total accrued expenses', 'value': 7022000000, 'concept': 'AccruedLiabilitiesCurrent'}, {'unit': 'usd', 'label': 'Deferred Revenue, Current', 'value': 3591000000, 'concept': 'DeferredRevenueCurrent'}, {'unit': 'usd', 'label': 'Total current liabilities', 'value': 24327000000, 'concept': 'LiabilitiesCurrent'}, {'unit': 'usd', 'label': 'Common stock, no par value; 1,800,000,000 shares authorized; 924,674,079 and 915,970,050 shares issued and outstanding, respectively', 'value': 12326000000, 'concept': 'CommonStockValue'}, {'unit': 'usd', 'label': 'Retained earnings', 'value': 49025000000, 'concept': 'RetainedEarningsAccumulatedDeficit'}, {'unit': 'usd', 'label': 'Accumulated other comprehensive income/(loss)', 'value': 126000000, 'concept': 'AccumulatedOtherComprehensiveIncomeLossNetOfTax'}, {'unit': 'usd', 'label': \"Total shareholders' equity\", 'value': 61477000000, 'concept': 'StockholdersEquity'}], 'cf': [{'unit': 'usd', 'label': 'Depreciation, amortization and accretion', 'value': 790000000, 'concept': 'DepreciationAmortizationAndAccretionNet'}, {'unit': 'usd', 'label': 'Stock-based compensation expense', 'value': 586000000, 'concept': 'ShareBasedCompensation'}, {'unit': 'usd', 'label': 'Deferred income tax expense', 'value': 1563000000, 'concept': 'DeferredIncomeTaxExpenseBenefit'}, {'unit': 'usd', 'label': 'Accounts receivable, net', 'value': 288000000, 'concept': 'IncreaseDecreaseInAccountsReceivable'}, {'unit': 'usd', 'label': 'Increase (Decrease) in Inventories', 'value': -121000000, 'concept': 'IncreaseDecreaseInInventories'}, {'unit': 'usd', 'label': 'Increase (Decrease) in Other Receivables', 'value': 883000000, 'concept': 'IncreaseDecreaseInOtherReceivables'}, {'unit': 'usd', 'label': 'Other current and non-current assets', 'value': 1886000000, 'concept': 'IncreaseDecreaseInOtherOperatingAssets'}, {'unit': 'usd', 'label': 'Increase (Decrease) in Accounts Payable', 'value': 1626000000, 'concept': 'IncreaseDecreaseInAccountsPayable'}, {'unit': 'usd', 'label': 'Increase (Decrease) in Deferred Revenue', 'value': 698000000, 'concept': 'IncreaseDecreaseInDeferredRevenue'}, {'unit': 'usd', 'label': 'Other current and non-current liabilities', 'value': 1674000000, 'concept': 'IncreaseDecreaseInOtherOperatingLiabilities'}, {'unit': 'usd', 'label': 'Proceeds from issuance of common stock', 'value': 494000000, 'concept': 'ProceedsFromIssuanceOfCommonStock'}, {'unit': 'usd', 'label': 'Excess tax benefits from equity awards', 'value': 740000000, 'concept': 'ExcessTaxBenefitFromShareBasedCompensationFinancingActivities'}, {'unit': 'usd', 'label': 'Cash paid by the entity during the period to satisfy tax withholding obligations associated with the net share settlement of equity instruments granted under share-based payment arrangements.', 'value': 258000000, 'concept': 'aapl:EmployeeServiceShareBasedCompensationCashUsedToPayTaxesForEquityNetShareSettlement'}, {'unit': 'usd', 'label': 'Cash generated by financing activities', 'value': 976000000, 'concept': 'NetCashProvidedByUsedInFinancingActivities'}, {'unit': 'usd', 'label': 'Purchases of marketable securities', 'value': 42260000000, 'concept': 'PaymentsToAcquireAvailableForSaleSecuritiesDebt'}, {'unit': 'usd', 'label': 'Proceeds from maturities of marketable securities', 'value': 10211000000, 'concept': 'ProceedsFromMaturitiesPrepaymentsAndCallsOfAvailableForSaleSecurities'}, {'unit': 'usd', 'label': 'Proceeds from sales of marketable securities', 'value': 21705000000, 'concept': 'ProceedsFromSaleOfAvailableForSaleSecuritiesDebt'}, {'unit': 'usd', 'label': 'Payments made in connection with business acquisitions, net of cash acquired', 'value': 0, 'concept': 'PaymentsToAcquireBusinessesNetOfCashAcquired'}, {'unit': 'usd', 'label': 'Payments for acquisition of property, plant and equipment', 'value': 1838000000, 'concept': 'PaymentsToAcquireProductiveAssets'}, {'unit': 'usd', 'label': 'Payments for acquisition of intangible assets', 'value': 81000000, 'concept': 'PaymentsToAcquireIntangibleAssets'}, {'unit': 'usd', 'label': 'Other', 'value': -12000000, 'concept': 'PaymentsForProceedsFromOtherInvestingActivities'}, {'unit': 'usd', 'label': 'Cash used in investing activities', 'value': -12251000000, 'concept': 'NetCashProvidedByUsedInInvestingActivities'}, {'unit': 'usd', 'label': 'Net income', 'value': 11991000000, 'concept': 'NetIncomeLoss'}, {'unit': 'usd', 'label': 'Cash generated by operating activities', 'value': 15992000000, 'concept': 'NetCashProvidedByUsedInOperatingActivities'}, {'unit': 'usd', 'label': 'Increase in cash and cash equivalents', 'value': 4717000000, 'concept': 'CashAndCashEquivalentsPeriodIncreaseDecrease'}, {'unit': 'usd', 'label': 'Cash paid for income taxes, net', 'value': 1913000000, 'concept': 'IncomeTaxesPaidNet'}], 'ic': [{'unit': 'usd/shares', 'label': 'Basic earnings per common share', 'value': 13.02, 'concept': 'EarningsPerShareBasic'}, {'unit': 'usd/shares', 'label': 'Diluted earnings per common share', 'value': 12.83, 'concept': 'EarningsPerShareDiluted'}, {'unit': 'usd', 'label': 'Research and Development Expense', 'value': 1156000000, 'concept': 'ResearchAndDevelopmentExpense'}, {'unit': 'usd', 'label': 'Selling, General and Administrative Expense', 'value': 3659000000, 'concept': 'SellingGeneralAndAdministrativeExpense'}, {'unit': 'usd', 'label': 'Total operating expenses', 'value': 4815000000, 'concept': 'OperatingExpenses'}, {'unit': 'usd', 'label': 'Sales Revenue, Net', 'value': 51408000000, 'concept': 'SalesRevenueNet'}, {'unit': 'usd', 'label': 'Cost of Goods and Services Sold', 'value': 30892000000, 'concept': 'CostOfGoodsAndServicesSold'}, {'unit': 'usd', 'label': 'Gross margin', 'value': 20516000000, 'concept': 'GrossProfit'}, {'unit': 'usd', 'label': 'Operating income', 'value': 15701000000, 'concept': 'OperatingIncomeLoss'}, {'unit': 'usd', 'label': 'Other income and expense', 'value': 162000000, 'concept': 'NonoperatingIncomeExpense'}, {'unit': 'usd', 'label': 'Income before provision for income taxes', 'value': 15863000000, 'concept': 'IncomeLossFromContinuingOperationsBeforeIncomeTaxesMinorityInterestAndIncomeLossFromEquityMethodInvestments'}, {'unit': 'usd', 'label': 'Provision for income taxes', 'value': 3872000000, 'concept': 'IncomeTaxExpenseBenefit'}, {'unit': 'usd', 'label': 'Net income', 'value': 11991000000, 'concept': 'NetIncomeLoss'}, {'unit': 'shares', 'label': 'Weighted-average shares outstanding', 'value': 921245000, 'concept': 'WeightedAverageNumberOfSharesOutstandingBasic'}, {'unit': 'shares', 'label': 'Diluted', 'value': 934549000, 'concept': 'WeightedAverageNumberOfDilutedSharesOutstanding'}]}}, {'accessNumber': '0001193125-11-010144', 'symbol': 'AAPL', 'cik': '320193', 'year': 2011, 'quarter': 1, 'form': '10-Q', 'startDate': '2010-09-26 00:00:00', 'endDate': '2010-12-25 00:00:00', 'filedDate': '2011-01-19 00:00:00', 'acceptedDate': '2011-01-19 16:33:29', 'report': {'bs': [{'unit': 'usd', 'label': 'Long-term marketable securities', 'value': 32730000000, 'concept': 'AvailableForSaleSecuritiesDebtSecuritiesNoncurrent'}, {'unit': 'usd', 'label': 'Tangible assets that are held by an entity for use in the production or supply of goods and services, for rental to others, or for administrative purposes and that are expected to provide economic benefit for more than one year; net of accumulated depreciation. Examples include land, buildings, and production equipment. Also includes software programs or applications for internal use (that is, not to be sold, leased or otherwise marketed to others) that qualify for capitalization.', 'value': 5868000000, 'concept': 'aapl:PropertyPlantAndEquipmentAndCapitalizedSoftwareNet'}, {'unit': 'usd', 'label': 'Goodwill', 'value': 741000000, 'concept': 'Goodwill'}, {'unit': 'usd', 'label': 'Acquired intangible assets, net', 'value': 522000000, 'concept': 'IntangibleAssetsNetExcludingGoodwill'}, {'unit': 'usd', 'label': 'Other assets', 'value': 2954000000, 'concept': 'OtherAssetsNoncurrent'}, {'unit': 'usd', 'label': 'Total assets', 'value': 86742000000, 'concept': 'Assets'}, {'unit': 'usd', 'label': 'Cash and Cash Equivalents', 'value': 10734000000, 'concept': 'CashAndCashEquivalentsAtCarryingValue'}, {'unit': 'usd', 'label': 'Short-Term Marketable Securities', 'value': 16243000000, 'concept': 'AvailableForSaleSecuritiesDebtSecuritiesCurrent'}, {'unit': 'usd', 'label': 'Accounts receivable, less allowances of $62 and $55, respectively', 'value': 6027000000, 'concept': 'AccountsReceivableNetCurrent'}, {'unit': 'usd', 'label': 'Inventories', 'value': 885000000, 'concept': 'InventoryNet'}, {'unit': 'usd', 'label': 'Deferred tax assets', 'value': 1724000000, 'concept': 'DeferredTaxAssetsNetCurrent'}, {'unit': 'usd', 'label': 'Vendor non-trade receivables', 'value': 4847000000, 'concept': 'NontradeReceivablesCurrent'}, {'unit': 'usd', 'label': 'Other current assets', 'value': 3467000000, 'concept': 'OtherAssetsCurrent'}, {'unit': 'usd', 'label': 'Total current assets', 'value': 43927000000, 'concept': 'AssetsCurrent'}, {'unit': 'usd', 'label': 'Deferred revenue - non-current', 'value': 1216000000, 'concept': 'DeferredRevenueNoncurrent'}, {'unit': 'usd', 'label': 'Total other non-current liabilities', 'value': 7065000000, 'concept': 'OtherLiabilitiesNoncurrent'}, {'unit': 'usd', 'label': 'Total liabilities', 'value': 32076000000, 'concept': 'Liabilities'}, {'unit': 'usd', 'label': \"Total liabilities and shareholders' equity\", 'value': 86742000000, 'concept': 'LiabilitiesAndStockholdersEquity'}, {'unit': 'usd', 'label': 'Accounts Payable, Current', 'value': 14301000000, 'concept': 'AccountsPayableCurrent'}, {'unit': 'usd', 'label': 'Total accrued expenses', 'value': 5953000000, 'concept': 'AccruedLiabilitiesCurrent'}, {'unit': 'usd', 'label': 'Deferred Revenue, Current', 'value': 3541000000, 'concept': 'DeferredRevenueCurrent'}, {'unit': 'usd', 'label': 'Total current liabilities', 'value': 23795000000, 'concept': 'LiabilitiesCurrent'}, {'unit': 'usd', 'label': 'Common stock, no par value; 1,800,000,000 shares authorized; 921,035,475 and 915,970,050 shares issued and outstanding, respectively', 'value': 11502000000, 'concept': 'CommonStockValue'}, {'unit': 'usd', 'label': 'Retained earnings', 'value': 43050000000, 'concept': 'RetainedEarningsAccumulatedDeficit'}, {'unit': 'usd', 'label': 'Accumulated other comprehensive income/(loss)', 'value': 114000000, 'concept': 'AccumulatedOtherComprehensiveIncomeLossNetOfTax'}, {'unit': 'usd', 'label': \"Total shareholders' equity\", 'value': 54666000000, 'concept': 'StockholdersEquity'}], 'cf': [{'unit': 'usd', 'label': 'Depreciation, amortization and accretion', 'value': 356000000, 'concept': 'DepreciationAmortizationAndAccretionNet'}, {'unit': 'usd', 'label': 'Stock-based compensation expense', 'value': 299000000, 'concept': 'ShareBasedCompensation'}, {'unit': 'usd', 'label': 'Deferred income tax expense', 'value': 823000000, 'concept': 'DeferredIncomeTaxExpenseBenefit'}, {'unit': 'usd', 'label': 'Accounts receivable, net', 'value': 517000000, 'concept': 'IncreaseDecreaseInAccountsReceivable'}, {'unit': 'usd', 'label': 'Increase (Decrease) in Inventories', 'value': -166000000, 'concept': 'IncreaseDecreaseInInventories'}, {'unit': 'usd', 'label': 'Increase (Decrease) in Other Receivables', 'value': 433000000, 'concept': 'IncreaseDecreaseInOtherReceivables'}, {'unit': 'usd', 'label': 'Other current and non-current assets', 'value': 558000000, 'concept': 'IncreaseDecreaseInOtherOperatingAssets'}, {'unit': 'usd', 'label': 'Increase (Decrease) in Accounts Payable', 'value': 2346000000, 'concept': 'IncreaseDecreaseInAccountsPayable'}, {'unit': 'usd', 'label': 'Increase (Decrease) in Deferred Revenue', 'value': 634000000, 'concept': 'IncreaseDecreaseInDeferredRevenue'}, {'unit': 'usd', 'label': 'Other current and non-current liabilities', 'value': 653000000, 'concept': 'IncreaseDecreaseInOtherOperatingLiabilities'}, {'unit': 'usd', 'label': 'Proceeds from issuance of common stock', 'value': 208000000, 'concept': 'ProceedsFromIssuanceOfCommonStock'}, {'unit': 'usd', 'label': 'Excess tax benefits from stock-based compensation', 'value': 454000000, 'concept': 'ExcessTaxBenefitFromShareBasedCompensationFinancingActivities'}, {'unit': 'usd', 'label': 'Cash paid by the entity during the period to satisfy tax withholding obligations associated with the net share settlement of equity instruments granted under share-based payment arrangements.', 'value': 233000000, 'concept': 'aapl:EmployeeServiceShareBasedCompensationCashUsedToPayTaxesForEquityNetShareSettlement'}, {'unit': 'usd', 'label': 'Cash generated by financing activities', 'value': 429000000, 'concept': 'NetCashProvidedByUsedInFinancingActivities'}, {'unit': 'usd', 'label': 'Purchases of marketable securities', 'value': 19575000000, 'concept': 'PaymentsToAcquireAvailableForSaleSecuritiesDebt'}, {'unit': 'usd', 'label': 'Proceeds from maturities of marketable securities', 'value': 3279000000, 'concept': 'ProceedsFromMaturitiesPrepaymentsAndCallsOfAvailableForSaleSecurities'}, {'unit': 'usd', 'label': 'Proceeds from sales of marketable securities', 'value': 6853000000, 'concept': 'ProceedsFromSaleOfAvailableForSaleSecuritiesDebt'}, {'unit': 'usd', 'label': 'Payments for acquisition of property, plant and equipment', 'value': 1214000000, 'concept': 'PaymentsToAcquireProductiveAssets'}, {'unit': 'usd', 'label': 'Payments for acquisition of intangible assets', 'value': 49000000, 'concept': 'PaymentsToAcquireIntangibleAssets'}, {'unit': 'usd', 'label': 'Other', 'value': 23000000, 'concept': 'PaymentsForProceedsFromOtherInvestingActivities'}, {'unit': 'usd', 'label': 'Cash used in investing activities', 'value': -10729000000, 'concept': 'NetCashProvidedByUsedInInvestingActivities'}, {'unit': 'usd', 'label': 'Net income', 'value': 6004000000, 'concept': 'NetIncomeLoss'}, {'unit': 'usd', 'label': 'Cash generated by operating activities', 'value': 9773000000, 'concept': 'NetCashProvidedByUsedInOperatingActivities'}, {'unit': 'usd', 'label': '(Decrease)/increase in cash and cash equivalents', 'value': -527000000, 'concept': 'CashAndCashEquivalentsPeriodIncreaseDecrease'}, {'unit': 'usd', 'label': 'Cash paid for income taxes, net', 'value': 826000000, 'concept': 'IncomeTaxesPaidNet'}], 'ic': [{'unit': 'usd/shares', 'label': 'Basic earnings per common share', 'value': 6.53, 'concept': 'EarningsPerShareBasic'}, {'unit': 'usd/shares', 'label': 'Diluted earnings per common share', 'value': 6.43, 'concept': 'EarningsPerShareDiluted'}, {'unit': 'usd', 'label': 'Research and Development Expense', 'value': 575000000, 'concept': 'ResearchAndDevelopmentExpense'}, {'unit': 'usd', 'label': 'Selling, General and Administrative Expense', 'value': 1896000000, 'concept': 'SellingGeneralAndAdministrativeExpense'}, {'unit': 'usd', 'label': 'Total operating expenses', 'value': 2471000000, 'concept': 'OperatingExpenses'}, {'unit': 'usd', 'label': 'Sales Revenue, Net', 'value': 26741000000, 'concept': 'SalesRevenueNet'}, {'unit': 'usd', 'label': 'Cost of Goods and Services Sold', 'value': 16443000000, 'concept': 'CostOfGoodsAndServicesSold'}, {'unit': 'usd', 'label': 'Gross margin', 'value': 10298000000, 'concept': 'GrossProfit'}, {'unit': 'usd', 'label': 'Total operating income', 'value': 7827000000, 'concept': 'OperatingIncomeLoss'}, {'unit': 'usd', 'label': 'Other income and expense', 'value': 136000000, 'concept': 'NonoperatingIncomeExpense'}, {'unit': 'usd', 'label': 'Income before provision for income taxes', 'value': 7963000000, 'concept': 'IncomeLossFromContinuingOperationsBeforeIncomeTaxesMinorityInterestAndIncomeLossFromEquityMethodInvestments'}, {'unit': 'usd', 'label': 'Provision for income taxes', 'value': 1959000000, 'concept': 'IncomeTaxExpenseBenefit'}, {'unit': 'usd', 'label': 'Net income', 'value': 6004000000, 'concept': 'NetIncomeLoss'}, {'unit': 'shares', 'label': 'Weighted-average shares outstanding', 'value': 919294000, 'concept': 'WeightedAverageNumberOfSharesOutstandingBasic'}, {'unit': 'shares', 'label': 'Diluted', 'value': 933154000, 'concept': 'WeightedAverageNumberOfDilutedSharesOutstanding'}]}}, {'accessNumber': '0001193125-10-162840', 'symbol': 'AAPL', 'cik': '320193', 'year': 2010, 'quarter': 3, 'form': '10-Q', 'startDate': '2009-09-27 00:00:00', 'endDate': '2010-06-26 00:00:00', 'filedDate': '2010-07-21 00:00:00', 'acceptedDate': '2010-07-21 16:37:45', 'report': {'bs': [{'unit': 'usd', 'label': 'Available-for-sale Securities, Debt Securities, Noncurrent', 'value': 21551000000, 'concept': 'AvailableForSaleSecuritiesDebtSecuritiesNoncurrent'}, {'unit': 'usd', 'label': 'Tangible assets that are held by an entity for use in the production or supply of goods and services, for rental to others, or for administrative purposes and that are expected to provide economic benefit for more than one year; net of accumulated depreciation. Examples include land, buildings, and production equipment. Also includes software programs or applications for internal use (that is, not to be sold, leased or otherwise marketed to others) that qualify for capitalization.', 'value': 3990000000, 'concept': 'aapl:PropertyPlantAndEquipmentAndCapitalizedSoftwareNet'}, {'unit': 'usd', 'label': 'Goodwill', 'value': 714000000, 'concept': 'Goodwill'}, {'unit': 'usd', 'label': 'Acquired intangible assets, net', 'value': 318000000, 'concept': 'IntangibleAssetsNetExcludingGoodwill'}, {'unit': 'usd', 'label': 'Other Assets, Noncurrent', 'value': 2119000000, 'concept': 'OtherAssetsNoncurrent'}, {'unit': 'usd', 'label': 'Total assets', 'value': 64725000000, 'concept': 'Assets'}, {'unit': 'usd', 'label': 'Cash and cash equivalents', 'value': 9705000000, 'concept': 'CashAndCashEquivalentsAtCarryingValue'}, {'unit': 'usd', 'label': 'Available-for-sale Securities, Debt Securities, Current', 'value': 14583000000, 'concept': 'AvailableForSaleSecuritiesDebtSecuritiesCurrent'}, {'unit': 'usd', 'label': 'Accounts receivable, less allowances of $52 in each period', 'value': 3447000000, 'concept': 'AccountsReceivableNetCurrent'}, {'unit': 'usd', 'label': 'Inventories', 'value': 942000000, 'concept': 'InventoryNet'}, {'unit': 'usd', 'label': 'Deferred tax assets', 'value': 1216000000, 'concept': 'DeferredTaxAssetsNetCurrent'}, {'unit': 'usd', 'label': 'Vendor non-trade receivables', 'value': 2952000000, 'concept': 'NontradeReceivablesCurrent'}, {'unit': 'usd', 'label': 'Other Assets, Current', 'value': 3188000000, 'concept': 'OtherAssetsCurrent'}, {'unit': 'usd', 'label': 'Total current assets', 'value': 36033000000, 'concept': 'AssetsCurrent'}, {'unit': 'usd', 'label': 'Deferred revenue - non-current', 'value': 1021000000, 'concept': 'DeferredRevenueNoncurrent'}, {'unit': 'usd', 'label': 'Total other non-current liabilities', 'value': 4981000000, 'concept': 'OtherLiabilitiesNoncurrent'}, {'unit': 'usd', 'label': 'Total liabilities', 'value': 21614000000, 'concept': 'Liabilities'}, {'unit': 'usd', 'label': \"Total liabilities and shareholders' equity\", 'value': 64725000000, 'concept': 'LiabilitiesAndStockholdersEquity'}, {'unit': 'usd', 'label': 'Accounts Payable, Current', 'value': 8469000000, 'concept': 'AccountsPayableCurrent'}, {'unit': 'usd', 'label': 'Total accrued expenses', 'value': 4452000000, 'concept': 'AccruedLiabilitiesCurrent'}, {'unit': 'usd', 'label': 'Deferred Revenue, Current', 'value': 2691000000, 'concept': 'DeferredRevenueCurrent'}, {'unit': 'usd', 'label': 'Total current liabilities', 'value': 15612000000, 'concept': 'LiabilitiesCurrent'}, {'unit': 'usd', 'label': 'Common stock, no par value; 1,800,000,000 shares authorized; 913,482,347 and 899,805,500 shares issued and outstanding, respectively', 'value': 10133000000, 'concept': 'CommonStockValue'}, {'unit': 'usd', 'label': 'Retained earnings', 'value': 32870000000, 'concept': 'RetainedEarningsAccumulatedDeficit'}, {'unit': 'usd', 'label': 'Accumulated other comprehensive income', 'value': 108000000, 'concept': 'AccumulatedOtherComprehensiveIncomeLossNetOfTax'}, {'unit': 'usd', 'label': \"Total shareholders' equity\", 'value': 43111000000, 'concept': 'StockholdersEquity'}], 'cf': [{'unit': 'usd', 'label': 'Depreciation, amortization and accretion', 'value': 698000000, 'concept': 'DepreciationAmortizationAndAccretionNet'}, {'unit': 'usd', 'label': 'Stock-based compensation expense', 'value': 655000000, 'concept': 'ShareBasedCompensation'}, {'unit': 'usd', 'label': 'Deferred income tax expense', 'value': 1298000000, 'concept': 'DeferredIncomeTaxExpenseBenefit'}, {'unit': 'usd', 'label': 'Loss on disposition of property, plant and equipment', 'value': -14000000, 'concept': 'GainLossOnSaleOfPropertyPlantEquipment'}, {'unit': 'usd', 'label': 'Accounts receivable, net', 'value': 79000000, 'concept': 'IncreaseDecreaseInAccountsReceivable'}, {'unit': 'usd', 'label': 'Increase (Decrease) in Inventories', 'value': 487000000, 'concept': 'IncreaseDecreaseInInventories'}, {'unit': 'usd', 'label': 'Increase (Decrease) in Other Receivables', 'value': 1256000000, 'concept': 'IncreaseDecreaseInOtherReceivables'}, {'unit': 'usd', 'label': 'The net change during the reporting period in other current assets.', 'value': 944000000, 'concept': 'aapl:IncreaseDecreaseOtherCurrentAssets'}, {'unit': 'usd', 'label': 'Increase (Decrease) in Other Operating Assets', 'value': 71000000, 'concept': 'IncreaseDecreaseInOtherOperatingAssets'}, {'unit': 'usd', 'label': 'Increase (Decrease) in Accounts Payable', 'value': 2812000000, 'concept': 'IncreaseDecreaseInAccountsPayable'}, {'unit': 'usd', 'label': 'Increase (Decrease) in Deferred Revenue', 'value': 806000000, 'concept': 'IncreaseDecreaseInDeferredRevenue'}, {'unit': 'usd', 'label': 'Other liabilities', 'value': -239000000, 'concept': 'IncreaseDecreaseInOtherOperatingLiabilities'}, {'unit': 'usd', 'label': 'Proceeds from issuance of common stock', 'value': 733000000, 'concept': 'ProceedsFromIssuanceOfCommonStock'}, {'unit': 'usd', 'label': 'Excess tax benefits from stock-based compensation', 'value': 652000000, 'concept': 'ExcessTaxBenefitFromShareBasedCompensationFinancingActivities'}, {'unit': 'usd', 'label': 'Taxes paid related to net share settlement of equity awards', 'value': -384000000, 'concept': 'EmployeeServiceShareBasedCompensationCashFlowEffectCashUsedToSettleAwards'}, {'unit': 'usd', 'label': 'Cash generated by financing activities', 'value': 1001000000, 'concept': 'NetCashProvidedByUsedInFinancingActivities'}, {'unit': 'usd', 'label': 'Purchases of marketable securities', 'value': 41318000000, 'concept': 'PaymentsToAcquireAvailableForSaleSecuritiesDebt'}, {'unit': 'usd', 'label': 'Proceeds from maturities of marketable securities', 'value': 19758000000, 'concept': 'ProceedsFromMaturitiesPrepaymentsAndCallsOfAvailableForSaleSecurities'}, {'unit': 'usd', 'label': 'Proceeds from sales of marketable securities', 'value': 14048000000, 'concept': 'ProceedsFromSaleOfAvailableForSaleSecuritiesDebt'}, {'unit': 'usd', 'label': 'Purchases of other long-term investments', 'value': 10000000, 'concept': 'PaymentsToAcquireOtherInvestments'}, {'unit': 'usd', 'label': 'Business acquisitions aggregate cash considerarion, aggregate cash consideration, net of cash acquired', 'value': 615000000, 'concept': 'PaymentsToAcquireBusinessesNetOfCashAcquired'}, {'unit': 'usd', 'label': 'Cash payments for capital asset purchases', 'value': 1245000000, 'concept': 'PaymentsToAcquireProductiveAssets'}, {'unit': 'usd', 'label': 'Payments for acquisition of intangible assets', 'value': 63000000, 'concept': 'PaymentsToAcquireIntangibleAssets'}, {'unit': 'usd', 'label': 'Other', 'value': 26000000, 'concept': 'PaymentsForProceedsFromOtherInvestingActivities'}, {'unit': 'usd', 'label': 'Cash used in investing activities', 'value': -9471000000, 'concept': 'NetCashProvidedByUsedInInvestingActivities'}, {'unit': 'usd', 'label': 'Net income', 'value': 9705000000, 'concept': 'NetIncomeLoss'}, {'unit': 'usd', 'label': 'Cash generated by operating activities', 'value': 12912000000, 'concept': 'NetCashProvidedByUsedInOperatingActivities'}, {'unit': 'usd', 'label': 'Increase/(decrease) in cash and cash equivalents', 'value': 4442000000, 'concept': 'CashAndCashEquivalentsPeriodIncreaseDecrease'}, {'unit': 'usd', 'label': 'Cash paid for income taxes, net', 'value': 2657000000, 'concept': 'IncomeTaxesPaidNet'}], 'ic': [{'unit': 'usd/shares', 'label': 'Basic earnings per common share', 'value': 10.69, 'concept': 'EarningsPerShareBasic'}, {'unit': 'usd/shares', 'label': 'Diluted earnings per common share', 'value': 10.51, 'concept': 'EarningsPerShareDiluted'}, {'unit': 'usd', 'label': 'Research and Development Expense', 'value': 1288000000, 'concept': 'ResearchAndDevelopmentExpense'}, {'unit': 'usd', 'label': 'Selling, General and Administrative Expense', 'value': 3946000000, 'concept': 'SellingGeneralAndAdministrativeExpense'}, {'unit': 'usd', 'label': 'Total operating expenses', 'value': 5234000000, 'concept': 'OperatingExpenses'}, {'unit': 'usd', 'label': 'Sales Revenue, Net', 'value': 44882000000, 'concept': 'SalesRevenueNet'}, {'unit': 'usd', 'label': 'Cost of Goods and Services Sold', 'value': 26710000000, 'concept': 'CostOfGoodsAndServicesSold'}, {'unit': 'usd', 'label': 'Gross margin', 'value': 18172000000, 'concept': 'GrossProfit'}, {'unit': 'usd', 'label': 'Operating income', 'value': 12938000000, 'concept': 'OperatingIncomeLoss'}, {'unit': 'usd', 'label': 'Nonoperating Income (Expense)', 'value': 141000000, 'concept': 'NonoperatingIncomeExpense'}, {'unit': 'usd', 'label': 'Income before provision for income taxes', 'value': 13079000000, 'concept': 'IncomeLossFromContinuingOperationsBeforeIncomeTaxesMinorityInterestAndIncomeLossFromEquityMethodInvestments'}, {'unit': 'usd', 'label': 'Provision for income taxes', 'value': 3374000000, 'concept': 'IncomeTaxExpenseBenefit'}, {'unit': 'usd', 'label': 'Net income', 'value': 9705000000, 'concept': 'NetIncomeLoss'}, {'unit': 'shares', 'label': 'Weighted-average shares outstanding', 'value': 907762000, 'concept': 'WeightedAverageNumberOfSharesOutstandingBasic'}, {'unit': 'shares', 'label': 'Diluted', 'value': 923341000, 'concept': 'WeightedAverageNumberOfDilutedSharesOutstanding'}]}}, {'accessNumber': '0001193125-10-088957', 'symbol': 'AAPL', 'cik': '320193', 'year': 2010, 'quarter': 2, 'form': '10-Q', 'startDate': '2009-09-27 00:00:00', 'endDate': '2010-03-27 00:00:00', 'filedDate': '2010-04-21 00:00:00', 'acceptedDate': '2010-04-21 16:39:23', 'report': {'bs': [{'unit': 'usd', 'label': 'Long-term marketable securities', 'value': 18549000000, 'concept': 'AvailableForSaleSecuritiesNoncurrent'}, {'unit': 'usd', 'label': 'Tangible assets that are held by an entity for use in the production or supply of goods and services, for rental to others, or for administrative purposes and that are expected to provide economic benefit for more than one year; net of accumulated depreciation. Examples include land, buildings, and production equipment. Also includes software programs or applications for internal use (that is, not to be sold, leased or otherwise marketed to others) that qualify for capitalization.', 'value': 3504000000, 'concept': 'aapl:PropertyPlantAndEquipmentAndCapitalizedSoftwareNet'}, {'unit': 'usd', 'label': 'Goodwill', 'value': 480000000, 'concept': 'Goodwill'}, {'unit': 'usd', 'label': 'Acquired intangible assets, net', 'value': 263000000, 'concept': 'IntangibleAssetsNetExcludingGoodwill'}, {'unit': 'usd', 'label': 'Other assets', 'value': 1925000000, 'concept': 'OtherAssetsNoncurrent'}, {'unit': 'usd', 'label': 'Total assets', 'value': 57057000000, 'concept': 'Assets'}, {'unit': 'usd', 'label': 'Cash and cash equivalents', 'value': 10018000000, 'concept': 'CashAndCashEquivalentsAtCarryingValue'}, {'unit': 'usd', 'label': 'Short-term marketable securities', 'value': 13137000000, 'concept': 'AvailableForSaleSecuritiesCurrent'}, {'unit': 'usd', 'label': 'Accounts receivable, less allowances of $57 and $52, respectively', 'value': 2886000000, 'concept': 'AccountsReceivableNetCurrent'}, {'unit': 'usd', 'label': 'Inventories', 'value': 638000000, 'concept': 'InventoryNet'}, {'unit': 'usd', 'label': 'Deferred tax assets', 'value': 1142000000, 'concept': 'DeferredTaxAssetsNetCurrent'}, {'unit': 'usd', 'label': 'Other current assets', 'value': 4515000000, 'concept': 'OtherAssetsCurrent'}, {'unit': 'usd', 'label': 'Total current assets', 'value': 32336000000, 'concept': 'AssetsCurrent'}, {'unit': 'usd', 'label': 'Deferred revenue - non-current', 'value': 941000000, 'concept': 'DeferredRevenueNoncurrent'}, {'unit': 'usd', 'label': 'Other non-current liabilities', 'value': 4539000000, 'concept': 'OtherLiabilitiesNoncurrent'}, {'unit': 'usd', 'label': 'Total liabilities', 'value': 17709000000, 'concept': 'Liabilities'}, {'unit': 'usd', 'label': \"Total liabilities and shareholders' equity\", 'value': 57057000000, 'concept': 'LiabilitiesAndStockholdersEquity'}, {'unit': 'usd', 'label': 'Accounts Payable, Current', 'value': 5666000000, 'concept': 'AccountsPayableCurrent'}, {'unit': 'usd', 'label': 'Accrued expenses', 'value': 4021000000, 'concept': 'AccruedLiabilitiesCurrent'}, {'unit': 'usd', 'label': 'Deferred Revenue, Current', 'value': 2542000000, 'concept': 'DeferredRevenueCurrent'}, {'unit': 'usd', 'label': 'Total current liabilities', 'value': 12229000000, 'concept': 'LiabilitiesCurrent'}, {'unit': 'usd', 'label': 'Common stock, no par value; 1,800,000,000 shares authorized; 909,635,811 and 899,805,500 shares issued and outstanding, respectively', 'value': 9553000000, 'concept': 'CommonStockValue'}, {'unit': 'usd', 'label': 'Retained earnings', 'value': 29670000000, 'concept': 'RetainedEarningsAccumulatedDeficit'}, {'unit': 'usd', 'label': 'Accumulated other comprehensive income', 'value': 125000000, 'concept': 'AccumulatedOtherComprehensiveIncomeLossNetOfTax'}, {'unit': 'usd', 'label': \"Total shareholders' equity\", 'value': 39348000000, 'concept': 'StockholdersEquity'}], 'cf': [{'unit': 'usd', 'label': 'Depreciation, amortization and accretion', 'value': 425000000, 'concept': 'DepreciationAmortizationAndAccretionNet'}, {'unit': 'usd', 'label': 'Stock-based compensation expense', 'value': 436000000, 'concept': 'ShareBasedCompensation'}, {'unit': 'usd', 'label': 'Deferred income tax expense', 'value': 893000000, 'concept': 'DeferredIncomeTaxExpenseBenefit'}, {'unit': 'usd', 'label': 'Loss on disposition of property, plant and equipment', 'value': -9000000, 'concept': 'GainLossOnSaleOfPropertyPlantEquipment'}, {'unit': 'usd', 'label': 'Accounts receivable, net', 'value': -482000000, 'concept': 'IncreaseDecreaseInAccountsReceivable'}, {'unit': 'usd', 'label': 'Increase (Decrease) in Inventories', 'value': 183000000, 'concept': 'IncreaseDecreaseInInventories'}, {'unit': 'usd', 'label': 'The net change during the reporting period in other current assets.', 'value': 824000000, 'concept': 'aapl:IncreaseDecreaseOtherCurrentAssets'}, {'unit': 'usd', 'label': 'Increase (Decrease) in Other Operating Assets', 'value': -149000000, 'concept': 'IncreaseDecreaseInOtherOperatingAssets'}, {'unit': 'usd', 'label': 'Increase (Decrease) in Accounts Payable', 'value': -18000000, 'concept': 'IncreaseDecreaseInAccountsPayable'}, {'unit': 'usd', 'label': 'Increase (Decrease) in Deferred Revenue', 'value': 577000000, 'concept': 'IncreaseDecreaseInDeferredRevenue'}, {'unit': 'usd', 'label': 'Other liabilities', 'value': -287000000, 'concept': 'IncreaseDecreaseInOtherOperatingLiabilities'}, {'unit': 'usd', 'label': 'Proceeds from issuance of common stock', 'value': 534000000, 'concept': 'ProceedsFromIssuanceOfCommonStock'}, {'unit': 'usd', 'label': 'Excess tax benefits from stock-based compensation', 'value': 413000000, 'concept': 'ExcessTaxBenefitFromShareBasedCompensationFinancingActivities'}, {'unit': 'usd', 'label': 'Cash used to net share settle equity awards', 'value': -262000000, 'concept': 'EmployeeServiceShareBasedCompensationCashFlowEffectCashUsedToSettleAwards'}, {'unit': 'usd', 'label': 'Cash generated by financing activities', 'value': 685000000, 'concept': 'NetCashProvidedByUsedInFinancingActivities'}, {'unit': 'usd', 'label': 'Purchases of marketable securities', 'value': 25061000000, 'concept': 'PaymentsToAcquireAvailableForSaleSecurities'}, {'unit': 'usd', 'label': 'Proceeds from maturities of marketable securities', 'value': 13331000000, 'concept': 'ProceedsFromMaturitiesPrepaymentsAndCallsOfAvailableForSaleSecurities'}, {'unit': 'usd', 'label': 'Proceeds from sales of marketable securities', 'value': 8686000000, 'concept': 'ProceedsFromSaleOfAvailableForSaleSecurities'}, {'unit': 'usd', 'label': 'Purchases of other long-term investments', 'value': 9000000, 'concept': 'PaymentsToAcquireOtherInvestments'}, {'unit': 'usd', 'label': 'Payments made in connection with business acquisitions, net of cash acquired', 'value': 325000000, 'concept': 'PaymentsToAcquireBusinessesNetOfCashAcquired'}, {'unit': 'usd', 'label': 'Payment for acquisition of property, plant and equipment', 'value': 650000000, 'concept': 'PaymentsToAcquireProductiveAssets'}, {'unit': 'usd', 'label': 'Payment for acquisition of intangible assets', 'value': 32000000, 'concept': 'PaymentsToAcquireIntangibleAssets'}, {'unit': 'usd', 'label': 'Other', 'value': -19000000, 'concept': 'PaymentsForProceedsFromOtherInvestingActivities'}, {'unit': 'usd', 'label': 'Cash used in investing activities', 'value': -4041000000, 'concept': 'NetCashProvidedByUsedInInvestingActivities'}, {'unit': 'usd', 'label': 'Net income', 'value': 6452000000, 'concept': 'NetIncomeLoss'}, {'unit': 'usd', 'label': 'Cash generated by operating activities', 'value': 8111000000, 'concept': 'NetCashProvidedByUsedInOperatingActivities'}, {'unit': 'usd', 'label': 'Increase/(decrease) in cash and cash equivalents', 'value': 4755000000, 'concept': 'CashAndCashEquivalentsPeriodIncreaseDecrease'}, {'unit': 'usd', 'label': 'Cash paid for income taxes, net', 'value': 2144000000, 'concept': 'IncomeTaxesPaidNet'}], 'ic': [{'unit': 'usd/shares', 'label': 'Earnings Per Share, Basic', 'value': 7.12, 'concept': 'EarningsPerShareBasic'}, {'unit': 'usd/shares', 'label': 'Earnings Per Share, Diluted', 'value': 7, 'concept': 'EarningsPerShareDiluted'}, {'unit': 'usd', 'label': 'Research and development', 'value': 824000000, 'concept': 'ResearchAndDevelopmentExpense'}, {'unit': 'usd', 'label': 'Selling, general and administrative', 'value': 2508000000, 'concept': 'SellingGeneralAndAdministrativeExpense'}, {'unit': 'usd', 'label': 'Total operating expenses', 'value': 3332000000, 'concept': 'OperatingExpenses'}, {'unit': 'usd', 'label': 'Net sales', 'value': 29182000000, 'concept': 'SalesRevenueNet'}, {'unit': 'usd', 'label': 'Cost of sales', 'value': 17146000000, 'concept': 'CostOfGoodsAndServicesSold'}, {'unit': 'usd', 'label': 'Gross margin', 'value': 12036000000, 'concept': 'GrossProfit'}, {'unit': 'usd', 'label': 'Operating income', 'value': 8704000000, 'concept': 'OperatingIncomeLoss'}, {'unit': 'usd', 'label': 'Other income and expense', 'value': 83000000, 'concept': 'NonoperatingIncomeExpense'}, {'unit': 'usd', 'label': 'Income before provision for income taxes', 'value': 8787000000, 'concept': 'IncomeLossFromContinuingOperationsBeforeIncomeTaxesMinorityInterestAndIncomeLossFromEquityMethodInvestments'}, {'unit': 'usd', 'label': 'Provision for income taxes', 'value': 2335000000, 'concept': 'IncomeTaxExpenseBenefit'}, {'unit': 'usd', 'label': 'Net income', 'value': 6452000000, 'concept': 'NetIncomeLoss'}, {'unit': 'shares', 'label': 'Weighted Average Number of Shares Outstanding, Basic', 'value': 905545000, 'concept': 'WeightedAverageNumberOfSharesOutstandingBasic'}, {'unit': 'shares', 'label': 'Weighted Average Number of Shares Outstanding, Diluted', 'value': 921331000, 'concept': 'WeightedAverageNumberOfDilutedSharesOutstanding'}]}}], 'symbol': 'AAPL'}\n"
     ]
    }
   ],
   "source": [
    "### Get"
   ]
  },
  {
   "cell_type": "code",
   "execution_count": null,
   "id": "f5b6a690-1fc9-4507-8217-4944b8acf80d",
   "metadata": {},
   "outputs": [],
   "source": []
  }
 ],
 "metadata": {
  "kernelspec": {
   "display_name": "Python 3 (ipykernel)",
   "language": "python",
   "name": "python3"
  },
  "language_info": {
   "codemirror_mode": {
    "name": "ipython",
    "version": 3
   },
   "file_extension": ".py",
   "mimetype": "text/x-python",
   "name": "python",
   "nbconvert_exporter": "python",
   "pygments_lexer": "ipython3",
   "version": "3.9.4"
  }
 },
 "nbformat": 4,
 "nbformat_minor": 5
}
